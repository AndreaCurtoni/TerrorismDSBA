{
 "cells": [
  {
   "cell_type": "markdown",
   "metadata": {},
   "source": [
    "## Data Study\n",
    "\n",
    "In this file we have the analysis using the final dataset builted in **Prepare Data - NEW** file."
   ]
  },
  {
   "cell_type": "markdown",
   "metadata": {},
   "source": [
    "1. **[Importing libraries](#Importinglibraries)**\n",
    "2. **[Dataset Loading](#DatasetLoading)**\n",
    "    1. [General Info](#GeneralInfo)\n",
    "    2. [Exploration](#Exploration)\n",
    "3. **[Nkill](#NKILL)**\n",
    "    1. [Features](#Features)\n",
    "    2. [P-Value](#Pvalue)\n",
    "    3. [Scaler](#Scaler)\n",
    "    4. [Linear Regression](#LR)\n",
    "    5. [Generalize Linear Regression](#GLR)"
   ]
  },
  {
   "cell_type": "markdown",
   "metadata": {},
   "source": [
    "<a id=\"Importinglibraries\"></a>\n",
    "### Importing libraries"
   ]
  },
  {
   "cell_type": "code",
   "execution_count": 1,
   "metadata": {},
   "outputs": [],
   "source": [
    "import pandas as pd \n",
    "import matplotlib.pyplot as plt\n",
    "import numpy as np\n",
    "import seaborn as sns\n",
    "from numpy import asarray\n",
    "from statsmodels.stats.outliers_influence import variance_inflation_factor"
   ]
  },
  {
   "cell_type": "code",
   "execution_count": 2,
   "metadata": {},
   "outputs": [],
   "source": [
    "import findspark\n",
    "findspark.init()\n",
    "import pyspark\n",
    "from pyspark.sql import *\n",
    "from pyspark.ml.regression import LinearRegression\n",
    "from pyspark.sql.functions import isnan, when, count, col\n",
    "from pyspark.mllib.stat import Statistics\n",
    "from pyspark.ml.stat import ChiSquareTest\n",
    "from pyspark.ml.feature import VectorAssembler\n",
    "from pyspark.ml.regression import LinearRegression, GeneralizedLinearRegression\n",
    "from pyspark.ml.classification import LogisticRegression\n",
    "from pyspark.ml.tuning import ParamGridBuilder, CrossValidator\n",
    "from pyspark.ml.evaluation import RegressionEvaluator\n",
    "from pyspark.ml.feature import StandardScaler\n",
    "from pyspark.sql.types import *\n",
    "from pyspark.ml.feature import VectorAssembler\n",
    "from pyspark.ml.stat import Correlation\n",
    "from pyspark.ml.evaluation import BinaryClassificationEvaluator\n",
    "from pyspark.ml.feature import OneHotEncoder\n",
    "from pyspark.ml.classification import MultilayerPerceptronClassifier\n",
    "from pyspark.ml.evaluation import MulticlassClassificationEvaluator\n",
    "from sklearn.metrics import confusion_matrix"
   ]
  },
  {
   "cell_type": "markdown",
   "metadata": {},
   "source": [
    "Init Spark context"
   ]
  },
  {
   "cell_type": "code",
   "execution_count": 3,
   "metadata": {},
   "outputs": [],
   "source": [
    "sc = pyspark.SparkContext(appName=\"Pi\")"
   ]
  },
  {
   "cell_type": "markdown",
   "metadata": {},
   "source": [
    "<a id=\"DatasetLoading\"></a>\n",
    "### Dataset Loading\n",
    "\n",
    "Load the dataset"
   ]
  },
  {
   "cell_type": "code",
   "execution_count": 4,
   "metadata": {},
   "outputs": [],
   "source": [
    "spark = SparkSession(sc)\n",
    "ds = spark.read.csv(\"fin1shed_country_q.csv.gz\", header=True, inferSchema=True)"
   ]
  },
  {
   "cell_type": "markdown",
   "metadata": {},
   "source": [
    "<a id=\"GeneralInfo\"></a>\n",
    "**General Info**\n",
    "\n",
    "**Rows:** 2045\n",
    "\n",
    "**Columns:** 14"
   ]
  },
  {
   "cell_type": "code",
   "execution_count": 5,
   "metadata": {},
   "outputs": [
    {
     "name": "stdout",
     "output_type": "stream",
     "text": [
      "+---+-----+------------------+-------+-----+---------+------+-----------+-------------+--------+----------+-----+----------------------------+-------+\n",
      "|_c0|iyear|       country_txt|country|nkill|ransom_No|nwound|property_Ok|individual_No|Firearms|Explosives|Melee|GDP per capita (current US$)|Nkill_q|\n",
      "+---+-----+------------------+-------+-----+---------+------+-----------+-------------+--------+----------+-----+----------------------------+-------+\n",
      "|  0| 1970|         Argentina|     11|  1.0|      1.0|   0.0|       0.75|          1.0|    0.75|       0.0|  0.0|            1317.48753519866|      1|\n",
      "|  1| 1970|Dominican Republic|     58|  1.0|      1.0|   0.0|        0.0|          1.0|     0.0|       0.0|  0.0|            329.860647543011|      1|\n",
      "|  2| 1970|           Germany|    362|  7.0|      1.0|   9.0|        1.0|          1.0|     0.0|       0.0|  0.0|          2750.7197423550397|      1|\n",
      "|  3| 1970|           Germany|    499|  0.0|      1.0|   0.0|        1.0|          1.0|     0.0|       1.0|  0.0|          2750.7197423550397|      0|\n",
      "|  4| 1970|    United Kingdom|    603|  9.0|      1.0|   0.0|        0.0|          1.0|     1.0|       0.0|  0.0|            2347.54431773747|      1|\n",
      "+---+-----+------------------+-------+-----+---------+------+-----------+-------------+--------+----------+-----+----------------------------+-------+\n",
      "only showing top 5 rows\n",
      "\n"
     ]
    }
   ],
   "source": [
    "ds.show(5)"
   ]
  },
  {
   "cell_type": "markdown",
   "metadata": {},
   "source": [
    "Check the dimensions"
   ]
  },
  {
   "cell_type": "code",
   "execution_count": 6,
   "metadata": {},
   "outputs": [
    {
     "name": "stdout",
     "output_type": "stream",
     "text": [
      "(2045, 14)\n"
     ]
    }
   ],
   "source": [
    "print((ds.count(), len(ds.columns)))"
   ]
  },
  {
   "cell_type": "code",
   "execution_count": 7,
   "metadata": {},
   "outputs": [
    {
     "data": {
      "text/plain": [
       "['_c0',\n",
       " 'iyear',\n",
       " 'country_txt',\n",
       " 'country',\n",
       " 'nkill',\n",
       " 'ransom_No',\n",
       " 'nwound',\n",
       " 'property_Ok',\n",
       " 'individual_No',\n",
       " 'Firearms',\n",
       " 'Explosives',\n",
       " 'Melee',\n",
       " 'GDP per capita (current US$)',\n",
       " 'Nkill_q']"
      ]
     },
     "execution_count": 7,
     "metadata": {},
     "output_type": "execute_result"
    }
   ],
   "source": [
    "ds.columns"
   ]
  },
  {
   "cell_type": "markdown",
   "metadata": {},
   "source": [
    "Let's remove the **Unnamed: 0** and **country_txt** columns. The first one because isn't usefull for the analisis and the second one because there is **country** that is the same only just converted in to number"
   ]
  },
  {
   "cell_type": "code",
   "execution_count": 8,
   "metadata": {},
   "outputs": [
    {
     "name": "stdout",
     "output_type": "stream",
     "text": [
      "(2045, 9)\n"
     ]
    }
   ],
   "source": [
    "ds1 = ds.drop(*['country_txt', '_c0','iyear','nkill','country'])\n",
    "print((ds1.count(), len(ds1.columns)))"
   ]
  },
  {
   "cell_type": "markdown",
   "metadata": {},
   "source": [
    "There's no NaN"
   ]
  },
  {
   "cell_type": "code",
   "execution_count": 9,
   "metadata": {},
   "outputs": [
    {
     "name": "stdout",
     "output_type": "stream",
     "text": [
      "+---------+------+-----------+-------------+--------+----------+-----+----------------------------+-------+\n",
      "|ransom_No|nwound|property_Ok|individual_No|Firearms|Explosives|Melee|GDP per capita (current US$)|Nkill_q|\n",
      "+---------+------+-----------+-------------+--------+----------+-----+----------------------------+-------+\n",
      "|        0|     0|          0|            0|       0|         0|    0|                           0|      0|\n",
      "+---------+------+-----------+-------------+--------+----------+-----+----------------------------+-------+\n",
      "\n"
     ]
    }
   ],
   "source": [
    "ds1.select([count(when(isnan(c), c)).alias(c) for c in ds1.columns]).show()"
   ]
  },
  {
   "cell_type": "code",
   "execution_count": 10,
   "metadata": {},
   "outputs": [
    {
     "name": "stdout",
     "output_type": "stream",
     "text": [
      "root\n",
      " |-- ransom_No: double (nullable = true)\n",
      " |-- nwound: double (nullable = true)\n",
      " |-- property_Ok: double (nullable = true)\n",
      " |-- individual_No: double (nullable = true)\n",
      " |-- Firearms: double (nullable = true)\n",
      " |-- Explosives: double (nullable = true)\n",
      " |-- Melee: double (nullable = true)\n",
      " |-- GDP per capita (current US$): double (nullable = true)\n",
      " |-- Nkill_q: integer (nullable = true)\n",
      "\n"
     ]
    }
   ],
   "source": [
    "ds1.printSchema()"
   ]
  },
  {
   "cell_type": "markdown",
   "metadata": {},
   "source": [
    "<a id=\"Exploration\"></a>\n",
    "**Exploration**\n",
    "\n",
    "Let's see the distribution of the datas"
   ]
  },
  {
   "cell_type": "code",
   "execution_count": 11,
   "metadata": {},
   "outputs": [],
   "source": [
    "pdf = ds1.toPandas()\n",
    "#sns.pairplot(pdf, vars=pdf.columns)"
   ]
  },
  {
   "cell_type": "code",
   "execution_count": 12,
   "metadata": {},
   "outputs": [
    {
     "name": "stdout",
     "output_type": "stream",
     "text": [
      "-RECORD 0-------------------------------------------\n",
      " summary                      | count               \n",
      " ransom_No                    | 2045                \n",
      " nwound                       | 2045                \n",
      " property_Ok                  | 2045                \n",
      " individual_No                | 2045                \n",
      " Firearms                     | 2045                \n",
      " Explosives                   | 2045                \n",
      " Melee                        | 2045                \n",
      " GDP per capita (current US$) | 2045                \n",
      " Nkill_q                      | 2045                \n",
      "-RECORD 1-------------------------------------------\n",
      " summary                      | mean                \n",
      " ransom_No                    | 0.9519111477041735  \n",
      " nwound                       | 5.7030114437441055  \n",
      " property_Ok                  | 0.5528316463259231  \n",
      " individual_No                | 0.9874961260153154  \n",
      " Firearms                     | 0.3051913566853853  \n",
      " Explosives                   | 0.4340381072190764  \n",
      " Melee                        | 0.04448894758450636 \n",
      " GDP per capita (current US$) | 7346.10661138346    \n",
      " Nkill_q                      | 0.9574572127139365  \n",
      "-RECORD 2-------------------------------------------\n",
      " summary                      | stddev              \n",
      " ransom_No                    | 0.1486969527661963  \n",
      " nwound                       | 64.42692389205703   \n",
      " property_Ok                  | 0.3794903155837427  \n",
      " individual_No                | 0.09687530853004692 \n",
      " Firearms                     | 0.3492671195971301  \n",
      " Explosives                   | 0.3975119235779445  \n",
      " Melee                        | 0.14771928753484628 \n",
      " GDP per capita (current US$) | 12368.576994943469  \n",
      " Nkill_q                      | 0.7634311956952771  \n",
      "-RECORD 3-------------------------------------------\n",
      " summary                      | min                 \n",
      " ransom_No                    | 0.0                 \n",
      " nwound                       | 0.0                 \n",
      " property_Ok                  | 0.0                 \n",
      " individual_No                | 0.0                 \n",
      " Firearms                     | 0.0                 \n",
      " Explosives                   | 0.0                 \n",
      " Melee                        | 0.0                 \n",
      " GDP per capita (current US$) | 65.47315996648089   \n",
      " Nkill_q                      | 0                   \n",
      "-RECORD 4-------------------------------------------\n",
      " summary                      | max                 \n",
      " ransom_No                    | 1.0                 \n",
      " nwound                       | 2731.1666666666665  \n",
      " property_Ok                  | 1.0                 \n",
      " individual_No                | 1.0                 \n",
      " Firearms                     | 1.0                 \n",
      " Explosives                   | 1.0                 \n",
      " Melee                        | 1.0                 \n",
      " GDP per capita (current US$) | 100575.117263444    \n",
      " Nkill_q                      | 2                   \n",
      "\n"
     ]
    }
   ],
   "source": [
    "ds1.describe().show(vertical=True)"
   ]
  },
  {
   "cell_type": "markdown",
   "metadata": {},
   "source": [
    "Let's see the correlation of the datas.\n",
    "\n",
    "it requires you to provide a column of type **Vector**. So we need to convert our columns into a vector column first using the **VectorAssembler** and then apply the correlation."
   ]
  },
  {
   "cell_type": "code",
   "execution_count": 13,
   "metadata": {},
   "outputs": [],
   "source": [
    "vector_col = \"corr_features\"\n",
    "assembler = VectorAssembler(inputCols=ds1.columns, outputCol=vector_col)\n",
    "df_vector = assembler.transform(ds1).select(vector_col)\n",
    "matrix = Correlation.corr(df_vector, vector_col).collect()[0][0]\n",
    "corrmatrix = matrix.toArray().tolist()"
   ]
  },
  {
   "cell_type": "code",
   "execution_count": 14,
   "metadata": {},
   "outputs": [
    {
     "data": {
      "image/png": "[encoded data removed]",
      "text/plain": [
       "<Figure size 432x288 with 2 Axes>"
      ]
     },
     "metadata": {
      "needs_background": "light"
     },
     "output_type": "display_data"
    }
   ],
   "source": [
    "ax = sns.heatmap(corrmatrix, xticklabels=ds1.columns, yticklabels=ds1.columns, annot=True, fmt=\".2f\")"
   ]
  },
  {
   "cell_type": "code",
   "execution_count": 15,
   "metadata": {
    "scrolled": true
   },
   "outputs": [
    {
     "data": {
      "text/html": [
       "<div>\n",
       "<style scoped>\n",
       "    .dataframe tbody tr th:only-of-type {\n",
       "        vertical-align: middle;\n",
       "    }\n",
       "\n",
       "    .dataframe tbody tr th {\n",
       "        vertical-align: top;\n",
       "    }\n",
       "\n",
       "    .dataframe thead th {\n",
       "        text-align: right;\n",
       "    }\n",
       "</style>\n",
       "<table border=\"1\" class=\"dataframe\">\n",
       "  <thead>\n",
       "    <tr style=\"text-align: right;\">\n",
       "      <th></th>\n",
       "      <th>VIF Factor</th>\n",
       "      <th>features</th>\n",
       "    </tr>\n",
       "  </thead>\n",
       "  <tbody>\n",
       "    <tr>\n",
       "      <th>0</th>\n",
       "      <td>34.557099</td>\n",
       "      <td>ransom_No</td>\n",
       "    </tr>\n",
       "    <tr>\n",
       "      <th>1</th>\n",
       "      <td>1.011461</td>\n",
       "      <td>nwound</td>\n",
       "    </tr>\n",
       "    <tr>\n",
       "      <th>2</th>\n",
       "      <td>3.624178</td>\n",
       "      <td>property_Ok</td>\n",
       "    </tr>\n",
       "    <tr>\n",
       "      <th>3</th>\n",
       "      <td>33.185714</td>\n",
       "      <td>individual_No</td>\n",
       "    </tr>\n",
       "    <tr>\n",
       "      <th>4</th>\n",
       "      <td>3.191234</td>\n",
       "      <td>Firearms</td>\n",
       "    </tr>\n",
       "    <tr>\n",
       "      <th>5</th>\n",
       "      <td>4.014192</td>\n",
       "      <td>Explosives</td>\n",
       "    </tr>\n",
       "    <tr>\n",
       "      <th>6</th>\n",
       "      <td>1.313466</td>\n",
       "      <td>Melee</td>\n",
       "    </tr>\n",
       "    <tr>\n",
       "      <th>7</th>\n",
       "      <td>1.399707</td>\n",
       "      <td>GDP per capita (current US$)</td>\n",
       "    </tr>\n",
       "  </tbody>\n",
       "</table>\n",
       "</div>"
      ],
      "text/plain": [
       "   VIF Factor                      features\n",
       "0   34.557099                     ransom_No\n",
       "1    1.011461                        nwound\n",
       "2    3.624178                   property_Ok\n",
       "3   33.185714                 individual_No\n",
       "4    3.191234                      Firearms\n",
       "5    4.014192                    Explosives\n",
       "6    1.313466                         Melee\n",
       "7    1.399707  GDP per capita (current US$)"
      ]
     },
     "execution_count": 15,
     "metadata": {},
     "output_type": "execute_result"
    }
   ],
   "source": [
    "vif = pd.DataFrame()\n",
    "pdf = pdf.drop(columns=\"Nkill_q\")\n",
    "vif[\"VIF Factor\"] = [variance_inflation_factor(pdf.values, i) for i in range(pdf.shape[1])]\n",
    "vif[\"features\"] = pdf.columns\n",
    "vif"
   ]
  },
  {
   "cell_type": "code",
   "execution_count": 16,
   "metadata": {},
   "outputs": [],
   "source": [
    "#vif = pd.DataFrame()\n",
    "#pdf = pdf.drop(columns={\"iyear\", \"region\"})\n",
    "#vif[\"VIF Factor\"] = [variance_inflation_factor(pdf.values, i) for i in range(pdf.shape[1])]\n",
    "#vif[\"features\"] = pdf.columns\n",
    "#vif"
   ]
  },
  {
   "cell_type": "markdown",
   "metadata": {},
   "source": [
    "<a id=\"NKILL\"></a>\n",
    "## NKILL\n",
    "\n",
    "In this section we use NKILL as response variable."
   ]
  },
  {
   "cell_type": "markdown",
   "metadata": {},
   "source": [
    "<a id=\"Features\"></a>\n",
    "**Features** \n",
    "\n",
    "we procede to build the feature column combining all the columns except the **nkill** column, that will be our response. To achieve this pourpose we use **VectorAssembler** and the result is called **features**"
   ]
  },
  {
   "cell_type": "code",
   "execution_count": 17,
   "metadata": {},
   "outputs": [
    {
     "data": {
      "text/plain": [
       "8"
      ]
     },
     "execution_count": 17,
     "metadata": {},
     "output_type": "execute_result"
    }
   ],
   "source": [
    "f_columns = ds1.select([c for c in ds1.columns if c not in {'Nkill_q'}]).columns\n",
    "len(f_columns)"
   ]
  },
  {
   "cell_type": "code",
   "execution_count": 18,
   "metadata": {},
   "outputs": [],
   "source": [
    "assembler = VectorAssembler(inputCols=f_columns,outputCol=\"features\")"
   ]
  },
  {
   "cell_type": "code",
   "execution_count": 19,
   "metadata": {},
   "outputs": [
    {
     "name": "stdout",
     "output_type": "stream",
     "text": [
      "-RECORD 0------------------------------------------------------------------------\n",
      " ransom_No                    | 1.0                                              \n",
      " nwound                       | 0.0                                              \n",
      " property_Ok                  | 0.75                                             \n",
      " individual_No                | 1.0                                              \n",
      " Firearms                     | 0.75                                             \n",
      " Explosives                   | 0.0                                              \n",
      " Melee                        | 0.0                                              \n",
      " GDP per capita (current US$) | 1317.48753519866                                 \n",
      " Nkill_q                      | 1                                                \n",
      " features                     | [1.0,0.0,0.75,1.0,0.75,0.0,0.0,1317.48753519866] \n",
      "-RECORD 1------------------------------------------------------------------------\n",
      " ransom_No                    | 1.0                                              \n",
      " nwound                       | 0.0                                              \n",
      " property_Ok                  | 0.0                                              \n",
      " individual_No                | 1.0                                              \n",
      " Firearms                     | 0.0                                              \n",
      " Explosives                   | 0.0                                              \n",
      " Melee                        | 0.0                                              \n",
      " GDP per capita (current US$) | 329.860647543011                                 \n",
      " Nkill_q                      | 1                                                \n",
      " features                     | (8,[0,3,7],[1.0,1.0,329.860647543011])           \n",
      "only showing top 2 rows\n",
      "\n"
     ]
    }
   ],
   "source": [
    "feature = assembler.transform(ds1) \n",
    "feature.show(2, False, vertical= True)"
   ]
  },
  {
   "cell_type": "code",
   "execution_count": 20,
   "metadata": {},
   "outputs": [
    {
     "name": "stdout",
     "output_type": "stream",
     "text": [
      "+-----------------------------------------------------------------------------------------------------------+\n",
      "|features                                                                                                   |\n",
      "+-----------------------------------------------------------------------------------------------------------+\n",
      "|[1.0,0.0,0.75,1.0,0.75,0.0,0.0,1317.48753519866]                                                           |\n",
      "|(8,[0,3,7],[1.0,1.0,329.860647543011])                                                                     |\n",
      "|[1.0,9.0,1.0,1.0,0.0,0.0,0.0,2750.7197423550397]                                                           |\n",
      "|[1.0,0.0,1.0,1.0,0.0,1.0,0.0,2750.7197423550397]                                                           |\n",
      "|(8,[0,3,4,7],[1.0,1.0,1.0,2347.54431773747])                                                               |\n",
      "|[1.0,0.2954545454545455,0.6818181818181818,1.0,0.18181818181818185,0.6363636363636364,0.0,5246.88371730098]|\n",
      "|(8,[0,3,7],[1.0,1.0,567.410541860583])                                                                     |\n",
      "|(8,[0,3,4,7],[1.0,1.0,1.0,1705.8462879870401])                                                             |\n",
      "|[1.0,0.0,1.0,1.0,0.0,1.0,0.0,1359.76939667218]                                                             |\n",
      "|[1.0,0.0,1.0,1.0,0.0,0.6666666666666666,0.0,456.54302114415395]                                            |\n",
      "+-----------------------------------------------------------------------------------------------------------+\n",
      "only showing top 10 rows\n",
      "\n"
     ]
    }
   ],
   "source": [
    "feature.select(\"features\").show(10, False)"
   ]
  },
  {
   "cell_type": "markdown",
   "metadata": {},
   "source": [
    "<a id=\"Pvalue\"></a>\n",
    "**P-Value** "
   ]
  },
  {
   "cell_type": "code",
   "execution_count": 21,
   "metadata": {},
   "outputs": [
    {
     "name": "stdout",
     "output_type": "stream",
     "text": [
      "P-Value:\n",
      " ransom_No                       3.885781e-15\n",
      "nwound                          0.000000e+00\n",
      "property_Ok                     0.000000e+00\n",
      "individual_No                   3.645279e-01\n",
      "Firearms                        0.000000e+00\n",
      "Explosives                      0.000000e+00\n",
      "Melee                           0.000000e+00\n",
      "GDP per capita (current US$)    5.300967e-02\n",
      "dtype: float64\n"
     ]
    }
   ],
   "source": [
    "chisq = ChiSquareTest.test(feature,\"features\",\"Nkill_q\").head()\n",
    "pvalue = pd.Series(chisq.pValues , index=f_columns)\n",
    "print(\"P-Value:\\n\",pvalue )"
   ]
  },
  {
   "cell_type": "code",
   "execution_count": 53,
   "metadata": {},
   "outputs": [
    {
     "data": {
      "text/plain": [
       "8"
      ]
     },
     "execution_count": 53,
     "metadata": {},
     "output_type": "execute_result"
    }
   ],
   "source": [
    "f_columns = ds1.select([c for c in ds1.columns if c not in {'Nkill_q', \"iyear\", \"country\"}]).columns\n",
    "len(f_columns)"
   ]
  },
  {
   "cell_type": "code",
   "execution_count": 54,
   "metadata": {},
   "outputs": [],
   "source": [
    "assembler = VectorAssembler(inputCols=f_columns,outputCol=\"features\")"
   ]
  },
  {
   "cell_type": "code",
   "execution_count": 55,
   "metadata": {},
   "outputs": [
    {
     "name": "stdout",
     "output_type": "stream",
     "text": [
      "-RECORD 0------------------------------------------------------------------------\n",
      " ransom_No                    | 1.0                                              \n",
      " nwound                       | 0.0                                              \n",
      " property_Ok                  | 0.75                                             \n",
      " individual_No                | 1.0                                              \n",
      " Firearms                     | 0.75                                             \n",
      " Explosives                   | 0.0                                              \n",
      " Melee                        | 0.0                                              \n",
      " GDP per capita (current US$) | 1317.48753519866                                 \n",
      " Nkill_q                      | 1                                                \n",
      " features                     | [1.0,0.0,0.75,1.0,0.75,0.0,0.0,1317.48753519866] \n",
      "-RECORD 1------------------------------------------------------------------------\n",
      " ransom_No                    | 1.0                                              \n",
      " nwound                       | 0.0                                              \n",
      " property_Ok                  | 0.0                                              \n",
      " individual_No                | 1.0                                              \n",
      " Firearms                     | 0.0                                              \n",
      " Explosives                   | 0.0                                              \n",
      " Melee                        | 0.0                                              \n",
      " GDP per capita (current US$) | 329.860647543011                                 \n",
      " Nkill_q                      | 1                                                \n",
      " features                     | (8,[0,3,7],[1.0,1.0,329.860647543011])           \n",
      "only showing top 2 rows\n",
      "\n"
     ]
    }
   ],
   "source": [
    "feature = assembler.transform(ds1) \n",
    "feature.show(2, False, vertical= True)"
   ]
  },
  {
   "cell_type": "markdown",
   "metadata": {},
   "source": [
    "<a id=\"Scaler\"></a>\n",
    "**Scaler** "
   ]
  },
  {
   "cell_type": "code",
   "execution_count": 56,
   "metadata": {},
   "outputs": [
    {
     "name": "stdout",
     "output_type": "stream",
     "text": [
      "-RECORD 0--------------------------------------------\n",
      " ransom_No                    | 1.0                  \n",
      " nwound                       | 0.0                  \n",
      " property_Ok                  | 0.75                 \n",
      " individual_No                | 1.0                  \n",
      " Firearms                     | 0.75                 \n",
      " Explosives                   | 0.0                  \n",
      " Melee                        | 0.0                  \n",
      " GDP per capita (current US$) | 1317.48753519866     \n",
      " Nkill_q                      | 1                    \n",
      " features                     | [1.0,0.0,0.75,1.0... \n",
      " scaledFeatures               | [0.32340173353411... \n",
      "-RECORD 1--------------------------------------------\n",
      " ransom_No                    | 1.0                  \n",
      " nwound                       | 0.0                  \n",
      " property_Ok                  | 0.0                  \n",
      " individual_No                | 1.0                  \n",
      " Firearms                     | 0.0                  \n",
      " Explosives                   | 0.0                  \n",
      " Melee                        | 0.0                  \n",
      " GDP per capita (current US$) | 329.860647543011     \n",
      " Nkill_q                      | 1                    \n",
      " features                     | (8,[0,3,7],[1.0,1... \n",
      " scaledFeatures               | [0.32340173353411... \n",
      "only showing top 2 rows\n",
      "\n"
     ]
    }
   ],
   "source": [
    "scaler = StandardScaler(inputCol=\"features\", outputCol=\"scaledFeatures\",\n",
    "                        withStd=True, withMean=True)\n",
    "scalerModel = scaler.fit(feature)\n",
    "scaledData = scalerModel.transform(feature)\n",
    "scaledData.show(2, vertical= True)"
   ]
  },
  {
   "cell_type": "markdown",
   "metadata": {},
   "source": [
    "<a id=\"VIF1\"></a>\n",
    "**Variance Inflation Factor** "
   ]
  },
  {
   "cell_type": "code",
   "execution_count": 26,
   "metadata": {},
   "outputs": [],
   "source": [
    "#vif = pd.DataFrame()\n",
    "#vif[\"VIF Factor\"] = [variance_inflation_factor(ds1_scaled.values, i) for i in range(ds1_scaled.shape[1])]\n",
    "#vif[\"features\"] = ds1_scaled.columns\n",
    "#vif"
   ]
  },
  {
   "cell_type": "code",
   "execution_count": null,
   "metadata": {},
   "outputs": [],
   "source": []
  },
  {
   "cell_type": "markdown",
   "metadata": {},
   "source": [
    "<a id=\"LR\"></a>\n",
    "**Linear Regression** "
   ]
  },
  {
   "cell_type": "markdown",
   "metadata": {},
   "source": [
    "Let's procede to build a model and evaluate them. The first step it's to build a model. We use a Linear regression and to evaluate the performance of the esmtimator we relied on the study of residuals, in particular way we use the R^2 indicator."
   ]
  },
  {
   "cell_type": "code",
   "execution_count": 57,
   "metadata": {},
   "outputs": [],
   "source": [
    "df_ready = scaledData.select([c for c in scaledData.columns if c in [\"scaledFeatures\", \"Nkill_q\"]])\n",
    "df_ready = scaledData.selectExpr(\"scaledFeatures as features\", \"Nkill_q as label\")"
   ]
  },
  {
   "cell_type": "code",
   "execution_count": 58,
   "metadata": {},
   "outputs": [],
   "source": [
    "train, test = df_ready.randomSplit([0.8, 0.2], seed=12345)"
   ]
  },
  {
   "cell_type": "code",
   "execution_count": 59,
   "metadata": {},
   "outputs": [],
   "source": [
    "lr = LogisticRegression()\n",
    "grid = ParamGridBuilder().addGrid(lr.maxIter, [50]).addGrid(lr.elasticNetParam, [0.2]).addGrid(lr.regParam, [1e-4]).build()\n",
    "evaluator = RegressionEvaluator(metricName=\"r2\")"
   ]
  },
  {
   "cell_type": "code",
   "execution_count": 60,
   "metadata": {},
   "outputs": [],
   "source": [
    "cv = CrossValidator(estimator=lr, estimatorParamMaps=grid, evaluator=evaluator, numFolds=10, seed=33, parallelism=2)"
   ]
  },
  {
   "cell_type": "code",
   "execution_count": 61,
   "metadata": {},
   "outputs": [],
   "source": [
    "cvModel = cv.fit(train)"
   ]
  },
  {
   "cell_type": "code",
   "execution_count": 62,
   "metadata": {},
   "outputs": [],
   "source": [
    "bestModel = cvModel.bestModel.summary"
   ]
  },
  {
   "cell_type": "code",
   "execution_count": 63,
   "metadata": {},
   "outputs": [
    {
     "name": "stdout",
     "output_type": "stream",
     "text": [
      "MIGLIOR MODELLO: \n",
      "LogisticRegression_28f3c33ec21a__maxIter 50\n",
      "LogisticRegression_28f3c33ec21a__elasticNetParam 0.2\n",
      "LogisticRegression_28f3c33ec21a__regParam 0.0001\n",
      "[0.18289353958143767, 0.46012931034482757, 0.10620220900594732]\n",
      "0.5299625468164794\n",
      "[0.7137176938369781, 0.5890207715133531, 0.2188235294117647]\n",
      "+--------------------+-----+--------------------+--------------------+----------+\n",
      "|            features|label|       rawPrediction|         probability|prediction|\n",
      "+--------------------+-----+--------------------+--------------------+----------+\n",
      "|[-6.4016856431544...|    0|[0.68978202294591...|[0.56203415605546...|       0.0|\n",
      "|[-6.4016856431544...|    0|[0.77177888182698...|[0.59687499826423...|       0.0|\n",
      "|[-6.4016856431544...|    0|[0.99751213121663...|[0.68242478761663...|       0.0|\n",
      "|[-6.4016856431544...|    1|[-1.0395622628970...|[0.09297147589626...|       2.0|\n",
      "|[-6.4016856431544...|    1|[-0.9556744653193...|[0.10555726266409...|       2.0|\n",
      "|[-6.4016856431544...|    0|[-0.5924717621758...|[0.17111742342789...|       1.0|\n",
      "|[-4.1599898509249...|    1|[-1.0533600066340...|[0.09075730034983...|       2.0|\n",
      "|[-3.0391419548101...|    0|[0.81243867493062...|[0.60910563200260...|       0.0|\n",
      "|[-3.0391419548101...|    1|[-1.2361259200806...|[0.07066806802053...|       1.0|\n",
      "|[-3.0391419548101...|    0|[-0.3221062868515...|[0.23972341729063...|       1.0|\n",
      "|[-3.0391419548101...|    1|[0.18056215990598...|[0.40727710669773...|       0.0|\n",
      "|[-2.1985060327240...|    2|[-0.4733552583287...|[0.18752758160357...|       2.0|\n",
      "|[-1.9182940586954...|    1|[-1.1007321995936...|[0.08357922592427...|       2.0|\n",
      "|[-1.9182940586954...|    0|[1.94551012895918...|[0.85246289802261...|       0.0|\n",
      "|[-1.9182940586954...|    0|[1.81005689724580...|[0.81053738267065...|       0.0|\n",
      "|[-1.9182940586954...|    0|[0.40189013696861...|[0.47868534509460...|       0.0|\n",
      "|[-1.9182940586954...|    1|[-0.1443147671982...|[0.28306521507345...|       1.0|\n",
      "|[-1.9182940586954...|    2|[-0.1882284203487...|[0.27408066249077...|       1.0|\n",
      "|[-1.6941244794724...|    1|[-0.0472466615259...|[0.30981807877937...|       1.0|\n",
      "|[-1.5107130055627...|    2|[-0.2805687437051...|[0.24505591517459...|       1.0|\n",
      "+--------------------+-----+--------------------+--------------------+----------+\n",
      "only showing top 20 rows\n",
      "\n"
     ]
    }
   ],
   "source": [
    "print(\"MIGLIOR MODELLO: \")\n",
    "model = cvModel.getEstimatorParamMaps()[np.argmax(cvModel.avgMetrics)]\n",
    "for key, value in model.items() :\n",
    "    print (key, value)\n",
    "print(bestModel.falsePositiveRateByLabel)\n",
    "print(bestModel.accuracy)\n",
    "print(bestModel.truePositiveRateByLabel)\n",
    "xx = cvModel.transform(test)\n",
    "xx.show()\n",
    "#print(\"R^2: \", bestModel.r2adj)\n",
    "#print(\"ITERATION: \", bestModel.totalIterations)\n",
    "#print(\"MIGLIOR MODELLO TEST R^2: \", evaluator.evaluate(cvModel.transform(test)))"
   ]
  },
  {
   "cell_type": "code",
   "execution_count": 64,
   "metadata": {},
   "outputs": [
    {
     "data": {
      "text/plain": [
       "[0.6754468485418627, 0.5300400534045394, 0.2892690513219284]"
      ]
     },
     "execution_count": 64,
     "metadata": {},
     "output_type": "execute_result"
    }
   ],
   "source": [
    "bestModel.fMeasureByLabel()"
   ]
  },
  {
   "cell_type": "code",
   "execution_count": 65,
   "metadata": {},
   "outputs": [
    {
     "data": {
      "text/plain": [
       "ransom_No                       DenseMatrix([[-0.07484303, -0.42412827,  0.107...\n",
       "nwound                          DenseMatrix([[-0.07484303, -0.42412827,  0.107...\n",
       "property_Ok                     DenseMatrix([[-0.07484303, -0.42412827,  0.107...\n",
       "individual_No                   DenseMatrix([[-0.07484303, -0.42412827,  0.107...\n",
       "Firearms                        DenseMatrix([[-0.07484303, -0.42412827,  0.107...\n",
       "Explosives                      DenseMatrix([[-0.07484303, -0.42412827,  0.107...\n",
       "Melee                           DenseMatrix([[-0.07484303, -0.42412827,  0.107...\n",
       "GDP per capita (current US$)    DenseMatrix([[-0.07484303, -0.42412827,  0.107...\n",
       "dtype: object"
      ]
     },
     "execution_count": 65,
     "metadata": {},
     "output_type": "execute_result"
    }
   ],
   "source": [
    "pd.Series(cvModel.bestModel.coefficientMatrix , index=f_columns)"
   ]
  },
  {
   "cell_type": "code",
   "execution_count": 66,
   "metadata": {},
   "outputs": [],
   "source": [
    "coef = cvModel.bestModel.coefficientMatrix.toArray()"
   ]
  },
  {
   "cell_type": "code",
   "execution_count": 67,
   "metadata": {},
   "outputs": [
    {
     "data": {
      "text/html": [
       "<div>\n",
       "<style scoped>\n",
       "    .dataframe tbody tr th:only-of-type {\n",
       "        vertical-align: middle;\n",
       "    }\n",
       "\n",
       "    .dataframe tbody tr th {\n",
       "        vertical-align: top;\n",
       "    }\n",
       "\n",
       "    .dataframe thead th {\n",
       "        text-align: right;\n",
       "    }\n",
       "</style>\n",
       "<table border=\"1\" class=\"dataframe\">\n",
       "  <thead>\n",
       "    <tr style=\"text-align: right;\">\n",
       "      <th></th>\n",
       "      <th>ransom_No</th>\n",
       "      <th>nwound</th>\n",
       "      <th>property_Ok</th>\n",
       "      <th>individual_No</th>\n",
       "      <th>Firearms</th>\n",
       "      <th>Explosives</th>\n",
       "      <th>Melee</th>\n",
       "      <th>GDP per capita (current US$)</th>\n",
       "    </tr>\n",
       "  </thead>\n",
       "  <tbody>\n",
       "    <tr>\n",
       "      <th>class_0</th>\n",
       "      <td>-0.074843</td>\n",
       "      <td>-0.424128</td>\n",
       "      <td>0.107611</td>\n",
       "      <td>0.061308</td>\n",
       "      <td>-0.657313</td>\n",
       "      <td>-0.064091</td>\n",
       "      <td>-0.167827</td>\n",
       "      <td>0.561770</td>\n",
       "    </tr>\n",
       "    <tr>\n",
       "      <th>class_1</th>\n",
       "      <td>0.098780</td>\n",
       "      <td>0.053284</td>\n",
       "      <td>-0.080227</td>\n",
       "      <td>-0.069753</td>\n",
       "      <td>0.301758</td>\n",
       "      <td>0.128494</td>\n",
       "      <td>0.061420</td>\n",
       "      <td>0.134920</td>\n",
       "    </tr>\n",
       "    <tr>\n",
       "      <th>class_2</th>\n",
       "      <td>-0.009438</td>\n",
       "      <td>0.235780</td>\n",
       "      <td>-0.031273</td>\n",
       "      <td>-0.045266</td>\n",
       "      <td>0.328225</td>\n",
       "      <td>-0.188213</td>\n",
       "      <td>0.086063</td>\n",
       "      <td>-0.759065</td>\n",
       "    </tr>\n",
       "  </tbody>\n",
       "</table>\n",
       "</div>"
      ],
      "text/plain": [
       "         ransom_No    nwound  property_Ok  individual_No  Firearms  \\\n",
       "class_0  -0.074843 -0.424128     0.107611       0.061308 -0.657313   \n",
       "class_1   0.098780  0.053284    -0.080227      -0.069753  0.301758   \n",
       "class_2  -0.009438  0.235780    -0.031273      -0.045266  0.328225   \n",
       "\n",
       "         Explosives     Melee  GDP per capita (current US$)  \n",
       "class_0   -0.064091 -0.167827                      0.561770  \n",
       "class_1    0.128494  0.061420                      0.134920  \n",
       "class_2   -0.188213  0.086063                     -0.759065  "
      ]
     },
     "execution_count": 67,
     "metadata": {},
     "output_type": "execute_result"
    }
   ],
   "source": [
    "pd.DataFrame(data=coef, columns=f_columns, index=['class_0', 'class_1', 'class_2'])"
   ]
  },
  {
   "cell_type": "markdown",
   "metadata": {},
   "source": [
    "<a id=\"GLR\"></a>\n",
    "**MLPC** "
   ]
  },
  {
   "cell_type": "code",
   "execution_count": 77,
   "metadata": {},
   "outputs": [
    {
     "name": "stdout",
     "output_type": "stream",
     "text": [
      "Test set accuracy = 0.6975169300225733\n"
     ]
    }
   ],
   "source": [
    "# input controlla riga sopra\n",
    "# output 3 classi\n",
    "layers = [8, 7, 7, 3]\n",
    "\n",
    "trainer = MultilayerPerceptronClassifier(maxIter=200, layers=layers, blockSize=128, seed=1234)\n",
    "\n",
    "# train the model\n",
    "model = trainer.fit(train)\n",
    "\n",
    "# compute accuracy on the test set\n",
    "result = model.transform(test)\n",
    "predictionAndLabels = result.select(\"prediction\", \"label\")\n",
    "evaluator = MulticlassClassificationEvaluator(metricName=\"accuracy\")\n",
    "print(\"Test set accuracy = \" + str(evaluator.evaluate(predictionAndLabels)))"
   ]
  },
  {
   "cell_type": "code",
   "execution_count": 69,
   "metadata": {},
   "outputs": [],
   "source": [
    "prediction_test = result.select(\"prediction\").toPandas()\n",
    "label_test = result.select(\"label\").toPandas()"
   ]
  },
  {
   "cell_type": "code",
   "execution_count": 70,
   "metadata": {},
   "outputs": [
    {
     "data": {
      "text/plain": [
       "1    176\n",
       "0    138\n",
       "2    129\n",
       "Name: label, dtype: int64"
      ]
     },
     "execution_count": 70,
     "metadata": {},
     "output_type": "execute_result"
    }
   ],
   "source": [
    "label_test.label.value_counts()"
   ]
  },
  {
   "cell_type": "code",
   "execution_count": 71,
   "metadata": {},
   "outputs": [
    {
     "data": {
      "text/plain": [
       "array([[ 93,  44,   1],\n",
       "       [ 37, 116,  23],\n",
       "       [  2,  27, 100]])"
      ]
     },
     "execution_count": 71,
     "metadata": {},
     "output_type": "execute_result"
    }
   ],
   "source": [
    "confusion_matrix(label_test, prediction_test)"
   ]
  },
  {
   "cell_type": "markdown",
   "metadata": {},
   "source": [
    "Always stop the context."
   ]
  },
  {
   "cell_type": "code",
   "execution_count": 41,
   "metadata": {},
   "outputs": [],
   "source": [
    "#sc.stop()"
   ]
  }
 ],
 "metadata": {
  "kernelspec": {
   "display_name": "Python 3",
   "language": "python",
   "name": "python3"
  },
  "language_info": {
   "codemirror_mode": {
    "name": "ipython",
    "version": 3
   },
   "file_extension": ".py",
   "mimetype": "text/x-python",
   "name": "python",
   "nbconvert_exporter": "python",
   "pygments_lexer": "ipython3",
   "version": "3.7.6"
  }
 },
 "nbformat": 4,
 "nbformat_minor": 4
}
