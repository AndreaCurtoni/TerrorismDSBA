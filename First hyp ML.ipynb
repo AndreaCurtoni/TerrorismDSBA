{
 "cells": [
  {
   "cell_type": "markdown",
   "metadata": {},
   "source": [
    "# Script used to perform regression, trying to predict the number of attacks per state, per year."
   ]
  },
  {
   "cell_type": "code",
   "execution_count": 3,
   "metadata": {},
   "outputs": [],
   "source": [
    "import pandas as pd\n",
    "import numpy as np\n",
    "import seaborn as sns\n",
    "import matplotlib.pyplot as plt"
   ]
  },
  {
   "cell_type": "code",
   "execution_count": 4,
   "metadata": {},
   "outputs": [],
   "source": [
    "import findspark\n",
    "findspark.init()\n",
    "import pyspark\n",
    "from pyspark.sql import *\n",
    "\n",
    "sc = pyspark.SparkContext(appName=\"Pi\")\n",
    "spark = SparkSession(sc)"
   ]
  },
  {
   "cell_type": "markdown",
   "metadata": {},
   "source": [
    "### Dataset aquisition\n",
    "The <strong>original</strong> number of rows of this dataset (before some NaNs cleaning) is given by:<br>\n",
    "number of countries (~250) * number of years from 1960 to 2018 (~60)<br>\n",
    "This number could be subjected to relevent growth if, for example, the records are represented day by day, instead of year by year: this would mean we'd get 365 records, for each country, <strong>for each year</strong> since 1960.<br>\n",
    "About the NaNs' cleaning, it is a sort of filtering of which we can't know the exact outcome's dimension: it would be riskful to make assumptions.<br>\n",
    "It's reasonable to consider the scalability of the dataset we're going to read."
   ]
  },
  {
   "cell_type": "code",
   "execution_count": 3,
   "metadata": {},
   "outputs": [],
   "source": [
    "df = pd.read_csv('./part/DF1sthypTOT') #just used to show the outlook of our dataset\n",
    "sdf = spark.read.csv(\"./part/DF1sthypTOT\", inferSchema = True, header = True)"
   ]
  },
  {
   "cell_type": "code",
   "execution_count": 4,
   "metadata": {},
   "outputs": [
    {
     "data": {
      "text/html": [
       "<div>\n",
       "<style scoped>\n",
       "    .dataframe tbody tr th:only-of-type {\n",
       "        vertical-align: middle;\n",
       "    }\n",
       "\n",
       "    .dataframe tbody tr th {\n",
       "        vertical-align: top;\n",
       "    }\n",
       "\n",
       "    .dataframe thead th {\n",
       "        text-align: right;\n",
       "    }\n",
       "</style>\n",
       "<table border=\"1\" class=\"dataframe\">\n",
       "  <thead>\n",
       "    <tr style=\"text-align: right;\">\n",
       "      <th></th>\n",
       "      <th>SP.DYN.AMRT.MA</th>\n",
       "      <th>SP.DYN.CBRT.IN</th>\n",
       "      <th>CountryCode</th>\n",
       "      <th>Year</th>\n",
       "      <th>SP.DYN.LE00.IN</th>\n",
       "      <th>MS.MIL.MPRT.KD</th>\n",
       "      <th>SP.URB.TOTL</th>\n",
       "      <th>SP.RUR.TOTL</th>\n",
       "      <th>SP.DYN.AMRT.FE</th>\n",
       "      <th>MilitaryExp</th>\n",
       "      <th>Area (sq. mi.)</th>\n",
       "      <th>Population</th>\n",
       "      <th>Density</th>\n",
       "      <th>cnt</th>\n",
       "    </tr>\n",
       "  </thead>\n",
       "  <tbody>\n",
       "    <tr>\n",
       "      <th>0</th>\n",
       "      <td>604.5970</td>\n",
       "      <td>51.276</td>\n",
       "      <td>AFG</td>\n",
       "      <td>1960</td>\n",
       "      <td>32.328512</td>\n",
       "      <td>4.000000e+07</td>\n",
       "      <td>739462.0</td>\n",
       "      <td>8255331.0</td>\n",
       "      <td>551.1210</td>\n",
       "      <td>2.252607e+10</td>\n",
       "      <td>647500.0</td>\n",
       "      <td>31056997.0</td>\n",
       "      <td>13.891572</td>\n",
       "      <td>0.0</td>\n",
       "    </tr>\n",
       "    <tr>\n",
       "      <th>1</th>\n",
       "      <td>160.4806</td>\n",
       "      <td>42.240</td>\n",
       "      <td>ALB</td>\n",
       "      <td>1960</td>\n",
       "      <td>62.254366</td>\n",
       "      <td>6.200000e+07</td>\n",
       "      <td>493982.0</td>\n",
       "      <td>1114818.0</td>\n",
       "      <td>151.0588</td>\n",
       "      <td>2.252607e+10</td>\n",
       "      <td>28748.0</td>\n",
       "      <td>3581655.0</td>\n",
       "      <td>55.962154</td>\n",
       "      <td>0.0</td>\n",
       "    </tr>\n",
       "    <tr>\n",
       "      <th>2</th>\n",
       "      <td>373.1320</td>\n",
       "      <td>49.671</td>\n",
       "      <td>DZA</td>\n",
       "      <td>1960</td>\n",
       "      <td>46.135122</td>\n",
       "      <td>1.451501e+09</td>\n",
       "      <td>3394205.0</td>\n",
       "      <td>7730687.0</td>\n",
       "      <td>323.2800</td>\n",
       "      <td>2.252607e+10</td>\n",
       "      <td>2381740.0</td>\n",
       "      <td>32930091.0</td>\n",
       "      <td>4.670910</td>\n",
       "      <td>0.0</td>\n",
       "    </tr>\n",
       "    <tr>\n",
       "      <th>3</th>\n",
       "      <td>565.4100</td>\n",
       "      <td>54.423</td>\n",
       "      <td>AGO</td>\n",
       "      <td>1960</td>\n",
       "      <td>32.984829</td>\n",
       "      <td>1.451501e+09</td>\n",
       "      <td>550013.0</td>\n",
       "      <td>4720831.0</td>\n",
       "      <td>500.8860</td>\n",
       "      <td>2.252607e+10</td>\n",
       "      <td>1246700.0</td>\n",
       "      <td>12127071.0</td>\n",
       "      <td>4.227837</td>\n",
       "      <td>0.0</td>\n",
       "    </tr>\n",
       "    <tr>\n",
       "      <th>4</th>\n",
       "      <td>255.1080</td>\n",
       "      <td>23.682</td>\n",
       "      <td>ARG</td>\n",
       "      <td>1960</td>\n",
       "      <td>65.215537</td>\n",
       "      <td>1.030000e+08</td>\n",
       "      <td>15177907.0</td>\n",
       "      <td>5441168.0</td>\n",
       "      <td>156.2470</td>\n",
       "      <td>2.252607e+10</td>\n",
       "      <td>2766890.0</td>\n",
       "      <td>39921833.0</td>\n",
       "      <td>7.452076</td>\n",
       "      <td>0.0</td>\n",
       "    </tr>\n",
       "  </tbody>\n",
       "</table>\n",
       "</div>"
      ],
      "text/plain": [
       "   SP.DYN.AMRT.MA  SP.DYN.CBRT.IN CountryCode  Year  SP.DYN.LE00.IN  \\\n",
       "0        604.5970          51.276         AFG  1960       32.328512   \n",
       "1        160.4806          42.240         ALB  1960       62.254366   \n",
       "2        373.1320          49.671         DZA  1960       46.135122   \n",
       "3        565.4100          54.423         AGO  1960       32.984829   \n",
       "4        255.1080          23.682         ARG  1960       65.215537   \n",
       "\n",
       "   MS.MIL.MPRT.KD  SP.URB.TOTL  SP.RUR.TOTL  SP.DYN.AMRT.FE   MilitaryExp  \\\n",
       "0    4.000000e+07     739462.0    8255331.0        551.1210  2.252607e+10   \n",
       "1    6.200000e+07     493982.0    1114818.0        151.0588  2.252607e+10   \n",
       "2    1.451501e+09    3394205.0    7730687.0        323.2800  2.252607e+10   \n",
       "3    1.451501e+09     550013.0    4720831.0        500.8860  2.252607e+10   \n",
       "4    1.030000e+08   15177907.0    5441168.0        156.2470  2.252607e+10   \n",
       "\n",
       "   Area (sq. mi.)  Population    Density  cnt  \n",
       "0        647500.0  31056997.0  13.891572  0.0  \n",
       "1         28748.0   3581655.0  55.962154  0.0  \n",
       "2       2381740.0  32930091.0   4.670910  0.0  \n",
       "3       1246700.0  12127071.0   4.227837  0.0  \n",
       "4       2766890.0  39921833.0   7.452076  0.0  "
      ]
     },
     "execution_count": 4,
     "metadata": {},
     "output_type": "execute_result"
    }
   ],
   "source": [
    "df.head()"
   ]
  },
  {
   "cell_type": "code",
   "execution_count": 5,
   "metadata": {},
   "outputs": [],
   "source": [
    "sdf = sdf.drop('CountryCode')\n",
    "del df['CountryCode']"
   ]
  },
  {
   "cell_type": "markdown",
   "metadata": {},
   "source": [
    "#### Let's define two metrics that we'll adopt\n",
    "- TerritoryDefense: MilitaryExp / Area (sq. mi.)\n",
    "- PopulationDefense: MS.MIL.MPRT.KD / Population\n",
    "\n",
    "(Let's remind that \"MS.MIL.MPRT.KD\" is the arms import)"
   ]
  },
  {
   "cell_type": "code",
   "execution_count": 6,
   "metadata": {},
   "outputs": [
    {
     "data": {
      "text/html": [
       "<div>\n",
       "<style scoped>\n",
       "    .dataframe tbody tr th:only-of-type {\n",
       "        vertical-align: middle;\n",
       "    }\n",
       "\n",
       "    .dataframe tbody tr th {\n",
       "        vertical-align: top;\n",
       "    }\n",
       "\n",
       "    .dataframe thead th {\n",
       "        text-align: right;\n",
       "    }\n",
       "</style>\n",
       "<table border=\"1\" class=\"dataframe\">\n",
       "  <thead>\n",
       "    <tr style=\"text-align: right;\">\n",
       "      <th></th>\n",
       "      <th>SP.DYN.AMRT.MA</th>\n",
       "      <th>SP.DYN.CBRT.IN</th>\n",
       "      <th>Year</th>\n",
       "      <th>SP.DYN.LE00.IN</th>\n",
       "      <th>MS.MIL.MPRT.KD</th>\n",
       "      <th>SP.URB.TOTL</th>\n",
       "      <th>SP.RUR.TOTL</th>\n",
       "      <th>SP.DYN.AMRT.FE</th>\n",
       "      <th>MilitaryExp</th>\n",
       "      <th>Population</th>\n",
       "      <th>Density</th>\n",
       "      <th>cnt</th>\n",
       "      <th>TerritoryDefense</th>\n",
       "      <th>PopulationDefense</th>\n",
       "    </tr>\n",
       "  </thead>\n",
       "  <tbody>\n",
       "    <tr>\n",
       "      <th>0</th>\n",
       "      <td>604.5970</td>\n",
       "      <td>51.276</td>\n",
       "      <td>1960</td>\n",
       "      <td>32.328512</td>\n",
       "      <td>4.000000e+07</td>\n",
       "      <td>739462.0</td>\n",
       "      <td>8255331.0</td>\n",
       "      <td>551.1210</td>\n",
       "      <td>2.252607e+10</td>\n",
       "      <td>31056997.0</td>\n",
       "      <td>13.891572</td>\n",
       "      <td>0.0</td>\n",
       "      <td>34789.294798</td>\n",
       "      <td>1.287955</td>\n",
       "    </tr>\n",
       "    <tr>\n",
       "      <th>1</th>\n",
       "      <td>160.4806</td>\n",
       "      <td>42.240</td>\n",
       "      <td>1960</td>\n",
       "      <td>62.254366</td>\n",
       "      <td>6.200000e+07</td>\n",
       "      <td>493982.0</td>\n",
       "      <td>1114818.0</td>\n",
       "      <td>151.0588</td>\n",
       "      <td>2.252607e+10</td>\n",
       "      <td>3581655.0</td>\n",
       "      <td>55.962154</td>\n",
       "      <td>0.0</td>\n",
       "      <td>783569.931176</td>\n",
       "      <td>17.310433</td>\n",
       "    </tr>\n",
       "    <tr>\n",
       "      <th>2</th>\n",
       "      <td>373.1320</td>\n",
       "      <td>49.671</td>\n",
       "      <td>1960</td>\n",
       "      <td>46.135122</td>\n",
       "      <td>1.451501e+09</td>\n",
       "      <td>3394205.0</td>\n",
       "      <td>7730687.0</td>\n",
       "      <td>323.2800</td>\n",
       "      <td>2.252607e+10</td>\n",
       "      <td>32930091.0</td>\n",
       "      <td>4.670910</td>\n",
       "      <td>0.0</td>\n",
       "      <td>9457.820073</td>\n",
       "      <td>44.078259</td>\n",
       "    </tr>\n",
       "    <tr>\n",
       "      <th>3</th>\n",
       "      <td>565.4100</td>\n",
       "      <td>54.423</td>\n",
       "      <td>1960</td>\n",
       "      <td>32.984829</td>\n",
       "      <td>1.451501e+09</td>\n",
       "      <td>550013.0</td>\n",
       "      <td>4720831.0</td>\n",
       "      <td>500.8860</td>\n",
       "      <td>2.252607e+10</td>\n",
       "      <td>12127071.0</td>\n",
       "      <td>4.227837</td>\n",
       "      <td>0.0</td>\n",
       "      <td>18068.555692</td>\n",
       "      <td>119.690985</td>\n",
       "    </tr>\n",
       "    <tr>\n",
       "      <th>4</th>\n",
       "      <td>255.1080</td>\n",
       "      <td>23.682</td>\n",
       "      <td>1960</td>\n",
       "      <td>65.215537</td>\n",
       "      <td>1.030000e+08</td>\n",
       "      <td>15177907.0</td>\n",
       "      <td>5441168.0</td>\n",
       "      <td>156.2470</td>\n",
       "      <td>2.252607e+10</td>\n",
       "      <td>39921833.0</td>\n",
       "      <td>7.452076</td>\n",
       "      <td>0.0</td>\n",
       "      <td>8141.295238</td>\n",
       "      <td>2.580042</td>\n",
       "    </tr>\n",
       "  </tbody>\n",
       "</table>\n",
       "</div>"
      ],
      "text/plain": [
       "   SP.DYN.AMRT.MA  SP.DYN.CBRT.IN  Year  SP.DYN.LE00.IN  MS.MIL.MPRT.KD  \\\n",
       "0        604.5970          51.276  1960       32.328512    4.000000e+07   \n",
       "1        160.4806          42.240  1960       62.254366    6.200000e+07   \n",
       "2        373.1320          49.671  1960       46.135122    1.451501e+09   \n",
       "3        565.4100          54.423  1960       32.984829    1.451501e+09   \n",
       "4        255.1080          23.682  1960       65.215537    1.030000e+08   \n",
       "\n",
       "   SP.URB.TOTL  SP.RUR.TOTL  SP.DYN.AMRT.FE   MilitaryExp  Population  \\\n",
       "0     739462.0    8255331.0        551.1210  2.252607e+10  31056997.0   \n",
       "1     493982.0    1114818.0        151.0588  2.252607e+10   3581655.0   \n",
       "2    3394205.0    7730687.0        323.2800  2.252607e+10  32930091.0   \n",
       "3     550013.0    4720831.0        500.8860  2.252607e+10  12127071.0   \n",
       "4   15177907.0    5441168.0        156.2470  2.252607e+10  39921833.0   \n",
       "\n",
       "     Density  cnt  TerritoryDefense  PopulationDefense  \n",
       "0  13.891572  0.0      34789.294798           1.287955  \n",
       "1  55.962154  0.0     783569.931176          17.310433  \n",
       "2   4.670910  0.0       9457.820073          44.078259  \n",
       "3   4.227837  0.0      18068.555692         119.690985  \n",
       "4   7.452076  0.0       8141.295238           2.580042  "
      ]
     },
     "execution_count": 6,
     "metadata": {},
     "output_type": "execute_result"
    }
   ],
   "source": [
    "# Pandas implementation\n",
    "\n",
    "df[\"TerritoryDefense\"]= df['MilitaryExp'] / df['Area (sq. mi.)']\n",
    "df[\"PopulationDefense\"] = df['MS.MIL.MPRT.KD'] / df['Population']\n",
    "\n",
    "del df[\"Area (sq. mi.)\"]\n",
    "df.head()"
   ]
  },
  {
   "cell_type": "code",
   "execution_count": 7,
   "metadata": {},
   "outputs": [
    {
     "name": "stdout",
     "output_type": "stream",
     "text": [
      "+------------------+-----------------+----+------------------+--------------------+-----------+-----------+------------------+--------------------+-----------+------------------+---+------------------+------------------+\n",
      "|    SP.DYN.AMRT.MA|   SP.DYN.CBRT.IN|Year|    SP.DYN.LE00.IN|      MS.MIL.MPRT.KD|SP.URB.TOTL|SP.RUR.TOTL|    SP.DYN.AMRT.FE|         MilitaryExp| Population|           Density|cnt|  TerritoryDefense| PopulationDefense|\n",
      "+------------------+-----------------+----+------------------+--------------------+-----------+-----------+------------------+--------------------+-----------+------------------+---+------------------+------------------+\n",
      "|           604.597|           51.276|1960|   32.328512195122|               4.0E7|   739462.0|  8255331.0|           551.121|2.252606838145494E10|3.1056997E7|13.891572200772199|0.0| 34789.29479761381|1.2879545308260165|\n",
      "|          160.4806|            42.24|1960|62.254365853658506|               6.2E7|   493982.0|  1114818.0|          151.0588|2.252606838145494E10|  3581655.0| 55.96215388896618|0.0| 783569.9311762537| 17.31043330527368|\n",
      "|373.13199999999995|49.67100000000001|1960|  46.1351219512195|1.4515010685282805E9|  3394205.0|  7730687.0|            323.28|2.252606838145494E10|3.2930091E7| 4.670909503136363|0.0| 9457.820073330817| 44.07825865189017|\n",
      "|            565.41|           54.423|1960|  32.9848292682927|1.4515010685282805E9|   550013.0|  4720831.0|500.88599999999997|2.252606838145494E10|1.2127071E7| 4.227836688858587|0.0|18068.555692191338|119.69098461848542|\n",
      "|           255.108|           23.682|1960|  65.2155365853659|              1.03E8|1.5177907E7|  5441168.0|           156.247|2.252606838145494E10|3.9921833E7|7.4520761577077534|0.0| 8141.295238139189|2.5800418532886504|\n",
      "+------------------+-----------------+----+------------------+--------------------+-----------+-----------+------------------+--------------------+-----------+------------------+---+------------------+------------------+\n",
      "only showing top 5 rows\n",
      "\n"
     ]
    }
   ],
   "source": [
    "#Spark implementation\n",
    "\n",
    "from pyspark.sql.functions import lit\n",
    "\n",
    "sdf = sdf.withColumn(\"TerritoryDefense\", sdf['MilitaryExp'] / sdf['`Area (sq. mi.)`'])\n",
    "sdf = sdf.withColumn(\"PopulationDefense\", sdf['`MS.MIL.MPRT.KD`'] / sdf['Population'])\n",
    "\n",
    "sdf2 = sdf.drop(\"Area (sq. mi.)\")\n",
    "#sdf3 = sdf2.drop('Population')\n",
    "sdf2.show(5)"
   ]
  },
  {
   "cell_type": "code",
   "execution_count": 8,
   "metadata": {},
   "outputs": [
    {
     "data": {
      "text/plain": [
       "[('SP.DYN.AMRT.MA', 'double'),\n",
       " ('SP.DYN.CBRT.IN', 'double'),\n",
       " ('Year', 'int'),\n",
       " ('SP.DYN.LE00.IN', 'double'),\n",
       " ('MS.MIL.MPRT.KD', 'double'),\n",
       " ('SP.URB.TOTL', 'double'),\n",
       " ('SP.RUR.TOTL', 'double'),\n",
       " ('SP.DYN.AMRT.FE', 'double'),\n",
       " ('MilitaryExp', 'double'),\n",
       " ('Population', 'double'),\n",
       " ('Density', 'double'),\n",
       " ('cnt', 'double'),\n",
       " ('TerritoryDefense', 'double'),\n",
       " ('PopulationDefense', 'double')]"
      ]
     },
     "execution_count": 8,
     "metadata": {},
     "output_type": "execute_result"
    }
   ],
   "source": [
    "sdf = sdf2\n",
    "sdf.dtypes"
   ]
  },
  {
   "cell_type": "code",
   "execution_count": 9,
   "metadata": {},
   "outputs": [
    {
     "data": {
      "text/plain": [
       "array([[<matplotlib.axes._subplots.AxesSubplot object at 0x7fb9c7dcce50>,\n",
       "        <matplotlib.axes._subplots.AxesSubplot object at 0x7fb9c4982e90>,\n",
       "        <matplotlib.axes._subplots.AxesSubplot object at 0x7fb9c49476d0>,\n",
       "        <matplotlib.axes._subplots.AxesSubplot object at 0x7fb9c48faed0>],\n",
       "       [<matplotlib.axes._subplots.AxesSubplot object at 0x7fb9c48bc710>,\n",
       "        <matplotlib.axes._subplots.AxesSubplot object at 0x7fb9c486ef10>,\n",
       "        <matplotlib.axes._subplots.AxesSubplot object at 0x7fb9c482f750>,\n",
       "        <matplotlib.axes._subplots.AxesSubplot object at 0x7fb9c4863f50>],\n",
       "       [<matplotlib.axes._subplots.AxesSubplot object at 0x7fb9c47edad0>,\n",
       "        <matplotlib.axes._subplots.AxesSubplot object at 0x7fb9c47ae490>,\n",
       "        <matplotlib.axes._subplots.AxesSubplot object at 0x7fb9c47997d0>,\n",
       "        <matplotlib.axes._subplots.AxesSubplot object at 0x7fb9c474afd0>],\n",
       "       [<matplotlib.axes._subplots.AxesSubplot object at 0x7fb9c470d810>,\n",
       "        <matplotlib.axes._subplots.AxesSubplot object at 0x7fb9c46bff90>,\n",
       "        <matplotlib.axes._subplots.AxesSubplot object at 0x7fb9c4681850>,\n",
       "        <matplotlib.axes._subplots.AxesSubplot object at 0x7fb9c463fbd0>]],\n",
       "      dtype=object)"
      ]
     },
     "execution_count": 9,
     "metadata": {},
     "output_type": "execute_result"
    },
    {
     "data": {
      "image/png": "[encoded data removed]",
      "text/plain": [
       "<Figure size 1080x1080 with 16 Axes>"
      ]
     },
     "metadata": {
      "needs_background": "light"
     },
     "output_type": "display_data"
    }
   ],
   "source": [
    "df.hist(figsize=(15,15))"
   ]
  },
  {
   "cell_type": "code",
   "execution_count": 10,
   "metadata": {},
   "outputs": [
    {
     "name": "stdout",
     "output_type": "stream",
     "text": [
      "Shape of the df:  8332 15\n",
      "Number of cnt = 0:  5526\n"
     ]
    }
   ],
   "source": [
    "df_std = df \n",
    "\n",
    "print('Shape of the df: ', sdf.count(), len(sdf.columns) + 1)\n",
    "print('Number of cnt = 0: ', sdf[sdf['cnt'] == 0].count())"
   ]
  },
  {
   "cell_type": "markdown",
   "metadata": {},
   "source": [
    "#### We had a lot of values of cnt equal to zero. So we decided to delete all of them, focusing more on the other values of cnt."
   ]
  },
  {
   "cell_type": "code",
   "execution_count": 11,
   "metadata": {},
   "outputs": [
    {
     "data": {
      "text/plain": [
       "<matplotlib.axes._subplots.AxesSubplot at 0x7fb9c4247750>"
      ]
     },
     "execution_count": 11,
     "metadata": {},
     "output_type": "execute_result"
    },
    {
     "data": {
      "image/png": "[encoded data removed]",
      "text/plain": [
       "<Figure size 432x288 with 1 Axes>"
      ]
     },
     "metadata": {
      "needs_background": "light"
     },
     "output_type": "display_data"
    }
   ],
   "source": [
    "df_std = df_std[df_std['cnt'] > 0]\n",
    "df_std['cnt'].hist(bins=150)"
   ]
  },
  {
   "cell_type": "code",
   "execution_count": 12,
   "metadata": {},
   "outputs": [
    {
     "name": "stdout",
     "output_type": "stream",
     "text": [
      "Number of remaining samples:  2806\n"
     ]
    }
   ],
   "source": [
    "sdf = sdf.drop('cnt2')\n",
    "sdf = sdf.filter(sdf.cnt > 0)\n",
    "print('Number of remaining samples: ',sdf[sdf['cnt'] > 0].count())"
   ]
  },
  {
   "cell_type": "code",
   "execution_count": 13,
   "metadata": {},
   "outputs": [
    {
     "name": "stdout",
     "output_type": "stream",
     "text": [
      "Shape of the df:  (2806, 14)\n"
     ]
    }
   ],
   "source": [
    "print('Shape of the df: ', df_std.shape)"
   ]
  },
  {
   "cell_type": "markdown",
   "metadata": {},
   "source": [
    "### Multicollinearity handling\n",
    "We want to use the <strong>heatmap visual tool</strong> to study the multicollinearity, which works with pandas dataframes.<br>\n",
    "So, since it may end up in a complex computation, we decided to explicitely control the size of the dataframe.<br>\n",
    "We are taking into account the last century, which is a range wide enough to be representative.<br>\n",
    "Notice that, in our case, we're still considering the whole dataset, since it has a range of about 50 years; but this solution takes into account a possible scalability of the dataset.<br>\n",
    "We could have achieved the same task using Spark and other tools, but remember that using resources thoughtlessly means that we're wasting money."
   ]
  },
  {
   "cell_type": "code",
   "execution_count": 14,
   "metadata": {},
   "outputs": [],
   "source": [
    "years_range = 100\n",
    "year = df_std['Year'].max() - years_range\n",
    "df_std = df_std[df_std['Year'] > year]"
   ]
  },
  {
   "cell_type": "code",
   "execution_count": 15,
   "metadata": {},
   "outputs": [
    {
     "data": {
      "text/plain": [
       "<matplotlib.axes._subplots.AxesSubplot at 0x7fb9bffd7710>"
      ]
     },
     "execution_count": 15,
     "metadata": {},
     "output_type": "execute_result"
    },
    {
     "data": {
      "image/png": "[encoded data removed]",
      "text/plain": [
       "<Figure size 432x288 with 2 Axes>"
      ]
     },
     "metadata": {
      "needs_background": "light"
     },
     "output_type": "display_data"
    }
   ],
   "source": [
    "corr = df_std.corr()\n",
    "sns.heatmap(corr, mask=np.zeros_like(corr, dtype=np.bool), cmap=sns.diverging_palette(220,10, as_cmap=True), square=True)"
   ]
  },
  {
   "cell_type": "code",
   "execution_count": 16,
   "metadata": {},
   "outputs": [],
   "source": [
    "del df_std['SP.URB.TOTL']\n",
    "del df_std['SP.RUR.TOTL']\n",
    "del df_std['SP.DYN.AMRT.FE']\n",
    "del df_std['SP.DYN.AMRT.MA']\n",
    "del df_std['SP.DYN.LE00.IN']\n",
    "\n",
    "#we deleted them because of collinearity.\n"
   ]
  },
  {
   "cell_type": "code",
   "execution_count": 17,
   "metadata": {},
   "outputs": [],
   "source": [
    "del df_std['MilitaryExp']\n",
    "del df_std['MS.MIL.MPRT.KD']"
   ]
  },
  {
   "cell_type": "code",
   "execution_count": 18,
   "metadata": {},
   "outputs": [],
   "source": [
    "#We do the same on Spark df\n",
    "\n",
    "sdf = sdf.drop('SP.URB.TOTL')\n",
    "sdf = sdf.drop('SP.RUR.TOTL')\n",
    "sdf = sdf.drop('SP.DYN.AMRT.FE')\n",
    "sdf = sdf.drop('SP.DYN.AMRT.MA')\n",
    "sdf = sdf.drop('SP.DYN.LE00.IN')\n",
    "sdf = sdf.drop('MilitaryExp')\n",
    "sdf = sdf.drop('MS.MIL.MPRT.KD')"
   ]
  },
  {
   "cell_type": "code",
   "execution_count": 19,
   "metadata": {},
   "outputs": [
    {
     "data": {
      "text/plain": [
       "<matplotlib.axes._subplots.AxesSubplot at 0x7fb9c403f910>"
      ]
     },
     "execution_count": 19,
     "metadata": {},
     "output_type": "execute_result"
    },
    {
     "data": {
      "image/png": "[encoded data removed]",
      "text/plain": [
       "<Figure size 432x288 with 2 Axes>"
      ]
     },
     "metadata": {
      "needs_background": "light"
     },
     "output_type": "display_data"
    }
   ],
   "source": [
    "corr = df_std.corr()\n",
    "sns.heatmap(corr, mask=np.zeros_like(corr, dtype=np.bool), cmap=sns.diverging_palette(220,10, as_cmap=True), square=True)"
   ]
  },
  {
   "cell_type": "code",
   "execution_count": 20,
   "metadata": {},
   "outputs": [
    {
     "data": {
      "text/plain": [
       "<matplotlib.axes._subplots.AxesSubplot at 0x7fb9bfdf6ad0>"
      ]
     },
     "execution_count": 20,
     "metadata": {},
     "output_type": "execute_result"
    },
    {
     "data": {
      "image/png": "[encoded data removed]",
      "text/plain": [
       "<Figure size 432x288 with 2 Axes>"
      ]
     },
     "metadata": {
      "needs_background": "light"
     },
     "output_type": "display_data"
    }
   ],
   "source": [
    "from scipy import stats, linalg\n",
    "\n",
    "def partial_corr(C):\n",
    "    \"\"\"\n",
    "    Returns the sample linear partial correlation coefficients between pairs of variables in C, controlling \n",
    "    for the remaining variables in C.\n",
    "    Parameters\n",
    "    ----------\n",
    "    C : array-like, shape (n, p)\n",
    "        Array with the different variables. Each column of C is taken as a variable\n",
    "    Returns\n",
    "    -------\n",
    "    P : array-like, shape (p, p)\n",
    "        P[i, j] contains the partial correlation of C[:, i] and C[:, j] controlling\n",
    "        for the remaining variables in C.\n",
    "    \"\"\"\n",
    "\n",
    "    C = np.asarray(C)\n",
    "    p = C.shape[1]\n",
    "    P_corr = np.zeros((p, p), dtype=np.float)\n",
    "    for i in range(p):\n",
    "        P_corr[i, i] = 1\n",
    "        for j in range(i+1, p):\n",
    "            idx = np.ones(p, dtype=np.bool)\n",
    "            idx[i] = False\n",
    "            idx[j] = False\n",
    "            beta_i = linalg.lstsq(C[:, idx], C[:, j])[0]\n",
    "            beta_j = linalg.lstsq(C[:, idx], C[:, i])[0]\n",
    "\n",
    "            res_j = C[:, j] - C[:, idx].dot( beta_i)\n",
    "            res_i = C[:, i] - C[:, idx].dot(beta_j)\n",
    "\n",
    "            corr = stats.pearsonr(res_i, res_j)[0]\n",
    "            P_corr[i, j] = corr\n",
    "            P_corr[j, i] = corr\n",
    "\n",
    "    return P_corr\n",
    "\n",
    "\n",
    "# Calculate the partial correlation coefficients\n",
    "par_corr = partial_corr(df_std)\n",
    "sns.heatmap(par_corr, mask=np.zeros_like(par_corr, dtype=np.bool), cmap=sns.diverging_palette(220,10, as_cmap=True), square=True)\n"
   ]
  },
  {
   "cell_type": "code",
   "execution_count": 21,
   "metadata": {},
   "outputs": [],
   "source": [
    "from sklearn.model_selection import train_test_split\n",
    "\n",
    "feature_matrix = df_std.loc[:, df_std.columns != 'cnt']\n",
    "target_vector = df_std.cnt\n",
    "\n",
    "x_train, x_test, y_train, y_test = train_test_split(feature_matrix, target_vector, test_size=0.2, random_state=1)"
   ]
  },
  {
   "cell_type": "code",
   "execution_count": 22,
   "metadata": {},
   "outputs": [
    {
     "data": {
      "text/plain": [
       "(2244, 6)"
      ]
     },
     "execution_count": 22,
     "metadata": {},
     "output_type": "execute_result"
    }
   ],
   "source": [
    "x_train.shape"
   ]
  },
  {
   "cell_type": "code",
   "execution_count": 23,
   "metadata": {},
   "outputs": [
    {
     "data": {
      "text/plain": [
       "(562, 6)"
      ]
     },
     "execution_count": 23,
     "metadata": {},
     "output_type": "execute_result"
    }
   ],
   "source": [
    "x_test.shape"
   ]
  },
  {
   "cell_type": "markdown",
   "metadata": {},
   "source": [
    "Let's prepare also the Spark dataset:"
   ]
  },
  {
   "cell_type": "code",
   "execution_count": 24,
   "metadata": {},
   "outputs": [
    {
     "data": {
      "text/plain": [
       "['SP.DYN.CBRT.IN',\n",
       " 'Year',\n",
       " 'Population',\n",
       " 'Density',\n",
       " 'cnt',\n",
       " 'TerritoryDefense',\n",
       " 'PopulationDefense']"
      ]
     },
     "execution_count": 24,
     "metadata": {},
     "output_type": "execute_result"
    }
   ],
   "source": [
    "feature_columns = sdf.columns[0:10] + sdf.columns[11:-1]\n",
    "feature_columns"
   ]
  },
  {
   "cell_type": "code",
   "execution_count": 25,
   "metadata": {},
   "outputs": [
    {
     "data": {
      "text/plain": [
       "['BirthRate', 'Year', 'Population', 'Density', 'TerritoryDefense']"
      ]
     },
     "execution_count": 25,
     "metadata": {},
     "output_type": "execute_result"
    }
   ],
   "source": [
    "sdf = sdf.withColumnRenamed(\"SP.DYN.CBRT.IN\", \"BirthRate\")\n",
    "\n",
    "feature_columns = sdf.columns[0:4] + sdf.columns[5:-1]\n",
    "feature_columns"
   ]
  },
  {
   "cell_type": "code",
   "execution_count": 26,
   "metadata": {},
   "outputs": [],
   "source": [
    "from pyspark.ml.feature import VectorAssembler\n",
    "assembler = VectorAssembler(inputCols=feature_columns, outputCol=\"features\")"
   ]
  },
  {
   "cell_type": "code",
   "execution_count": 27,
   "metadata": {},
   "outputs": [
    {
     "name": "stdout",
     "output_type": "stream",
     "text": [
      "+---------+----+------------+------------------+----+------------------+-------------------+--------------------+\n",
      "|BirthRate|Year|  Population|           Density| cnt|  TerritoryDefense|  PopulationDefense|            features|\n",
      "+---------+----+------------+------------------+----+------------------+-------------------+--------------------+\n",
      "|   22.759|1970| 3.9921833E7| 8.664262764331072|21.0|161.08840391197336|  6.337384358077947|[22.759,1970.0,3....|\n",
      "|     20.6|1970| 2.0264082E7|1.6270644021933562| 1.0|166.17472748915355| 11.843615713754021|[20.6,1970.0,2.02...|\n",
      "|     14.7|1970| 1.0379067E7|  316.285017033543| 1.0|  24494.0739288522|  50.87162458822166|[14.7,1970.0,1.03...|\n",
      "|   42.261|1970|   8989046.0| 4.101452784503632| 1.0|15.280758734002076|0.22249302095016535|[42.261,1970.0,89...|\n",
      "|   35.214|1970|1.88078227E8|11.276180411926036| 6.0|120.56374456426924|  1.164409105153889|[35.214,1970.0,1....|\n",
      "+---------+----+------------+------------------+----+------------------+-------------------+--------------------+\n",
      "only showing top 5 rows\n",
      "\n"
     ]
    }
   ],
   "source": [
    "sdf_features = assembler.transform(sdf)\n",
    "sdf_features.show(5)"
   ]
  },
  {
   "cell_type": "code",
   "execution_count": 28,
   "metadata": {},
   "outputs": [],
   "source": [
    "from pyspark.ml.regression import LinearRegression\n",
    "\n",
    "train, test = sdf_features.randomSplit([0.8, 0.2])"
   ]
  },
  {
   "cell_type": "code",
   "execution_count": 29,
   "metadata": {},
   "outputs": [],
   "source": [
    "algorithm = LinearRegression(featuresCol=\"features\", labelCol=\"cnt\")\n",
    "sdf_model = algorithm.fit(train)"
   ]
  },
  {
   "cell_type": "markdown",
   "metadata": {},
   "source": [
    "Let's proceed to see how the model works on the training set"
   ]
  },
  {
   "cell_type": "code",
   "execution_count": 30,
   "metadata": {},
   "outputs": [
    {
     "name": "stdout",
     "output_type": "stream",
     "text": [
      "numIterations: 1\n",
      "objectiveHistory: [0.0]\n",
      "+-------------------+\n",
      "|          residuals|\n",
      "+-------------------+\n",
      "| -29.60673067080279|\n",
      "|-30.654879638376315|\n",
      "|-30.484245728812766|\n",
      "| -33.46185685618343|\n",
      "|  -39.4437814152825|\n",
      "| -32.53741847054084|\n",
      "| -33.76492616075211|\n",
      "|  -48.1617134148039|\n",
      "|-47.282906060667074|\n",
      "| -47.33027616836421|\n",
      "+-------------------+\n",
      "only showing top 10 rows\n",
      "\n",
      "R2: 0.028502\n"
     ]
    }
   ],
   "source": [
    "trainingSummary = sdf_model.summary\n",
    "print(\"numIterations: %d\" % trainingSummary.totalIterations)\n",
    "print(\"objectiveHistory: %s\" % str(trainingSummary.objectiveHistory))\n",
    "trainingSummary.residuals.show(10)\n",
    "print(\"R2: %f\" % trainingSummary.r2)"
   ]
  },
  {
   "cell_type": "markdown",
   "metadata": {},
   "source": [
    "Now let's check the test set:"
   ]
  },
  {
   "cell_type": "code",
   "execution_count": 31,
   "metadata": {},
   "outputs": [
    {
     "name": "stdout",
     "output_type": "stream",
     "text": [
      "MAE 53.38380982853561\n",
      "RMSE 152.05121545852666\n",
      "R2 0.015589291334439426\n"
     ]
    }
   ],
   "source": [
    "evaluation_summary = sdf_model.evaluate(test)\n",
    "print(\"MAE\",evaluation_summary.meanAbsoluteError)\n",
    "print(\"RMSE\",evaluation_summary.rootMeanSquaredError)\n",
    "print(\"R2\",evaluation_summary.r2)"
   ]
  },
  {
   "cell_type": "markdown",
   "metadata": {},
   "source": [
    "We performed the scaling, using the mean-variance scaling."
   ]
  },
  {
   "cell_type": "code",
   "execution_count": 32,
   "metadata": {},
   "outputs": [
    {
     "data": {
      "text/plain": [
       "LinearRegression(copy_X=True, fit_intercept=True, n_jobs=None, normalize=False)"
      ]
     },
     "execution_count": 32,
     "metadata": {},
     "output_type": "execute_result"
    }
   ],
   "source": [
    "from sklearn.linear_model import LinearRegression\n",
    "from sklearn.preprocessing import scale\n",
    "\n",
    "x_train = pd.DataFrame(scale(x_train), index=x_train.index, columns=x_train.columns)\n",
    "x_test = pd.DataFrame(scale(x_test), index=x_test.index, columns=x_test.columns)\n",
    "model=LinearRegression(fit_intercept=True)\n",
    "model.fit(x_train,y_train)"
   ]
  },
  {
   "cell_type": "code",
   "execution_count": 33,
   "metadata": {},
   "outputs": [],
   "source": [
    "y_pred_train = model.predict(x_train)"
   ]
  },
  {
   "cell_type": "code",
   "execution_count": 34,
   "metadata": {},
   "outputs": [],
   "source": [
    "y_pred_test = model.predict(x_test)"
   ]
  },
  {
   "cell_type": "code",
   "execution_count": 35,
   "metadata": {},
   "outputs": [
    {
     "name": "stdout",
     "output_type": "stream",
     "text": [
      "R2 on train:  0.030156339090707585\n",
      "R2 on test:  0.016498192808601986\n"
     ]
    }
   ],
   "source": [
    "from sklearn import metrics\n",
    "\n",
    "R2_base = metrics.r2_score(y_train, y_pred_train, sample_weight=None, multioutput='uniform_average')\n",
    "R2 = metrics.r2_score(y_test, y_pred_test, sample_weight=None, multioutput='uniform_average')\n",
    "\n",
    "print(\"R2 on train: \", R2_base)\n",
    "print(\"R2 on test: \", R2)"
   ]
  },
  {
   "cell_type": "code",
   "execution_count": 38,
   "metadata": {},
   "outputs": [
    {
     "name": "stdout",
     "output_type": "stream",
     "text": [
      "                            OLS Regression Results                            \n",
      "==============================================================================\n",
      "Dep. Variable:                    cnt   R-squared:                       0.030\n",
      "Model:                            OLS   Adj. R-squared:                  0.028\n",
      "Method:                 Least Squares   F-statistic:                     11.59\n",
      "Date:                Mon, 23 Nov 2020   Prob (F-statistic):           8.07e-13\n",
      "Time:                        15:43:58   Log-Likelihood:                -14056.\n",
      "No. Observations:                2244   AIC:                         2.813e+04\n",
      "Df Residuals:                    2237   BIC:                         2.817e+04\n",
      "Df Model:                           6                                         \n",
      "Covariance Type:            nonrobust                                         \n",
      "=====================================================================================\n",
      "                        coef    std err          t      P>|t|      [0.025      0.975]\n",
      "-------------------------------------------------------------------------------------\n",
      "const                41.2923      2.686     15.371      0.000      36.024      46.560\n",
      "SP.DYN.CBRT.IN        4.9329      2.777      1.776      0.076      -0.513      10.379\n",
      "Year                 12.9402      2.745      4.714      0.000       7.557      18.323\n",
      "Population           16.3883      2.705      6.059      0.000      11.084      21.693\n",
      "Density               2.1392      2.819      0.759      0.448      -3.388       7.667\n",
      "TerritoryDefense     -0.6963      3.108     -0.224      0.823      -6.792       5.399\n",
      "PopulationDefense    -5.5550      3.024     -1.837      0.066     -11.486       0.376\n",
      "==============================================================================\n",
      "Omnibus:                     3021.402   Durbin-Watson:                   2.047\n",
      "Prob(Omnibus):                  0.000   Jarque-Bera (JB):           640947.692\n",
      "Skew:                           7.561   Prob(JB):                         0.00\n",
      "Kurtosis:                      84.403   Cond. No.                         1.76\n",
      "==============================================================================\n",
      "\n",
      "Warnings:\n",
      "[1] Standard Errors assume that the covariance matrix of the errors is correctly specified.\n"
     ]
    }
   ],
   "source": [
    "#statistical testings of LinearRegression  \n",
    "import statsmodels.api as sm \n",
    "from scipy import stats \n",
    "import statsmodels\n",
    "\n",
    "x_train = statsmodels.tools.tools.add_constant(x_train, prepend=True)\n",
    "est = sm.OLS(y_train, x_train) \n",
    "est2 = est.fit() \n",
    "print(est2.summary())"
   ]
  },
  {
   "cell_type": "code",
   "execution_count": 40,
   "metadata": {},
   "outputs": [
    {
     "ename": "ValueError",
     "evalue": "Length of passed values is 6, index implies 7.",
     "output_type": "error",
     "traceback": [
      "\u001b[0;31m---------------------------------------------------------------------------\u001b[0m",
      "\u001b[0;31mValueError\u001b[0m                                Traceback (most recent call last)",
      "\u001b[0;32m<ipython-input-40-238c97cd2924>\u001b[0m in \u001b[0;36m<module>\u001b[0;34m\u001b[0m\n\u001b[0;32m----> 1\u001b[0;31m \u001b[0mcoefficients\u001b[0m \u001b[0;34m=\u001b[0m \u001b[0mpd\u001b[0m\u001b[0;34m.\u001b[0m\u001b[0mSeries\u001b[0m\u001b[0;34m(\u001b[0m\u001b[0mmodel\u001b[0m\u001b[0;34m.\u001b[0m\u001b[0mcoef_\u001b[0m\u001b[0;34m,\u001b[0m \u001b[0mindex\u001b[0m\u001b[0;34m=\u001b[0m\u001b[0mx_train\u001b[0m\u001b[0;34m.\u001b[0m\u001b[0mcolumns\u001b[0m\u001b[0;34m)\u001b[0m\u001b[0;34m\u001b[0m\u001b[0;34m\u001b[0m\u001b[0m\n\u001b[0m\u001b[1;32m      2\u001b[0m \u001b[0mprint\u001b[0m\u001b[0;34m(\u001b[0m\u001b[0;34m'Coefficients: '\u001b[0m\u001b[0;34m)\u001b[0m\u001b[0;34m\u001b[0m\u001b[0;34m\u001b[0m\u001b[0m\n\u001b[1;32m      3\u001b[0m \u001b[0mprint\u001b[0m\u001b[0;34m(\u001b[0m\u001b[0mcoefficients\u001b[0m\u001b[0;34m)\u001b[0m\u001b[0;34m\u001b[0m\u001b[0;34m\u001b[0m\u001b[0m\n",
      "\u001b[0;32m~/anaconda3/lib/python3.7/site-packages/pandas/core/series.py\u001b[0m in \u001b[0;36m__init__\u001b[0;34m(self, data, index, dtype, name, copy, fastpath)\u001b[0m\n\u001b[1;32m    290\u001b[0m                     \u001b[0;32mif\u001b[0m \u001b[0mlen\u001b[0m\u001b[0;34m(\u001b[0m\u001b[0mindex\u001b[0m\u001b[0;34m)\u001b[0m \u001b[0;34m!=\u001b[0m \u001b[0mlen\u001b[0m\u001b[0;34m(\u001b[0m\u001b[0mdata\u001b[0m\u001b[0;34m)\u001b[0m\u001b[0;34m:\u001b[0m\u001b[0;34m\u001b[0m\u001b[0;34m\u001b[0m\u001b[0m\n\u001b[1;32m    291\u001b[0m                         raise ValueError(\n\u001b[0;32m--> 292\u001b[0;31m                             \u001b[0;34mf\"Length of passed values is {len(data)}, \"\u001b[0m\u001b[0;34m\u001b[0m\u001b[0;34m\u001b[0m\u001b[0m\n\u001b[0m\u001b[1;32m    293\u001b[0m                             \u001b[0;34mf\"index implies {len(index)}.\"\u001b[0m\u001b[0;34m\u001b[0m\u001b[0;34m\u001b[0m\u001b[0m\n\u001b[1;32m    294\u001b[0m                         )\n",
      "\u001b[0;31mValueError\u001b[0m: Length of passed values is 6, index implies 7."
     ]
    }
   ],
   "source": [
    "coefficients = pd.Series(model.coef_, index=x_train.columns)\n",
    "print('Coefficients: ')\n",
    "print(coefficients)"
   ]
  },
  {
   "cell_type": "markdown",
   "metadata": {},
   "source": [
    "The results using the regression are so bad, so we tried with a polynomial model."
   ]
  },
  {
   "cell_type": "markdown",
   "metadata": {},
   "source": [
    "## Polynomial models applying k-Fold CV and Ridge regularization"
   ]
  },
  {
   "cell_type": "code",
   "execution_count": 109,
   "metadata": {},
   "outputs": [
    {
     "name": "stdout",
     "output_type": "stream",
     "text": [
      "kMSE on training, from degree 1 to 4:\n",
      " [17295.653619016928, 16185.198412152542, 14962.502659294267, 14176.11493600778]\n",
      "\n",
      "kMSE on testing, from degree 1 to 4:\n",
      " [17335.938788519867, 16560.433956456618, 17920.686172708793, 402792.1693500129]\n",
      "\n",
      "kR2 on training, from degree 1 to 4:\n",
      " [0.02679371574902769, 0.08931894133410243, 0.15817841169699648, 0.20270822750190057]\n",
      "\n",
      "kR2 on testing, from degree 1 to 4:\n",
      " [0.022081747604760872, 0.0604609907918916, -0.03633485252653719, -30.91360314793772]\n"
     ]
    }
   ],
   "source": [
    "import numpy as np\n",
    "from sklearn.preprocessing import scale\n",
    "from sklearn.model_selection import KFold\n",
    "from sklearn.linear_model import LinearRegression, RidgeCV, LassoCV\n",
    "from sklearn.preprocessing import PolynomialFeatures as pol\n",
    "from sklearn.pipeline import make_pipeline\n",
    "from sklearn import metrics\n",
    "from statistics import mean \n",
    "import warnings\n",
    "warnings.filterwarnings('ignore')\n",
    "\n",
    "kf = KFold(n_splits=5, shuffle=True, random_state=2) # we are setting 7 folds\n",
    "feature_matrix=df_std.loc[:, df_std.columns != 'cnt']\n",
    "target_vector=df_std['cnt']\n",
    "MSE_tr, MSE_te = [], []\n",
    "R2_tr, R2_te = [], []\n",
    "kMSE_tr, kMSE_te = [],  []\n",
    "kR2_tr, kR2_te = [], []\n",
    "degrees = [1,2,3,4] # list of different degrees of freedom\n",
    "for degree in degrees: # cycle which applies the different degrees of freedom\n",
    "    for train_index, test_index in kf.split(feature_matrix): # cycle that performs KCV on a certain polynomial model\n",
    "        x_train, x_test = feature_matrix.iloc[train_index], feature_matrix.iloc[test_index]\n",
    "        y_train, y_test = target_vector.iloc[train_index], target_vector.iloc[test_index]\n",
    "\n",
    "        x_train = pd.DataFrame(scale(x_train), index=x_train.index, columns=x_train.columns) # standardization\n",
    "        #y_train = pd.DataFrame(scale(y_train), index=y_train.index).to_numpy() # standardization\n",
    "        x_test = pd.DataFrame(scale(x_test), index=x_test.index, columns=x_test.columns) # standardization\n",
    "        #y_test = pd.DataFrame(scale(y_test), index=y_test.index).to_numpy() # standardization\n",
    "\n",
    "        model = make_pipeline(pol(degree), RidgeCV(alphas=(0.01,1.0,100), cv=4))\n",
    "        x = model.fit(x_train, y_train.ravel())\n",
    "        y_pred_on_training=model.predict(x_train)\n",
    "        y_pred=model.predict(x_test)\n",
    "        MSE_tr.append(metrics.mean_squared_error(y_train, y_pred_on_training, sample_weight=None, multioutput='uniform_average'))\n",
    "        MSE_te.append(metrics.mean_squared_error(y_test, y_pred, sample_weight=None, multioutput='uniform_average'))\n",
    "        R2_tr.append(metrics.r2_score(y_train, y_pred_on_training, sample_weight=None, multioutput='uniform_average'))\n",
    "        R2_te.append(metrics.r2_score(y_test, y_pred, sample_weight=None, multioutput='uniform_average'))\n",
    "    kMSE_tr.append(mean(MSE_tr))\n",
    "    kMSE_te.append(mean(MSE_te))\n",
    "    kR2_tr.append(mean(R2_tr))\n",
    "    kR2_te.append(mean(R2_te))\n",
    "    MSE_tr = []\n",
    "    MSE_te = []\n",
    "    R2_tr = []\n",
    "    R2_te = []\n",
    "print('kMSE on training, from degree 1 to 4:\\n', kMSE_tr)\n",
    "print('\\nkMSE on testing, from degree 1 to 4:\\n', kMSE_te)\n",
    "print('\\nkR2 on training, from degree 1 to 4:\\n', kR2_tr)\n",
    "print('\\nkR2 on testing, from degree 1 to 4:\\n', kR2_te)"
   ]
  },
  {
   "cell_type": "code",
   "execution_count": 110,
   "metadata": {},
   "outputs": [
    {
     "data": {
      "image/png": "[encoded data removed]",
      "text/plain": [
       "<Figure size 432x288 with 1 Axes>"
      ]
     },
     "metadata": {
      "needs_background": "light"
     },
     "output_type": "display_data"
    }
   ],
   "source": [
    "plt.plot(degrees, kMSE_tr, label='Training kMSE')\n",
    "plt.plot(degrees, kMSE_te, label='Testing kMSE')\n",
    "plt.xlabel('Degree of the polynomial regression')\n",
    "plt.ylabel('kMSE')\n",
    "plt.legend()\n",
    "plt.grid()\n",
    "\n",
    "plt.show()"
   ]
  },
  {
   "cell_type": "code",
   "execution_count": null,
   "metadata": {},
   "outputs": [],
   "source": [
    "#from sklearn.model_selection import train_test_split\n",
    "#from sklearn.linear_model import Ridge\n",
    "#import yellowbrick\n",
    "#from yellowbrick.regressor import ResidualsPlot\n",
    "\n",
    "#model = make_pipeline(pol(2), RidgeCV(alphas=(0.01,1.0,100), cv=4))\n",
    "\n",
    "# Instantiate the linear model and visualizer\n",
    "\n",
    "#visualizer = ResidualsPlot(model)\n",
    "\n",
    "#visualizer.fit(x_train, y_train)  # Fit the training data to the visualizer\n",
    "#visualizer.score(x_test, y_test)  # Evaluate the model on the test data\n",
    "#visualizer.show()                 # Finalize and render the figure"
   ]
  },
  {
   "cell_type": "markdown",
   "metadata": {},
   "source": [
    "The best model was the polynomial with grade 3, resulting in a R2train = 0,30 and a R2test = 0,25. The results are still bad, so we decided to re-formulate the problem, passing to a classification problem."
   ]
  },
  {
   "cell_type": "code",
   "execution_count": 41,
   "metadata": {},
   "outputs": [],
   "source": [
    "df_class = df_std.rename(columns={'cnt':'conto'})"
   ]
  },
  {
   "cell_type": "markdown",
   "metadata": {},
   "source": [
    "#### We are going to divide the data in 3 groups. \n",
    "\n",
    "Low number of attacks: 0 < cnt < 3\n",
    "\n",
    "Medium number of attacks: 3 <= cnt < 15\n",
    "\n",
    "High number of attacks: cnt >= 15\n",
    "\n",
    "The splitting was made considering the fact that each cathegory had to be a good amount of sample."
   ]
  },
  {
   "cell_type": "code",
   "execution_count": 42,
   "metadata": {},
   "outputs": [
    {
     "data": {
      "text/html": [
       "<div>\n",
       "<style scoped>\n",
       "    .dataframe tbody tr th:only-of-type {\n",
       "        vertical-align: middle;\n",
       "    }\n",
       "\n",
       "    .dataframe tbody tr th {\n",
       "        vertical-align: top;\n",
       "    }\n",
       "\n",
       "    .dataframe thead th {\n",
       "        text-align: right;\n",
       "    }\n",
       "</style>\n",
       "<table border=\"1\" class=\"dataframe\">\n",
       "  <thead>\n",
       "    <tr style=\"text-align: right;\">\n",
       "      <th></th>\n",
       "      <th>SP.DYN.CBRT.IN</th>\n",
       "      <th>Year</th>\n",
       "      <th>Population</th>\n",
       "      <th>Density</th>\n",
       "      <th>cnt</th>\n",
       "      <th>TerritoryDefense</th>\n",
       "      <th>PopulationDefense</th>\n",
       "    </tr>\n",
       "  </thead>\n",
       "  <tbody>\n",
       "    <tr>\n",
       "      <th>1544</th>\n",
       "      <td>22.759</td>\n",
       "      <td>1970</td>\n",
       "      <td>39921833.0</td>\n",
       "      <td>8.664263</td>\n",
       "      <td>2.0</td>\n",
       "      <td>161.088404</td>\n",
       "      <td>6.337384</td>\n",
       "    </tr>\n",
       "    <tr>\n",
       "      <th>1547</th>\n",
       "      <td>20.600</td>\n",
       "      <td>1970</td>\n",
       "      <td>20264082.0</td>\n",
       "      <td>1.627064</td>\n",
       "      <td>0.0</td>\n",
       "      <td>166.174727</td>\n",
       "      <td>11.843616</td>\n",
       "    </tr>\n",
       "    <tr>\n",
       "      <th>1554</th>\n",
       "      <td>14.700</td>\n",
       "      <td>1970</td>\n",
       "      <td>10379067.0</td>\n",
       "      <td>316.285017</td>\n",
       "      <td>0.0</td>\n",
       "      <td>24494.073929</td>\n",
       "      <td>50.871625</td>\n",
       "    </tr>\n",
       "    <tr>\n",
       "      <th>1558</th>\n",
       "      <td>42.261</td>\n",
       "      <td>1970</td>\n",
       "      <td>8989046.0</td>\n",
       "      <td>4.101453</td>\n",
       "      <td>0.0</td>\n",
       "      <td>15.280759</td>\n",
       "      <td>0.222493</td>\n",
       "    </tr>\n",
       "    <tr>\n",
       "      <th>1560</th>\n",
       "      <td>35.214</td>\n",
       "      <td>1970</td>\n",
       "      <td>188078227.0</td>\n",
       "      <td>11.276180</td>\n",
       "      <td>1.0</td>\n",
       "      <td>120.563745</td>\n",
       "      <td>1.164409</td>\n",
       "    </tr>\n",
       "    <tr>\n",
       "      <th>1566</th>\n",
       "      <td>17.400</td>\n",
       "      <td>1970</td>\n",
       "      <td>33098932.0</td>\n",
       "      <td>2.135674</td>\n",
       "      <td>0.0</td>\n",
       "      <td>189.205844</td>\n",
       "      <td>18.459810</td>\n",
       "    </tr>\n",
       "    <tr>\n",
       "      <th>1570</th>\n",
       "      <td>37.506</td>\n",
       "      <td>1970</td>\n",
       "      <td>43593035.0</td>\n",
       "      <td>19.370463</td>\n",
       "      <td>0.0</td>\n",
       "      <td>142.822926</td>\n",
       "      <td>0.091758</td>\n",
       "    </tr>\n",
       "    <tr>\n",
       "      <th>1580</th>\n",
       "      <td>41.750</td>\n",
       "      <td>1970</td>\n",
       "      <td>9183984.0</td>\n",
       "      <td>92.409481</td>\n",
       "      <td>0.0</td>\n",
       "      <td>736.712497</td>\n",
       "      <td>0.108885</td>\n",
       "    </tr>\n",
       "    <tr>\n",
       "      <th>1582</th>\n",
       "      <td>40.130</td>\n",
       "      <td>1970</td>\n",
       "      <td>78887007.0</td>\n",
       "      <td>34.758200</td>\n",
       "      <td>0.0</td>\n",
       "      <td>1090.917187</td>\n",
       "      <td>22.906180</td>\n",
       "    </tr>\n",
       "    <tr>\n",
       "      <th>1587</th>\n",
       "      <td>48.075</td>\n",
       "      <td>1970</td>\n",
       "      <td>74777981.0</td>\n",
       "      <td>25.210113</td>\n",
       "      <td>1.0</td>\n",
       "      <td>30.644284</td>\n",
       "      <td>1.190190</td>\n",
       "    </tr>\n",
       "  </tbody>\n",
       "</table>\n",
       "</div>"
      ],
      "text/plain": [
       "      SP.DYN.CBRT.IN  Year   Population     Density  cnt  TerritoryDefense  \\\n",
       "1544          22.759  1970   39921833.0    8.664263  2.0        161.088404   \n",
       "1547          20.600  1970   20264082.0    1.627064  0.0        166.174727   \n",
       "1554          14.700  1970   10379067.0  316.285017  0.0      24494.073929   \n",
       "1558          42.261  1970    8989046.0    4.101453  0.0         15.280759   \n",
       "1560          35.214  1970  188078227.0   11.276180  1.0        120.563745   \n",
       "1566          17.400  1970   33098932.0    2.135674  0.0        189.205844   \n",
       "1570          37.506  1970   43593035.0   19.370463  0.0        142.822926   \n",
       "1580          41.750  1970    9183984.0   92.409481  0.0        736.712497   \n",
       "1582          40.130  1970   78887007.0   34.758200  0.0       1090.917187   \n",
       "1587          48.075  1970   74777981.0   25.210113  1.0         30.644284   \n",
       "\n",
       "      PopulationDefense  \n",
       "1544           6.337384  \n",
       "1547          11.843616  \n",
       "1554          50.871625  \n",
       "1558           0.222493  \n",
       "1560           1.164409  \n",
       "1566          18.459810  \n",
       "1570           0.091758  \n",
       "1580           0.108885  \n",
       "1582          22.906180  \n",
       "1587           1.190190  "
      ]
     },
     "execution_count": 42,
     "metadata": {},
     "output_type": "execute_result"
    }
   ],
   "source": [
    "df_class.groupby(by='conto').aggregate({'conto':'count'})\n",
    "\n",
    "df_class['conto'] = df_class['conto'].apply(lambda x: 0 if (x > 0 and x < 3) else x)\n",
    "df_class['conto'] = df_class['conto'].apply(lambda x: -1 if (x >= 3 and x < 15) else x)\n",
    "df_class['conto'] = df_class['conto'].apply(lambda x: -2 if (x >= 15) else x)\n",
    "\n",
    "df_class['conto'] = df_class['conto'].apply(lambda x: 1 if (x == -1) else x)\n",
    "df_class['conto'] = df_class['conto'].apply(lambda x: 2 if (x == -2) else x)\n",
    "\n",
    "df_class = df_class.rename(columns={'conto':'cnt'})\n",
    "\n",
    "df_class.head(10)"
   ]
  },
  {
   "cell_type": "markdown",
   "metadata": {},
   "source": [
    "Here we can see that each class has a good amount of samples."
   ]
  },
  {
   "cell_type": "code",
   "execution_count": 43,
   "metadata": {},
   "outputs": [
    {
     "data": {
      "text/plain": [
       "<matplotlib.axes._subplots.AxesSubplot at 0x7fb9af9e2410>"
      ]
     },
     "execution_count": 43,
     "metadata": {},
     "output_type": "execute_result"
    },
    {
     "data": {
      "image/png": "[encoded data removed]",
      "text/plain": [
       "<Figure size 432x288 with 1 Axes>"
      ]
     },
     "metadata": {
      "needs_background": "light"
     },
     "output_type": "display_data"
    }
   ],
   "source": [
    "df_class.cnt.hist()"
   ]
  },
  {
   "cell_type": "markdown",
   "metadata": {},
   "source": [
    "We can convert this pandas dataframe into a <strong>spark dataframe</strong>:"
   ]
  },
  {
   "cell_type": "code",
   "execution_count": 44,
   "metadata": {},
   "outputs": [
    {
     "data": {
      "text/plain": [
       "pyspark.sql.dataframe.DataFrame"
      ]
     },
     "execution_count": 44,
     "metadata": {},
     "output_type": "execute_result"
    }
   ],
   "source": [
    "from pyspark.sql.types import *\n",
    "\n",
    "mySchema = StructType([\n",
    "  StructField(\"BirthRate\", DoubleType(), True)\n",
    " ,StructField(\"Year\", IntegerType(), True)\n",
    " ,StructField(\"UrbanPop\", DoubleType(), True)\n",
    " ,StructField(\"Density\", DoubleType(), True)\n",
    " ,StructField(\"cnt\", DoubleType(), True)\n",
    " ,StructField(\"TerritoryDefense\", DoubleType(), True)\n",
    " ,StructField(\"PopulationDefense\", DoubleType(), True)])\n",
    "\n",
    "sdf_class = spark.createDataFrame(df_class, schema=mySchema)\n",
    "type(sdf_class)"
   ]
  },
  {
   "cell_type": "code",
   "execution_count": 45,
   "metadata": {},
   "outputs": [
    {
     "name": "stdout",
     "output_type": "stream",
     "text": [
      "+---------+----+------------+------------------+---+------------------+-------------------+\n",
      "|BirthRate|Year|    UrbanPop|           Density|cnt|  TerritoryDefense|  PopulationDefense|\n",
      "+---------+----+------------+------------------+---+------------------+-------------------+\n",
      "|   22.759|1970| 3.9921833E7| 8.664262764331072|2.0|161.08840391197336|  6.337384358077947|\n",
      "|     20.6|1970| 2.0264082E7|1.6270644021933562|0.0|166.17472748915355| 11.843615713754021|\n",
      "|     14.7|1970| 1.0379067E7|  316.285017033543|0.0|  24494.0739288522|  50.87162458822166|\n",
      "|   42.261|1970|   8989046.0| 4.101452784503632|0.0|15.280758734002076|0.22249302095016535|\n",
      "|   35.214|1970|1.88078227E8|11.276180411926036|1.0|120.56374456426924|  1.164409105153889|\n",
      "+---------+----+------------+------------------+---+------------------+-------------------+\n",
      "only showing top 5 rows\n",
      "\n"
     ]
    }
   ],
   "source": [
    "sdf_class.show(5)"
   ]
  },
  {
   "cell_type": "code",
   "execution_count": 46,
   "metadata": {},
   "outputs": [
    {
     "data": {
      "text/plain": [
       "array([[<matplotlib.axes._subplots.AxesSubplot object at 0x7fb9ac445a10>,\n",
       "        <matplotlib.axes._subplots.AxesSubplot object at 0x7fb9ac393b90>],\n",
       "       [<matplotlib.axes._subplots.AxesSubplot object at 0x7fb9ac3b4f10>,\n",
       "        <matplotlib.axes._subplots.AxesSubplot object at 0x7fb9ac3dabd0>],\n",
       "       [<matplotlib.axes._subplots.AxesSubplot object at 0x7fb9ac3fbf10>,\n",
       "        <matplotlib.axes._subplots.AxesSubplot object at 0x7fb9ac463bd0>]],\n",
       "      dtype=object)"
      ]
     },
     "execution_count": 46,
     "metadata": {},
     "output_type": "execute_result"
    },
    {
     "data": {
      "image/png": "[encoded data removed]",
      "text/plain": [
       "<Figure size 1080x1080 with 6 Axes>"
      ]
     },
     "metadata": {
      "needs_background": "light"
     },
     "output_type": "display_data"
    }
   ],
   "source": [
    "from sklearn.preprocessing import scale\n",
    "\n",
    "feature_matrix=df_class.loc[:, df_std.columns != 'cnt']\n",
    "target_vector=df_class['cnt']\n",
    "feature_matrix = pd.DataFrame(scale(feature_matrix), index=feature_matrix.index, columns=feature_matrix.columns) # standardization\n",
    "feature_matrix.hist(figsize=(15,15), bins = 100)"
   ]
  },
  {
   "cell_type": "code",
   "execution_count": 47,
   "metadata": {},
   "outputs": [],
   "source": [
    "from sklearn.model_selection import train_test_split\n",
    "\n",
    "x_train, x_test, y_train, y_test = train_test_split(feature_matrix, target_vector, test_size=0.2, random_state=1)"
   ]
  },
  {
   "cell_type": "markdown",
   "metadata": {},
   "source": [
    "We first try with <strong>multinomial logistic regression</strong>."
   ]
  },
  {
   "cell_type": "code",
   "execution_count": 48,
   "metadata": {},
   "outputs": [
    {
     "name": "stdout",
     "output_type": "stream",
     "text": [
      "0.4229055258467023\n",
      "0.3914590747330961\n"
     ]
    }
   ],
   "source": [
    "from sklearn.linear_model import LogisticRegression\n",
    "\n",
    "clf = LogisticRegression(fit_intercept=True,random_state=1, max_iter=10000, multi_class='multinomial',solver ='newton-cg').fit(x_train, y_train)\n",
    "clf.predict(x_train)\n",
    "print(clf.score(x_train,y_train))\n",
    "\n",
    "clf.predict(x_test)\n",
    "print(clf.score(x_test,y_test))"
   ]
  },
  {
   "cell_type": "markdown",
   "metadata": {},
   "source": [
    "After we try with <strong>multi-layer perceptron</strong>."
   ]
  },
  {
   "cell_type": "code",
   "execution_count": 119,
   "metadata": {},
   "outputs": [
    {
     "name": "stdout",
     "output_type": "stream",
     "text": [
      "train accuracy:  0.6029411764705882\n",
      "test accuracy:  0.5871886120996441\n"
     ]
    }
   ],
   "source": [
    "from sklearn.neural_network import MLPClassifier\n",
    "from sklearn.metrics import accuracy_score\n",
    "\n",
    "clf = MLPClassifier(random_state=1, max_iter=1000)\n",
    "clf.fit(x_train, y_train)\n",
    "\n",
    "y_pred_train = clf.predict(x_train)\n",
    "print('train accuracy: ', accuracy_score(y_train, y_pred_train))\n",
    "\n",
    "y_pred_test = clf.predict(x_test)\n",
    "print('test accuracy: ', accuracy_score(y_test, y_pred_test))"
   ]
  },
  {
   "cell_type": "markdown",
   "metadata": {},
   "source": [
    "Let's have a look to the <strong>confusion matrices</strong> for both training and testing set."
   ]
  },
  {
   "cell_type": "code",
   "execution_count": 120,
   "metadata": {
    "scrolled": true
   },
   "outputs": [
    {
     "data": {
      "text/plain": [
       "array([[463, 251,  55],\n",
       "       [248, 416, 125],\n",
       "       [ 56, 156, 474]])"
      ]
     },
     "execution_count": 120,
     "metadata": {},
     "output_type": "execute_result"
    }
   ],
   "source": [
    "from sklearn.metrics import confusion_matrix\n",
    "\n",
    "confusion_matrix(y_train, y_pred_train)"
   ]
  },
  {
   "cell_type": "code",
   "execution_count": 122,
   "metadata": {},
   "outputs": [
    {
     "data": {
      "text/plain": [
       "array([[117,  70,  13],\n",
       "       [ 52,  90,  38],\n",
       "       [ 10,  49, 123]])"
      ]
     },
     "execution_count": 122,
     "metadata": {},
     "output_type": "execute_result"
    }
   ],
   "source": [
    "confusion_matrix(y_test, y_pred_test)"
   ]
  },
  {
   "cell_type": "markdown",
   "metadata": {},
   "source": [
    "Finally, let's check how does it work a <strong>decision tree</strong>, to eventually have a model more easy to interpret:"
   ]
  },
  {
   "cell_type": "code",
   "execution_count": 44,
   "metadata": {},
   "outputs": [
    {
     "name": "stdout",
     "output_type": "stream",
     "text": [
      "Accuracy on train:  0.6639928698752228\n",
      "Accuracy on test:  0.5889679715302492\n"
     ]
    }
   ],
   "source": [
    "from sklearn import tree\n",
    "from sklearn.metrics import accuracy_score\n",
    "\n",
    "X = df_class.loc[:, df_std.columns != 'cnt']\n",
    "Y = df_class['cnt']\n",
    "x_train, x_test, y_train, y_test = train_test_split(X, Y, test_size=0.2, random_state=1)\n",
    "clf = tree.DecisionTreeClassifier(max_depth=7)\n",
    "clf = clf.fit(x_train, y_train)\n",
    "y_train_pred = clf.predict(x_train)\n",
    "y_pred = clf.predict(x_test)\n",
    "acc_tr = accuracy_score(y_train, y_train_pred)\n",
    "acc_te = accuracy_score(y_test, y_pred)\n",
    "print('Accuracy on train: ', acc_tr)\n",
    "print('Accuracy on test: ', acc_te)"
   ]
  },
  {
   "cell_type": "code",
   "execution_count": 45,
   "metadata": {},
   "outputs": [
    {
     "name": "stdout",
     "output_type": "stream",
     "text": [
      "+---------+----+------------+------------------+---+------------------+-------------------+--------------------+\n",
      "|BirthRate|Year|    UrbanPop|           Density|cnt|  TerritoryDefense|  PopulationDefense|            features|\n",
      "+---------+----+------------+------------------+---+------------------+-------------------+--------------------+\n",
      "|   22.759|1970| 3.9921833E7| 8.664262764331072|2.0|161.08840391197336|  6.337384358077947|[22.759,1970.0,3....|\n",
      "|     20.6|1970| 2.0264082E7|1.6270644021933562|0.0|166.17472748915355| 11.843615713754021|[20.6,1970.0,2.02...|\n",
      "|     14.7|1970| 1.0379067E7|  316.285017033543|0.0|  24494.0739288522|  50.87162458822166|[14.7,1970.0,1.03...|\n",
      "|   42.261|1970|   8989046.0| 4.101452784503632|0.0|15.280758734002076|0.22249302095016535|[42.261,1970.0,89...|\n",
      "|   35.214|1970|1.88078227E8|11.276180411926036|1.0|120.56374456426924|  1.164409105153889|[35.214,1970.0,1....|\n",
      "+---------+----+------------+------------------+---+------------------+-------------------+--------------------+\n",
      "only showing top 5 rows\n",
      "\n"
     ]
    }
   ],
   "source": [
    "from pyspark.ml.feature import VectorAssembler\n",
    "\n",
    "feature_columns = sdf_class.columns[0:4] + sdf_class.columns[5:-1]\n",
    "assembler = VectorAssembler(inputCols=feature_columns, outputCol=\"features\")\n",
    "sdf_class = assembler.transform(sdf_class)\n",
    "sdf_class.show(5)"
   ]
  },
  {
   "cell_type": "code",
   "execution_count": 46,
   "metadata": {},
   "outputs": [
    {
     "name": "stdout",
     "output_type": "stream",
     "text": [
      "+----------+------------+--------------------+\n",
      "|prediction|indexedLabel|            features|\n",
      "+----------+------------+--------------------+\n",
      "|       1.0|         0.0|[11.2,1980.0,5450...|\n",
      "|       1.0|         0.0|[11.3,1978.0,8192...|\n",
      "|       2.0|         2.0|[11.3,1980.0,5.81...|\n",
      "|       1.0|         1.0|[11.6,1977.0,7523...|\n",
      "|       1.0|         1.0|[11.7,1980.0,7523...|\n",
      "|       1.0|         1.0|[11.8,1984.0,8192...|\n",
      "|       2.0|         0.0|[12.0,1982.0,1.64...|\n",
      "|       2.0|         0.0|[12.1,1984.0,1.64...|\n",
      "|       1.0|         0.0|[12.2,1978.0,5450...|\n",
      "|       2.0|         1.0|[12.5,1977.0,1.64...|\n",
      "+----------+------------+--------------------+\n",
      "only showing top 10 rows\n",
      "\n",
      "Test Error=  0.5609846903383225\n",
      "DecisionTreeClassificationModel (uid=DecisionTreeClassifier_12383d6636ce) of depth 5 with 37 nodes\n"
     ]
    }
   ],
   "source": [
    "from pyspark.ml import Pipeline\n",
    "from pyspark.ml.classification import DecisionTreeClassifier\n",
    "from pyspark.ml.feature import StringIndexer, VectorIndexer\n",
    "from pyspark.ml.evaluation import MulticlassClassificationEvaluator\n",
    "from pyspark.mllib.util import MLUtils\n",
    "\n",
    "# Load and parse the data file, converting it to a DataFrame.\n",
    "#data = MLUtils.loadLibSVMFile(sc, \"data/mllib/sample_libsvm_data.txt\").toDF()\n",
    "\n",
    "# Index labels, adding metadata to the label column.\n",
    "# Fit on whole dataset to include all labels in index.\n",
    "labelIndexer = StringIndexer(inputCol=\"cnt\", outputCol=\"indexedLabel\").fit(sdf_class)\n",
    "\n",
    "# Automatically identify categorical features, and index them.\n",
    "# We specify maxCategories so features with > 4 distinct values are treated as continuous.\n",
    "featureIndexer = VectorIndexer(inputCol=\"features\", outputCol=\"indexedFeatures\", maxCategories=4).fit(sdf_class)\n",
    "\n",
    "# Split the data into training and test sets (20% held out for testing)\n",
    "(trainingData, testData) = sdf_class.randomSplit([0.8, 0.2])\n",
    "\n",
    "# Train a DecisionTree model.\n",
    "dt = DecisionTreeClassifier(labelCol=\"indexedLabel\", featuresCol=\"indexedFeatures\", maxDepth= 7, maxBins= 2)\n",
    "\n",
    "# Chain indexers and tree in a Pipeline\n",
    "pipeline = Pipeline(stages=[labelIndexer, featureIndexer, dt])\n",
    "\n",
    "# Train model.  This also runs the indexers.\n",
    "model = pipeline.fit(trainingData)\n",
    "\n",
    "# Make predictions.\n",
    "predictions = model.transform(testData)\n",
    "\n",
    "# Select example rows to display.\n",
    "predictions.select(\"prediction\", \"indexedLabel\", \"features\").show(10)\n",
    "\n",
    "# Select (prediction, true label) and compute test error\n",
    "evaluator = MulticlassClassificationEvaluator(labelCol=\"indexedLabel\", predictionCol=\"prediction\")\n",
    "accuracy = evaluator.evaluate(predictions)\n",
    "print (\"Test Error= \", (1.0 - accuracy))\n",
    "\n",
    "treeModel = model.stages[2]\n",
    "print(treeModel) # summary only"
   ]
  },
  {
   "cell_type": "code",
   "execution_count": 47,
   "metadata": {},
   "outputs": [
    {
     "data": {
      "text/plain": [
       "[Text(158.8591836734694, 199.32, 'X[2] <= 27751444.0\\ngini = 0.665\\nsamples = 2244\\nvalue = [769, 789, 686]'),\n",
       " Text(71.74285714285715, 163.07999999999998, 'X[2] <= 3184353.5\\ngini = 0.628\\nsamples = 1339\\nvalue = [594, 507, 238]'),\n",
       " Text(34.16326530612245, 126.83999999999999, 'X[1] <= 1994.5\\ngini = 0.446\\nsamples = 223\\nvalue = [153, 64, 6]'),\n",
       " Text(20.49795918367347, 90.6, 'X[2] <= 2867248.0\\ngini = 0.499\\nsamples = 123\\nvalue = [75, 44, 4]'),\n",
       " Text(13.66530612244898, 54.359999999999985, 'X[0] <= 29.101\\ngini = 0.486\\nsamples = 118\\nvalue = [75, 39, 4]'),\n",
       " Text(6.83265306122449, 18.119999999999976, '\\n  (...)  \\n'),\n",
       " Text(20.49795918367347, 18.119999999999976, '\\n  (...)  \\n'),\n",
       " Text(27.33061224489796, 54.359999999999985, 'gini = 0.0\\nsamples = 5\\nvalue = [0, 5, 0]'),\n",
       " Text(47.82857142857143, 90.6, 'X[3] <= 1996.572\\ngini = 0.351\\nsamples = 100\\nvalue = [78, 20, 2]'),\n",
       " Text(40.99591836734694, 54.359999999999985, 'X[0] <= 7.65\\ngini = 0.338\\nsamples = 99\\nvalue = [78, 20, 1]'),\n",
       " Text(34.16326530612245, 18.119999999999976, '\\n  (...)  \\n'),\n",
       " Text(47.82857142857143, 18.119999999999976, '\\n  (...)  \\n'),\n",
       " Text(54.66122448979592, 54.359999999999985, 'gini = 0.0\\nsamples = 1\\nvalue = [0, 0, 1]'),\n",
       " Text(109.32244897959184, 126.83999999999999, 'X[3] <= 197.383\\ngini = 0.643\\nsamples = 1116\\nvalue = [441, 443, 232]'),\n",
       " Text(81.99183673469388, 90.6, 'X[2] <= 10449440.5\\ngini = 0.622\\nsamples = 919\\nvalue = [391, 380, 148]'),\n",
       " Text(68.3265306122449, 54.359999999999985, 'X[0] <= 30.923\\ngini = 0.594\\nsamples = 490\\nvalue = [240, 191, 59]'),\n",
       " Text(61.49387755102041, 18.119999999999976, '\\n  (...)  \\n'),\n",
       " Text(75.15918367346939, 18.119999999999976, '\\n  (...)  \\n'),\n",
       " Text(95.65714285714286, 54.359999999999985, 'X[3] <= 58.441\\ngini = 0.639\\nsamples = 429\\nvalue = [151, 189, 89]'),\n",
       " Text(88.82448979591837, 18.119999999999976, '\\n  (...)  \\n'),\n",
       " Text(102.48979591836735, 18.119999999999976, '\\n  (...)  \\n'),\n",
       " Text(136.6530612244898, 90.6, 'X[3] <= 311.942\\ngini = 0.651\\nsamples = 197\\nvalue = [50, 63, 84]'),\n",
       " Text(122.98775510204082, 54.359999999999985, 'X[1] <= 1977.5\\ngini = 0.476\\nsamples = 106\\nvalue = [9, 25, 72]'),\n",
       " Text(116.15510204081633, 18.119999999999976, '\\n  (...)  \\n'),\n",
       " Text(129.8204081632653, 18.119999999999976, '\\n  (...)  \\n'),\n",
       " Text(150.31836734693877, 54.359999999999985, 'X[2] <= 7221092.5\\ngini = 0.605\\nsamples = 91\\nvalue = [41, 38, 12]'),\n",
       " Text(143.4857142857143, 18.119999999999976, '\\n  (...)  \\n'),\n",
       " Text(157.15102040816328, 18.119999999999976, '\\n  (...)  \\n'),\n",
       " Text(245.97551020408164, 163.07999999999998, 'X[0] <= 37.132\\ngini = 0.62\\nsamples = 905\\nvalue = [175, 282, 448]'),\n",
       " Text(194.73061224489797, 126.83999999999999, 'X[0] <= 9.85\\ngini = 0.567\\nsamples = 693\\nvalue = [100, 191, 402]'),\n",
       " Text(170.81632653061226, 90.6, 'X[3] <= 78.945\\ngini = 0.595\\nsamples = 49\\nvalue = [12, 27, 10]'),\n",
       " Text(163.98367346938775, 54.359999999999985, 'gini = 0.0\\nsamples = 4\\nvalue = [0, 0, 4]'),\n",
       " Text(177.64897959183673, 54.359999999999985, 'X[5] <= 9.255\\ngini = 0.551\\nsamples = 45\\nvalue = [12, 27, 6]'),\n",
       " Text(170.81632653061226, 18.119999999999976, '\\n  (...)  \\n'),\n",
       " Text(184.48163265306124, 18.119999999999976, '\\n  (...)  \\n'),\n",
       " Text(218.64489795918368, 90.6, 'X[3] <= 159.855\\ngini = 0.546\\nsamples = 644\\nvalue = [88, 164, 392]'),\n",
       " Text(204.9795918367347, 54.359999999999985, 'X[4] <= 7574.974\\ngini = 0.603\\nsamples = 473\\nvalue = [82, 142, 249]'),\n",
       " Text(198.14693877551022, 18.119999999999976, '\\n  (...)  \\n'),\n",
       " Text(211.8122448979592, 18.119999999999976, '\\n  (...)  \\n'),\n",
       " Text(232.31020408163266, 54.359999999999985, 'X[1] <= 1977.5\\ngini = 0.283\\nsamples = 171\\nvalue = [6, 22, 143]'),\n",
       " Text(225.47755102040816, 18.119999999999976, '\\n  (...)  \\n'),\n",
       " Text(239.14285714285714, 18.119999999999976, '\\n  (...)  \\n'),\n",
       " Text(297.2204081632653, 126.83999999999999, 'X[1] <= 2002.5\\ngini = 0.644\\nsamples = 212\\nvalue = [75, 91, 46]'),\n",
       " Text(273.3061224489796, 90.6, 'X[4] <= 2894.972\\ngini = 0.621\\nsamples = 183\\nvalue = [70, 83, 30]'),\n",
       " Text(259.6408163265306, 54.359999999999985, 'X[2] <= 28241451.0\\ngini = 0.587\\nsamples = 145\\nvalue = [65, 65, 15]'),\n",
       " Text(252.80816326530612, 18.119999999999976, '\\n  (...)  \\n'),\n",
       " Text(266.47346938775513, 18.119999999999976, '\\n  (...)  \\n'),\n",
       " Text(286.9714285714286, 54.359999999999985, 'X[5] <= 8.582\\ngini = 0.602\\nsamples = 38\\nvalue = [5, 18, 15]'),\n",
       " Text(280.1387755102041, 18.119999999999976, '\\n  (...)  \\n'),\n",
       " Text(293.8040816326531, 18.119999999999976, '\\n  (...)  \\n'),\n",
       " Text(321.13469387755106, 90.6, 'X[3] <= 153.139\\ngini = 0.59\\nsamples = 29\\nvalue = [5, 8, 16]'),\n",
       " Text(314.30204081632655, 54.359999999999985, 'X[3] <= 48.812\\ngini = 0.649\\nsamples = 22\\nvalue = [5, 8, 9]'),\n",
       " Text(307.46938775510205, 18.119999999999976, '\\n  (...)  \\n'),\n",
       " Text(321.13469387755106, 18.119999999999976, '\\n  (...)  \\n'),\n",
       " Text(327.9673469387755, 54.359999999999985, 'gini = 0.0\\nsamples = 7\\nvalue = [0, 0, 7]')]"
      ]
     },
     "execution_count": 47,
     "metadata": {},
     "output_type": "execute_result"
    },
    {
     "data": {
      "image/png": "[encoded data removed]",
      "text/plain": [
       "<Figure size 432x288 with 1 Axes>"
      ]
     },
     "metadata": {
      "needs_background": "light"
     },
     "output_type": "display_data"
    }
   ],
   "source": [
    "tree.plot_tree(clf, max_depth= 4, fontsize= 6)"
   ]
  },
  {
   "cell_type": "markdown",
   "metadata": {},
   "source": [
    "The results are quite better than the regression case."
   ]
  },
  {
   "cell_type": "markdown",
   "metadata": {},
   "source": [
    "##### We try to compare our classifiers with a classifier that chooses randomly the class. 2364 training samples, 592 testing samples."
   ]
  },
  {
   "cell_type": "code",
   "execution_count": 48,
   "metadata": {},
   "outputs": [
    {
     "name": "stdout",
     "output_type": "stream",
     "text": [
      "train accuracy:  0.339572192513369\n",
      "test accuracy:  0.3185053380782918\n"
     ]
    }
   ],
   "source": [
    "np.random.seed(5)\n",
    "\n",
    "y_pred_train = np.random.randint(0,3,size=2244)\n",
    "print('train accuracy: ', accuracy_score(y_train, y_pred_train))\n",
    "\n",
    "y_pred_test = np.random.randint(0,3,size=562)\n",
    "print('test accuracy: ', accuracy_score(y_test, y_pred_test))"
   ]
  },
  {
   "cell_type": "code",
   "execution_count": 49,
   "metadata": {},
   "outputs": [
    {
     "data": {
      "text/plain": [
       "array([[64, 66, 70],\n",
       "       [64, 65, 51],\n",
       "       [71, 61, 50]])"
      ]
     },
     "execution_count": 49,
     "metadata": {},
     "output_type": "execute_result"
    }
   ],
   "source": [
    "from sklearn.metrics import confusion_matrix\n",
    "\n",
    "confusion_matrix(y_test, y_pred_test)"
   ]
  },
  {
   "cell_type": "markdown",
   "metadata": {},
   "source": [
    "# Some conclusions"
   ]
  },
  {
   "cell_type": "markdown",
   "metadata": {},
   "source": [
    "Let's check the importance of the features considered to explain the phenomenon."
   ]
  },
  {
   "cell_type": "code",
   "execution_count": 50,
   "metadata": {},
   "outputs": [
    {
     "name": "stdout",
     "output_type": "stream",
     "text": [
      "Coefficients: \n",
      "SP.DYN.CBRT.IN        4.932860\n",
      "Year                 12.940231\n",
      "Population           16.388321\n",
      "Density               2.139197\n",
      "TerritoryDefense     -0.696271\n",
      "PopulationDefense    -5.555010\n",
      "dtype: float64\n"
     ]
    }
   ],
   "source": [
    "print('Coefficients: ')\n",
    "print(coefficients)"
   ]
  },
  {
   "cell_type": "code",
   "execution_count": 51,
   "metadata": {},
   "outputs": [
    {
     "data": {
      "image/png": "[encoded data removed]",
      "text/plain": [
       "<Figure size 432x288 with 1 Axes>"
      ]
     },
     "metadata": {
      "needs_background": "light"
     },
     "output_type": "display_data"
    }
   ],
   "source": [
    "coefficients.plot(kind=\"bar\").grid()"
   ]
  },
  {
   "cell_type": "markdown",
   "metadata": {},
   "source": [
    "As we expected from the preliminary analysis, in the last years terroristic attacks have increased; in particoular, from this plot we can also confirm that the <strong>Year</strong> has an important role in this scenario. <br><br>\n",
    "More evident is the influence of <strong>SP.URB.TOTL</strong>, an index about the Urban Population: the more it is, the more the attacks. <br>\n",
    "On the other hand, we have a strong negative influence from the <strong>PopulationDefense</strong> feature; reasonably, the more the defense, the less the number of attacks.<br>\n",
    "We'll go deeper in detail in these 2 directions."
   ]
  },
  {
   "cell_type": "markdown",
   "metadata": {},
   "source": [
    "Very relevant are also the results that we can interpret from the <strong>decision tree</strong>, since we obtained better performances approaching the problem from a classification point of view."
   ]
  },
  {
   "cell_type": "code",
   "execution_count": 52,
   "metadata": {},
   "outputs": [
    {
     "name": "stdout",
     "output_type": "stream",
     "text": [
      "|--- Population <= 27751444.00\n",
      "|   |--- Population <= 3184353.50\n",
      "|   |   |--- Year <= 1994.50\n",
      "|   |   |   |--- Population <= 2867248.00\n",
      "|   |   |   |   |--- SP.DYN.CBRT.IN <= 29.10\n",
      "|   |   |   |   |   |--- Density <= 195.40\n",
      "|   |   |   |   |   |   |--- Density <= 75.23\n",
      "|   |   |   |   |   |   |   |--- class: 0.0\n",
      "|   |   |   |   |   |   |--- Density >  75.23\n",
      "|   |   |   |   |   |   |   |--- class: 1.0\n",
      "|   |   |   |   |   |--- Density >  195.40\n",
      "|   |   |   |   |   |   |--- Density <= 1086.40\n",
      "|   |   |   |   |   |   |   |--- class: 0.0\n",
      "|   |   |   |   |   |   |--- Density >  1086.40\n",
      "|   |   |   |   |   |   |   |--- class: 1.0\n",
      "|   |   |   |   |--- SP.DYN.CBRT.IN >  29.10\n",
      "|   |   |   |   |   |--- Density <= 1.71\n",
      "|   |   |   |   |   |   |--- SP.DYN.CBRT.IN <= 41.84\n",
      "|   |   |   |   |   |   |   |--- class: 1.0\n",
      "|   |   |   |   |   |   |--- SP.DYN.CBRT.IN >  41.84\n",
      "|   |   |   |   |   |   |   |--- class: 0.0\n",
      "|   |   |   |   |   |--- Density >  1.71\n",
      "|   |   |   |   |   |   |--- Density <= 26.91\n",
      "|   |   |   |   |   |   |   |--- class: 0.0\n",
      "|   |   |   |   |   |   |--- Density >  26.91\n",
      "|   |   |   |   |   |   |   |--- class: 0.0\n",
      "|   |   |   |--- Population >  2867248.00\n",
      "|   |   |   |   |--- class: 1.0\n",
      "|   |   |--- Year >  1994.50\n",
      "|   |   |   |--- Density <= 1996.57\n",
      "|   |   |   |   |--- SP.DYN.CBRT.IN <= 7.65\n",
      "|   |   |   |   |   |--- class: 1.0\n",
      "|   |   |   |   |--- SP.DYN.CBRT.IN >  7.65\n",
      "|   |   |   |   |   |--- PopulationDefense <= 1871.26\n",
      "|   |   |   |   |   |   |--- PopulationDefense <= 1349.11\n",
      "|   |   |   |   |   |   |   |--- class: 0.0\n",
      "|   |   |   |   |   |   |--- PopulationDefense >  1349.11\n",
      "|   |   |   |   |   |   |   |--- class: 1.0\n",
      "|   |   |   |   |   |--- PopulationDefense >  1871.26\n",
      "|   |   |   |   |   |   |--- class: 0.0\n",
      "|   |   |   |--- Density >  1996.57\n",
      "|   |   |   |   |--- class: 2.0\n",
      "|   |--- Population >  3184353.50\n",
      "|   |   |--- Density <= 197.38\n",
      "|   |   |   |--- Population <= 10449440.50\n",
      "|   |   |   |   |--- SP.DYN.CBRT.IN <= 30.92\n",
      "|   |   |   |   |   |--- Density <= 15.37\n",
      "|   |   |   |   |   |   |--- SP.DYN.CBRT.IN <= 29.33\n",
      "|   |   |   |   |   |   |   |--- class: 0.0\n",
      "|   |   |   |   |   |   |--- SP.DYN.CBRT.IN >  29.33\n",
      "|   |   |   |   |   |   |   |--- class: 1.0\n",
      "|   |   |   |   |   |--- Density >  15.37\n",
      "|   |   |   |   |   |   |--- Year <= 1997.50\n",
      "|   |   |   |   |   |   |   |--- class: 1.0\n",
      "|   |   |   |   |   |   |--- Year >  1997.50\n",
      "|   |   |   |   |   |   |   |--- class: 0.0\n",
      "|   |   |   |   |--- SP.DYN.CBRT.IN >  30.92\n",
      "|   |   |   |   |   |--- TerritoryDefense <= 81.08\n",
      "|   |   |   |   |   |   |--- Density <= 37.87\n",
      "|   |   |   |   |   |   |   |--- class: 0.0\n",
      "|   |   |   |   |   |   |--- Density >  37.87\n",
      "|   |   |   |   |   |   |   |--- class: 2.0\n",
      "|   |   |   |   |   |--- TerritoryDefense >  81.08\n",
      "|   |   |   |   |   |   |--- Population <= 5620336.50\n",
      "|   |   |   |   |   |   |   |--- class: 2.0\n",
      "|   |   |   |   |   |   |--- Population >  5620336.50\n",
      "|   |   |   |   |   |   |   |--- class: 1.0\n",
      "|   |   |   |--- Population >  10449440.50\n",
      "|   |   |   |   |--- Density <= 58.44\n",
      "|   |   |   |   |   |--- Density <= 27.41\n",
      "|   |   |   |   |   |   |--- PopulationDefense <= 19.73\n",
      "|   |   |   |   |   |   |   |--- class: 1.0\n",
      "|   |   |   |   |   |   |--- PopulationDefense >  19.73\n",
      "|   |   |   |   |   |   |   |--- class: 0.0\n",
      "|   |   |   |   |   |--- Density >  27.41\n",
      "|   |   |   |   |   |   |--- TerritoryDefense <= 340.62\n",
      "|   |   |   |   |   |   |   |--- class: 0.0\n",
      "|   |   |   |   |   |   |--- TerritoryDefense >  340.62\n",
      "|   |   |   |   |   |   |   |--- class: 1.0\n",
      "|   |   |   |   |--- Density >  58.44\n",
      "|   |   |   |   |   |--- Density <= 86.40\n",
      "|   |   |   |   |   |   |--- TerritoryDefense <= 1210.36\n",
      "|   |   |   |   |   |   |   |--- class: 1.0\n",
      "|   |   |   |   |   |   |--- TerritoryDefense >  1210.36\n",
      "|   |   |   |   |   |   |   |--- class: 2.0\n",
      "|   |   |   |   |   |--- Density >  86.40\n",
      "|   |   |   |   |   |   |--- TerritoryDefense <= 8013.05\n",
      "|   |   |   |   |   |   |   |--- class: 0.0\n",
      "|   |   |   |   |   |   |--- TerritoryDefense >  8013.05\n",
      "|   |   |   |   |   |   |   |--- class: 1.0\n",
      "|   |   |--- Density >  197.38\n",
      "|   |   |   |--- Density <= 311.94\n",
      "|   |   |   |   |--- Year <= 1977.50\n",
      "|   |   |   |   |   |--- SP.DYN.CBRT.IN <= 29.42\n",
      "|   |   |   |   |   |   |--- class: 0.0\n",
      "|   |   |   |   |   |--- SP.DYN.CBRT.IN >  29.42\n",
      "|   |   |   |   |   |   |--- Year <= 1971.50\n",
      "|   |   |   |   |   |   |   |--- class: 0.0\n",
      "|   |   |   |   |   |   |--- Year >  1971.50\n",
      "|   |   |   |   |   |   |   |--- class: 1.0\n",
      "|   |   |   |   |--- Year >  1977.50\n",
      "|   |   |   |   |   |--- Year <= 1997.50\n",
      "|   |   |   |   |   |   |--- TerritoryDefense <= 1453.40\n",
      "|   |   |   |   |   |   |   |--- class: 1.0\n",
      "|   |   |   |   |   |   |--- TerritoryDefense >  1453.40\n",
      "|   |   |   |   |   |   |   |--- class: 2.0\n",
      "|   |   |   |   |   |--- Year >  1997.50\n",
      "|   |   |   |   |   |   |--- PopulationDefense <= 114.91\n",
      "|   |   |   |   |   |   |   |--- class: 2.0\n",
      "|   |   |   |   |   |   |--- PopulationDefense >  114.91\n",
      "|   |   |   |   |   |   |   |--- class: 1.0\n",
      "|   |   |   |--- Density >  311.94\n",
      "|   |   |   |   |--- Population <= 7221092.50\n",
      "|   |   |   |   |   |--- Density <= 1824.83\n",
      "|   |   |   |   |   |   |--- PopulationDefense <= 276.52\n",
      "|   |   |   |   |   |   |   |--- class: 2.0\n",
      "|   |   |   |   |   |   |--- PopulationDefense >  276.52\n",
      "|   |   |   |   |   |   |   |--- class: 1.0\n",
      "|   |   |   |   |   |--- Density >  1824.83\n",
      "|   |   |   |   |   |   |--- class: 0.0\n",
      "|   |   |   |   |--- Population >  7221092.50\n",
      "|   |   |   |   |   |--- Year <= 1996.50\n",
      "|   |   |   |   |   |   |--- PopulationDefense <= 3.53\n",
      "|   |   |   |   |   |   |   |--- class: 0.0\n",
      "|   |   |   |   |   |   |--- PopulationDefense >  3.53\n",
      "|   |   |   |   |   |   |   |--- class: 1.0\n",
      "|   |   |   |   |   |--- Year >  1996.50\n",
      "|   |   |   |   |   |   |--- Density <= 315.51\n",
      "|   |   |   |   |   |   |   |--- class: 1.0\n",
      "|   |   |   |   |   |   |--- Density >  315.51\n",
      "|   |   |   |   |   |   |   |--- class: 0.0\n",
      "|--- Population >  27751444.00\n",
      "|   |--- SP.DYN.CBRT.IN <= 37.13\n",
      "|   |   |--- SP.DYN.CBRT.IN <= 9.85\n",
      "|   |   |   |--- Density <= 78.94\n",
      "|   |   |   |   |--- class: 2.0\n",
      "|   |   |   |--- Density >  78.94\n",
      "|   |   |   |   |--- PopulationDefense <= 9.25\n",
      "|   |   |   |   |   |--- Density <= 336.91\n",
      "|   |   |   |   |   |   |--- Year <= 1996.50\n",
      "|   |   |   |   |   |   |   |--- class: 1.0\n",
      "|   |   |   |   |   |   |--- Year >  1996.50\n",
      "|   |   |   |   |   |   |   |--- class: 1.0\n",
      "|   |   |   |   |   |--- Density >  336.91\n",
      "|   |   |   |   |   |   |--- PopulationDefense <= 4.79\n",
      "|   |   |   |   |   |   |   |--- class: 0.0\n",
      "|   |   |   |   |   |   |--- PopulationDefense >  4.79\n",
      "|   |   |   |   |   |   |   |--- class: 1.0\n",
      "|   |   |   |   |--- PopulationDefense >  9.25\n",
      "|   |   |   |   |   |--- PopulationDefense <= 9.72\n",
      "|   |   |   |   |   |   |--- class: 2.0\n",
      "|   |   |   |   |   |--- PopulationDefense >  9.72\n",
      "|   |   |   |   |   |   |--- SP.DYN.CBRT.IN <= 9.70\n",
      "|   |   |   |   |   |   |   |--- class: 0.0\n",
      "|   |   |   |   |   |   |--- SP.DYN.CBRT.IN >  9.70\n",
      "|   |   |   |   |   |   |   |--- class: 2.0\n",
      "|   |   |--- SP.DYN.CBRT.IN >  9.85\n",
      "|   |   |   |--- Density <= 159.85\n",
      "|   |   |   |   |--- TerritoryDefense <= 7574.97\n",
      "|   |   |   |   |   |--- Population <= 45449226.00\n",
      "|   |   |   |   |   |   |--- SP.DYN.CBRT.IN <= 18.13\n",
      "|   |   |   |   |   |   |   |--- class: 0.0\n",
      "|   |   |   |   |   |   |--- SP.DYN.CBRT.IN >  18.13\n",
      "|   |   |   |   |   |   |   |--- class: 2.0\n",
      "|   |   |   |   |   |--- Population >  45449226.00\n",
      "|   |   |   |   |   |   |--- Density <= 84.85\n",
      "|   |   |   |   |   |   |   |--- class: 1.0\n",
      "|   |   |   |   |   |   |--- Density >  84.85\n",
      "|   |   |   |   |   |   |   |--- class: 1.0\n",
      "|   |   |   |   |--- TerritoryDefense >  7574.97\n",
      "|   |   |   |   |   |--- TerritoryDefense <= 111855.60\n",
      "|   |   |   |   |   |   |--- Population <= 39467354.00\n",
      "|   |   |   |   |   |   |   |--- class: 1.0\n",
      "|   |   |   |   |   |   |--- Population >  39467354.00\n",
      "|   |   |   |   |   |   |   |--- class: 2.0\n",
      "|   |   |   |   |   |--- TerritoryDefense >  111855.60\n",
      "|   |   |   |   |   |   |--- class: 1.0\n",
      "|   |   |   |--- Density >  159.85\n",
      "|   |   |   |   |--- Year <= 1977.50\n",
      "|   |   |   |   |   |--- SP.DYN.CBRT.IN <= 14.45\n",
      "|   |   |   |   |   |   |--- class: 2.0\n",
      "|   |   |   |   |   |--- SP.DYN.CBRT.IN >  14.45\n",
      "|   |   |   |   |   |   |--- SP.DYN.CBRT.IN <= 18.55\n",
      "|   |   |   |   |   |   |   |--- class: 1.0\n",
      "|   |   |   |   |   |   |--- SP.DYN.CBRT.IN >  18.55\n",
      "|   |   |   |   |   |   |   |--- class: 0.0\n",
      "|   |   |   |   |--- Year >  1977.50\n",
      "|   |   |   |   |   |--- Density <= 937.52\n",
      "|   |   |   |   |   |   |--- SP.DYN.CBRT.IN <= 10.60\n",
      "|   |   |   |   |   |   |   |--- class: 2.0\n",
      "|   |   |   |   |   |   |--- SP.DYN.CBRT.IN >  10.60\n",
      "|   |   |   |   |   |   |   |--- class: 2.0\n",
      "|   |   |   |   |   |--- Density >  937.52\n",
      "|   |   |   |   |   |   |--- Density <= 991.95\n",
      "|   |   |   |   |   |   |   |--- class: 1.0\n",
      "|   |   |   |   |   |   |--- Density >  991.95\n",
      "|   |   |   |   |   |   |   |--- class: 2.0\n",
      "|   |--- SP.DYN.CBRT.IN >  37.13\n",
      "|   |   |--- Year <= 2002.50\n",
      "|   |   |   |--- TerritoryDefense <= 2894.97\n",
      "|   |   |   |   |--- Population <= 28241451.00\n",
      "|   |   |   |   |   |--- Year <= 1995.00\n",
      "|   |   |   |   |   |   |--- TerritoryDefense <= 455.76\n",
      "|   |   |   |   |   |   |   |--- class: 1.0\n",
      "|   |   |   |   |   |   |--- TerritoryDefense >  455.76\n",
      "|   |   |   |   |   |   |   |--- class: 0.0\n",
      "|   |   |   |   |   |--- Year >  1995.00\n",
      "|   |   |   |   |   |   |--- class: 2.0\n",
      "|   |   |   |   |--- Population >  28241451.00\n",
      "|   |   |   |   |   |--- TerritoryDefense <= 293.32\n",
      "|   |   |   |   |   |   |--- Population <= 39340884.00\n",
      "|   |   |   |   |   |   |   |--- class: 0.0\n",
      "|   |   |   |   |   |   |--- Population >  39340884.00\n",
      "|   |   |   |   |   |   |   |--- class: 1.0\n",
      "|   |   |   |   |   |--- TerritoryDefense >  293.32\n",
      "|   |   |   |   |   |   |--- SP.DYN.CBRT.IN <= 43.48\n",
      "|   |   |   |   |   |   |   |--- class: 0.0\n",
      "|   |   |   |   |   |   |--- SP.DYN.CBRT.IN >  43.48\n",
      "|   |   |   |   |   |   |   |--- class: 0.0\n",
      "|   |   |   |--- TerritoryDefense >  2894.97\n",
      "|   |   |   |   |--- PopulationDefense <= 8.58\n",
      "|   |   |   |   |   |--- TerritoryDefense <= 6212.58\n",
      "|   |   |   |   |   |   |--- SP.DYN.CBRT.IN <= 45.63\n",
      "|   |   |   |   |   |   |   |--- class: 2.0\n",
      "|   |   |   |   |   |   |--- SP.DYN.CBRT.IN >  45.63\n",
      "|   |   |   |   |   |   |   |--- class: 0.0\n",
      "|   |   |   |   |   |--- TerritoryDefense >  6212.58\n",
      "|   |   |   |   |   |   |--- SP.DYN.CBRT.IN <= 45.66\n",
      "|   |   |   |   |   |   |   |--- class: 1.0\n",
      "|   |   |   |   |   |   |--- SP.DYN.CBRT.IN >  45.66\n",
      "|   |   |   |   |   |   |   |--- class: 2.0\n",
      "|   |   |   |   |--- PopulationDefense >  8.58\n",
      "|   |   |   |   |   |--- Density <= 19.81\n",
      "|   |   |   |   |   |   |--- Density <= 19.19\n",
      "|   |   |   |   |   |   |   |--- class: 0.0\n",
      "|   |   |   |   |   |   |--- Density >  19.19\n",
      "|   |   |   |   |   |   |   |--- class: 2.0\n",
      "|   |   |   |   |   |--- Density >  19.81\n",
      "|   |   |   |   |   |   |--- SP.DYN.CBRT.IN <= 48.91\n",
      "|   |   |   |   |   |   |   |--- class: 1.0\n",
      "|   |   |   |   |   |   |--- SP.DYN.CBRT.IN >  48.91\n",
      "|   |   |   |   |   |   |   |--- class: 1.0\n",
      "|   |   |--- Year >  2002.50\n",
      "|   |   |   |--- Density <= 153.14\n",
      "|   |   |   |   |--- Density <= 48.81\n",
      "|   |   |   |   |   |--- Population <= 36146686.00\n",
      "|   |   |   |   |   |   |--- class: 2.0\n",
      "|   |   |   |   |   |--- Population >  36146686.00\n",
      "|   |   |   |   |   |   |--- class: 1.0\n",
      "|   |   |   |   |--- Density >  48.81\n",
      "|   |   |   |   |   |--- PopulationDefense <= 30.62\n",
      "|   |   |   |   |   |   |--- TerritoryDefense <= 275.36\n",
      "|   |   |   |   |   |   |   |--- class: 0.0\n",
      "|   |   |   |   |   |   |--- TerritoryDefense >  275.36\n",
      "|   |   |   |   |   |   |   |--- class: 1.0\n",
      "|   |   |   |   |   |--- PopulationDefense >  30.62\n",
      "|   |   |   |   |   |   |--- SP.DYN.CBRT.IN <= 47.01\n",
      "|   |   |   |   |   |   |   |--- class: 0.0\n",
      "|   |   |   |   |   |   |--- SP.DYN.CBRT.IN >  47.01\n",
      "|   |   |   |   |   |   |   |--- class: 2.0\n",
      "|   |   |   |--- Density >  153.14\n",
      "|   |   |   |   |--- class: 2.0\n",
      "\n"
     ]
    }
   ],
   "source": [
    "from sklearn.tree import export_text\n",
    "\n",
    "data = df_class.loc[:, df_std.columns != 'cnt']\n",
    "data_features = list(data.columns.values)\n",
    "r = export_text(clf, feature_names= data_features)\n",
    "print(r)"
   ]
  },
  {
   "cell_type": "markdown",
   "metadata": {},
   "source": [
    "As before, the most important feature which determines the number of attacks is the <strong>Urban Population</strong>; in particoular, we can see that under a certain threshold the class predicted is 0 or 1 (a little or some attacks), while over the threshold the classes 1 and 2 (some or many attacks) are predominant.<br>\n",
    "Same goes for the <strong>Year</strong>: after the 2000s the classes 1 and 2 are the big majority (and the other way around), so again we confirmed that in latest years the terroris activity has increased.<br>\n",
    "About the <strong>Population Defense</strong>, we can see again that it is not as impactful as the two previous features, but it has its not neglectable influence: for example, where we have a high Urban Population, the few cases in which we have a predicted class of 0 or 1, they are usually characterized by a high (or simply not upper bounded) value of Population Defense.<br><br>\n",
    "\n",
    "We'll now analyze deeper in detail there 3 features."
   ]
  },
  {
   "cell_type": "markdown",
   "metadata": {},
   "source": [
    "Mean of all features and output <strong>from 1990 (included) until 2018</strong>, for every country."
   ]
  },
  {
   "cell_type": "code",
   "execution_count": 5,
   "metadata": {},
   "outputs": [
    {
     "data": {
      "text/html": [
       "<div>\n",
       "<style scoped>\n",
       "    .dataframe tbody tr th:only-of-type {\n",
       "        vertical-align: middle;\n",
       "    }\n",
       "\n",
       "    .dataframe tbody tr th {\n",
       "        vertical-align: top;\n",
       "    }\n",
       "\n",
       "    .dataframe thead th {\n",
       "        text-align: right;\n",
       "    }\n",
       "</style>\n",
       "<table border=\"1\" class=\"dataframe\">\n",
       "  <thead>\n",
       "    <tr style=\"text-align: right;\">\n",
       "      <th></th>\n",
       "      <th>SP.DYN.CBRT.IN</th>\n",
       "      <th>Population</th>\n",
       "      <th>Density</th>\n",
       "      <th>cnt</th>\n",
       "      <th>TerritoryDefense</th>\n",
       "      <th>PopulationDefense</th>\n",
       "    </tr>\n",
       "    <tr>\n",
       "      <th>CountryCode</th>\n",
       "      <th></th>\n",
       "      <th></th>\n",
       "      <th></th>\n",
       "      <th></th>\n",
       "      <th></th>\n",
       "      <th></th>\n",
       "    </tr>\n",
       "  </thead>\n",
       "  <tbody>\n",
       "    <tr>\n",
       "      <th>ABW</th>\n",
       "      <td>14.075208</td>\n",
       "      <td>71891.0</td>\n",
       "      <td>465.811744</td>\n",
       "      <td>0.000000</td>\n",
       "      <td>1.167154e+08</td>\n",
       "      <td>20190.302938</td>\n",
       "    </tr>\n",
       "    <tr>\n",
       "      <th>AFG</th>\n",
       "      <td>45.270125</td>\n",
       "      <td>31056997.0</td>\n",
       "      <td>33.027058</td>\n",
       "      <td>246.750000</td>\n",
       "      <td>2.043345e+04</td>\n",
       "      <td>31.097411</td>\n",
       "    </tr>\n",
       "    <tr>\n",
       "      <th>AGO</th>\n",
       "      <td>50.182292</td>\n",
       "      <td>12127071.0</td>\n",
       "      <td>13.182071</td>\n",
       "      <td>17.750000</td>\n",
       "      <td>1.342397e+03</td>\n",
       "      <td>30.439836</td>\n",
       "    </tr>\n",
       "    <tr>\n",
       "      <th>ALB</th>\n",
       "      <td>17.924417</td>\n",
       "      <td>3581655.0</td>\n",
       "      <td>106.830482</td>\n",
       "      <td>2.916667</td>\n",
       "      <td>6.861392e+04</td>\n",
       "      <td>304.666177</td>\n",
       "    </tr>\n",
       "    <tr>\n",
       "      <th>ARE</th>\n",
       "      <td>16.529375</td>\n",
       "      <td>2602713.0</td>\n",
       "      <td>53.154304</td>\n",
       "      <td>0.250000</td>\n",
       "      <td>1.638169e+05</td>\n",
       "      <td>305.066290</td>\n",
       "    </tr>\n",
       "  </tbody>\n",
       "</table>\n",
       "</div>"
      ],
      "text/plain": [
       "             SP.DYN.CBRT.IN  Population     Density         cnt  \\\n",
       "CountryCode                                                       \n",
       "ABW               14.075208     71891.0  465.811744    0.000000   \n",
       "AFG               45.270125  31056997.0   33.027058  246.750000   \n",
       "AGO               50.182292  12127071.0   13.182071   17.750000   \n",
       "ALB               17.924417   3581655.0  106.830482    2.916667   \n",
       "ARE               16.529375   2602713.0   53.154304    0.250000   \n",
       "\n",
       "             TerritoryDefense  PopulationDefense  \n",
       "CountryCode                                       \n",
       "ABW              1.167154e+08       20190.302938  \n",
       "AFG              2.043345e+04          31.097411  \n",
       "AGO              1.342397e+03          30.439836  \n",
       "ALB              6.861392e+04         304.666177  \n",
       "ARE              1.638169e+05         305.066290  "
      ]
     },
     "execution_count": 5,
     "metadata": {},
     "output_type": "execute_result"
    }
   ],
   "source": [
    "df = pd.read_csv('./part/DF1sthypTOT')\n",
    "df['TerritoryDefense'] = df['MilitaryExp'] / df['Area (sq. mi.)']\n",
    "df['PopulationDefense'] = df['MS.MIL.MPRT.KD'] / df['Population']\n",
    "del df['Area (sq. mi.)']\n",
    "del df['SP.RUR.TOTL']\n",
    "del df['SP.URB.TOTL']\n",
    "del df['SP.DYN.AMRT.FE']\n",
    "del df['SP.DYN.AMRT.MA']\n",
    "del df['SP.DYN.LE00.IN']\n",
    "del df['MilitaryExp']\n",
    "del df['MS.MIL.MPRT.KD']\n",
    "\n",
    "df2 = df[df['Year']>1989]\n",
    "df3 = df2.groupby(['CountryCode', 'Year']).mean()\n",
    "df4 = df3.groupby(['CountryCode']).mean()\n",
    "df4.head(5)"
   ]
  },
  {
   "cell_type": "markdown",
   "metadata": {},
   "source": [
    "Let's take a look to the <strong>global mean</strong> for the Urban Population and the Population Defense.<br>\n",
    "<i>Reminder:</i> the calculus is performed on the last 30 years."
   ]
  },
  {
   "cell_type": "code",
   "execution_count": 6,
   "metadata": {},
   "outputs": [
    {
     "data": {
      "text/plain": [
       "Population           8.250692e+06\n",
       "PopulationDefense    7.954754e+01\n",
       "dtype: float64"
      ]
     },
     "execution_count": 6,
     "metadata": {},
     "output_type": "execute_result"
    }
   ],
   "source": [
    "df5 = df4[['Population', 'PopulationDefense']]\n",
    "#df5.mean()\n",
    "df5.median()"
   ]
  },
  {
   "cell_type": "markdown",
   "metadata": {},
   "source": [
    "Now let's check the features of the top 10 attacked countries, focusing in particoular on <strong>Population</strong> and <strong>PopulationDefense</strong> columns."
   ]
  },
  {
   "cell_type": "code",
   "execution_count": 7,
   "metadata": {},
   "outputs": [
    {
     "data": {
      "text/html": [
       "<div>\n",
       "<style scoped>\n",
       "    .dataframe tbody tr th:only-of-type {\n",
       "        vertical-align: middle;\n",
       "    }\n",
       "\n",
       "    .dataframe tbody tr th {\n",
       "        vertical-align: top;\n",
       "    }\n",
       "\n",
       "    .dataframe thead th {\n",
       "        text-align: right;\n",
       "    }\n",
       "</style>\n",
       "<table border=\"1\" class=\"dataframe\">\n",
       "  <thead>\n",
       "    <tr style=\"text-align: right;\">\n",
       "      <th></th>\n",
       "      <th>SP.DYN.CBRT.IN</th>\n",
       "      <th>Population</th>\n",
       "      <th>Density</th>\n",
       "      <th>cnt</th>\n",
       "      <th>TerritoryDefense</th>\n",
       "      <th>PopulationDefense</th>\n",
       "    </tr>\n",
       "    <tr>\n",
       "      <th>CountryCode</th>\n",
       "      <th></th>\n",
       "      <th></th>\n",
       "      <th></th>\n",
       "      <th></th>\n",
       "      <th></th>\n",
       "      <th></th>\n",
       "    </tr>\n",
       "  </thead>\n",
       "  <tbody>\n",
       "    <tr>\n",
       "      <th>IRQ</th>\n",
       "      <td>34.994208</td>\n",
       "      <td>2.678338e+07</td>\n",
       "      <td>56.862475</td>\n",
       "      <td>503.750000</td>\n",
       "      <td>33044.828923</td>\n",
       "      <td>35.994821</td>\n",
       "    </tr>\n",
       "    <tr>\n",
       "      <th>PAK</th>\n",
       "      <td>32.975792</td>\n",
       "      <td>1.658036e+08</td>\n",
       "      <td>178.040131</td>\n",
       "      <td>382.416667</td>\n",
       "      <td>5344.640696</td>\n",
       "      <td>4.505080</td>\n",
       "    </tr>\n",
       "    <tr>\n",
       "      <th>IND</th>\n",
       "      <td>25.751458</td>\n",
       "      <td>1.095352e+09</td>\n",
       "      <td>328.143591</td>\n",
       "      <td>290.541667</td>\n",
       "      <td>6576.190834</td>\n",
       "      <td>1.841075</td>\n",
       "    </tr>\n",
       "    <tr>\n",
       "      <th>AFG</th>\n",
       "      <td>45.270125</td>\n",
       "      <td>3.105700e+07</td>\n",
       "      <td>33.027058</td>\n",
       "      <td>246.750000</td>\n",
       "      <td>20433.452767</td>\n",
       "      <td>31.097411</td>\n",
       "    </tr>\n",
       "    <tr>\n",
       "      <th>COL</th>\n",
       "      <td>20.693250</td>\n",
       "      <td>4.359304e+07</td>\n",
       "      <td>36.114905</td>\n",
       "      <td>180.958333</td>\n",
       "      <td>4390.780180</td>\n",
       "      <td>2.738396</td>\n",
       "    </tr>\n",
       "    <tr>\n",
       "      <th>PHL</th>\n",
       "      <td>28.514000</td>\n",
       "      <td>8.946868e+07</td>\n",
       "      <td>267.063261</td>\n",
       "      <td>134.333333</td>\n",
       "      <td>5582.879591</td>\n",
       "      <td>1.688674</td>\n",
       "    </tr>\n",
       "    <tr>\n",
       "      <th>DZA</th>\n",
       "      <td>23.665167</td>\n",
       "      <td>3.293009e+07</td>\n",
       "      <td>13.382202</td>\n",
       "      <td>111.958333</td>\n",
       "      <td>1375.437107</td>\n",
       "      <td>14.218252</td>\n",
       "    </tr>\n",
       "    <tr>\n",
       "      <th>THA</th>\n",
       "      <td>14.426667</td>\n",
       "      <td>6.463160e+07</td>\n",
       "      <td>122.528914</td>\n",
       "      <td>105.833333</td>\n",
       "      <td>6324.666811</td>\n",
       "      <td>4.076309</td>\n",
       "    </tr>\n",
       "    <tr>\n",
       "      <th>TUR</th>\n",
       "      <td>20.983083</td>\n",
       "      <td>7.041396e+07</td>\n",
       "      <td>82.680395</td>\n",
       "      <td>92.875000</td>\n",
       "      <td>14077.276988</td>\n",
       "      <td>16.395897</td>\n",
       "    </tr>\n",
       "    <tr>\n",
       "      <th>PER</th>\n",
       "      <td>24.164833</td>\n",
       "      <td>2.830260e+07</td>\n",
       "      <td>20.491363</td>\n",
       "      <td>75.875000</td>\n",
       "      <td>1067.118395</td>\n",
       "      <td>5.449294</td>\n",
       "    </tr>\n",
       "  </tbody>\n",
       "</table>\n",
       "</div>"
      ],
      "text/plain": [
       "             SP.DYN.CBRT.IN    Population     Density         cnt  \\\n",
       "CountryCode                                                         \n",
       "IRQ               34.994208  2.678338e+07   56.862475  503.750000   \n",
       "PAK               32.975792  1.658036e+08  178.040131  382.416667   \n",
       "IND               25.751458  1.095352e+09  328.143591  290.541667   \n",
       "AFG               45.270125  3.105700e+07   33.027058  246.750000   \n",
       "COL               20.693250  4.359304e+07   36.114905  180.958333   \n",
       "PHL               28.514000  8.946868e+07  267.063261  134.333333   \n",
       "DZA               23.665167  3.293009e+07   13.382202  111.958333   \n",
       "THA               14.426667  6.463160e+07  122.528914  105.833333   \n",
       "TUR               20.983083  7.041396e+07   82.680395   92.875000   \n",
       "PER               24.164833  2.830260e+07   20.491363   75.875000   \n",
       "\n",
       "             TerritoryDefense  PopulationDefense  \n",
       "CountryCode                                       \n",
       "IRQ              33044.828923          35.994821  \n",
       "PAK               5344.640696           4.505080  \n",
       "IND               6576.190834           1.841075  \n",
       "AFG              20433.452767          31.097411  \n",
       "COL               4390.780180           2.738396  \n",
       "PHL               5582.879591           1.688674  \n",
       "DZA               1375.437107          14.218252  \n",
       "THA               6324.666811           4.076309  \n",
       "TUR              14077.276988          16.395897  \n",
       "PER               1067.118395           5.449294  "
      ]
     },
     "execution_count": 7,
     "metadata": {},
     "output_type": "execute_result"
    }
   ],
   "source": [
    "df4.sort_values(['cnt'], ascending=False).head(10)"
   ]
  },
  {
   "cell_type": "markdown",
   "metadata": {},
   "source": [
    "We can see that the Population for these countries is usually higher than the average, while the Population Defense is heavily lower. <br>\n",
    "Let's take a graphical view some of the top attacked countries: \n",
    "- Philippines\n",
    "- Pakistan\n",
    "- India \n",
    "- Afghanistan \n",
    "- Colombia"
   ]
  },
  {
   "cell_type": "markdown",
   "metadata": {},
   "source": [
    "Let's start from the <strong>Population</strong> (where the red line is the mean value)."
   ]
  },
  {
   "cell_type": "code",
   "execution_count": 14,
   "metadata": {},
   "outputs": [
    {
     "ename": "ValueError",
     "evalue": "margin must be greater than -0.5",
     "output_type": "error",
     "traceback": [
      "\u001b[0;31m---------------------------------------------------------------------------\u001b[0m",
      "\u001b[0;31mValueError\u001b[0m                                Traceback (most recent call last)",
      "\u001b[0;32m<ipython-input-14-ea8586d3c1c2>\u001b[0m in \u001b[0;36m<module>\u001b[0;34m\u001b[0m\n\u001b[1;32m      4\u001b[0m \u001b[0mm_value\u001b[0m \u001b[0;34m=\u001b[0m \u001b[0mdf5\u001b[0m\u001b[0;34m[\u001b[0m\u001b[0;34m'Population'\u001b[0m\u001b[0;34m]\u001b[0m\u001b[0;34m.\u001b[0m\u001b[0mmedian\u001b[0m\u001b[0;34m(\u001b[0m\u001b[0;34m)\u001b[0m\u001b[0;34m\u001b[0m\u001b[0;34m\u001b[0m\u001b[0m\n\u001b[1;32m      5\u001b[0m \u001b[0max3\u001b[0m \u001b[0;34m=\u001b[0m \u001b[0mplt\u001b[0m\u001b[0;34m.\u001b[0m\u001b[0msubplot\u001b[0m\u001b[0;34m(\u001b[0m\u001b[0;34m)\u001b[0m\u001b[0;34m\u001b[0m\u001b[0;34m\u001b[0m\u001b[0m\n\u001b[0;32m----> 6\u001b[0;31m \u001b[0max3\u001b[0m\u001b[0;34m.\u001b[0m\u001b[0mmargins\u001b[0m\u001b[0;34m(\u001b[0m\u001b[0mx\u001b[0m\u001b[0;34m=\u001b[0m\u001b[0;36m0\u001b[0m\u001b[0;34m,\u001b[0m \u001b[0my\u001b[0m\u001b[0;34m=\u001b[0m\u001b[0;34m-\u001b[0m\u001b[0;36m1\u001b[0m\u001b[0;34m)\u001b[0m   \u001b[0;31m# Values in (-0.5, 0.0)\u001b[0m\u001b[0;34m\u001b[0m\u001b[0;34m\u001b[0m\u001b[0m\n\u001b[0m\u001b[1;32m      7\u001b[0m \u001b[0mplt\u001b[0m\u001b[0;34m.\u001b[0m\u001b[0maxhline\u001b[0m\u001b[0;34m(\u001b[0m\u001b[0my\u001b[0m\u001b[0;34m=\u001b[0m\u001b[0mm_value\u001b[0m\u001b[0;34m,\u001b[0m \u001b[0mcolor\u001b[0m\u001b[0;34m=\u001b[0m\u001b[0;34m'r'\u001b[0m\u001b[0;34m,\u001b[0m \u001b[0mlinestyle\u001b[0m\u001b[0;34m=\u001b[0m\u001b[0;34m'-'\u001b[0m\u001b[0;34m,\u001b[0m \u001b[0mlabel\u001b[0m\u001b[0;34m=\u001b[0m\u001b[0;34m'Mean'\u001b[0m\u001b[0;34m)\u001b[0m\u001b[0;34m\u001b[0m\u001b[0;34m\u001b[0m\u001b[0m\n\u001b[1;32m      8\u001b[0m \u001b[0my\u001b[0m \u001b[0;34m=\u001b[0m \u001b[0mdf4\u001b[0m\u001b[0;34m[\u001b[0m\u001b[0;34m'Population'\u001b[0m\u001b[0;34m]\u001b[0m\u001b[0;34m\u001b[0m\u001b[0;34m\u001b[0m\u001b[0m\n",
      "\u001b[0;32m~/anaconda3/lib/python3.7/site-packages/matplotlib/axes/_base.py\u001b[0m in \u001b[0;36mmargins\u001b[0;34m(self, x, y, tight, *margins)\u001b[0m\n\u001b[1;32m   2320\u001b[0m             \u001b[0mself\u001b[0m\u001b[0;34m.\u001b[0m\u001b[0mset_xmargin\u001b[0m\u001b[0;34m(\u001b[0m\u001b[0mx\u001b[0m\u001b[0;34m)\u001b[0m\u001b[0;34m\u001b[0m\u001b[0;34m\u001b[0m\u001b[0m\n\u001b[1;32m   2321\u001b[0m         \u001b[0;32mif\u001b[0m \u001b[0my\u001b[0m \u001b[0;32mis\u001b[0m \u001b[0;32mnot\u001b[0m \u001b[0;32mNone\u001b[0m\u001b[0;34m:\u001b[0m\u001b[0;34m\u001b[0m\u001b[0;34m\u001b[0m\u001b[0m\n\u001b[0;32m-> 2322\u001b[0;31m             \u001b[0mself\u001b[0m\u001b[0;34m.\u001b[0m\u001b[0mset_ymargin\u001b[0m\u001b[0;34m(\u001b[0m\u001b[0my\u001b[0m\u001b[0;34m)\u001b[0m\u001b[0;34m\u001b[0m\u001b[0;34m\u001b[0m\u001b[0m\n\u001b[0m\u001b[1;32m   2323\u001b[0m \u001b[0;34m\u001b[0m\u001b[0m\n\u001b[1;32m   2324\u001b[0m         self.autoscale_view(\n",
      "\u001b[0;32m~/anaconda3/lib/python3.7/site-packages/matplotlib/axes/_base.py\u001b[0m in \u001b[0;36mset_ymargin\u001b[0;34m(self, m)\u001b[0m\n\u001b[1;32m   2245\u001b[0m         \"\"\"\n\u001b[1;32m   2246\u001b[0m         \u001b[0;32mif\u001b[0m \u001b[0mm\u001b[0m \u001b[0;34m<=\u001b[0m \u001b[0;34m-\u001b[0m\u001b[0;36m0.5\u001b[0m\u001b[0;34m:\u001b[0m\u001b[0;34m\u001b[0m\u001b[0;34m\u001b[0m\u001b[0m\n\u001b[0;32m-> 2247\u001b[0;31m             \u001b[0;32mraise\u001b[0m \u001b[0mValueError\u001b[0m\u001b[0;34m(\u001b[0m\u001b[0;34m\"margin must be greater than -0.5\"\u001b[0m\u001b[0;34m)\u001b[0m\u001b[0;34m\u001b[0m\u001b[0;34m\u001b[0m\u001b[0m\n\u001b[0m\u001b[1;32m   2248\u001b[0m         \u001b[0mself\u001b[0m\u001b[0;34m.\u001b[0m\u001b[0m_ymargin\u001b[0m \u001b[0;34m=\u001b[0m \u001b[0mm\u001b[0m\u001b[0;34m\u001b[0m\u001b[0;34m\u001b[0m\u001b[0m\n\u001b[1;32m   2249\u001b[0m         \u001b[0mself\u001b[0m\u001b[0;34m.\u001b[0m\u001b[0mstale\u001b[0m \u001b[0;34m=\u001b[0m \u001b[0;32mTrue\u001b[0m\u001b[0;34m\u001b[0m\u001b[0;34m\u001b[0m\u001b[0m\n",
      "\u001b[0;31mValueError\u001b[0m: margin must be greater than -0.5"
     ]
    },
    {
     "data": {
      "image/png": "[encoded data removed]",
      "text/plain": [
       "<Figure size 432x288 with 1 Axes>"
      ]
     },
     "metadata": {
      "needs_background": "light"
     },
     "output_type": "display_data"
    }
   ],
   "source": [
    "import matplotlib.pyplot as plt\n",
    "\n",
    "pop_def = []\n",
    "m_value = df5['Population'].median()\n",
    "plt.axhline(y=m_value, color='r', linestyle='-', label='Mean')\n",
    "y = df4['Population']\n",
    "pop_def.append(y.loc['IRQ'])\n",
    "pop_def.append(y.loc['PAK'])\n",
    "pop_def.append(y.loc['IND'])\n",
    "pop_def.append(y.loc['AFG'])\n",
    "pop_def.append(y.loc['COL'])\n",
    "plt.bar([1,2,3,4,5],pop_def, tick_label=['Iraq', 'Pakistan', 'India', 'Afghanistan', 'Colombia'])\n",
    "plt.ylabel('Population')\n",
    "plt.grid()\n",
    "plt.show()"
   ]
  },
  {
   "cell_type": "markdown",
   "metadata": {},
   "source": [
    "<i>As we can see, the reasoning doesn't apply to some exceptions, like war zones such as Afghanistan</i>"
   ]
  },
  {
   "cell_type": "markdown",
   "metadata": {},
   "source": [
    "Now let's take a look to the <strong>Population Defense</strong>."
   ]
  },
  {
   "cell_type": "code",
   "execution_count": 65,
   "metadata": {},
   "outputs": [
    {
     "data": {
      "image/png": "[encoded data removed]",
      "text/plain": [
       "<Figure size 432x288 with 1 Axes>"
      ]
     },
     "metadata": {
      "needs_background": "light"
     },
     "output_type": "display_data"
    }
   ],
   "source": [
    "import matplotlib.pyplot as plt\n",
    "\n",
    "pop_def = []\n",
    "m_value = df5['PopulationDefense'].median()\n",
    "plt.axhline(y=m_value, color='r', linestyle='-', label='Mean')\n",
    "y = df4['PopulationDefense']\n",
    "pop_def.append(y.loc['IRQ'])\n",
    "pop_def.append(y.loc['PAK'])\n",
    "pop_def.append(y.loc['IND'])\n",
    "pop_def.append(y.loc['AFG'])\n",
    "pop_def.append(y.loc['COL'])\n",
    "plt.bar([1,2,3,4,5],pop_def, tick_label=['Iraq', 'Pakistan', 'India', 'Afghanistan', 'Colombia'])\n",
    "plt.ylabel('Population Defense')\n",
    "plt.grid()\n",
    "plt.show()"
   ]
  },
  {
   "cell_type": "markdown",
   "metadata": {},
   "source": [
    "<strong>Conclusion</strong>:<br>\n",
    "We have just checked for these 5 countries that the number of terroristic attack is the highest in the latest years; also, they all have in common a high numer of Urban Population (except to Afghanistan), together with a very low Population Defense.<br>\n",
    "About the Year, we have shown in different ways that lately (about from 2000 onward) the terrorism activity has increased."
   ]
  },
  {
   "cell_type": "code",
   "execution_count": 16,
   "metadata": {},
   "outputs": [
    {
     "data": {
      "text/html": [
       "<div>\n",
       "<style scoped>\n",
       "    .dataframe tbody tr th:only-of-type {\n",
       "        vertical-align: middle;\n",
       "    }\n",
       "\n",
       "    .dataframe tbody tr th {\n",
       "        vertical-align: top;\n",
       "    }\n",
       "\n",
       "    .dataframe thead th {\n",
       "        text-align: right;\n",
       "    }\n",
       "</style>\n",
       "<table border=\"1\" class=\"dataframe\">\n",
       "  <thead>\n",
       "    <tr style=\"text-align: right;\">\n",
       "      <th></th>\n",
       "      <th>SP.DYN.CBRT.IN</th>\n",
       "      <th>Population</th>\n",
       "      <th>Density</th>\n",
       "      <th>cnt</th>\n",
       "      <th>TerritoryDefense</th>\n",
       "      <th>PopulationDefense</th>\n",
       "    </tr>\n",
       "    <tr>\n",
       "      <th>CountryCode</th>\n",
       "      <th></th>\n",
       "      <th></th>\n",
       "      <th></th>\n",
       "      <th></th>\n",
       "      <th></th>\n",
       "      <th></th>\n",
       "    </tr>\n",
       "  </thead>\n",
       "  <tbody>\n",
       "    <tr>\n",
       "      <th>IDN</th>\n",
       "      <td>22.119417</td>\n",
       "      <td>2.454527e+08</td>\n",
       "      <td>112.599375</td>\n",
       "      <td>26.541667</td>\n",
       "      <td>1478.440858</td>\n",
       "      <td>0.936195</td>\n",
       "    </tr>\n",
       "    <tr>\n",
       "      <th>NGA</th>\n",
       "      <td>42.497833</td>\n",
       "      <td>1.318597e+08</td>\n",
       "      <td>140.766521</td>\n",
       "      <td>63.791667</td>\n",
       "      <td>1029.306039</td>\n",
       "      <td>1.626256</td>\n",
       "    </tr>\n",
       "    <tr>\n",
       "      <th>BGD</th>\n",
       "      <td>26.861458</td>\n",
       "      <td>1.473654e+08</td>\n",
       "      <td>926.917765</td>\n",
       "      <td>34.333333</td>\n",
       "      <td>6175.431626</td>\n",
       "      <td>1.641047</td>\n",
       "    </tr>\n",
       "    <tr>\n",
       "      <th>PHL</th>\n",
       "      <td>28.514000</td>\n",
       "      <td>8.946868e+07</td>\n",
       "      <td>267.063261</td>\n",
       "      <td>134.333333</td>\n",
       "      <td>5582.879591</td>\n",
       "      <td>1.688674</td>\n",
       "    </tr>\n",
       "    <tr>\n",
       "      <th>IND</th>\n",
       "      <td>25.751458</td>\n",
       "      <td>1.095352e+09</td>\n",
       "      <td>328.143591</td>\n",
       "      <td>290.541667</td>\n",
       "      <td>6576.190834</td>\n",
       "      <td>1.841075</td>\n",
       "    </tr>\n",
       "    <tr>\n",
       "      <th>USA</th>\n",
       "      <td>14.500000</td>\n",
       "      <td>2.984442e+08</td>\n",
       "      <td>29.162471</td>\n",
       "      <td>28.428571</td>\n",
       "      <td>40967.108544</td>\n",
       "      <td>2.150198</td>\n",
       "    </tr>\n",
       "    <tr>\n",
       "      <th>FRA</th>\n",
       "      <td>12.900000</td>\n",
       "      <td>6.087614e+07</td>\n",
       "      <td>112.801570</td>\n",
       "      <td>53.347826</td>\n",
       "      <td>89142.802749</td>\n",
       "      <td>2.181907</td>\n",
       "    </tr>\n",
       "    <tr>\n",
       "      <th>COL</th>\n",
       "      <td>20.693250</td>\n",
       "      <td>4.359304e+07</td>\n",
       "      <td>36.114905</td>\n",
       "      <td>180.958333</td>\n",
       "      <td>4390.780180</td>\n",
       "      <td>2.738396</td>\n",
       "    </tr>\n",
       "    <tr>\n",
       "      <th>DEU</th>\n",
       "      <td>9.127273</td>\n",
       "      <td>8.242230e+07</td>\n",
       "      <td>229.072461</td>\n",
       "      <td>26.409091</td>\n",
       "      <td>107337.676088</td>\n",
       "      <td>3.724169</td>\n",
       "    </tr>\n",
       "    <tr>\n",
       "      <th>THA</th>\n",
       "      <td>14.426667</td>\n",
       "      <td>6.463160e+07</td>\n",
       "      <td>122.528914</td>\n",
       "      <td>105.833333</td>\n",
       "      <td>6324.666811</td>\n",
       "      <td>4.076309</td>\n",
       "    </tr>\n",
       "  </tbody>\n",
       "</table>\n",
       "</div>"
      ],
      "text/plain": [
       "             SP.DYN.CBRT.IN    Population     Density         cnt  \\\n",
       "CountryCode                                                         \n",
       "IDN               22.119417  2.454527e+08  112.599375   26.541667   \n",
       "NGA               42.497833  1.318597e+08  140.766521   63.791667   \n",
       "BGD               26.861458  1.473654e+08  926.917765   34.333333   \n",
       "PHL               28.514000  8.946868e+07  267.063261  134.333333   \n",
       "IND               25.751458  1.095352e+09  328.143591  290.541667   \n",
       "USA               14.500000  2.984442e+08   29.162471   28.428571   \n",
       "FRA               12.900000  6.087614e+07  112.801570   53.347826   \n",
       "COL               20.693250  4.359304e+07   36.114905  180.958333   \n",
       "DEU                9.127273  8.242230e+07  229.072461   26.409091   \n",
       "THA               14.426667  6.463160e+07  122.528914  105.833333   \n",
       "\n",
       "             TerritoryDefense  PopulationDefense  \n",
       "CountryCode                                       \n",
       "IDN               1478.440858           0.936195  \n",
       "NGA               1029.306039           1.626256  \n",
       "BGD               6175.431626           1.641047  \n",
       "PHL               5582.879591           1.688674  \n",
       "IND               6576.190834           1.841075  \n",
       "USA              40967.108544           2.150198  \n",
       "FRA              89142.802749           2.181907  \n",
       "COL               4390.780180           2.738396  \n",
       "DEU             107337.676088           3.724169  \n",
       "THA               6324.666811           4.076309  "
      ]
     },
     "execution_count": 16,
     "metadata": {},
     "output_type": "execute_result"
    }
   ],
   "source": [
    "high = df4[df4['cnt'] > 14]  #mean belonging to class 2\n",
    "high.sort_values(['PopulationDefense'], ascending=True).head(10)"
   ]
  },
  {
   "cell_type": "code",
   "execution_count": 30,
   "metadata": {},
   "outputs": [
    {
     "data": {
      "image/png": "[encoded data removed]",
      "text/plain": [
       "<Figure size 432x288 with 1 Axes>"
      ]
     },
     "metadata": {
      "needs_background": "light"
     },
     "output_type": "display_data"
    }
   ],
   "source": [
    "import matplotlib.pyplot as plt\n",
    "\n",
    "pop_def = []\n",
    "m_value = df4['PopulationDefense'].median()\n",
    "plt.axhline(y=m_value, color='r', linestyle='-', label='Median')\n",
    "y = high['PopulationDefense']\n",
    "axis = []\n",
    "for i, country in enumerate(high.index):\n",
    "    pop_def.append(y.loc[country])\n",
    "    axis.append(i)\n",
    "\n",
    "pop_def.sort()\n",
    "plt.bar(axis,pop_def)\n",
    "plt.title(\"Natural scale - Countries (high number of attacks)\")\n",
    "plt.ylabel('Population Defense')\n",
    "plt.xlabel('Countries')\n",
    "plt.legend(['Population Defense median', 'Population Defense'])\n",
    "plt.grid()\n",
    "plt.show()"
   ]
  },
  {
   "cell_type": "code",
   "execution_count": 31,
   "metadata": {},
   "outputs": [
    {
     "data": {
      "text/html": [
       "<div>\n",
       "<style scoped>\n",
       "    .dataframe tbody tr th:only-of-type {\n",
       "        vertical-align: middle;\n",
       "    }\n",
       "\n",
       "    .dataframe tbody tr th {\n",
       "        vertical-align: top;\n",
       "    }\n",
       "\n",
       "    .dataframe thead th {\n",
       "        text-align: right;\n",
       "    }\n",
       "</style>\n",
       "<table border=\"1\" class=\"dataframe\">\n",
       "  <thead>\n",
       "    <tr style=\"text-align: right;\">\n",
       "      <th></th>\n",
       "      <th>SP.DYN.CBRT.IN</th>\n",
       "      <th>Population</th>\n",
       "      <th>Density</th>\n",
       "      <th>cnt</th>\n",
       "      <th>TerritoryDefense</th>\n",
       "      <th>PopulationDefense</th>\n",
       "    </tr>\n",
       "    <tr>\n",
       "      <th>CountryCode</th>\n",
       "      <th></th>\n",
       "      <th></th>\n",
       "      <th></th>\n",
       "      <th></th>\n",
       "      <th></th>\n",
       "      <th></th>\n",
       "    </tr>\n",
       "  </thead>\n",
       "  <tbody>\n",
       "    <tr>\n",
       "      <th>GRL</th>\n",
       "      <td>16.650000</td>\n",
       "      <td>56361.0</td>\n",
       "      <td>0.025940</td>\n",
       "      <td>0.000000</td>\n",
       "      <td>1.039943e+04</td>\n",
       "      <td>25753.642918</td>\n",
       "    </tr>\n",
       "    <tr>\n",
       "      <th>ABW</th>\n",
       "      <td>14.075208</td>\n",
       "      <td>71891.0</td>\n",
       "      <td>465.811744</td>\n",
       "      <td>0.000000</td>\n",
       "      <td>1.167154e+08</td>\n",
       "      <td>20190.302938</td>\n",
       "    </tr>\n",
       "    <tr>\n",
       "      <th>SYC</th>\n",
       "      <td>18.100000</td>\n",
       "      <td>81541.0</td>\n",
       "      <td>191.863736</td>\n",
       "      <td>0.000000</td>\n",
       "      <td>1.901363e+04</td>\n",
       "      <td>17800.874021</td>\n",
       "    </tr>\n",
       "    <tr>\n",
       "      <th>GRD</th>\n",
       "      <td>20.929958</td>\n",
       "      <td>89703.0</td>\n",
       "      <td>295.823038</td>\n",
       "      <td>0.000000</td>\n",
       "      <td>6.548276e+07</td>\n",
       "      <td>16181.187569</td>\n",
       "    </tr>\n",
       "    <tr>\n",
       "      <th>KIR</th>\n",
       "      <td>31.453958</td>\n",
       "      <td>105432.0</td>\n",
       "      <td>108.715783</td>\n",
       "      <td>0.000000</td>\n",
       "      <td>2.777567e+07</td>\n",
       "      <td>13195.916395</td>\n",
       "    </tr>\n",
       "    <tr>\n",
       "      <th>TON</th>\n",
       "      <td>28.566917</td>\n",
       "      <td>114689.0</td>\n",
       "      <td>132.809325</td>\n",
       "      <td>0.000000</td>\n",
       "      <td>3.011506e+07</td>\n",
       "      <td>11078.337373</td>\n",
       "    </tr>\n",
       "    <tr>\n",
       "      <th>GUM</th>\n",
       "      <td>21.077125</td>\n",
       "      <td>171019.0</td>\n",
       "      <td>281.795518</td>\n",
       "      <td>0.000000</td>\n",
       "      <td>4.163783e+07</td>\n",
       "      <td>8487.367301</td>\n",
       "    </tr>\n",
       "    <tr>\n",
       "      <th>WSM</th>\n",
       "      <td>30.143250</td>\n",
       "      <td>176908.0</td>\n",
       "      <td>59.955786</td>\n",
       "      <td>0.000000</td>\n",
       "      <td>7.651518e+06</td>\n",
       "      <td>8204.835669</td>\n",
       "    </tr>\n",
       "    <tr>\n",
       "      <th>VUT</th>\n",
       "      <td>31.456250</td>\n",
       "      <td>208869.0</td>\n",
       "      <td>16.056933</td>\n",
       "      <td>0.083333</td>\n",
       "      <td>1.846399e+06</td>\n",
       "      <td>6949.336994</td>\n",
       "    </tr>\n",
       "    <tr>\n",
       "      <th>NCL</th>\n",
       "      <td>19.875000</td>\n",
       "      <td>219246.0</td>\n",
       "      <td>11.436088</td>\n",
       "      <td>0.083333</td>\n",
       "      <td>1.181850e+06</td>\n",
       "      <td>6620.422122</td>\n",
       "    </tr>\n",
       "  </tbody>\n",
       "</table>\n",
       "</div>"
      ],
      "text/plain": [
       "             SP.DYN.CBRT.IN  Population     Density       cnt  \\\n",
       "CountryCode                                                     \n",
       "GRL               16.650000     56361.0    0.025940  0.000000   \n",
       "ABW               14.075208     71891.0  465.811744  0.000000   \n",
       "SYC               18.100000     81541.0  191.863736  0.000000   \n",
       "GRD               20.929958     89703.0  295.823038  0.000000   \n",
       "KIR               31.453958    105432.0  108.715783  0.000000   \n",
       "TON               28.566917    114689.0  132.809325  0.000000   \n",
       "GUM               21.077125    171019.0  281.795518  0.000000   \n",
       "WSM               30.143250    176908.0   59.955786  0.000000   \n",
       "VUT               31.456250    208869.0   16.056933  0.083333   \n",
       "NCL               19.875000    219246.0   11.436088  0.083333   \n",
       "\n",
       "             TerritoryDefense  PopulationDefense  \n",
       "CountryCode                                       \n",
       "GRL              1.039943e+04       25753.642918  \n",
       "ABW              1.167154e+08       20190.302938  \n",
       "SYC              1.901363e+04       17800.874021  \n",
       "GRD              6.548276e+07       16181.187569  \n",
       "KIR              2.777567e+07       13195.916395  \n",
       "TON              3.011506e+07       11078.337373  \n",
       "GUM              4.163783e+07        8487.367301  \n",
       "WSM              7.651518e+06        8204.835669  \n",
       "VUT              1.846399e+06        6949.336994  \n",
       "NCL              1.181850e+06        6620.422122  "
      ]
     },
     "execution_count": 31,
     "metadata": {},
     "output_type": "execute_result"
    }
   ],
   "source": [
    "low = df4[df4['cnt'] < 1]  #mean belonging to class 0\n",
    "low.sort_values(['PopulationDefense'], ascending=False).head(10)"
   ]
  },
  {
   "cell_type": "code",
   "execution_count": 33,
   "metadata": {},
   "outputs": [
    {
     "data": {
      "image/png": "[encoded data removed]",
      "text/plain": [
       "<Figure size 432x288 with 1 Axes>"
      ]
     },
     "metadata": {
      "needs_background": "light"
     },
     "output_type": "display_data"
    }
   ],
   "source": [
    "import matplotlib.pyplot as plt\n",
    "\n",
    "f, ax = plt.subplots()\n",
    "ax.set_yscale('log')\n",
    "\n",
    "pop_def = []\n",
    "m_value = df4['PopulationDefense'].median()\n",
    "plt.axhline(y=m_value, color='r', linestyle='-', label='Median')\n",
    "y = low['PopulationDefense']\n",
    "axis = []\n",
    "for i, country in enumerate(low.index):\n",
    "    pop_def.append(y.loc[country])\n",
    "    axis.append(i)\n",
    "\n",
    "pop_def.sort()\n",
    "plt.bar(axis, pop_def)\n",
    "plt.title(\"Log scale - Countries (low number of attacks)\")\n",
    "plt.ylabel('Population Defense')\n",
    "plt.xlabel('Countries')\n",
    "plt.legend(['Population Defense median', 'Population Defense'])\n",
    "plt.grid()\n",
    "plt.show()"
   ]
  },
  {
   "cell_type": "code",
   "execution_count": 36,
   "metadata": {},
   "outputs": [
    {
     "data": {
      "image/png": "[encoded data removed]",
      "text/plain": [
       "<Figure size 432x288 with 1 Axes>"
      ]
     },
     "metadata": {
      "needs_background": "light"
     },
     "output_type": "display_data"
    }
   ],
   "source": [
    "import matplotlib.pyplot as plt\n",
    "\n",
    "f, ax = plt.subplots()\n",
    "ax.set_yscale('log')\n",
    "\n",
    "pop_def = []\n",
    "m_value = df4['Population'].median()\n",
    "plt.axhline(y=m_value, color='r', linestyle='-', label='Median')\n",
    "y = high['Population']\n",
    "axis = []\n",
    "for i, country in enumerate(high.index):\n",
    "    pop_def.append(y.loc[country])\n",
    "    axis.append(i)\n",
    "\n",
    "pop_def.sort()\n",
    "plt.bar(axis, pop_def)\n",
    "plt.title(\"Log scale - Countries (high number of attacks)\")\n",
    "plt.ylabel('Population')\n",
    "plt.xlabel('Countries')\n",
    "plt.legend(['Population median', 'Population'])\n",
    "plt.grid()\n",
    "plt.show()"
   ]
  },
  {
   "cell_type": "code",
   "execution_count": 41,
   "metadata": {},
   "outputs": [
    {
     "data": {
      "image/png": "[encoded data removed]",
      "text/plain": [
       "<Figure size 432x288 with 1 Axes>"
      ]
     },
     "metadata": {
      "needs_background": "light"
     },
     "output_type": "display_data"
    }
   ],
   "source": [
    "import matplotlib.pyplot as plt\n",
    "\n",
    "f, ax = plt.subplots()\n",
    "ax.set_yscale('log')\n",
    "\n",
    "pop_def = []\n",
    "m_value = df4['Population'].median()\n",
    "plt.axhline(y=m_value, color='r', linestyle='-', label='Median')\n",
    "y = low['Population']\n",
    "axis = []\n",
    "for i, country in enumerate(low.index):\n",
    "    pop_def.append(y.loc[country])\n",
    "    axis.append(i)\n",
    "\n",
    "pop_def.sort()\n",
    "plt.bar(axis, pop_def)\n",
    "plt.title(\"Log scale - Countries (low number of attacks)\")\n",
    "plt.ylabel('Population')\n",
    "plt.xlabel('Countries')\n",
    "plt.legend(['Population median', 'Population'])\n",
    "plt.grid()\n",
    "plt.show()"
   ]
  },
  {
   "cell_type": "code",
   "execution_count": 80,
   "metadata": {},
   "outputs": [
    {
     "data": {
      "image/png": "[encoded data removed]",
      "text/plain": [
       "<Figure size 720x720 with 1 Axes>"
      ]
     },
     "metadata": {
      "needs_background": "light"
     },
     "output_type": "display_data"
    }
   ],
   "source": [
    "import matplotlib.pyplot as plt\n",
    "\n",
    "f, ax = plt.subplots(figsize=(10, 10))\n",
    "ax.set_yscale('log')\n",
    "\n",
    "pop_def = []\n",
    "m_value = df4['Population'].mean()\n",
    "plt.axhline(y=m_value, color='r', linestyle='-', label='Median')\n",
    "y = low['Population']\n",
    "axis = []\n",
    "for i, country in enumerate(low.index):\n",
    "    pop_def.append(y.loc[country])\n",
    "    axis.append(i)\n",
    "\n",
    "pop_def.sort()\n",
    "plt.bar(axis, pop_def)\n",
    "plt.title(\"Log scale - Countries of class 0 (0-3 attacks)\")\n",
    "plt.ylabel('Population')\n",
    "plt.legend(['Population mean', 'Population'])\n",
    "plt.grid()\n",
    "plt.show()"
   ]
  },
  {
   "cell_type": "markdown",
   "metadata": {},
   "source": [
    "Now I compare the barplots of PopulationDefense vs Population"
   ]
  },
  {
   "cell_type": "code",
   "execution_count": 138,
   "metadata": {},
   "outputs": [
    {
     "data": {
      "image/png": "[encoded data removed]",
      "text/plain": [
       "<Figure size 1080x504 with 2 Axes>"
      ]
     },
     "metadata": {
      "needs_background": "light"
     },
     "output_type": "display_data"
    }
   ],
   "source": [
    "import matplotlib.pyplot as plt\n",
    "\n",
    "pop_def = []\n",
    "pop = []\n",
    "m_value = df4['PopulationDefense'].median()\n",
    "y = high['PopulationDefense']\n",
    "y2 = high['Population']\n",
    "axis = []\n",
    "\n",
    "for i, country in enumerate(high.index):\n",
    "    pop_def.append(y.loc[country])\n",
    "    pop.append(y2.loc[country])\n",
    "    axis.append(i)\n",
    "\n",
    "dict1 = {'PopDef' : pop_def, 'Pop': pop}\n",
    "tot = pd.DataFrame(dict1)\n",
    "tot.sort_values(by = 'PopDef', inplace=True)\n",
    "\n",
    "#Plot graph with 2 y axes\n",
    "fig, ax1 = plt.subplots(figsize=(15,7))\n",
    "\n",
    "#Plot bars\n",
    "ax1.bar(axis, tot['PopDef'], alpha=0.3)\n",
    "\n",
    "# Make the y-axis label and tick labels match the line color.\n",
    "ax1.set_ylabel('Population Defense', color='b')\n",
    "[tl.set_color('b') for tl in ax1.get_yticklabels()]\n",
    "plt.axhline(y=m_value, color='g', linestyle='-', label='Median')\n",
    "plt.legend(['Population Defense Median', 'Population Defense'])\n",
    "\n",
    "#Set up ax2 to be the second y axis with x shared\n",
    "ax2 = ax1.twinx()\n",
    "#Plot a line\n",
    "ax2.plot(axis,tot['Pop'], 'r-')\n",
    "\n",
    "# Make the y-axis label and tick labels match the line color.\n",
    "ax2.set_ylabel('Population', color='r')\n",
    "[tl.set_color('r') for tl in ax2.get_yticklabels()]\n",
    "\n",
    "ax1.set_yscale('log')\n",
    "ax2.set_yscale('log')\n",
    "\n",
    "plt.title(\"Log scale - Countries of class 3 (>14 attacks)\")\n",
    "plt.grid()\n",
    "plt.savefig('Img/High-comparing.png')\n",
    "plt.show()\n"
   ]
  },
  {
   "cell_type": "code",
   "execution_count": 139,
   "metadata": {},
   "outputs": [
    {
     "data": {
      "image/png": "[encoded data removed]",
      "text/plain": [
       "<Figure size 1080x504 with 2 Axes>"
      ]
     },
     "metadata": {
      "needs_background": "light"
     },
     "output_type": "display_data"
    }
   ],
   "source": [
    "import matplotlib.pyplot as plt\n",
    "\n",
    "pop_def = []\n",
    "pop = []\n",
    "m_value = df4['PopulationDefense'].median()\n",
    "y = low['PopulationDefense']\n",
    "y2 = low['Population']\n",
    "axis = []\n",
    "\n",
    "for i, country in enumerate(low.index):\n",
    "    pop_def.append(y.loc[country])\n",
    "    pop.append(y2.loc[country])\n",
    "    axis.append(i)\n",
    "\n",
    "dict1 = {'PopDef' : pop_def, 'Pop': pop}\n",
    "tot = pd.DataFrame(dict1)\n",
    "tot.sort_values(by = 'PopDef', inplace=True)\n",
    "\n",
    "#Plot graph with 2 y axes\n",
    "fig, ax1 = plt.subplots(figsize=(15,7))\n",
    "\n",
    "#Plot bars\n",
    "ax1.bar(axis, tot['PopDef'], alpha=0.3)\n",
    "\n",
    "# Make the y-axis label and tick labels match the line color.\n",
    "ax1.set_ylabel('Population Defense', color='b')\n",
    "[tl.set_color('b') for tl in ax1.get_yticklabels()]\n",
    "plt.axhline(y=m_value, color='g', linestyle='-', label='Median')\n",
    "plt.legend(['Population Defense Median', 'Population Defense'])\n",
    "\n",
    "\n",
    "#Set up ax2 to be the second y axis with x shared\n",
    "ax2 = ax1.twinx()\n",
    "#Plot a line\n",
    "ax2.plot(axis,tot['Pop'], 'r-')\n",
    "\n",
    "# Make the y-axis label and tick labels match the line color.\n",
    "ax2.set_ylabel('Population', color='r')\n",
    "[tl.set_color('r') for tl in ax2.get_yticklabels()]\n",
    "\n",
    "ax1.set_yscale('log')\n",
    "ax2.set_yscale('log')\n",
    "\n",
    "plt.title(\"Log scale - Countries of class 0 (0-3 attacks)\")\n",
    "plt.grid()\n",
    "plt.savefig('Img/Low-comparing.png')\n",
    "plt.show()\n"
   ]
  },
  {
   "cell_type": "code",
   "execution_count": null,
   "metadata": {},
   "outputs": [],
   "source": []
  },
  {
   "cell_type": "code",
   "execution_count": null,
   "metadata": {},
   "outputs": [],
   "source": []
  }
 ],
 "metadata": {
  "kernelspec": {
   "display_name": "Python 3",
   "language": "python",
   "name": "python3"
  },
  "language_info": {
   "codemirror_mode": {
    "name": "ipython",
    "version": 3
   },
   "file_extension": ".py",
   "mimetype": "text/x-python",
   "name": "python",
   "nbconvert_exporter": "python",
   "pygments_lexer": "ipython3",
   "version": "3.7.6"
  }
 },
 "nbformat": 4,
 "nbformat_minor": 4
}
