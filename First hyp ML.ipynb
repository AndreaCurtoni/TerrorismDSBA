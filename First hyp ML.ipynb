{
 "cells": [
  {
   "cell_type": "markdown",
   "metadata": {},
   "source": [
    "# Script used to perform regression, trying to predict the number of attaccks per state, per year."
   ]
  },
  {
   "cell_type": "code",
   "execution_count": 1,
   "metadata": {},
   "outputs": [],
   "source": [
    "import pandas as pd\n",
    "import numpy as np\n",
    "import seaborn as sns\n",
    "import matplotlib.pyplot as plt"
   ]
  },
  {
   "cell_type": "code",
   "execution_count": 2,
   "metadata": {},
   "outputs": [],
   "source": [
    "df = pd.read_csv('./part/DF1sthypTOT')"
   ]
  },
  {
   "cell_type": "code",
   "execution_count": 3,
   "metadata": {},
   "outputs": [
    {
     "data": {
      "text/html": [
       "<div>\n",
       "<style scoped>\n",
       "    .dataframe tbody tr th:only-of-type {\n",
       "        vertical-align: middle;\n",
       "    }\n",
       "\n",
       "    .dataframe tbody tr th {\n",
       "        vertical-align: top;\n",
       "    }\n",
       "\n",
       "    .dataframe thead th {\n",
       "        text-align: right;\n",
       "    }\n",
       "</style>\n",
       "<table border=\"1\" class=\"dataframe\">\n",
       "  <thead>\n",
       "    <tr style=\"text-align: right;\">\n",
       "      <th></th>\n",
       "      <th>SP.DYN.AMRT.MA</th>\n",
       "      <th>SP.DYN.CBRT.IN</th>\n",
       "      <th>CountryCode</th>\n",
       "      <th>Year</th>\n",
       "      <th>SP.DYN.LE00.IN</th>\n",
       "      <th>MS.MIL.MPRT.KD</th>\n",
       "      <th>SP.URB.TOTL</th>\n",
       "      <th>SP.RUR.TOTL</th>\n",
       "      <th>SP.DYN.AMRT.FE</th>\n",
       "      <th>MilitaryExp</th>\n",
       "      <th>Density</th>\n",
       "      <th>cnt</th>\n",
       "    </tr>\n",
       "  </thead>\n",
       "  <tbody>\n",
       "    <tr>\n",
       "      <th>0</th>\n",
       "      <td>604.5970</td>\n",
       "      <td>51.276</td>\n",
       "      <td>AFG</td>\n",
       "      <td>1960</td>\n",
       "      <td>32.328512</td>\n",
       "      <td>4.000000e+07</td>\n",
       "      <td>739462.0</td>\n",
       "      <td>8255331.0</td>\n",
       "      <td>551.1210</td>\n",
       "      <td>2.252607e+10</td>\n",
       "      <td>13.891572</td>\n",
       "      <td>0.0</td>\n",
       "    </tr>\n",
       "    <tr>\n",
       "      <th>1</th>\n",
       "      <td>160.4806</td>\n",
       "      <td>42.240</td>\n",
       "      <td>ALB</td>\n",
       "      <td>1960</td>\n",
       "      <td>62.254366</td>\n",
       "      <td>6.200000e+07</td>\n",
       "      <td>493982.0</td>\n",
       "      <td>1114818.0</td>\n",
       "      <td>151.0588</td>\n",
       "      <td>2.252607e+10</td>\n",
       "      <td>55.962154</td>\n",
       "      <td>0.0</td>\n",
       "    </tr>\n",
       "    <tr>\n",
       "      <th>2</th>\n",
       "      <td>373.1320</td>\n",
       "      <td>49.671</td>\n",
       "      <td>DZA</td>\n",
       "      <td>1960</td>\n",
       "      <td>46.135122</td>\n",
       "      <td>1.451501e+09</td>\n",
       "      <td>3394205.0</td>\n",
       "      <td>7730687.0</td>\n",
       "      <td>323.2800</td>\n",
       "      <td>2.252607e+10</td>\n",
       "      <td>4.670910</td>\n",
       "      <td>0.0</td>\n",
       "    </tr>\n",
       "    <tr>\n",
       "      <th>3</th>\n",
       "      <td>565.4100</td>\n",
       "      <td>54.423</td>\n",
       "      <td>AGO</td>\n",
       "      <td>1960</td>\n",
       "      <td>32.984829</td>\n",
       "      <td>1.451501e+09</td>\n",
       "      <td>550013.0</td>\n",
       "      <td>4720831.0</td>\n",
       "      <td>500.8860</td>\n",
       "      <td>2.252607e+10</td>\n",
       "      <td>4.227837</td>\n",
       "      <td>0.0</td>\n",
       "    </tr>\n",
       "    <tr>\n",
       "      <th>4</th>\n",
       "      <td>275.5520</td>\n",
       "      <td>32.920</td>\n",
       "      <td>ATG</td>\n",
       "      <td>1960</td>\n",
       "      <td>61.782732</td>\n",
       "      <td>1.451501e+09</td>\n",
       "      <td>21684.0</td>\n",
       "      <td>32997.0</td>\n",
       "      <td>244.9240</td>\n",
       "      <td>2.252607e+10</td>\n",
       "      <td>123.433409</td>\n",
       "      <td>0.0</td>\n",
       "    </tr>\n",
       "  </tbody>\n",
       "</table>\n",
       "</div>"
      ],
      "text/plain": [
       "   SP.DYN.AMRT.MA  SP.DYN.CBRT.IN CountryCode  Year  SP.DYN.LE00.IN  \\\n",
       "0        604.5970          51.276         AFG  1960       32.328512   \n",
       "1        160.4806          42.240         ALB  1960       62.254366   \n",
       "2        373.1320          49.671         DZA  1960       46.135122   \n",
       "3        565.4100          54.423         AGO  1960       32.984829   \n",
       "4        275.5520          32.920         ATG  1960       61.782732   \n",
       "\n",
       "   MS.MIL.MPRT.KD  SP.URB.TOTL  SP.RUR.TOTL  SP.DYN.AMRT.FE   MilitaryExp  \\\n",
       "0    4.000000e+07     739462.0    8255331.0        551.1210  2.252607e+10   \n",
       "1    6.200000e+07     493982.0    1114818.0        151.0588  2.252607e+10   \n",
       "2    1.451501e+09    3394205.0    7730687.0        323.2800  2.252607e+10   \n",
       "3    1.451501e+09     550013.0    4720831.0        500.8860  2.252607e+10   \n",
       "4    1.451501e+09      21684.0      32997.0        244.9240  2.252607e+10   \n",
       "\n",
       "      Density  cnt  \n",
       "0   13.891572  0.0  \n",
       "1   55.962154  0.0  \n",
       "2    4.670910  0.0  \n",
       "3    4.227837  0.0  \n",
       "4  123.433409  0.0  "
      ]
     },
     "execution_count": 3,
     "metadata": {},
     "output_type": "execute_result"
    }
   ],
   "source": [
    "df.head()"
   ]
  },
  {
   "cell_type": "code",
   "execution_count": 4,
   "metadata": {},
   "outputs": [],
   "source": [
    "del df['CountryCode']"
   ]
  },
  {
   "cell_type": "code",
   "execution_count": 5,
   "metadata": {},
   "outputs": [
    {
     "data": {
      "text/plain": [
       "SP.DYN.AMRT.MA    float64\n",
       "SP.DYN.CBRT.IN    float64\n",
       "Year                int64\n",
       "SP.DYN.LE00.IN    float64\n",
       "MS.MIL.MPRT.KD    float64\n",
       "SP.URB.TOTL       float64\n",
       "SP.RUR.TOTL       float64\n",
       "SP.DYN.AMRT.FE    float64\n",
       "MilitaryExp       float64\n",
       "Density           float64\n",
       "cnt               float64\n",
       "dtype: object"
      ]
     },
     "execution_count": 5,
     "metadata": {},
     "output_type": "execute_result"
    }
   ],
   "source": [
    "df.dtypes"
   ]
  },
  {
   "cell_type": "code",
   "execution_count": 6,
   "metadata": {},
   "outputs": [
    {
     "data": {
      "text/html": [
       "<div>\n",
       "<style scoped>\n",
       "    .dataframe tbody tr th:only-of-type {\n",
       "        vertical-align: middle;\n",
       "    }\n",
       "\n",
       "    .dataframe tbody tr th {\n",
       "        vertical-align: top;\n",
       "    }\n",
       "\n",
       "    .dataframe thead th {\n",
       "        text-align: right;\n",
       "    }\n",
       "</style>\n",
       "<table border=\"1\" class=\"dataframe\">\n",
       "  <thead>\n",
       "    <tr style=\"text-align: right;\">\n",
       "      <th></th>\n",
       "      <th>SP.DYN.AMRT.MA</th>\n",
       "      <th>SP.DYN.CBRT.IN</th>\n",
       "      <th>Year</th>\n",
       "      <th>SP.DYN.LE00.IN</th>\n",
       "      <th>MS.MIL.MPRT.KD</th>\n",
       "      <th>SP.URB.TOTL</th>\n",
       "      <th>SP.RUR.TOTL</th>\n",
       "      <th>SP.DYN.AMRT.FE</th>\n",
       "      <th>MilitaryExp</th>\n",
       "      <th>Density</th>\n",
       "      <th>cnt</th>\n",
       "    </tr>\n",
       "  </thead>\n",
       "  <tbody>\n",
       "    <tr>\n",
       "      <th>count</th>\n",
       "      <td>9675.000000</td>\n",
       "      <td>9675.000000</td>\n",
       "      <td>9675.000000</td>\n",
       "      <td>9675.000000</td>\n",
       "      <td>9.675000e+03</td>\n",
       "      <td>9.675000e+03</td>\n",
       "      <td>9.675000e+03</td>\n",
       "      <td>9675.000000</td>\n",
       "      <td>9.675000e+03</td>\n",
       "      <td>9675.000000</td>\n",
       "      <td>9675.000000</td>\n",
       "    </tr>\n",
       "    <tr>\n",
       "      <th>mean</th>\n",
       "      <td>270.397297</td>\n",
       "      <td>30.040825</td>\n",
       "      <td>1986.390698</td>\n",
       "      <td>63.051208</td>\n",
       "      <td>8.126313e+08</td>\n",
       "      <td>1.151509e+07</td>\n",
       "      <td>1.518205e+07</td>\n",
       "      <td>199.607566</td>\n",
       "      <td>1.143548e+10</td>\n",
       "      <td>218.366585</td>\n",
       "      <td>12.366408</td>\n",
       "    </tr>\n",
       "    <tr>\n",
       "      <th>std</th>\n",
       "      <td>117.642358</td>\n",
       "      <td>13.020843</td>\n",
       "      <td>15.461280</td>\n",
       "      <td>11.333782</td>\n",
       "      <td>6.941853e+08</td>\n",
       "      <td>3.798078e+07</td>\n",
       "      <td>7.352284e+07</td>\n",
       "      <td>123.317763</td>\n",
       "      <td>2.374492e+10</td>\n",
       "      <td>1079.839746</td>\n",
       "      <td>74.534341</td>\n",
       "    </tr>\n",
       "    <tr>\n",
       "      <th>min</th>\n",
       "      <td>63.413000</td>\n",
       "      <td>6.900000</td>\n",
       "      <td>1960.000000</td>\n",
       "      <td>19.265512</td>\n",
       "      <td>0.000000e+00</td>\n",
       "      <td>6.627000e+03</td>\n",
       "      <td>0.000000e+00</td>\n",
       "      <td>29.171200</td>\n",
       "      <td>0.000000e+00</td>\n",
       "      <td>0.025899</td>\n",
       "      <td>0.000000</td>\n",
       "    </tr>\n",
       "    <tr>\n",
       "      <th>25%</th>\n",
       "      <td>182.181000</td>\n",
       "      <td>18.100000</td>\n",
       "      <td>1973.000000</td>\n",
       "      <td>54.847293</td>\n",
       "      <td>5.100000e+07</td>\n",
       "      <td>4.038695e+05</td>\n",
       "      <td>5.039915e+05</td>\n",
       "      <td>103.424500</td>\n",
       "      <td>1.425978e+08</td>\n",
       "      <td>15.926800</td>\n",
       "      <td>0.000000</td>\n",
       "    </tr>\n",
       "    <tr>\n",
       "      <th>50%</th>\n",
       "      <td>251.514000</td>\n",
       "      <td>30.063000</td>\n",
       "      <td>1986.000000</td>\n",
       "      <td>66.024927</td>\n",
       "      <td>9.780000e+08</td>\n",
       "      <td>1.994928e+06</td>\n",
       "      <td>2.519806e+06</td>\n",
       "      <td>159.363000</td>\n",
       "      <td>2.672286e+09</td>\n",
       "      <td>49.687727</td>\n",
       "      <td>0.000000</td>\n",
       "    </tr>\n",
       "    <tr>\n",
       "      <th>75%</th>\n",
       "      <td>341.427000</td>\n",
       "      <td>41.978500</td>\n",
       "      <td>2000.000000</td>\n",
       "      <td>71.670195</td>\n",
       "      <td>1.451501e+09</td>\n",
       "      <td>6.918278e+06</td>\n",
       "      <td>7.815200e+06</td>\n",
       "      <td>280.066500</td>\n",
       "      <td>2.252607e+10</td>\n",
       "      <td>117.831373</td>\n",
       "      <td>1.000000</td>\n",
       "    </tr>\n",
       "    <tr>\n",
       "      <th>max</th>\n",
       "      <td>921.630000</td>\n",
       "      <td>57.637000</td>\n",
       "      <td>2013.000000</td>\n",
       "      <td>83.831707</td>\n",
       "      <td>5.566000e+09</td>\n",
       "      <td>7.216918e+08</td>\n",
       "      <td>8.701360e+08</td>\n",
       "      <td>799.382000</td>\n",
       "      <td>6.980000e+11</td>\n",
       "      <td>20287.714286</td>\n",
       "      <td>2852.000000</td>\n",
       "    </tr>\n",
       "  </tbody>\n",
       "</table>\n",
       "</div>"
      ],
      "text/plain": [
       "       SP.DYN.AMRT.MA  SP.DYN.CBRT.IN         Year  SP.DYN.LE00.IN  \\\n",
       "count     9675.000000     9675.000000  9675.000000     9675.000000   \n",
       "mean       270.397297       30.040825  1986.390698       63.051208   \n",
       "std        117.642358       13.020843    15.461280       11.333782   \n",
       "min         63.413000        6.900000  1960.000000       19.265512   \n",
       "25%        182.181000       18.100000  1973.000000       54.847293   \n",
       "50%        251.514000       30.063000  1986.000000       66.024927   \n",
       "75%        341.427000       41.978500  2000.000000       71.670195   \n",
       "max        921.630000       57.637000  2013.000000       83.831707   \n",
       "\n",
       "       MS.MIL.MPRT.KD   SP.URB.TOTL   SP.RUR.TOTL  SP.DYN.AMRT.FE  \\\n",
       "count    9.675000e+03  9.675000e+03  9.675000e+03     9675.000000   \n",
       "mean     8.126313e+08  1.151509e+07  1.518205e+07      199.607566   \n",
       "std      6.941853e+08  3.798078e+07  7.352284e+07      123.317763   \n",
       "min      0.000000e+00  6.627000e+03  0.000000e+00       29.171200   \n",
       "25%      5.100000e+07  4.038695e+05  5.039915e+05      103.424500   \n",
       "50%      9.780000e+08  1.994928e+06  2.519806e+06      159.363000   \n",
       "75%      1.451501e+09  6.918278e+06  7.815200e+06      280.066500   \n",
       "max      5.566000e+09  7.216918e+08  8.701360e+08      799.382000   \n",
       "\n",
       "        MilitaryExp       Density          cnt  \n",
       "count  9.675000e+03   9675.000000  9675.000000  \n",
       "mean   1.143548e+10    218.366585    12.366408  \n",
       "std    2.374492e+10   1079.839746    74.534341  \n",
       "min    0.000000e+00      0.025899     0.000000  \n",
       "25%    1.425978e+08     15.926800     0.000000  \n",
       "50%    2.672286e+09     49.687727     0.000000  \n",
       "75%    2.252607e+10    117.831373     1.000000  \n",
       "max    6.980000e+11  20287.714286  2852.000000  "
      ]
     },
     "execution_count": 6,
     "metadata": {},
     "output_type": "execute_result"
    }
   ],
   "source": [
    "df.describe()"
   ]
  },
  {
   "cell_type": "code",
   "execution_count": 7,
   "metadata": {},
   "outputs": [
    {
     "data": {
      "text/plain": [
       "array([[<matplotlib.axes._subplots.AxesSubplot object at 0x7fb7418be080>,\n",
       "        <matplotlib.axes._subplots.AxesSubplot object at 0x7fb7415d2c50>,\n",
       "        <matplotlib.axes._subplots.AxesSubplot object at 0x7fb741603208>],\n",
       "       [<matplotlib.axes._subplots.AxesSubplot object at 0x7fb7415a9780>,\n",
       "        <matplotlib.axes._subplots.AxesSubplot object at 0x7fb741550cf8>,\n",
       "        <matplotlib.axes._subplots.AxesSubplot object at 0x7fb74157d2b0>],\n",
       "       [<matplotlib.axes._subplots.AxesSubplot object at 0x7fb741523828>,\n",
       "        <matplotlib.axes._subplots.AxesSubplot object at 0x7fb7414cedd8>,\n",
       "        <matplotlib.axes._subplots.AxesSubplot object at 0x7fb7414cee10>],\n",
       "       [<matplotlib.axes._subplots.AxesSubplot object at 0x7fb7414a58d0>,\n",
       "        <matplotlib.axes._subplots.AxesSubplot object at 0x7fb74144de48>,\n",
       "        <matplotlib.axes._subplots.AxesSubplot object at 0x7fb74147b400>]],\n",
       "      dtype=object)"
      ]
     },
     "execution_count": 7,
     "metadata": {},
     "output_type": "execute_result"
    },
    {
     "data": {
      "image/png": "[encoded data removed]",
      "text/plain": [
       "<Figure size 1080x1080 with 12 Axes>"
      ]
     },
     "metadata": {
      "needs_background": "light"
     },
     "output_type": "display_data"
    }
   ],
   "source": [
    "df.hist(figsize=(15,15))"
   ]
  },
  {
   "cell_type": "code",
   "execution_count": 8,
   "metadata": {},
   "outputs": [
    {
     "name": "stdout",
     "output_type": "stream",
     "text": [
      "Shape of the df:  (9675, 11)\n",
      "Number of cnt = 0:  (6719, 11)\n"
     ]
    }
   ],
   "source": [
    "df_std = df \n",
    "\n",
    "print('Shape of the df: ', df_std.shape)\n",
    "print('Number of cnt = 0: ', df_std[df_std['cnt'] == 0].shape)"
   ]
  },
  {
   "cell_type": "markdown",
   "metadata": {},
   "source": [
    "#### We had a lot of values of cnt equal to zero. So we decided to delete all of them, focusing more on the other values of cnt."
   ]
  },
  {
   "cell_type": "code",
   "execution_count": 9,
   "metadata": {},
   "outputs": [
    {
     "data": {
      "text/plain": [
       "<matplotlib.axes._subplots.AxesSubplot at 0x7fb740d3edd8>"
      ]
     },
     "execution_count": 9,
     "metadata": {},
     "output_type": "execute_result"
    },
    {
     "data": {
      "image/png": "[encoded data removed]",
      "text/plain": [
       "<Figure size 432x288 with 1 Axes>"
      ]
     },
     "metadata": {
      "needs_background": "light"
     },
     "output_type": "display_data"
    }
   ],
   "source": [
    "df_std = df_std[df_std['cnt'] > 0]\n",
    "df_std['cnt'].hist(bins=150)"
   ]
  },
  {
   "cell_type": "code",
   "execution_count": 10,
   "metadata": {},
   "outputs": [
    {
     "name": "stdout",
     "output_type": "stream",
     "text": [
      "Shape of the df:  (2956, 11)\n"
     ]
    }
   ],
   "source": [
    "print('Shape of the df: ', df_std.shape)"
   ]
  },
  {
   "cell_type": "code",
   "execution_count": 11,
   "metadata": {},
   "outputs": [
    {
     "data": {
      "text/plain": [
       "<matplotlib.axes._subplots.AxesSubplot at 0x7fb7410c7080>"
      ]
     },
     "execution_count": 11,
     "metadata": {},
     "output_type": "execute_result"
    },
    {
     "data": {
      "image/png": "[encoded data removed]",
      "text/plain": [
       "<Figure size 432x288 with 2 Axes>"
      ]
     },
     "metadata": {
      "needs_background": "light"
     },
     "output_type": "display_data"
    }
   ],
   "source": [
    "corr = df_std.corr()\n",
    "sns.heatmap(corr, mask=np.zeros_like(corr, dtype=np.bool), cmap=sns.diverging_palette(220,10, as_cmap=True), square=True)"
   ]
  },
  {
   "cell_type": "code",
   "execution_count": 12,
   "metadata": {},
   "outputs": [],
   "source": [
    "del df_std['SP.RUR.TOTL']\n",
    "del df_std['SP.DYN.AMRT.FE']\n",
    "del df_std['SP.DYN.AMRT.MA']\n",
    "del df_std['SP.DYN.LE00.IN']\n",
    "\n",
    "#we deleted them because of collinearity.\n"
   ]
  },
  {
   "cell_type": "code",
   "execution_count": 13,
   "metadata": {},
   "outputs": [
    {
     "data": {
      "text/plain": [
       "<matplotlib.axes._subplots.AxesSubplot at 0x7fb741004438>"
      ]
     },
     "execution_count": 13,
     "metadata": {},
     "output_type": "execute_result"
    },
    {
     "data": {
      "image/png": "[encoded data removed]",
      "text/plain": [
       "<Figure size 432x288 with 2 Axes>"
      ]
     },
     "metadata": {
      "needs_background": "light"
     },
     "output_type": "display_data"
    }
   ],
   "source": [
    "corr = df_std.corr()\n",
    "sns.heatmap(corr, mask=np.zeros_like(corr, dtype=np.bool), cmap=sns.diverging_palette(220,10, as_cmap=True), square=True)"
   ]
  },
  {
   "cell_type": "code",
   "execution_count": 14,
   "metadata": {},
   "outputs": [],
   "source": [
    "from sklearn.model_selection import train_test_split\n",
    "\n",
    "feature_matrix = df_std.loc[:, df_std.columns != 'cnt']\n",
    "target_vector = df_std.cnt\n",
    "\n",
    "x_train, x_test, y_train, y_test = train_test_split(feature_matrix, target_vector, test_size=0.2, random_state=1)"
   ]
  },
  {
   "cell_type": "code",
   "execution_count": 15,
   "metadata": {},
   "outputs": [
    {
     "data": {
      "text/plain": [
       "(2364, 6)"
      ]
     },
     "execution_count": 15,
     "metadata": {},
     "output_type": "execute_result"
    }
   ],
   "source": [
    "x_train.shape"
   ]
  },
  {
   "cell_type": "code",
   "execution_count": 16,
   "metadata": {},
   "outputs": [
    {
     "data": {
      "text/plain": [
       "(592, 6)"
      ]
     },
     "execution_count": 16,
     "metadata": {},
     "output_type": "execute_result"
    }
   ],
   "source": [
    "x_test.shape"
   ]
  },
  {
   "cell_type": "markdown",
   "metadata": {},
   "source": [
    "We performed the scaling, using the mean-variance scaling."
   ]
  },
  {
   "cell_type": "code",
   "execution_count": 17,
   "metadata": {},
   "outputs": [
    {
     "name": "stderr",
     "output_type": "stream",
     "text": [
      "/home/manuelz/anaconda3/lib/python3.7/site-packages/ipykernel_launcher.py:4: DataConversionWarning: Data with input dtype int64, float64 were all converted to float64 by the scale function.\n",
      "  after removing the cwd from sys.path.\n",
      "/home/manuelz/anaconda3/lib/python3.7/site-packages/sklearn/preprocessing/data.py:180: UserWarning: Numerical issues were encountered when centering the data and might not be solved. Dataset may contain too large values. You may need to prescale your features.\n",
      "  warnings.warn(\"Numerical issues were encountered \"\n",
      "/home/manuelz/anaconda3/lib/python3.7/site-packages/ipykernel_launcher.py:5: DataConversionWarning: Data with input dtype int64, float64 were all converted to float64 by the scale function.\n",
      "  \"\"\"\n",
      "/home/manuelz/anaconda3/lib/python3.7/site-packages/sklearn/preprocessing/data.py:180: UserWarning: Numerical issues were encountered when centering the data and might not be solved. Dataset may contain too large values. You may need to prescale your features.\n",
      "  warnings.warn(\"Numerical issues were encountered \"\n"
     ]
    },
    {
     "data": {
      "text/plain": [
       "LinearRegression(copy_X=True, fit_intercept=True, n_jobs=None,\n",
       "         normalize=False)"
      ]
     },
     "execution_count": 17,
     "metadata": {},
     "output_type": "execute_result"
    }
   ],
   "source": [
    "from sklearn.linear_model import LinearRegression\n",
    "from sklearn.preprocessing import scale\n",
    "\n",
    "x_train = pd.DataFrame(scale(x_train), index=x_train.index, columns=x_train.columns)\n",
    "x_test = pd.DataFrame(scale(x_test), index=x_test.index, columns=x_test.columns)\n",
    "model=LinearRegression(fit_intercept=True)\n",
    "model.fit(x_train,y_train)"
   ]
  },
  {
   "cell_type": "code",
   "execution_count": 18,
   "metadata": {},
   "outputs": [],
   "source": [
    "y_pred_train = model.predict(x_train)"
   ]
  },
  {
   "cell_type": "code",
   "execution_count": 19,
   "metadata": {},
   "outputs": [],
   "source": [
    "y_pred_test = model.predict(x_test)"
   ]
  },
  {
   "cell_type": "code",
   "execution_count": 20,
   "metadata": {},
   "outputs": [
    {
     "name": "stdout",
     "output_type": "stream",
     "text": [
      "R2 on train:  0.03557442582935899\n",
      "R2 on test:  0.002796856764215594\n"
     ]
    }
   ],
   "source": [
    "from sklearn import metrics\n",
    "\n",
    "R2_base = metrics.r2_score(y_train, y_pred_train, sample_weight=None, multioutput='uniform_average')\n",
    "R2 = metrics.r2_score(y_test, y_pred_test, sample_weight=None, multioutput='uniform_average')\n",
    "\n",
    "print(\"R2 on train: \", R2_base)\n",
    "print(\"R2 on test: \", R2)"
   ]
  },
  {
   "cell_type": "code",
   "execution_count": 21,
   "metadata": {},
   "outputs": [
    {
     "name": "stdout",
     "output_type": "stream",
     "text": [
      "Coefficients: \n",
      "SP.DYN.CBRT.IN     8.045030\n",
      "Year              12.821568\n",
      "MS.MIL.MPRT.KD    -4.730831\n",
      "SP.URB.TOTL       23.951299\n",
      "MilitaryExp       -8.972070\n",
      "Density            0.334226\n",
      "dtype: float64\n"
     ]
    }
   ],
   "source": [
    "coefficients = pd.Series(model.coef_, index=x_train.columns)\n",
    "print('Coefficients: ')\n",
    "print(coefficients)"
   ]
  },
  {
   "cell_type": "markdown",
   "metadata": {},
   "source": [
    "The results using the regression are so bad, so we tried with a polynomial model."
   ]
  },
  {
   "cell_type": "markdown",
   "metadata": {},
   "source": [
    "## Polynomial models applying k-Fold CV and Ridge regularization"
   ]
  },
  {
   "cell_type": "code",
   "execution_count": 22,
   "metadata": {},
   "outputs": [
    {
     "name": "stdout",
     "output_type": "stream",
     "text": [
      "kMSE on training, from degree 1 to 4:\n",
      " [16530.19415385628, 15210.015010014366, 13449.248032636378, 11800.03392401253]\n",
      "\n",
      "kMSE on testing, from degree 1 to 4:\n",
      " [16608.962963161237, 15434.609486753461, 14865.400094852397, 79510.36832201568]\n",
      "\n",
      "kR2 on training, from degree 1 to 4:\n",
      " [0.03005673752226201, 0.10762117444191568, 0.21059341640316034, 0.30699815096137895]\n",
      "\n",
      "kR2 on testing, from degree 1 to 4:\n",
      " [0.022606158474562023, 0.09411260802471547, 0.12653256696658916, -3.9057117941035187]\n"
     ]
    }
   ],
   "source": [
    "import numpy as np\n",
    "from sklearn.preprocessing import scale\n",
    "from sklearn.model_selection import KFold\n",
    "from sklearn.linear_model import LinearRegression, RidgeCV, LassoCV\n",
    "from sklearn.preprocessing import PolynomialFeatures as pol\n",
    "from sklearn.pipeline import make_pipeline\n",
    "from sklearn import metrics\n",
    "from statistics import mean \n",
    "import warnings\n",
    "warnings.filterwarnings('ignore')\n",
    "\n",
    "kf = KFold(n_splits=5, shuffle=True, random_state=2) # we are setting 7 folds\n",
    "feature_matrix=df_std.loc[:, df_std.columns != 'cnt']\n",
    "target_vector=df_std['cnt']\n",
    "MSE_tr, MSE_te = [], []\n",
    "R2_tr, R2_te = [], []\n",
    "kMSE_tr, kMSE_te = [],  []\n",
    "kR2_tr, kR2_te = [], []\n",
    "degrees = [1,2,3,4] # list of different degrees of freedom\n",
    "for degree in degrees: # cycle which applies the different degrees of freedom\n",
    "    for train_index, test_index in kf.split(feature_matrix): # cycle that performs KCV on a certain polynomial model\n",
    "        x_train, x_test = feature_matrix.iloc[train_index], feature_matrix.iloc[test_index]\n",
    "        y_train, y_test = target_vector.iloc[train_index], target_vector.iloc[test_index]\n",
    "\n",
    "        x_train = pd.DataFrame(scale(x_train), index=x_train.index, columns=x_train.columns) # standardization\n",
    "        #y_train = pd.DataFrame(scale(y_train), index=y_train.index).to_numpy() # standardization\n",
    "        x_test = pd.DataFrame(scale(x_test), index=x_test.index, columns=x_test.columns) # standardization\n",
    "        #y_test = pd.DataFrame(scale(y_test), index=y_test.index).to_numpy() # standardization\n",
    "\n",
    "        model = make_pipeline(pol(degree), RidgeCV(alphas=(0.01,1.0,100), cv=4))\n",
    "        x = model.fit(x_train, y_train.ravel())\n",
    "        y_pred_on_training=model.predict(x_train)\n",
    "        y_pred=model.predict(x_test)\n",
    "        MSE_tr.append(metrics.mean_squared_error(y_train, y_pred_on_training, sample_weight=None, multioutput='uniform_average'))\n",
    "        MSE_te.append(metrics.mean_squared_error(y_test, y_pred, sample_weight=None, multioutput='uniform_average'))\n",
    "        R2_tr.append(metrics.r2_score(y_train, y_pred_on_training, sample_weight=None, multioutput='uniform_average'))\n",
    "        R2_te.append(metrics.r2_score(y_test, y_pred, sample_weight=None, multioutput='uniform_average'))\n",
    "    kMSE_tr.append(mean(MSE_tr))\n",
    "    kMSE_te.append(mean(MSE_te))\n",
    "    kR2_tr.append(mean(R2_tr))\n",
    "    kR2_te.append(mean(R2_te))\n",
    "    MSE_tr = []\n",
    "    MSE_te = []\n",
    "    R2_tr = []\n",
    "    R2_te = []\n",
    "print('kMSE on training, from degree 1 to 4:\\n', kMSE_tr)\n",
    "print('\\nkMSE on testing, from degree 1 to 4:\\n', kMSE_te)\n",
    "print('\\nkR2 on training, from degree 1 to 4:\\n', kR2_tr)\n",
    "print('\\nkR2 on testing, from degree 1 to 4:\\n', kR2_te)"
   ]
  },
  {
   "cell_type": "code",
   "execution_count": 23,
   "metadata": {},
   "outputs": [
    {
     "data": {
      "image/png": "[encoded data removed]",
      "text/plain": [
       "<Figure size 432x288 with 1 Axes>"
      ]
     },
     "metadata": {
      "needs_background": "light"
     },
     "output_type": "display_data"
    }
   ],
   "source": [
    "plt.plot(degrees, kMSE_tr, label='Training kMSE')\n",
    "plt.plot(degrees, kMSE_te, label='Testing kMSE')\n",
    "plt.xlabel('Degree of the polynomial regression')\n",
    "plt.ylabel('kMSE')\n",
    "plt.legend()\n",
    "plt.grid()\n",
    "\n",
    "plt.show()"
   ]
  },
  {
   "cell_type": "code",
   "execution_count": 24,
   "metadata": {},
   "outputs": [
    {
     "ename": "ModuleNotFoundError",
     "evalue": "No module named 'yellowbrick'",
     "output_type": "error",
     "traceback": [
      "\u001b[0;31m---------------------------------------------------------------------------\u001b[0m",
      "\u001b[0;31mModuleNotFoundError\u001b[0m                       Traceback (most recent call last)",
      "\u001b[0;32m<ipython-input-24-8d22dfeaaa9f>\u001b[0m in \u001b[0;36m<module>\u001b[0;34m\u001b[0m\n\u001b[1;32m      1\u001b[0m \u001b[0;32mfrom\u001b[0m \u001b[0msklearn\u001b[0m\u001b[0;34m.\u001b[0m\u001b[0mmodel_selection\u001b[0m \u001b[0;32mimport\u001b[0m \u001b[0mtrain_test_split\u001b[0m\u001b[0;34m\u001b[0m\u001b[0;34m\u001b[0m\u001b[0m\n\u001b[1;32m      2\u001b[0m \u001b[0;32mfrom\u001b[0m \u001b[0msklearn\u001b[0m\u001b[0;34m.\u001b[0m\u001b[0mlinear_model\u001b[0m \u001b[0;32mimport\u001b[0m \u001b[0mRidge\u001b[0m\u001b[0;34m\u001b[0m\u001b[0;34m\u001b[0m\u001b[0m\n\u001b[0;32m----> 3\u001b[0;31m \u001b[0;32mimport\u001b[0m \u001b[0myellowbrick\u001b[0m\u001b[0;34m\u001b[0m\u001b[0;34m\u001b[0m\u001b[0m\n\u001b[0m\u001b[1;32m      4\u001b[0m \u001b[0;32mfrom\u001b[0m \u001b[0myellowbrick\u001b[0m\u001b[0;34m.\u001b[0m\u001b[0mregressor\u001b[0m \u001b[0;32mimport\u001b[0m \u001b[0mResidualsPlot\u001b[0m\u001b[0;34m\u001b[0m\u001b[0;34m\u001b[0m\u001b[0m\n\u001b[1;32m      5\u001b[0m \u001b[0;34m\u001b[0m\u001b[0m\n",
      "\u001b[0;31mModuleNotFoundError\u001b[0m: No module named 'yellowbrick'"
     ]
    }
   ],
   "source": [
    "from sklearn.model_selection import train_test_split\n",
    "from sklearn.linear_model import Ridge\n",
    "import yellowbrick\n",
    "from yellowbrick.regressor import ResidualsPlot\n",
    "\n",
    "model = make_pipeline(pol(2), RidgeCV(alphas=(0.01,1.0,100), cv=4))\n",
    "\n",
    "# Instantiate the linear model and visualizer\n",
    "\n",
    "visualizer = ResidualsPlot(model)\n",
    "\n",
    "visualizer.fit(x_train, y_train)  # Fit the training data to the visualizer\n",
    "visualizer.score(x_test, y_test)  # Evaluate the model on the test data\n",
    "visualizer.show()                 # Finalize and render the figure"
   ]
  },
  {
   "cell_type": "markdown",
   "metadata": {},
   "source": [
    "The best model was the polynomial with grade 3, resulting in a R2train = 0,30 and a R2test = 0,25. The results are still bad, so we decided to re-formulate the problem, passing to a classification problem."
   ]
  },
  {
   "cell_type": "code",
   "execution_count": 25,
   "metadata": {},
   "outputs": [],
   "source": [
    "df_class = df_std.rename(columns={'cnt':'conto'})"
   ]
  },
  {
   "cell_type": "markdown",
   "metadata": {},
   "source": [
    "#### We are going to divide the data in 3 groups. \n",
    "\n",
    "Low number of attacks: 0 < cnt < 3\n",
    "\n",
    "Medium number of attacks: 3 <= cnt < 15\n",
    "\n",
    "High number of attacks: cnt >= 15\n",
    "\n",
    "The splitting was made considering the fact that each cathegory had to be a good amount of sample."
   ]
  },
  {
   "cell_type": "code",
   "execution_count": 26,
   "metadata": {},
   "outputs": [
    {
     "data": {
      "text/html": [
       "<div>\n",
       "<style scoped>\n",
       "    .dataframe tbody tr th:only-of-type {\n",
       "        vertical-align: middle;\n",
       "    }\n",
       "\n",
       "    .dataframe tbody tr th {\n",
       "        vertical-align: top;\n",
       "    }\n",
       "\n",
       "    .dataframe thead th {\n",
       "        text-align: right;\n",
       "    }\n",
       "</style>\n",
       "<table border=\"1\" class=\"dataframe\">\n",
       "  <thead>\n",
       "    <tr style=\"text-align: right;\">\n",
       "      <th></th>\n",
       "      <th>SP.DYN.CBRT.IN</th>\n",
       "      <th>Year</th>\n",
       "      <th>MS.MIL.MPRT.KD</th>\n",
       "      <th>SP.URB.TOTL</th>\n",
       "      <th>MilitaryExp</th>\n",
       "      <th>Density</th>\n",
       "      <th>cnt</th>\n",
       "    </tr>\n",
       "  </thead>\n",
       "  <tbody>\n",
       "    <tr>\n",
       "      <th>1795</th>\n",
       "      <td>22.759</td>\n",
       "      <td>1970</td>\n",
       "      <td>2.530000e+08</td>\n",
       "      <td>18909951.0</td>\n",
       "      <td>4.457139e+08</td>\n",
       "      <td>8.664263</td>\n",
       "      <td>2.0</td>\n",
       "    </tr>\n",
       "    <tr>\n",
       "      <th>1798</th>\n",
       "      <td>20.600</td>\n",
       "      <td>1970</td>\n",
       "      <td>2.400000e+08</td>\n",
       "      <td>10664094.0</td>\n",
       "      <td>1.277360e+09</td>\n",
       "      <td>1.627064</td>\n",
       "      <td>0.0</td>\n",
       "    </tr>\n",
       "    <tr>\n",
       "      <th>1806</th>\n",
       "      <td>14.700</td>\n",
       "      <td>1970</td>\n",
       "      <td>5.280000e+08</td>\n",
       "      <td>9061057.0</td>\n",
       "      <td>7.477551e+08</td>\n",
       "      <td>316.285017</td>\n",
       "      <td>0.0</td>\n",
       "    </tr>\n",
       "    <tr>\n",
       "      <th>1810</th>\n",
       "      <td>42.261</td>\n",
       "      <td>1970</td>\n",
       "      <td>2.000000e+06</td>\n",
       "      <td>1792217.0</td>\n",
       "      <td>1.678714e+07</td>\n",
       "      <td>4.101453</td>\n",
       "      <td>0.0</td>\n",
       "    </tr>\n",
       "    <tr>\n",
       "      <th>1813</th>\n",
       "      <td>35.214</td>\n",
       "      <td>1970</td>\n",
       "      <td>2.190000e+08</td>\n",
       "      <td>53662830.0</td>\n",
       "      <td>1.026234e+09</td>\n",
       "      <td>11.276180</td>\n",
       "      <td>1.0</td>\n",
       "    </tr>\n",
       "    <tr>\n",
       "      <th>1821</th>\n",
       "      <td>17.400</td>\n",
       "      <td>1970</td>\n",
       "      <td>6.110000e+08</td>\n",
       "      <td>16132459.0</td>\n",
       "      <td>1.889158e+09</td>\n",
       "      <td>2.135674</td>\n",
       "      <td>0.0</td>\n",
       "    </tr>\n",
       "    <tr>\n",
       "      <th>1826</th>\n",
       "      <td>37.506</td>\n",
       "      <td>1970</td>\n",
       "      <td>4.000000e+06</td>\n",
       "      <td>12093958.0</td>\n",
       "      <td>1.626625e+08</td>\n",
       "      <td>19.370463</td>\n",
       "      <td>0.0</td>\n",
       "    </tr>\n",
       "    <tr>\n",
       "      <th>1836</th>\n",
       "      <td>41.750</td>\n",
       "      <td>1970</td>\n",
       "      <td>1.000000e+06</td>\n",
       "      <td>1810657.0</td>\n",
       "      <td>3.590000e+07</td>\n",
       "      <td>92.409481</td>\n",
       "      <td>0.0</td>\n",
       "    </tr>\n",
       "    <tr>\n",
       "      <th>1838</th>\n",
       "      <td>40.130</td>\n",
       "      <td>1970</td>\n",
       "      <td>1.807000e+09</td>\n",
       "      <td>14437563.0</td>\n",
       "      <td>1.092499e+09</td>\n",
       "      <td>34.758200</td>\n",
       "      <td>0.0</td>\n",
       "    </tr>\n",
       "    <tr>\n",
       "      <th>1843</th>\n",
       "      <td>48.075</td>\n",
       "      <td>1970</td>\n",
       "      <td>8.900000e+07</td>\n",
       "      <td>2440280.0</td>\n",
       "      <td>3.454000e+07</td>\n",
       "      <td>25.210113</td>\n",
       "      <td>1.0</td>\n",
       "    </tr>\n",
       "    <tr>\n",
       "      <th>1852</th>\n",
       "      <td>16.500</td>\n",
       "      <td>1970</td>\n",
       "      <td>3.020000e+08</td>\n",
       "      <td>5646740.0</td>\n",
       "      <td>4.735970e+08</td>\n",
       "      <td>66.642459</td>\n",
       "      <td>1.0</td>\n",
       "    </tr>\n",
       "    <tr>\n",
       "      <th>1855</th>\n",
       "      <td>44.468</td>\n",
       "      <td>1970</td>\n",
       "      <td>1.451501e+09</td>\n",
       "      <td>1927742.0</td>\n",
       "      <td>3.230000e+07</td>\n",
       "      <td>49.806080</td>\n",
       "      <td>1.0</td>\n",
       "    </tr>\n",
       "    <tr>\n",
       "      <th>1866</th>\n",
       "      <td>42.099</td>\n",
       "      <td>1970</td>\n",
       "      <td>1.182000e+09</td>\n",
       "      <td>11751194.0</td>\n",
       "      <td>6.201320e+08</td>\n",
       "      <td>17.302191</td>\n",
       "      <td>1.0</td>\n",
       "    </tr>\n",
       "    <tr>\n",
       "      <th>1868</th>\n",
       "      <td>21.800</td>\n",
       "      <td>1970</td>\n",
       "      <td>7.000000e+06</td>\n",
       "      <td>1529549.0</td>\n",
       "      <td>5.098685e+07</td>\n",
       "      <td>42.078116</td>\n",
       "      <td>0.0</td>\n",
       "    </tr>\n",
       "    <tr>\n",
       "      <th>1870</th>\n",
       "      <td>16.700</td>\n",
       "      <td>1970</td>\n",
       "      <td>4.680000e+08</td>\n",
       "      <td>34592379.0</td>\n",
       "      <td>2.216772e+09</td>\n",
       "      <td>178.673605</td>\n",
       "      <td>1.0</td>\n",
       "    </tr>\n",
       "    <tr>\n",
       "      <th>1872</th>\n",
       "      <td>18.700</td>\n",
       "      <td>1970</td>\n",
       "      <td>4.830000e+08</td>\n",
       "      <td>75000056.0</td>\n",
       "      <td>1.575347e+09</td>\n",
       "      <td>276.165522</td>\n",
       "      <td>0.0</td>\n",
       "    </tr>\n",
       "    <tr>\n",
       "      <th>1873</th>\n",
       "      <td>50.881</td>\n",
       "      <td>1970</td>\n",
       "      <td>1.300000e+08</td>\n",
       "      <td>844043.0</td>\n",
       "      <td>1.097600e+08</td>\n",
       "      <td>16.338028</td>\n",
       "      <td>1.0</td>\n",
       "    </tr>\n",
       "    <tr>\n",
       "      <th>1883</th>\n",
       "      <td>32.323</td>\n",
       "      <td>1970</td>\n",
       "      <td>1.451501e+09</td>\n",
       "      <td>1366380.0</td>\n",
       "      <td>6.454613e+07</td>\n",
       "      <td>220.904135</td>\n",
       "      <td>0.0</td>\n",
       "    </tr>\n",
       "    <tr>\n",
       "      <th>1899</th>\n",
       "      <td>44.075</td>\n",
       "      <td>1970</td>\n",
       "      <td>8.200000e+07</td>\n",
       "      <td>30708543.0</td>\n",
       "      <td>1.768000e+08</td>\n",
       "      <td>26.376953</td>\n",
       "      <td>0.0</td>\n",
       "    </tr>\n",
       "    <tr>\n",
       "      <th>1907</th>\n",
       "      <td>18.300</td>\n",
       "      <td>1970</td>\n",
       "      <td>6.720000e+08</td>\n",
       "      <td>8039946.0</td>\n",
       "      <td>1.079943e+09</td>\n",
       "      <td>313.984636</td>\n",
       "      <td>1.0</td>\n",
       "    </tr>\n",
       "    <tr>\n",
       "      <th>1910</th>\n",
       "      <td>46.094</td>\n",
       "      <td>1970</td>\n",
       "      <td>1.451501e+09</td>\n",
       "      <td>1127824.0</td>\n",
       "      <td>8.346921e+06</td>\n",
       "      <td>18.518966</td>\n",
       "      <td>0.0</td>\n",
       "    </tr>\n",
       "    <tr>\n",
       "      <th>1915</th>\n",
       "      <td>43.108</td>\n",
       "      <td>1970</td>\n",
       "      <td>4.050000e+08</td>\n",
       "      <td>14417247.0</td>\n",
       "      <td>6.352506e+08</td>\n",
       "      <td>72.261909</td>\n",
       "      <td>0.0</td>\n",
       "    </tr>\n",
       "    <tr>\n",
       "      <th>1918</th>\n",
       "      <td>37.309</td>\n",
       "      <td>1970</td>\n",
       "      <td>0.000000e+00</td>\n",
       "      <td>917026.0</td>\n",
       "      <td>1.931667e+07</td>\n",
       "      <td>6.082611</td>\n",
       "      <td>0.0</td>\n",
       "    </tr>\n",
       "    <tr>\n",
       "      <th>1920</th>\n",
       "      <td>39.198</td>\n",
       "      <td>1970</td>\n",
       "      <td>9.000000e+06</td>\n",
       "      <td>11808042.0</td>\n",
       "      <td>1.550552e+08</td>\n",
       "      <td>119.349103</td>\n",
       "      <td>1.0</td>\n",
       "    </tr>\n",
       "    <tr>\n",
       "      <th>1937</th>\n",
       "      <td>19.500</td>\n",
       "      <td>1970</td>\n",
       "      <td>2.370000e+08</td>\n",
       "      <td>22330440.0</td>\n",
       "      <td>8.591470e+08</td>\n",
       "      <td>66.988385</td>\n",
       "      <td>1.0</td>\n",
       "    </tr>\n",
       "    <tr>\n",
       "      <th>1945</th>\n",
       "      <td>16.100</td>\n",
       "      <td>1970</td>\n",
       "      <td>1.350000e+08</td>\n",
       "      <td>3545846.0</td>\n",
       "      <td>4.360901e+08</td>\n",
       "      <td>149.694284</td>\n",
       "      <td>1.0</td>\n",
       "    </tr>\n",
       "    <tr>\n",
       "      <th>1954</th>\n",
       "      <td>40.267</td>\n",
       "      <td>1970</td>\n",
       "      <td>3.910000e+08</td>\n",
       "      <td>13294738.0</td>\n",
       "      <td>5.648585e+08</td>\n",
       "      <td>44.546403</td>\n",
       "      <td>1.0</td>\n",
       "    </tr>\n",
       "    <tr>\n",
       "      <th>1959</th>\n",
       "      <td>16.200</td>\n",
       "      <td>1970</td>\n",
       "      <td>6.000000e+07</td>\n",
       "      <td>42925829.0</td>\n",
       "      <td>6.074395e+09</td>\n",
       "      <td>227.363982</td>\n",
       "      <td>1.0</td>\n",
       "    </tr>\n",
       "    <tr>\n",
       "      <th>1960</th>\n",
       "      <td>18.400</td>\n",
       "      <td>1970</td>\n",
       "      <td>4.600000e+07</td>\n",
       "      <td>150922373.0</td>\n",
       "      <td>7.984600e+10</td>\n",
       "      <td>21.289903</td>\n",
       "      <td>2.0</td>\n",
       "    </tr>\n",
       "    <tr>\n",
       "      <th>1961</th>\n",
       "      <td>20.762</td>\n",
       "      <td>1970</td>\n",
       "      <td>1.100000e+07</td>\n",
       "      <td>2314375.0</td>\n",
       "      <td>2.252607e+10</td>\n",
       "      <td>15.944836</td>\n",
       "      <td>2.0</td>\n",
       "    </tr>\n",
       "    <tr>\n",
       "      <th>...</th>\n",
       "      <td>...</td>\n",
       "      <td>...</td>\n",
       "      <td>...</td>\n",
       "      <td>...</td>\n",
       "      <td>...</td>\n",
       "      <td>...</td>\n",
       "      <td>...</td>\n",
       "    </tr>\n",
       "    <tr>\n",
       "      <th>9605</th>\n",
       "      <td>21.425</td>\n",
       "      <td>2013</td>\n",
       "      <td>1.210000e+08</td>\n",
       "      <td>4898122.0</td>\n",
       "      <td>3.964690e+09</td>\n",
       "      <td>3.561151</td>\n",
       "      <td>2.0</td>\n",
       "    </tr>\n",
       "    <tr>\n",
       "      <th>9608</th>\n",
       "      <td>34.686</td>\n",
       "      <td>2013</td>\n",
       "      <td>0.000000e+00</td>\n",
       "      <td>7755836.0</td>\n",
       "      <td>7.187787e+07</td>\n",
       "      <td>39.051099</td>\n",
       "      <td>0.0</td>\n",
       "    </tr>\n",
       "    <tr>\n",
       "      <th>9610</th>\n",
       "      <td>16.805</td>\n",
       "      <td>2013</td>\n",
       "      <td>7.100000e+07</td>\n",
       "      <td>21593403.0</td>\n",
       "      <td>4.915723e+09</td>\n",
       "      <td>89.356701</td>\n",
       "      <td>1.0</td>\n",
       "    </tr>\n",
       "    <tr>\n",
       "      <th>9611</th>\n",
       "      <td>21.447</td>\n",
       "      <td>2013</td>\n",
       "      <td>5.000000e+06</td>\n",
       "      <td>170625.0</td>\n",
       "      <td>2.252607e+10</td>\n",
       "      <td>1310.000000</td>\n",
       "      <td>1.0</td>\n",
       "    </tr>\n",
       "    <tr>\n",
       "      <th>9612</th>\n",
       "      <td>44.138</td>\n",
       "      <td>2013</td>\n",
       "      <td>6.000000e+06</td>\n",
       "      <td>6365226.0</td>\n",
       "      <td>1.538337e+08</td>\n",
       "      <td>13.380723</td>\n",
       "      <td>2.0</td>\n",
       "    </tr>\n",
       "    <tr>\n",
       "      <th>9616</th>\n",
       "      <td>19.104</td>\n",
       "      <td>2013</td>\n",
       "      <td>6.900000e+07</td>\n",
       "      <td>97372329.0</td>\n",
       "      <td>7.837614e+09</td>\n",
       "      <td>62.731038</td>\n",
       "      <td>1.0</td>\n",
       "    </tr>\n",
       "    <tr>\n",
       "      <th>9621</th>\n",
       "      <td>39.705</td>\n",
       "      <td>2013</td>\n",
       "      <td>9.000000e+06</td>\n",
       "      <td>8381891.0</td>\n",
       "      <td>1.578921e+08</td>\n",
       "      <td>33.018351</td>\n",
       "      <td>2.0</td>\n",
       "    </tr>\n",
       "    <tr>\n",
       "      <th>9623</th>\n",
       "      <td>20.923</td>\n",
       "      <td>2013</td>\n",
       "      <td>1.451501e+09</td>\n",
       "      <td>4976060.0</td>\n",
       "      <td>2.810384e+08</td>\n",
       "      <td>189.120749</td>\n",
       "      <td>2.0</td>\n",
       "    </tr>\n",
       "    <tr>\n",
       "      <th>9626</th>\n",
       "      <td>49.661</td>\n",
       "      <td>2013</td>\n",
       "      <td>1.300000e+07</td>\n",
       "      <td>3344985.0</td>\n",
       "      <td>1.060643e+08</td>\n",
       "      <td>14.490026</td>\n",
       "      <td>1.0</td>\n",
       "    </tr>\n",
       "    <tr>\n",
       "      <th>9627</th>\n",
       "      <td>40.045</td>\n",
       "      <td>2013</td>\n",
       "      <td>3.500000e+07</td>\n",
       "      <td>79658045.0</td>\n",
       "      <td>2.418760e+09</td>\n",
       "      <td>187.077834</td>\n",
       "      <td>2.0</td>\n",
       "    </tr>\n",
       "    <tr>\n",
       "      <th>9629</th>\n",
       "      <td>29.582</td>\n",
       "      <td>2013</td>\n",
       "      <td>1.175000e+09</td>\n",
       "      <td>68599536.0</td>\n",
       "      <td>7.645456e+09</td>\n",
       "      <td>225.380807</td>\n",
       "      <td>2.0</td>\n",
       "    </tr>\n",
       "    <tr>\n",
       "      <th>9632</th>\n",
       "      <td>21.588</td>\n",
       "      <td>2013</td>\n",
       "      <td>0.000000e+00</td>\n",
       "      <td>3825995.0</td>\n",
       "      <td>3.712156e+08</td>\n",
       "      <td>15.895929</td>\n",
       "      <td>1.0</td>\n",
       "    </tr>\n",
       "    <tr>\n",
       "      <th>9633</th>\n",
       "      <td>20.198</td>\n",
       "      <td>2013</td>\n",
       "      <td>4.500000e+07</td>\n",
       "      <td>23826999.0</td>\n",
       "      <td>3.305452e+09</td>\n",
       "      <td>23.782279</td>\n",
       "      <td>1.0</td>\n",
       "    </tr>\n",
       "    <tr>\n",
       "      <th>9634</th>\n",
       "      <td>23.790</td>\n",
       "      <td>2013</td>\n",
       "      <td>7.500000e+07</td>\n",
       "      <td>43549166.0</td>\n",
       "      <td>3.377028e+09</td>\n",
       "      <td>325.238920</td>\n",
       "      <td>2.0</td>\n",
       "    </tr>\n",
       "    <tr>\n",
       "      <th>9637</th>\n",
       "      <td>32.689</td>\n",
       "      <td>2013</td>\n",
       "      <td>1.100000e+07</td>\n",
       "      <td>2976573.0</td>\n",
       "      <td>8.248072e+07</td>\n",
       "      <td>420.612613</td>\n",
       "      <td>1.0</td>\n",
       "    </tr>\n",
       "    <tr>\n",
       "      <th>9640</th>\n",
       "      <td>20.576</td>\n",
       "      <td>2013</td>\n",
       "      <td>1.192000e+09</td>\n",
       "      <td>24982007.0</td>\n",
       "      <td>6.702000e+10</td>\n",
       "      <td>15.404125</td>\n",
       "      <td>1.0</td>\n",
       "    </tr>\n",
       "    <tr>\n",
       "      <th>9641</th>\n",
       "      <td>38.533</td>\n",
       "      <td>2013</td>\n",
       "      <td>6.000000e+06</td>\n",
       "      <td>6126282.0</td>\n",
       "      <td>2.367379e+08</td>\n",
       "      <td>72.486065</td>\n",
       "      <td>1.0</td>\n",
       "    </tr>\n",
       "    <tr>\n",
       "      <th>9646</th>\n",
       "      <td>43.891</td>\n",
       "      <td>2013</td>\n",
       "      <td>3.000000e+06</td>\n",
       "      <td>3964741.0</td>\n",
       "      <td>2.605000e+07</td>\n",
       "      <td>16.102947</td>\n",
       "      <td>2.0</td>\n",
       "    </tr>\n",
       "    <tr>\n",
       "      <th>9647</th>\n",
       "      <td>20.850</td>\n",
       "      <td>2013</td>\n",
       "      <td>2.000000e+06</td>\n",
       "      <td>33908100.0</td>\n",
       "      <td>4.118208e+09</td>\n",
       "      <td>43.574856</td>\n",
       "      <td>1.0</td>\n",
       "    </tr>\n",
       "    <tr>\n",
       "      <th>9648</th>\n",
       "      <td>17.863</td>\n",
       "      <td>2013</td>\n",
       "      <td>1.451501e+09</td>\n",
       "      <td>3748389.0</td>\n",
       "      <td>1.600841e+09</td>\n",
       "      <td>312.193263</td>\n",
       "      <td>1.0</td>\n",
       "    </tr>\n",
       "    <tr>\n",
       "      <th>9651</th>\n",
       "      <td>33.477</td>\n",
       "      <td>2013</td>\n",
       "      <td>1.960000e+08</td>\n",
       "      <td>12887151.0</td>\n",
       "      <td>2.252607e+10</td>\n",
       "      <td>15.370317</td>\n",
       "      <td>2.0</td>\n",
       "    </tr>\n",
       "    <tr>\n",
       "      <th>9656</th>\n",
       "      <td>39.518</td>\n",
       "      <td>2013</td>\n",
       "      <td>8.500000e+07</td>\n",
       "      <td>15162455.0</td>\n",
       "      <td>4.433799e+08</td>\n",
       "      <td>53.131042</td>\n",
       "      <td>1.0</td>\n",
       "    </tr>\n",
       "    <tr>\n",
       "      <th>9657</th>\n",
       "      <td>11.041</td>\n",
       "      <td>2013</td>\n",
       "      <td>3.880000e+08</td>\n",
       "      <td>32338235.0</td>\n",
       "      <td>5.901297e+09</td>\n",
       "      <td>131.228447</td>\n",
       "      <td>2.0</td>\n",
       "    </tr>\n",
       "    <tr>\n",
       "      <th>9660</th>\n",
       "      <td>14.590</td>\n",
       "      <td>2013</td>\n",
       "      <td>1.451501e+09</td>\n",
       "      <td>116838.0</td>\n",
       "      <td>2.111760e+08</td>\n",
       "      <td>262.917317</td>\n",
       "      <td>1.0</td>\n",
       "    </tr>\n",
       "    <tr>\n",
       "      <th>9661</th>\n",
       "      <td>19.800</td>\n",
       "      <td>2013</td>\n",
       "      <td>3.800000e+07</td>\n",
       "      <td>7234732.0</td>\n",
       "      <td>7.593589e+08</td>\n",
       "      <td>66.539331</td>\n",
       "      <td>2.0</td>\n",
       "    </tr>\n",
       "    <tr>\n",
       "      <th>9662</th>\n",
       "      <td>16.836</td>\n",
       "      <td>2013</td>\n",
       "      <td>6.700000e+08</td>\n",
       "      <td>54284883.0</td>\n",
       "      <td>1.866257e+10</td>\n",
       "      <td>96.095470</td>\n",
       "      <td>2.0</td>\n",
       "    </tr>\n",
       "    <tr>\n",
       "      <th>9665</th>\n",
       "      <td>11.044</td>\n",
       "      <td>2013</td>\n",
       "      <td>2.252000e+09</td>\n",
       "      <td>7682264.0</td>\n",
       "      <td>2.356106e+10</td>\n",
       "      <td>109.073094</td>\n",
       "      <td>0.0</td>\n",
       "    </tr>\n",
       "    <tr>\n",
       "      <th>9669</th>\n",
       "      <td>19.842</td>\n",
       "      <td>2013</td>\n",
       "      <td>1.165000e+09</td>\n",
       "      <td>26913587.0</td>\n",
       "      <td>6.199698e+09</td>\n",
       "      <td>33.195598</td>\n",
       "      <td>0.0</td>\n",
       "    </tr>\n",
       "    <tr>\n",
       "      <th>9672</th>\n",
       "      <td>32.947</td>\n",
       "      <td>2013</td>\n",
       "      <td>2.300000e+07</td>\n",
       "      <td>8540861.0</td>\n",
       "      <td>1.648751e+09</td>\n",
       "      <td>48.361113</td>\n",
       "      <td>2.0</td>\n",
       "    </tr>\n",
       "    <tr>\n",
       "      <th>9674</th>\n",
       "      <td>35.715</td>\n",
       "      <td>2013</td>\n",
       "      <td>1.451501e+09</td>\n",
       "      <td>4864823.0</td>\n",
       "      <td>3.567000e+08</td>\n",
       "      <td>38.143510</td>\n",
       "      <td>1.0</td>\n",
       "    </tr>\n",
       "  </tbody>\n",
       "</table>\n",
       "<p>2956 rows × 7 columns</p>\n",
       "</div>"
      ],
      "text/plain": [
       "      SP.DYN.CBRT.IN  Year  MS.MIL.MPRT.KD  SP.URB.TOTL   MilitaryExp  \\\n",
       "1795          22.759  1970    2.530000e+08   18909951.0  4.457139e+08   \n",
       "1798          20.600  1970    2.400000e+08   10664094.0  1.277360e+09   \n",
       "1806          14.700  1970    5.280000e+08    9061057.0  7.477551e+08   \n",
       "1810          42.261  1970    2.000000e+06    1792217.0  1.678714e+07   \n",
       "1813          35.214  1970    2.190000e+08   53662830.0  1.026234e+09   \n",
       "1821          17.400  1970    6.110000e+08   16132459.0  1.889158e+09   \n",
       "1826          37.506  1970    4.000000e+06   12093958.0  1.626625e+08   \n",
       "1836          41.750  1970    1.000000e+06    1810657.0  3.590000e+07   \n",
       "1838          40.130  1970    1.807000e+09   14437563.0  1.092499e+09   \n",
       "1843          48.075  1970    8.900000e+07    2440280.0  3.454000e+07   \n",
       "1852          16.500  1970    3.020000e+08    5646740.0  4.735970e+08   \n",
       "1855          44.468  1970    1.451501e+09    1927742.0  3.230000e+07   \n",
       "1866          42.099  1970    1.182000e+09   11751194.0  6.201320e+08   \n",
       "1868          21.800  1970    7.000000e+06    1529549.0  5.098685e+07   \n",
       "1870          16.700  1970    4.680000e+08   34592379.0  2.216772e+09   \n",
       "1872          18.700  1970    4.830000e+08   75000056.0  1.575347e+09   \n",
       "1873          50.881  1970    1.300000e+08     844043.0  1.097600e+08   \n",
       "1883          32.323  1970    1.451501e+09    1366380.0  6.454613e+07   \n",
       "1899          44.075  1970    8.200000e+07   30708543.0  1.768000e+08   \n",
       "1907          18.300  1970    6.720000e+08    8039946.0  1.079943e+09   \n",
       "1910          46.094  1970    1.451501e+09    1127824.0  8.346921e+06   \n",
       "1915          43.108  1970    4.050000e+08   14417247.0  6.352506e+08   \n",
       "1918          37.309  1970    0.000000e+00     917026.0  1.931667e+07   \n",
       "1920          39.198  1970    9.000000e+06   11808042.0  1.550552e+08   \n",
       "1937          19.500  1970    2.370000e+08   22330440.0  8.591470e+08   \n",
       "1945          16.100  1970    1.350000e+08    3545846.0  4.360901e+08   \n",
       "1954          40.267  1970    3.910000e+08   13294738.0  5.648585e+08   \n",
       "1959          16.200  1970    6.000000e+07   42925829.0  6.074395e+09   \n",
       "1960          18.400  1970    4.600000e+07  150922373.0  7.984600e+10   \n",
       "1961          20.762  1970    1.100000e+07    2314375.0  2.252607e+10   \n",
       "...              ...   ...             ...          ...           ...   \n",
       "9605          21.425  2013    1.210000e+08    4898122.0  3.964690e+09   \n",
       "9608          34.686  2013    0.000000e+00    7755836.0  7.187787e+07   \n",
       "9610          16.805  2013    7.100000e+07   21593403.0  4.915723e+09   \n",
       "9611          21.447  2013    5.000000e+06     170625.0  2.252607e+10   \n",
       "9612          44.138  2013    6.000000e+06    6365226.0  1.538337e+08   \n",
       "9616          19.104  2013    6.900000e+07   97372329.0  7.837614e+09   \n",
       "9621          39.705  2013    9.000000e+06    8381891.0  1.578921e+08   \n",
       "9623          20.923  2013    1.451501e+09    4976060.0  2.810384e+08   \n",
       "9626          49.661  2013    1.300000e+07    3344985.0  1.060643e+08   \n",
       "9627          40.045  2013    3.500000e+07   79658045.0  2.418760e+09   \n",
       "9629          29.582  2013    1.175000e+09   68599536.0  7.645456e+09   \n",
       "9632          21.588  2013    0.000000e+00    3825995.0  3.712156e+08   \n",
       "9633          20.198  2013    4.500000e+07   23826999.0  3.305452e+09   \n",
       "9634          23.790  2013    7.500000e+07   43549166.0  3.377028e+09   \n",
       "9637          32.689  2013    1.100000e+07    2976573.0  8.248072e+07   \n",
       "9640          20.576  2013    1.192000e+09   24982007.0  6.702000e+10   \n",
       "9641          38.533  2013    6.000000e+06    6126282.0  2.367379e+08   \n",
       "9646          43.891  2013    3.000000e+06    3964741.0  2.605000e+07   \n",
       "9647          20.850  2013    2.000000e+06   33908100.0  4.118208e+09   \n",
       "9648          17.863  2013    1.451501e+09    3748389.0  1.600841e+09   \n",
       "9651          33.477  2013    1.960000e+08   12887151.0  2.252607e+10   \n",
       "9656          39.518  2013    8.500000e+07   15162455.0  4.433799e+08   \n",
       "9657          11.041  2013    3.880000e+08   32338235.0  5.901297e+09   \n",
       "9660          14.590  2013    1.451501e+09     116838.0  2.111760e+08   \n",
       "9661          19.800  2013    3.800000e+07    7234732.0  7.593589e+08   \n",
       "9662          16.836  2013    6.700000e+08   54284883.0  1.866257e+10   \n",
       "9665          11.044  2013    2.252000e+09    7682264.0  2.356106e+10   \n",
       "9669          19.842  2013    1.165000e+09   26913587.0  6.199698e+09   \n",
       "9672          32.947  2013    2.300000e+07    8540861.0  1.648751e+09   \n",
       "9674          35.715  2013    1.451501e+09    4864823.0  3.567000e+08   \n",
       "\n",
       "          Density  cnt  \n",
       "1795     8.664263  2.0  \n",
       "1798     1.627064  0.0  \n",
       "1806   316.285017  0.0  \n",
       "1810     4.101453  0.0  \n",
       "1813    11.276180  1.0  \n",
       "1821     2.135674  0.0  \n",
       "1826    19.370463  0.0  \n",
       "1836    92.409481  0.0  \n",
       "1838    34.758200  0.0  \n",
       "1843    25.210113  1.0  \n",
       "1852    66.642459  1.0  \n",
       "1855    49.806080  1.0  \n",
       "1866    17.302191  1.0  \n",
       "1868    42.078116  0.0  \n",
       "1870   178.673605  1.0  \n",
       "1872   276.165522  0.0  \n",
       "1873    16.338028  1.0  \n",
       "1883   220.904135  0.0  \n",
       "1899    26.376953  0.0  \n",
       "1907   313.984636  1.0  \n",
       "1910    18.518966  0.0  \n",
       "1915    72.261909  0.0  \n",
       "1918     6.082611  0.0  \n",
       "1920   119.349103  1.0  \n",
       "1937    66.988385  1.0  \n",
       "1945   149.694284  1.0  \n",
       "1954    44.546403  1.0  \n",
       "1959   227.363982  1.0  \n",
       "1960    21.289903  2.0  \n",
       "1961    15.944836  2.0  \n",
       "...           ...  ...  \n",
       "9605     3.561151  2.0  \n",
       "9608    39.051099  0.0  \n",
       "9610    89.356701  1.0  \n",
       "9611  1310.000000  1.0  \n",
       "9612    13.380723  2.0  \n",
       "9616    62.731038  1.0  \n",
       "9621    33.018351  2.0  \n",
       "9623   189.120749  2.0  \n",
       "9626    14.490026  1.0  \n",
       "9627   187.077834  2.0  \n",
       "9629   225.380807  2.0  \n",
       "9632    15.895929  1.0  \n",
       "9633    23.782279  1.0  \n",
       "9634   325.238920  2.0  \n",
       "9637   420.612613  1.0  \n",
       "9640    15.404125  1.0  \n",
       "9641    72.486065  1.0  \n",
       "9646    16.102947  2.0  \n",
       "9647    43.574856  1.0  \n",
       "9648   312.193263  1.0  \n",
       "9651    15.370317  2.0  \n",
       "9656    53.131042  1.0  \n",
       "9657   131.228447  2.0  \n",
       "9660   262.917317  1.0  \n",
       "9661    66.539331  2.0  \n",
       "9662    96.095470  2.0  \n",
       "9665   109.073094  0.0  \n",
       "9669    33.195598  0.0  \n",
       "9672    48.361113  2.0  \n",
       "9674    38.143510  1.0  \n",
       "\n",
       "[2956 rows x 7 columns]"
      ]
     },
     "execution_count": 26,
     "metadata": {},
     "output_type": "execute_result"
    }
   ],
   "source": [
    "df_class.groupby(by='conto').aggregate({'conto':'count'})\n",
    "\n",
    "df_class['conto'] = df_class['conto'].apply(lambda x: 0 if (x > 0 and x < 3) else x)\n",
    "df_class['conto'] = df_class['conto'].apply(lambda x: -1 if (x >= 3 and x < 15) else x)\n",
    "df_class['conto'] = df_class['conto'].apply(lambda x: -2 if (x >= 15) else x)\n",
    "\n",
    "df_class['conto'] = df_class['conto'].apply(lambda x: 1 if (x == -1) else x)\n",
    "df_class['conto'] = df_class['conto'].apply(lambda x: 2 if (x == -2) else x)\n",
    "\n",
    "df_class = df_class.rename(columns={'conto':'cnt'})\n",
    "\n",
    "df_class"
   ]
  },
  {
   "cell_type": "markdown",
   "metadata": {},
   "source": [
    "Here we can see that each class has a good amount of samples."
   ]
  },
  {
   "cell_type": "code",
   "execution_count": 27,
   "metadata": {},
   "outputs": [
    {
     "data": {
      "text/plain": [
       "<matplotlib.axes._subplots.AxesSubplot at 0x7fb73e415748>"
      ]
     },
     "execution_count": 27,
     "metadata": {},
     "output_type": "execute_result"
    },
    {
     "data": {
      "image/png": "[encoded data removed]",
      "text/plain": [
       "<Figure size 432x288 with 1 Axes>"
      ]
     },
     "metadata": {
      "needs_background": "light"
     },
     "output_type": "display_data"
    }
   ],
   "source": [
    "df_class.cnt.hist()"
   ]
  },
  {
   "cell_type": "code",
   "execution_count": 28,
   "metadata": {},
   "outputs": [
    {
     "data": {
      "text/plain": [
       "array([[<matplotlib.axes._subplots.AxesSubplot object at 0x7fb73e36a160>,\n",
       "        <matplotlib.axes._subplots.AxesSubplot object at 0x7fb73e28b9e8>],\n",
       "       [<matplotlib.axes._subplots.AxesSubplot object at 0x7fb73e2b3c50>,\n",
       "        <matplotlib.axes._subplots.AxesSubplot object at 0x7fb73e265128>],\n",
       "       [<matplotlib.axes._subplots.AxesSubplot object at 0x7fb73e20d6a0>,\n",
       "        <matplotlib.axes._subplots.AxesSubplot object at 0x7fb73e234c18>]],\n",
       "      dtype=object)"
      ]
     },
     "execution_count": 28,
     "metadata": {},
     "output_type": "execute_result"
    },
    {
     "data": {
      "image/png": "[encoded data removed]",
      "text/plain": [
       "<Figure size 1080x1080 with 6 Axes>"
      ]
     },
     "metadata": {
      "needs_background": "light"
     },
     "output_type": "display_data"
    }
   ],
   "source": [
    "from sklearn.preprocessing import scale\n",
    "\n",
    "feature_matrix=df_class.loc[:, df_std.columns != 'cnt']\n",
    "target_vector=df_class['cnt']\n",
    "feature_matrix = pd.DataFrame(scale(feature_matrix), index=feature_matrix.index, columns=feature_matrix.columns) # standardization\n",
    "feature_matrix.hist(figsize=(15,15))\n",
    "\n"
   ]
  },
  {
   "cell_type": "code",
   "execution_count": 29,
   "metadata": {},
   "outputs": [],
   "source": [
    "from sklearn.model_selection import train_test_split\n",
    "\n",
    "x_train, x_test, y_train, y_test = train_test_split(feature_matrix, target_vector, test_size=0.2, random_state=1)"
   ]
  },
  {
   "cell_type": "markdown",
   "metadata": {},
   "source": [
    "We first try with multinomial logistic regression"
   ]
  },
  {
   "cell_type": "code",
   "execution_count": 30,
   "metadata": {},
   "outputs": [
    {
     "name": "stdout",
     "output_type": "stream",
     "text": [
      "0.4407783417935702\n",
      "0.44932432432432434\n"
     ]
    }
   ],
   "source": [
    "from sklearn.linear_model import LogisticRegression\n",
    "\n",
    "clf = LogisticRegression(fit_intercept=True,random_state=1, max_iter=10000, multi_class='multinomial',solver ='newton-cg').fit(x_train, y_train)\n",
    "clf.predict(x_train)\n",
    "print(clf.score(x_train,y_train))\n",
    "\n",
    "clf.predict(x_test)\n",
    "print(clf.score(x_test,y_test))"
   ]
  },
  {
   "cell_type": "markdown",
   "metadata": {},
   "source": [
    "After we try with multi-layer perceptron"
   ]
  },
  {
   "cell_type": "code",
   "execution_count": 31,
   "metadata": {},
   "outputs": [
    {
     "name": "stdout",
     "output_type": "stream",
     "text": [
      "train accuracy:  0.6129441624365483\n",
      "test accuracy:  0.5793918918918919\n"
     ]
    }
   ],
   "source": [
    "from sklearn.neural_network import MLPClassifier\n",
    "from sklearn.metrics import accuracy_score\n",
    "\n",
    "clf = MLPClassifier(random_state=1, max_iter=600)\n",
    "clf.fit(x_train, y_train)\n",
    "\n",
    "y_pred_train = clf.predict(x_train)\n",
    "print('train accuracy: ', accuracy_score(y_train, y_pred_train))\n",
    "\n",
    "y_pred_test = clf.predict(x_test)\n",
    "print('test accuracy: ', accuracy_score(y_test, y_pred_test))\n"
   ]
  },
  {
   "cell_type": "markdown",
   "metadata": {},
   "source": [
    "The results are quite better than the regression case."
   ]
  },
  {
   "cell_type": "code",
   "execution_count": 32,
   "metadata": {},
   "outputs": [
    {
     "data": {
      "text/plain": [
       "array([[517, 216,  85],\n",
       "       [277, 398, 144],\n",
       "       [ 78, 115, 534]])"
      ]
     },
     "execution_count": 32,
     "metadata": {},
     "output_type": "execute_result"
    }
   ],
   "source": [
    "from sklearn.metrics import confusion_matrix\n",
    "\n",
    "confusion_matrix(y_train, y_pred_train)"
   ]
  },
  {
   "cell_type": "code",
   "execution_count": 33,
   "metadata": {},
   "outputs": [
    {
     "data": {
      "text/plain": [
       "array([[136,  66,  20],\n",
       "       [ 73,  79,  44],\n",
       "       [ 23,  23, 128]])"
      ]
     },
     "execution_count": 33,
     "metadata": {},
     "output_type": "execute_result"
    }
   ],
   "source": [
    "confusion_matrix(y_test, y_pred_test)"
   ]
  },
  {
   "cell_type": "markdown",
   "metadata": {},
   "source": [
    "##### We try to compare our classifier with a classifier that chooses randomly the class. 2364 training samples, 592 testing samples."
   ]
  },
  {
   "cell_type": "code",
   "execution_count": 34,
   "metadata": {},
   "outputs": [
    {
     "name": "stdout",
     "output_type": "stream",
     "text": [
      "train accuracy:  0.34052453468697125\n",
      "test accuracy:  0.3564189189189189\n"
     ]
    }
   ],
   "source": [
    "np.random.seed(5)\n",
    "\n",
    "y_pred_train = np.random.randint(0,3,size=2364)\n",
    "print('train accuracy: ', accuracy_score(y_train, y_pred_train))\n",
    "\n",
    "y_pred_test = np.random.randint(0,3,size=592)\n",
    "print('test accuracy: ', accuracy_score(y_test, y_pred_test))"
   ]
  },
  {
   "cell_type": "code",
   "execution_count": 39,
   "metadata": {},
   "outputs": [
    {
     "data": {
      "text/plain": [
       "array([[84, 78, 60],\n",
       "       [61, 70, 65],\n",
       "       [63, 54, 57]])"
      ]
     },
     "execution_count": 39,
     "metadata": {},
     "output_type": "execute_result"
    }
   ],
   "source": [
    "from sklearn.metrics import confusion_matrix\n",
    "\n",
    "confusion_matrix(y_test, y_pred_test)"
   ]
  }
 ],
 "metadata": {
  "kernelspec": {
   "display_name": "Python 3",
   "language": "python",
   "name": "python3"
  },
  "language_info": {
   "codemirror_mode": {
    "name": "ipython",
    "version": 3
   },
   "file_extension": ".py",
   "mimetype": "text/x-python",
   "name": "python",
   "nbconvert_exporter": "python",
   "pygments_lexer": "ipython3",
   "version": "3.7.3"
  }
 },
 "nbformat": 4,
 "nbformat_minor": 4
}
