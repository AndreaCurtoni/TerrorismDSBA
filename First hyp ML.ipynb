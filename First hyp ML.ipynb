{
 "cells": [
  {
   "cell_type": "code",
   "execution_count": 16,
   "metadata": {},
   "outputs": [],
   "source": [
    "import pandas as pd\n",
    "import numpy as np\n",
    "import seaborn as sns\n",
    "import matplotlib.pyplot as plt"
   ]
  },
  {
   "cell_type": "code",
   "execution_count": 17,
   "metadata": {},
   "outputs": [],
   "source": [
    "df = pd.read_csv('./part/DF1sthypTOT')"
   ]
  },
  {
   "cell_type": "code",
   "execution_count": 18,
   "metadata": {},
   "outputs": [
    {
     "data": {
      "text/html": [
       "<div>\n",
       "<style scoped>\n",
       "    .dataframe tbody tr th:only-of-type {\n",
       "        vertical-align: middle;\n",
       "    }\n",
       "\n",
       "    .dataframe tbody tr th {\n",
       "        vertical-align: top;\n",
       "    }\n",
       "\n",
       "    .dataframe thead th {\n",
       "        text-align: right;\n",
       "    }\n",
       "</style>\n",
       "<table border=\"1\" class=\"dataframe\">\n",
       "  <thead>\n",
       "    <tr style=\"text-align: right;\">\n",
       "      <th></th>\n",
       "      <th>CountryCode</th>\n",
       "      <th>Year</th>\n",
       "      <th>SP.DYN.LE00.IN</th>\n",
       "      <th>MS.MIL.MPRT.KD</th>\n",
       "      <th>SP.URB.TOTL</th>\n",
       "      <th>SP.RUR.TOTL</th>\n",
       "      <th>SP.DYN.AMRT.FE</th>\n",
       "      <th>SP.DYN.AMRT.MA</th>\n",
       "      <th>SP.DYN.CBRT.IN</th>\n",
       "      <th>MilitaryExp</th>\n",
       "      <th>Density</th>\n",
       "      <th>cnt</th>\n",
       "    </tr>\n",
       "  </thead>\n",
       "  <tbody>\n",
       "    <tr>\n",
       "      <th>0</th>\n",
       "      <td>AFG</td>\n",
       "      <td>1960</td>\n",
       "      <td>32.328512</td>\n",
       "      <td>4.000000e+07</td>\n",
       "      <td>739462.0</td>\n",
       "      <td>8255331.0</td>\n",
       "      <td>551.1210</td>\n",
       "      <td>604.5970</td>\n",
       "      <td>51.276</td>\n",
       "      <td>2.252607e+10</td>\n",
       "      <td>13.891572</td>\n",
       "      <td>1928.0</td>\n",
       "    </tr>\n",
       "    <tr>\n",
       "      <th>1</th>\n",
       "      <td>ALB</td>\n",
       "      <td>1960</td>\n",
       "      <td>62.254366</td>\n",
       "      <td>6.200000e+07</td>\n",
       "      <td>493982.0</td>\n",
       "      <td>1114818.0</td>\n",
       "      <td>151.0588</td>\n",
       "      <td>160.4806</td>\n",
       "      <td>42.240</td>\n",
       "      <td>2.252607e+10</td>\n",
       "      <td>55.962154</td>\n",
       "      <td>4.0</td>\n",
       "    </tr>\n",
       "    <tr>\n",
       "      <th>2</th>\n",
       "      <td>DZA</td>\n",
       "      <td>1960</td>\n",
       "      <td>46.135122</td>\n",
       "      <td>1.451501e+09</td>\n",
       "      <td>3394205.0</td>\n",
       "      <td>7730687.0</td>\n",
       "      <td>323.2800</td>\n",
       "      <td>373.1320</td>\n",
       "      <td>49.671</td>\n",
       "      <td>2.252607e+10</td>\n",
       "      <td>4.670910</td>\n",
       "      <td>16.0</td>\n",
       "    </tr>\n",
       "    <tr>\n",
       "      <th>3</th>\n",
       "      <td>AGO</td>\n",
       "      <td>1960</td>\n",
       "      <td>32.984829</td>\n",
       "      <td>1.451501e+09</td>\n",
       "      <td>550013.0</td>\n",
       "      <td>4720831.0</td>\n",
       "      <td>500.8860</td>\n",
       "      <td>565.4100</td>\n",
       "      <td>54.423</td>\n",
       "      <td>2.252607e+10</td>\n",
       "      <td>4.227837</td>\n",
       "      <td>0.0</td>\n",
       "    </tr>\n",
       "    <tr>\n",
       "      <th>4</th>\n",
       "      <td>ATG</td>\n",
       "      <td>1960</td>\n",
       "      <td>61.782732</td>\n",
       "      <td>1.451501e+09</td>\n",
       "      <td>21684.0</td>\n",
       "      <td>32997.0</td>\n",
       "      <td>244.9240</td>\n",
       "      <td>275.5520</td>\n",
       "      <td>32.920</td>\n",
       "      <td>2.252607e+10</td>\n",
       "      <td>123.433409</td>\n",
       "      <td>0.0</td>\n",
       "    </tr>\n",
       "  </tbody>\n",
       "</table>\n",
       "</div>"
      ],
      "text/plain": [
       "  CountryCode  Year  SP.DYN.LE00.IN  MS.MIL.MPRT.KD  SP.URB.TOTL  SP.RUR.TOTL  \\\n",
       "0         AFG  1960       32.328512    4.000000e+07     739462.0    8255331.0   \n",
       "1         ALB  1960       62.254366    6.200000e+07     493982.0    1114818.0   \n",
       "2         DZA  1960       46.135122    1.451501e+09    3394205.0    7730687.0   \n",
       "3         AGO  1960       32.984829    1.451501e+09     550013.0    4720831.0   \n",
       "4         ATG  1960       61.782732    1.451501e+09      21684.0      32997.0   \n",
       "\n",
       "   SP.DYN.AMRT.FE  SP.DYN.AMRT.MA  SP.DYN.CBRT.IN   MilitaryExp     Density  \\\n",
       "0        551.1210        604.5970          51.276  2.252607e+10   13.891572   \n",
       "1        151.0588        160.4806          42.240  2.252607e+10   55.962154   \n",
       "2        323.2800        373.1320          49.671  2.252607e+10    4.670910   \n",
       "3        500.8860        565.4100          54.423  2.252607e+10    4.227837   \n",
       "4        244.9240        275.5520          32.920  2.252607e+10  123.433409   \n",
       "\n",
       "      cnt  \n",
       "0  1928.0  \n",
       "1     4.0  \n",
       "2    16.0  \n",
       "3     0.0  \n",
       "4     0.0  "
      ]
     },
     "execution_count": 18,
     "metadata": {},
     "output_type": "execute_result"
    }
   ],
   "source": [
    "df.head()"
   ]
  },
  {
   "cell_type": "code",
   "execution_count": 21,
   "metadata": {},
   "outputs": [],
   "source": [
    "del df['CountryCode']"
   ]
  },
  {
   "cell_type": "code",
   "execution_count": 22,
   "metadata": {},
   "outputs": [
    {
     "data": {
      "text/plain": [
       "Year                int64\n",
       "SP.DYN.LE00.IN    float64\n",
       "MS.MIL.MPRT.KD    float64\n",
       "SP.URB.TOTL       float64\n",
       "SP.RUR.TOTL       float64\n",
       "SP.DYN.AMRT.FE    float64\n",
       "SP.DYN.AMRT.MA    float64\n",
       "SP.DYN.CBRT.IN    float64\n",
       "MilitaryExp       float64\n",
       "Density           float64\n",
       "cnt               float64\n",
       "dtype: object"
      ]
     },
     "execution_count": 22,
     "metadata": {},
     "output_type": "execute_result"
    }
   ],
   "source": [
    "df.dtypes"
   ]
  },
  {
   "cell_type": "code",
   "execution_count": 23,
   "metadata": {},
   "outputs": [
    {
     "data": {
      "text/html": [
       "<div>\n",
       "<style scoped>\n",
       "    .dataframe tbody tr th:only-of-type {\n",
       "        vertical-align: middle;\n",
       "    }\n",
       "\n",
       "    .dataframe tbody tr th {\n",
       "        vertical-align: top;\n",
       "    }\n",
       "\n",
       "    .dataframe thead th {\n",
       "        text-align: right;\n",
       "    }\n",
       "</style>\n",
       "<table border=\"1\" class=\"dataframe\">\n",
       "  <thead>\n",
       "    <tr style=\"text-align: right;\">\n",
       "      <th></th>\n",
       "      <th>Year</th>\n",
       "      <th>SP.DYN.LE00.IN</th>\n",
       "      <th>MS.MIL.MPRT.KD</th>\n",
       "      <th>SP.URB.TOTL</th>\n",
       "      <th>SP.RUR.TOTL</th>\n",
       "      <th>SP.DYN.AMRT.FE</th>\n",
       "      <th>SP.DYN.AMRT.MA</th>\n",
       "      <th>SP.DYN.CBRT.IN</th>\n",
       "      <th>MilitaryExp</th>\n",
       "      <th>Density</th>\n",
       "      <th>cnt</th>\n",
       "    </tr>\n",
       "  </thead>\n",
       "  <tbody>\n",
       "    <tr>\n",
       "      <th>count</th>\n",
       "      <td>9675.000000</td>\n",
       "      <td>9675.000000</td>\n",
       "      <td>9.675000e+03</td>\n",
       "      <td>9.675000e+03</td>\n",
       "      <td>9.675000e+03</td>\n",
       "      <td>9675.000000</td>\n",
       "      <td>9675.000000</td>\n",
       "      <td>9675.000000</td>\n",
       "      <td>9.675000e+03</td>\n",
       "      <td>9675.000000</td>\n",
       "      <td>9675.000000</td>\n",
       "    </tr>\n",
       "    <tr>\n",
       "      <th>mean</th>\n",
       "      <td>1986.390698</td>\n",
       "      <td>63.051208</td>\n",
       "      <td>8.126313e+08</td>\n",
       "      <td>1.151509e+07</td>\n",
       "      <td>1.518205e+07</td>\n",
       "      <td>199.607566</td>\n",
       "      <td>270.397297</td>\n",
       "      <td>30.040825</td>\n",
       "      <td>1.143548e+10</td>\n",
       "      <td>218.366585</td>\n",
       "      <td>77.351731</td>\n",
       "    </tr>\n",
       "    <tr>\n",
       "      <th>std</th>\n",
       "      <td>15.461280</td>\n",
       "      <td>11.333782</td>\n",
       "      <td>6.941853e+08</td>\n",
       "      <td>3.798078e+07</td>\n",
       "      <td>7.352284e+07</td>\n",
       "      <td>123.317763</td>\n",
       "      <td>117.642358</td>\n",
       "      <td>13.020843</td>\n",
       "      <td>2.374492e+10</td>\n",
       "      <td>1079.839746</td>\n",
       "      <td>296.719758</td>\n",
       "    </tr>\n",
       "    <tr>\n",
       "      <th>min</th>\n",
       "      <td>1960.000000</td>\n",
       "      <td>19.265512</td>\n",
       "      <td>0.000000e+00</td>\n",
       "      <td>6.627000e+03</td>\n",
       "      <td>0.000000e+00</td>\n",
       "      <td>29.171200</td>\n",
       "      <td>63.413000</td>\n",
       "      <td>6.900000</td>\n",
       "      <td>0.000000e+00</td>\n",
       "      <td>0.025899</td>\n",
       "      <td>0.000000</td>\n",
       "    </tr>\n",
       "    <tr>\n",
       "      <th>25%</th>\n",
       "      <td>1973.000000</td>\n",
       "      <td>54.847293</td>\n",
       "      <td>5.100000e+07</td>\n",
       "      <td>4.038695e+05</td>\n",
       "      <td>5.039915e+05</td>\n",
       "      <td>103.424500</td>\n",
       "      <td>182.181000</td>\n",
       "      <td>18.100000</td>\n",
       "      <td>1.425978e+08</td>\n",
       "      <td>15.926800</td>\n",
       "      <td>0.000000</td>\n",
       "    </tr>\n",
       "    <tr>\n",
       "      <th>50%</th>\n",
       "      <td>1986.000000</td>\n",
       "      <td>66.024927</td>\n",
       "      <td>9.780000e+08</td>\n",
       "      <td>1.994928e+06</td>\n",
       "      <td>2.519806e+06</td>\n",
       "      <td>159.363000</td>\n",
       "      <td>251.514000</td>\n",
       "      <td>30.063000</td>\n",
       "      <td>2.672286e+09</td>\n",
       "      <td>49.687727</td>\n",
       "      <td>0.000000</td>\n",
       "    </tr>\n",
       "    <tr>\n",
       "      <th>75%</th>\n",
       "      <td>2000.000000</td>\n",
       "      <td>71.670195</td>\n",
       "      <td>1.451501e+09</td>\n",
       "      <td>6.918278e+06</td>\n",
       "      <td>7.815200e+06</td>\n",
       "      <td>280.066500</td>\n",
       "      <td>341.427000</td>\n",
       "      <td>41.978500</td>\n",
       "      <td>2.252607e+10</td>\n",
       "      <td>117.831373</td>\n",
       "      <td>10.000000</td>\n",
       "    </tr>\n",
       "    <tr>\n",
       "      <th>max</th>\n",
       "      <td>2013.000000</td>\n",
       "      <td>83.831707</td>\n",
       "      <td>5.566000e+09</td>\n",
       "      <td>7.216918e+08</td>\n",
       "      <td>8.701360e+08</td>\n",
       "      <td>799.382000</td>\n",
       "      <td>921.630000</td>\n",
       "      <td>57.637000</td>\n",
       "      <td>6.980000e+11</td>\n",
       "      <td>20287.714286</td>\n",
       "      <td>2751.000000</td>\n",
       "    </tr>\n",
       "  </tbody>\n",
       "</table>\n",
       "</div>"
      ],
      "text/plain": [
       "              Year  SP.DYN.LE00.IN  MS.MIL.MPRT.KD   SP.URB.TOTL  \\\n",
       "count  9675.000000     9675.000000    9.675000e+03  9.675000e+03   \n",
       "mean   1986.390698       63.051208    8.126313e+08  1.151509e+07   \n",
       "std      15.461280       11.333782    6.941853e+08  3.798078e+07   \n",
       "min    1960.000000       19.265512    0.000000e+00  6.627000e+03   \n",
       "25%    1973.000000       54.847293    5.100000e+07  4.038695e+05   \n",
       "50%    1986.000000       66.024927    9.780000e+08  1.994928e+06   \n",
       "75%    2000.000000       71.670195    1.451501e+09  6.918278e+06   \n",
       "max    2013.000000       83.831707    5.566000e+09  7.216918e+08   \n",
       "\n",
       "        SP.RUR.TOTL  SP.DYN.AMRT.FE  SP.DYN.AMRT.MA  SP.DYN.CBRT.IN  \\\n",
       "count  9.675000e+03     9675.000000     9675.000000     9675.000000   \n",
       "mean   1.518205e+07      199.607566      270.397297       30.040825   \n",
       "std    7.352284e+07      123.317763      117.642358       13.020843   \n",
       "min    0.000000e+00       29.171200       63.413000        6.900000   \n",
       "25%    5.039915e+05      103.424500      182.181000       18.100000   \n",
       "50%    2.519806e+06      159.363000      251.514000       30.063000   \n",
       "75%    7.815200e+06      280.066500      341.427000       41.978500   \n",
       "max    8.701360e+08      799.382000      921.630000       57.637000   \n",
       "\n",
       "        MilitaryExp       Density          cnt  \n",
       "count  9.675000e+03   9675.000000  9675.000000  \n",
       "mean   1.143548e+10    218.366585    77.351731  \n",
       "std    2.374492e+10   1079.839746   296.719758  \n",
       "min    0.000000e+00      0.025899     0.000000  \n",
       "25%    1.425978e+08     15.926800     0.000000  \n",
       "50%    2.672286e+09     49.687727     0.000000  \n",
       "75%    2.252607e+10    117.831373    10.000000  \n",
       "max    6.980000e+11  20287.714286  2751.000000  "
      ]
     },
     "execution_count": 23,
     "metadata": {},
     "output_type": "execute_result"
    }
   ],
   "source": [
    "df.describe()"
   ]
  },
  {
   "cell_type": "code",
   "execution_count": 24,
   "metadata": {},
   "outputs": [
    {
     "data": {
      "text/plain": [
       "array([[<matplotlib.axes._subplots.AxesSubplot object at 0x7fc6843cd2d0>,\n",
       "        <matplotlib.axes._subplots.AxesSubplot object at 0x7fc6835d9950>,\n",
       "        <matplotlib.axes._subplots.AxesSubplot object at 0x7fc6834e5c50>],\n",
       "       [<matplotlib.axes._subplots.AxesSubplot object at 0x7fc683841f50>,\n",
       "        <matplotlib.axes._subplots.AxesSubplot object at 0x7fc683945410>,\n",
       "        <matplotlib.axes._subplots.AxesSubplot object at 0x7fc68397b9d0>],\n",
       "       [<matplotlib.axes._subplots.AxesSubplot object at 0x7fc683191cd0>,\n",
       "        <matplotlib.axes._subplots.AxesSubplot object at 0x7fc6831b3fd0>,\n",
       "        <matplotlib.axes._subplots.AxesSubplot object at 0x7fc6831b9a90>],\n",
       "       [<matplotlib.axes._subplots.AxesSubplot object at 0x7fc683419ed0>,\n",
       "        <matplotlib.axes._subplots.AxesSubplot object at 0x7fc6833d8910>,\n",
       "        <matplotlib.axes._subplots.AxesSubplot object at 0x7fc6833f6c10>]],\n",
       "      dtype=object)"
      ]
     },
     "execution_count": 24,
     "metadata": {},
     "output_type": "execute_result"
    },
    {
     "data": {
      "image/png": "[encoded data removed]",
      "text/plain": [
       "<Figure size 1080x1080 with 12 Axes>"
      ]
     },
     "metadata": {
      "needs_background": "light"
     },
     "output_type": "display_data"
    }
   ],
   "source": [
    "df.hist(figsize=(15,15))"
   ]
  },
  {
   "cell_type": "code",
   "execution_count": 32,
   "metadata": {},
   "outputs": [
    {
     "data": {
      "text/html": [
       "<div>\n",
       "<style scoped>\n",
       "    .dataframe tbody tr th:only-of-type {\n",
       "        vertical-align: middle;\n",
       "    }\n",
       "\n",
       "    .dataframe tbody tr th {\n",
       "        vertical-align: top;\n",
       "    }\n",
       "\n",
       "    .dataframe thead th {\n",
       "        text-align: right;\n",
       "    }\n",
       "</style>\n",
       "<table border=\"1\" class=\"dataframe\">\n",
       "  <thead>\n",
       "    <tr style=\"text-align: right;\">\n",
       "      <th></th>\n",
       "      <th>Year</th>\n",
       "      <th>SP.DYN.LE00.IN</th>\n",
       "      <th>MS.MIL.MPRT.KD</th>\n",
       "      <th>SP.URB.TOTL</th>\n",
       "      <th>SP.RUR.TOTL</th>\n",
       "      <th>SP.DYN.AMRT.FE</th>\n",
       "      <th>SP.DYN.AMRT.MA</th>\n",
       "      <th>SP.DYN.CBRT.IN</th>\n",
       "      <th>MilitaryExp</th>\n",
       "      <th>Density</th>\n",
       "      <th>cnt</th>\n",
       "    </tr>\n",
       "  </thead>\n",
       "  <tbody>\n",
       "    <tr>\n",
       "      <th>0</th>\n",
       "      <td>-1.706978</td>\n",
       "      <td>-2.710859</td>\n",
       "      <td>-1.113062</td>\n",
       "      <td>-0.283727</td>\n",
       "      <td>-0.094217</td>\n",
       "      <td>2.850616</td>\n",
       "      <td>2.840958</td>\n",
       "      <td>1.630945</td>\n",
       "      <td>0.467096</td>\n",
       "      <td>-0.189367</td>\n",
       "      <td>6.237346</td>\n",
       "    </tr>\n",
       "    <tr>\n",
       "      <th>1</th>\n",
       "      <td>-1.706978</td>\n",
       "      <td>-0.070310</td>\n",
       "      <td>-1.081369</td>\n",
       "      <td>-0.290191</td>\n",
       "      <td>-0.191341</td>\n",
       "      <td>-0.393709</td>\n",
       "      <td>-0.934378</td>\n",
       "      <td>0.936944</td>\n",
       "      <td>0.467096</td>\n",
       "      <td>-0.150405</td>\n",
       "      <td>-0.247222</td>\n",
       "    </tr>\n",
       "    <tr>\n",
       "      <th>2</th>\n",
       "      <td>-1.706978</td>\n",
       "      <td>-1.492614</td>\n",
       "      <td>0.920363</td>\n",
       "      <td>-0.213827</td>\n",
       "      <td>-0.101353</td>\n",
       "      <td>1.002928</td>\n",
       "      <td>0.873325</td>\n",
       "      <td>1.507674</td>\n",
       "      <td>0.467096</td>\n",
       "      <td>-0.197906</td>\n",
       "      <td>-0.206777</td>\n",
       "    </tr>\n",
       "    <tr>\n",
       "      <th>3</th>\n",
       "      <td>-1.706978</td>\n",
       "      <td>-2.652948</td>\n",
       "      <td>0.920363</td>\n",
       "      <td>-0.288716</td>\n",
       "      <td>-0.142293</td>\n",
       "      <td>2.443233</td>\n",
       "      <td>2.507838</td>\n",
       "      <td>1.872646</td>\n",
       "      <td>0.467096</td>\n",
       "      <td>-0.198316</td>\n",
       "      <td>-0.260703</td>\n",
       "    </tr>\n",
       "    <tr>\n",
       "      <th>4</th>\n",
       "      <td>-1.706978</td>\n",
       "      <td>-0.111926</td>\n",
       "      <td>0.920363</td>\n",
       "      <td>-0.302627</td>\n",
       "      <td>-0.206056</td>\n",
       "      <td>0.367496</td>\n",
       "      <td>0.043819</td>\n",
       "      <td>0.221132</td>\n",
       "      <td>0.467096</td>\n",
       "      <td>-0.087919</td>\n",
       "      <td>-0.260703</td>\n",
       "    </tr>\n",
       "  </tbody>\n",
       "</table>\n",
       "</div>"
      ],
      "text/plain": [
       "       Year  SP.DYN.LE00.IN  MS.MIL.MPRT.KD  SP.URB.TOTL  SP.RUR.TOTL  \\\n",
       "0 -1.706978       -2.710859       -1.113062    -0.283727    -0.094217   \n",
       "1 -1.706978       -0.070310       -1.081369    -0.290191    -0.191341   \n",
       "2 -1.706978       -1.492614        0.920363    -0.213827    -0.101353   \n",
       "3 -1.706978       -2.652948        0.920363    -0.288716    -0.142293   \n",
       "4 -1.706978       -0.111926        0.920363    -0.302627    -0.206056   \n",
       "\n",
       "   SP.DYN.AMRT.FE  SP.DYN.AMRT.MA  SP.DYN.CBRT.IN  MilitaryExp   Density  \\\n",
       "0        2.850616        2.840958        1.630945     0.467096 -0.189367   \n",
       "1       -0.393709       -0.934378        0.936944     0.467096 -0.150405   \n",
       "2        1.002928        0.873325        1.507674     0.467096 -0.197906   \n",
       "3        2.443233        2.507838        1.872646     0.467096 -0.198316   \n",
       "4        0.367496        0.043819        0.221132     0.467096 -0.087919   \n",
       "\n",
       "        cnt  \n",
       "0  6.237346  \n",
       "1 -0.247222  \n",
       "2 -0.206777  \n",
       "3 -0.260703  \n",
       "4 -0.260703  "
      ]
     },
     "execution_count": 32,
     "metadata": {},
     "output_type": "execute_result"
    }
   ],
   "source": [
    "from sklearn.preprocessing import StandardScaler\n",
    "\n",
    "scaler = StandardScaler()\n",
    "scaler.fit(df)\n",
    "std_data = scaler.transform(df)\n",
    "df_std= pd.DataFrame(std_data, index=df.index, columns=df.columns)\n",
    "df_std.head()"
   ]
  },
  {
   "cell_type": "code",
   "execution_count": 34,
   "metadata": {},
   "outputs": [
    {
     "data": {
      "text/plain": [
       "array([[<matplotlib.axes._subplots.AxesSubplot object at 0x7fc682d9df50>,\n",
       "        <matplotlib.axes._subplots.AxesSubplot object at 0x7fc682e71a50>,\n",
       "        <matplotlib.axes._subplots.AxesSubplot object at 0x7fc68314d750>],\n",
       "       [<matplotlib.axes._subplots.AxesSubplot object at 0x7fc682dd3ed0>,\n",
       "        <matplotlib.axes._subplots.AxesSubplot object at 0x7fc682fc0750>,\n",
       "        <matplotlib.axes._subplots.AxesSubplot object at 0x7fc682d80e90>],\n",
       "       [<matplotlib.axes._subplots.AxesSubplot object at 0x7fc683010710>,\n",
       "        <matplotlib.axes._subplots.AxesSubplot object at 0x7fc682b13a10>,\n",
       "        <matplotlib.axes._subplots.AxesSubplot object at 0x7fc682b194d0>],\n",
       "       [<matplotlib.axes._subplots.AxesSubplot object at 0x7fc682b36910>,\n",
       "        <matplotlib.axes._subplots.AxesSubplot object at 0x7fc682af5dd0>,\n",
       "        <matplotlib.axes._subplots.AxesSubplot object at 0x7fc682a95650>]],\n",
       "      dtype=object)"
      ]
     },
     "execution_count": 34,
     "metadata": {},
     "output_type": "execute_result"
    },
    {
     "data": {
      "image/png": "[encoded data removed]",
      "text/plain": [
       "<Figure size 1080x1080 with 12 Axes>"
      ]
     },
     "metadata": {
      "needs_background": "light"
     },
     "output_type": "display_data"
    }
   ],
   "source": [
    "df_std.hist(figsize=(15,15))"
   ]
  },
  {
   "cell_type": "code",
   "execution_count": 38,
   "metadata": {},
   "outputs": [
    {
     "data": {
      "text/plain": [
       "<matplotlib.axes._subplots.AxesSubplot at 0x7fc6824a0590>"
      ]
     },
     "execution_count": 38,
     "metadata": {},
     "output_type": "execute_result"
    },
    {
     "data": {
      "image/png": "[encoded data removed]",
      "text/plain": [
       "<Figure size 432x288 with 2 Axes>"
      ]
     },
     "metadata": {
      "needs_background": "light"
     },
     "output_type": "display_data"
    }
   ],
   "source": [
    "corr = df_std.corr()\n",
    "sns.heatmap(corr, mask=np.zeros_like(corr, dtype=np.bool), cmap=sns.diverging_palette(220,10, as_cmap=True), square=True)"
   ]
  },
  {
   "cell_type": "code",
   "execution_count": 39,
   "metadata": {},
   "outputs": [],
   "source": [
    "del df_std['SP.URB.TOTL']\n",
    "del df_std['SP.DYN.AMRT.FE']\n",
    "del df_std['SP.DYN.AMRT.MA']\n",
    "\n",
    "#tolti a causa della collinearità\n"
   ]
  },
  {
   "cell_type": "code",
   "execution_count": 40,
   "metadata": {},
   "outputs": [
    {
     "data": {
      "text/plain": [
       "<matplotlib.axes._subplots.AxesSubplot at 0x7fc6824cd350>"
      ]
     },
     "execution_count": 40,
     "metadata": {},
     "output_type": "execute_result"
    },
    {
     "data": {
      "image/png": "[encoded data removed]",
      "text/plain": [
       "<Figure size 432x288 with 2 Axes>"
      ]
     },
     "metadata": {
      "needs_background": "light"
     },
     "output_type": "display_data"
    }
   ],
   "source": [
    "corr = df_std.corr()\n",
    "sns.heatmap(corr, mask=np.zeros_like(corr, dtype=np.bool), cmap=sns.diverging_palette(220,10, as_cmap=True), square=True)"
   ]
  },
  {
   "cell_type": "code",
   "execution_count": 41,
   "metadata": {},
   "outputs": [],
   "source": [
    "from sklearn.model_selection import train_test_split\n",
    "\n",
    "feature_matrix = df_std.loc[:, df_std.columns != 'cnt']\n",
    "target_vector = df_std.cnt\n",
    "\n",
    "x_train, x_test, y_train, y_test = train_test_split(feature_matrix, target_vector, test_size=0.2, random_state=1)"
   ]
  },
  {
   "cell_type": "code",
   "execution_count": 42,
   "metadata": {},
   "outputs": [
    {
     "data": {
      "text/plain": [
       "(7740, 7)"
      ]
     },
     "execution_count": 42,
     "metadata": {},
     "output_type": "execute_result"
    }
   ],
   "source": [
    "x_train.shape"
   ]
  },
  {
   "cell_type": "code",
   "execution_count": 43,
   "metadata": {},
   "outputs": [
    {
     "data": {
      "text/plain": [
       "(1935, 7)"
      ]
     },
     "execution_count": 43,
     "metadata": {},
     "output_type": "execute_result"
    }
   ],
   "source": [
    "x_test.shape"
   ]
  },
  {
   "cell_type": "code",
   "execution_count": 44,
   "metadata": {},
   "outputs": [
    {
     "data": {
      "text/plain": [
       "LinearRegression(copy_X=True, fit_intercept=True, n_jobs=None, normalize=False)"
      ]
     },
     "execution_count": 44,
     "metadata": {},
     "output_type": "execute_result"
    }
   ],
   "source": [
    "from sklearn.linear_model import LinearRegression\n",
    "\n",
    "model=LinearRegression(fit_intercept=True)\n",
    "model.fit(x_train,y_train)"
   ]
  },
  {
   "cell_type": "code",
   "execution_count": 45,
   "metadata": {},
   "outputs": [],
   "source": [
    "y_pred_train = model.predict(x_train)"
   ]
  },
  {
   "cell_type": "code",
   "execution_count": 47,
   "metadata": {},
   "outputs": [],
   "source": [
    "y_pred_test = model.predict(x_test)"
   ]
  },
  {
   "cell_type": "code",
   "execution_count": 48,
   "metadata": {},
   "outputs": [
    {
     "name": "stdout",
     "output_type": "stream",
     "text": [
      "R2 on train:  0.06190613965444691\n",
      "R2 on test:  0.048054326267540914\n"
     ]
    }
   ],
   "source": [
    "from sklearn import metrics\n",
    "\n",
    "R2_base = metrics.r2_score(y_train, y_pred_train, sample_weight=None, multioutput='uniform_average')\n",
    "R2 = metrics.r2_score(y_test, y_pred_test, sample_weight=None, multioutput='uniform_average')\n",
    "\n",
    "print(\"R2 on train: \", R2_base)\n",
    "print(\"R2 on test: \", R2)"
   ]
  },
  {
   "cell_type": "code",
   "execution_count": 50,
   "metadata": {},
   "outputs": [
    {
     "name": "stdout",
     "output_type": "stream",
     "text": [
      "Coefficients: \n",
      "Year              0.064198\n",
      "SP.DYN.LE00.IN    0.077813\n",
      "MS.MIL.MPRT.KD    0.006264\n",
      "SP.RUR.TOTL       0.186981\n",
      "SP.DYN.CBRT.IN    0.242325\n",
      "MilitaryExp      -0.019000\n",
      "Density          -0.000560\n",
      "dtype: float64\n"
     ]
    }
   ],
   "source": [
    "coefficients = pd.Series(model.coef_, index=x_train.columns)\n",
    "print('Coefficients: ')\n",
    "print(coefficients)"
   ]
  },
  {
   "cell_type": "code",
   "execution_count": null,
   "metadata": {},
   "outputs": [],
   "source": []
  }
 ],
 "metadata": {
  "kernelspec": {
   "display_name": "Python 3",
   "language": "python",
   "name": "python3"
  },
  "language_info": {
   "codemirror_mode": {
    "name": "ipython",
    "version": 3
   },
   "file_extension": ".py",
   "mimetype": "text/x-python",
   "name": "python",
   "nbconvert_exporter": "python",
   "pygments_lexer": "ipython3",
   "version": "3.7.6"
  }
 },
 "nbformat": 4,
 "nbformat_minor": 4
}
