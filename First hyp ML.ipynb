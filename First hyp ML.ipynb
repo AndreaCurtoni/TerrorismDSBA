{
 "cells": [
  {
   "cell_type": "markdown",
   "metadata": {},
   "source": [
    "# Script used to perform regression, trying to predict the number of attaccks per state, per year."
   ]
  },
  {
   "cell_type": "code",
   "execution_count": 1,
   "metadata": {},
   "outputs": [],
   "source": [
    "import pandas as pd\n",
    "import numpy as np\n",
    "import seaborn as sns\n",
    "import matplotlib.pyplot as plt"
   ]
  },
  {
   "cell_type": "code",
   "execution_count": 2,
   "metadata": {},
   "outputs": [],
   "source": [
    "df = pd.read_csv('./part/DF1sthypTOT')"
   ]
  },
  {
   "cell_type": "code",
   "execution_count": 3,
   "metadata": {},
   "outputs": [
    {
     "data": {
      "text/html": [
       "<div>\n",
       "<style scoped>\n",
       "    .dataframe tbody tr th:only-of-type {\n",
       "        vertical-align: middle;\n",
       "    }\n",
       "\n",
       "    .dataframe tbody tr th {\n",
       "        vertical-align: top;\n",
       "    }\n",
       "\n",
       "    .dataframe thead th {\n",
       "        text-align: right;\n",
       "    }\n",
       "</style>\n",
       "<table border=\"1\" class=\"dataframe\">\n",
       "  <thead>\n",
       "    <tr style=\"text-align: right;\">\n",
       "      <th></th>\n",
       "      <th>CountryCode</th>\n",
       "      <th>Year</th>\n",
       "      <th>SP.DYN.LE00.IN</th>\n",
       "      <th>MS.MIL.MPRT.KD</th>\n",
       "      <th>SP.URB.TOTL</th>\n",
       "      <th>SP.RUR.TOTL</th>\n",
       "      <th>SP.DYN.AMRT.FE</th>\n",
       "      <th>SP.DYN.AMRT.MA</th>\n",
       "      <th>SP.DYN.CBRT.IN</th>\n",
       "      <th>MilitaryExp</th>\n",
       "      <th>Density</th>\n",
       "      <th>cnt</th>\n",
       "    </tr>\n",
       "  </thead>\n",
       "  <tbody>\n",
       "    <tr>\n",
       "      <th>0</th>\n",
       "      <td>AFG</td>\n",
       "      <td>1960</td>\n",
       "      <td>32.328512</td>\n",
       "      <td>4.000000e+07</td>\n",
       "      <td>739462.0</td>\n",
       "      <td>8255331.0</td>\n",
       "      <td>551.1210</td>\n",
       "      <td>604.5970</td>\n",
       "      <td>51.276</td>\n",
       "      <td>2.252607e+10</td>\n",
       "      <td>13.891572</td>\n",
       "      <td>0.0</td>\n",
       "    </tr>\n",
       "    <tr>\n",
       "      <th>1</th>\n",
       "      <td>ALB</td>\n",
       "      <td>1960</td>\n",
       "      <td>62.254366</td>\n",
       "      <td>6.200000e+07</td>\n",
       "      <td>493982.0</td>\n",
       "      <td>1114818.0</td>\n",
       "      <td>151.0588</td>\n",
       "      <td>160.4806</td>\n",
       "      <td>42.240</td>\n",
       "      <td>2.252607e+10</td>\n",
       "      <td>55.962154</td>\n",
       "      <td>0.0</td>\n",
       "    </tr>\n",
       "    <tr>\n",
       "      <th>2</th>\n",
       "      <td>DZA</td>\n",
       "      <td>1960</td>\n",
       "      <td>46.135122</td>\n",
       "      <td>1.451501e+09</td>\n",
       "      <td>3394205.0</td>\n",
       "      <td>7730687.0</td>\n",
       "      <td>323.2800</td>\n",
       "      <td>373.1320</td>\n",
       "      <td>49.671</td>\n",
       "      <td>2.252607e+10</td>\n",
       "      <td>4.670910</td>\n",
       "      <td>0.0</td>\n",
       "    </tr>\n",
       "    <tr>\n",
       "      <th>3</th>\n",
       "      <td>AGO</td>\n",
       "      <td>1960</td>\n",
       "      <td>32.984829</td>\n",
       "      <td>1.451501e+09</td>\n",
       "      <td>550013.0</td>\n",
       "      <td>4720831.0</td>\n",
       "      <td>500.8860</td>\n",
       "      <td>565.4100</td>\n",
       "      <td>54.423</td>\n",
       "      <td>2.252607e+10</td>\n",
       "      <td>4.227837</td>\n",
       "      <td>0.0</td>\n",
       "    </tr>\n",
       "    <tr>\n",
       "      <th>4</th>\n",
       "      <td>ATG</td>\n",
       "      <td>1960</td>\n",
       "      <td>61.782732</td>\n",
       "      <td>1.451501e+09</td>\n",
       "      <td>21684.0</td>\n",
       "      <td>32997.0</td>\n",
       "      <td>244.9240</td>\n",
       "      <td>275.5520</td>\n",
       "      <td>32.920</td>\n",
       "      <td>2.252607e+10</td>\n",
       "      <td>123.433409</td>\n",
       "      <td>0.0</td>\n",
       "    </tr>\n",
       "  </tbody>\n",
       "</table>\n",
       "</div>"
      ],
      "text/plain": [
       "  CountryCode  Year  SP.DYN.LE00.IN  MS.MIL.MPRT.KD  SP.URB.TOTL  SP.RUR.TOTL  \\\n",
       "0         AFG  1960       32.328512    4.000000e+07     739462.0    8255331.0   \n",
       "1         ALB  1960       62.254366    6.200000e+07     493982.0    1114818.0   \n",
       "2         DZA  1960       46.135122    1.451501e+09    3394205.0    7730687.0   \n",
       "3         AGO  1960       32.984829    1.451501e+09     550013.0    4720831.0   \n",
       "4         ATG  1960       61.782732    1.451501e+09      21684.0      32997.0   \n",
       "\n",
       "   SP.DYN.AMRT.FE  SP.DYN.AMRT.MA  SP.DYN.CBRT.IN   MilitaryExp     Density  \\\n",
       "0        551.1210        604.5970          51.276  2.252607e+10   13.891572   \n",
       "1        151.0588        160.4806          42.240  2.252607e+10   55.962154   \n",
       "2        323.2800        373.1320          49.671  2.252607e+10    4.670910   \n",
       "3        500.8860        565.4100          54.423  2.252607e+10    4.227837   \n",
       "4        244.9240        275.5520          32.920  2.252607e+10  123.433409   \n",
       "\n",
       "   cnt  \n",
       "0  0.0  \n",
       "1  0.0  \n",
       "2  0.0  \n",
       "3  0.0  \n",
       "4  0.0  "
      ]
     },
     "execution_count": 3,
     "metadata": {},
     "output_type": "execute_result"
    }
   ],
   "source": [
    "df.head()"
   ]
  },
  {
   "cell_type": "code",
   "execution_count": 4,
   "metadata": {},
   "outputs": [],
   "source": [
    "del df['CountryCode']"
   ]
  },
  {
   "cell_type": "code",
   "execution_count": 5,
   "metadata": {},
   "outputs": [
    {
     "data": {
      "text/plain": [
       "Year                int64\n",
       "SP.DYN.LE00.IN    float64\n",
       "MS.MIL.MPRT.KD    float64\n",
       "SP.URB.TOTL       float64\n",
       "SP.RUR.TOTL       float64\n",
       "SP.DYN.AMRT.FE    float64\n",
       "SP.DYN.AMRT.MA    float64\n",
       "SP.DYN.CBRT.IN    float64\n",
       "MilitaryExp       float64\n",
       "Density           float64\n",
       "cnt               float64\n",
       "dtype: object"
      ]
     },
     "execution_count": 5,
     "metadata": {},
     "output_type": "execute_result"
    }
   ],
   "source": [
    "df.dtypes"
   ]
  },
  {
   "cell_type": "code",
   "execution_count": 6,
   "metadata": {},
   "outputs": [
    {
     "data": {
      "text/html": [
       "<div>\n",
       "<style scoped>\n",
       "    .dataframe tbody tr th:only-of-type {\n",
       "        vertical-align: middle;\n",
       "    }\n",
       "\n",
       "    .dataframe tbody tr th {\n",
       "        vertical-align: top;\n",
       "    }\n",
       "\n",
       "    .dataframe thead th {\n",
       "        text-align: right;\n",
       "    }\n",
       "</style>\n",
       "<table border=\"1\" class=\"dataframe\">\n",
       "  <thead>\n",
       "    <tr style=\"text-align: right;\">\n",
       "      <th></th>\n",
       "      <th>Year</th>\n",
       "      <th>SP.DYN.LE00.IN</th>\n",
       "      <th>MS.MIL.MPRT.KD</th>\n",
       "      <th>SP.URB.TOTL</th>\n",
       "      <th>SP.RUR.TOTL</th>\n",
       "      <th>SP.DYN.AMRT.FE</th>\n",
       "      <th>SP.DYN.AMRT.MA</th>\n",
       "      <th>SP.DYN.CBRT.IN</th>\n",
       "      <th>MilitaryExp</th>\n",
       "      <th>Density</th>\n",
       "      <th>cnt</th>\n",
       "    </tr>\n",
       "  </thead>\n",
       "  <tbody>\n",
       "    <tr>\n",
       "      <th>count</th>\n",
       "      <td>9675.000000</td>\n",
       "      <td>9675.000000</td>\n",
       "      <td>9.675000e+03</td>\n",
       "      <td>9.675000e+03</td>\n",
       "      <td>9.675000e+03</td>\n",
       "      <td>9675.000000</td>\n",
       "      <td>9675.000000</td>\n",
       "      <td>9675.000000</td>\n",
       "      <td>9.675000e+03</td>\n",
       "      <td>9675.000000</td>\n",
       "      <td>9675.000000</td>\n",
       "    </tr>\n",
       "    <tr>\n",
       "      <th>mean</th>\n",
       "      <td>1986.390698</td>\n",
       "      <td>63.051208</td>\n",
       "      <td>8.126313e+08</td>\n",
       "      <td>1.151509e+07</td>\n",
       "      <td>1.518205e+07</td>\n",
       "      <td>199.607566</td>\n",
       "      <td>270.397297</td>\n",
       "      <td>30.040825</td>\n",
       "      <td>1.143548e+10</td>\n",
       "      <td>218.366585</td>\n",
       "      <td>12.366408</td>\n",
       "    </tr>\n",
       "    <tr>\n",
       "      <th>std</th>\n",
       "      <td>15.461280</td>\n",
       "      <td>11.333782</td>\n",
       "      <td>6.941853e+08</td>\n",
       "      <td>3.798078e+07</td>\n",
       "      <td>7.352284e+07</td>\n",
       "      <td>123.317763</td>\n",
       "      <td>117.642358</td>\n",
       "      <td>13.020843</td>\n",
       "      <td>2.374492e+10</td>\n",
       "      <td>1079.839746</td>\n",
       "      <td>74.534341</td>\n",
       "    </tr>\n",
       "    <tr>\n",
       "      <th>min</th>\n",
       "      <td>1960.000000</td>\n",
       "      <td>19.265512</td>\n",
       "      <td>0.000000e+00</td>\n",
       "      <td>6.627000e+03</td>\n",
       "      <td>0.000000e+00</td>\n",
       "      <td>29.171200</td>\n",
       "      <td>63.413000</td>\n",
       "      <td>6.900000</td>\n",
       "      <td>0.000000e+00</td>\n",
       "      <td>0.025899</td>\n",
       "      <td>0.000000</td>\n",
       "    </tr>\n",
       "    <tr>\n",
       "      <th>25%</th>\n",
       "      <td>1973.000000</td>\n",
       "      <td>54.847293</td>\n",
       "      <td>5.100000e+07</td>\n",
       "      <td>4.038695e+05</td>\n",
       "      <td>5.039915e+05</td>\n",
       "      <td>103.424500</td>\n",
       "      <td>182.181000</td>\n",
       "      <td>18.100000</td>\n",
       "      <td>1.425978e+08</td>\n",
       "      <td>15.926800</td>\n",
       "      <td>0.000000</td>\n",
       "    </tr>\n",
       "    <tr>\n",
       "      <th>50%</th>\n",
       "      <td>1986.000000</td>\n",
       "      <td>66.024927</td>\n",
       "      <td>9.780000e+08</td>\n",
       "      <td>1.994928e+06</td>\n",
       "      <td>2.519806e+06</td>\n",
       "      <td>159.363000</td>\n",
       "      <td>251.514000</td>\n",
       "      <td>30.063000</td>\n",
       "      <td>2.672286e+09</td>\n",
       "      <td>49.687727</td>\n",
       "      <td>0.000000</td>\n",
       "    </tr>\n",
       "    <tr>\n",
       "      <th>75%</th>\n",
       "      <td>2000.000000</td>\n",
       "      <td>71.670195</td>\n",
       "      <td>1.451501e+09</td>\n",
       "      <td>6.918278e+06</td>\n",
       "      <td>7.815200e+06</td>\n",
       "      <td>280.066500</td>\n",
       "      <td>341.427000</td>\n",
       "      <td>41.978500</td>\n",
       "      <td>2.252607e+10</td>\n",
       "      <td>117.831373</td>\n",
       "      <td>1.000000</td>\n",
       "    </tr>\n",
       "    <tr>\n",
       "      <th>max</th>\n",
       "      <td>2013.000000</td>\n",
       "      <td>83.831707</td>\n",
       "      <td>5.566000e+09</td>\n",
       "      <td>7.216918e+08</td>\n",
       "      <td>8.701360e+08</td>\n",
       "      <td>799.382000</td>\n",
       "      <td>921.630000</td>\n",
       "      <td>57.637000</td>\n",
       "      <td>6.980000e+11</td>\n",
       "      <td>20287.714286</td>\n",
       "      <td>2852.000000</td>\n",
       "    </tr>\n",
       "  </tbody>\n",
       "</table>\n",
       "</div>"
      ],
      "text/plain": [
       "              Year  SP.DYN.LE00.IN  MS.MIL.MPRT.KD   SP.URB.TOTL  \\\n",
       "count  9675.000000     9675.000000    9.675000e+03  9.675000e+03   \n",
       "mean   1986.390698       63.051208    8.126313e+08  1.151509e+07   \n",
       "std      15.461280       11.333782    6.941853e+08  3.798078e+07   \n",
       "min    1960.000000       19.265512    0.000000e+00  6.627000e+03   \n",
       "25%    1973.000000       54.847293    5.100000e+07  4.038695e+05   \n",
       "50%    1986.000000       66.024927    9.780000e+08  1.994928e+06   \n",
       "75%    2000.000000       71.670195    1.451501e+09  6.918278e+06   \n",
       "max    2013.000000       83.831707    5.566000e+09  7.216918e+08   \n",
       "\n",
       "        SP.RUR.TOTL  SP.DYN.AMRT.FE  SP.DYN.AMRT.MA  SP.DYN.CBRT.IN  \\\n",
       "count  9.675000e+03     9675.000000     9675.000000     9675.000000   \n",
       "mean   1.518205e+07      199.607566      270.397297       30.040825   \n",
       "std    7.352284e+07      123.317763      117.642358       13.020843   \n",
       "min    0.000000e+00       29.171200       63.413000        6.900000   \n",
       "25%    5.039915e+05      103.424500      182.181000       18.100000   \n",
       "50%    2.519806e+06      159.363000      251.514000       30.063000   \n",
       "75%    7.815200e+06      280.066500      341.427000       41.978500   \n",
       "max    8.701360e+08      799.382000      921.630000       57.637000   \n",
       "\n",
       "        MilitaryExp       Density          cnt  \n",
       "count  9.675000e+03   9675.000000  9675.000000  \n",
       "mean   1.143548e+10    218.366585    12.366408  \n",
       "std    2.374492e+10   1079.839746    74.534341  \n",
       "min    0.000000e+00      0.025899     0.000000  \n",
       "25%    1.425978e+08     15.926800     0.000000  \n",
       "50%    2.672286e+09     49.687727     0.000000  \n",
       "75%    2.252607e+10    117.831373     1.000000  \n",
       "max    6.980000e+11  20287.714286  2852.000000  "
      ]
     },
     "execution_count": 6,
     "metadata": {},
     "output_type": "execute_result"
    }
   ],
   "source": [
    "df.describe()"
   ]
  },
  {
   "cell_type": "code",
   "execution_count": 7,
   "metadata": {},
   "outputs": [
    {
     "data": {
      "text/plain": [
       "array([[<matplotlib.axes._subplots.AxesSubplot object at 0x7f1d9c97a910>,\n",
       "        <matplotlib.axes._subplots.AxesSubplot object at 0x7f1d9c179690>,\n",
       "        <matplotlib.axes._subplots.AxesSubplot object at 0x7f1d9c12ee50>],\n",
       "       [<matplotlib.axes._subplots.AxesSubplot object at 0x7f1d9c0ed690>,\n",
       "        <matplotlib.axes._subplots.AxesSubplot object at 0x7f1d9c0a2e90>,\n",
       "        <matplotlib.axes._subplots.AxesSubplot object at 0x7f1d9c0646d0>],\n",
       "       [<matplotlib.axes._subplots.AxesSubplot object at 0x7f1d9c0223d0>,\n",
       "        <matplotlib.axes._subplots.AxesSubplot object at 0x7f1d9bfd9710>,\n",
       "        <matplotlib.axes._subplots.AxesSubplot object at 0x7f1d9bfe2750>],\n",
       "       [<matplotlib.axes._subplots.AxesSubplot object at 0x7f1d9bfa40d0>,\n",
       "        <matplotlib.axes._subplots.AxesSubplot object at 0x7f1d9bf7ff50>,\n",
       "        <matplotlib.axes._subplots.AxesSubplot object at 0x7f1d9bf40790>]],\n",
       "      dtype=object)"
      ]
     },
     "execution_count": 7,
     "metadata": {},
     "output_type": "execute_result"
    },
    {
     "data": {
      "image/png": "[encoded data removed]",
      "text/plain": [
       "<Figure size 1080x1080 with 12 Axes>"
      ]
     },
     "metadata": {
      "needs_background": "light"
     },
     "output_type": "display_data"
    }
   ],
   "source": [
    "df.hist(figsize=(15,15))"
   ]
  },
  {
   "cell_type": "code",
   "execution_count": 52,
   "metadata": {},
   "outputs": [
    {
     "name": "stdout",
     "output_type": "stream",
     "text": [
      "Shape of the df:  (9675, 11)\n",
      "Number of cnt = 0:  (6719, 11)\n"
     ]
    }
   ],
   "source": [
    "df_std = df \n",
    "\n",
    "print('Shape of the df: ', df_std.shape)\n",
    "print('Number of cnt = 0: ', df_std[df_std['cnt'] == 0].shape)"
   ]
  },
  {
   "cell_type": "markdown",
   "metadata": {},
   "source": [
    "#### We had a lot of values of cnt equal to zero. So we decided to delete all of them, focusing more on the other values of cnt."
   ]
  },
  {
   "cell_type": "code",
   "execution_count": 89,
   "metadata": {},
   "outputs": [
    {
     "data": {
      "text/plain": [
       "<matplotlib.axes._subplots.AxesSubplot at 0x7f1d956d3d50>"
      ]
     },
     "execution_count": 89,
     "metadata": {},
     "output_type": "execute_result"
    },
    {
     "data": {
      "image/png": "[encoded data removed]",
      "text/plain": [
       "<Figure size 576x396 with 1 Axes>"
      ]
     },
     "metadata": {},
     "output_type": "display_data"
    }
   ],
   "source": [
    "df_std = df_std[df_std['cnt'] > 0]\n",
    "df_std['cnt'].hist(bins=150)"
   ]
  },
  {
   "cell_type": "code",
   "execution_count": 90,
   "metadata": {},
   "outputs": [
    {
     "name": "stdout",
     "output_type": "stream",
     "text": [
      "Shape of the df:  (2956, 8)\n"
     ]
    }
   ],
   "source": [
    "print('Shape of the df: ', df_std.shape)"
   ]
  },
  {
   "cell_type": "code",
   "execution_count": 91,
   "metadata": {},
   "outputs": [
    {
     "data": {
      "text/plain": [
       "<matplotlib.axes._subplots.AxesSubplot at 0x7f1d95129a90>"
      ]
     },
     "execution_count": 91,
     "metadata": {},
     "output_type": "execute_result"
    },
    {
     "data": {
      "image/png": "[encoded data removed]",
      "text/plain": [
       "<Figure size 576x396 with 2 Axes>"
      ]
     },
     "metadata": {},
     "output_type": "display_data"
    }
   ],
   "source": [
    "corr = df_std.corr()\n",
    "sns.heatmap(corr, mask=np.zeros_like(corr, dtype=np.bool), cmap=sns.diverging_palette(220,10, as_cmap=True), square=True)"
   ]
  },
  {
   "cell_type": "code",
   "execution_count": 92,
   "metadata": {},
   "outputs": [
    {
     "ename": "KeyError",
     "evalue": "'SP.URB.TOTL'",
     "output_type": "error",
     "traceback": [
      "\u001b[0;31m---------------------------------------------------------------------------\u001b[0m",
      "\u001b[0;31mKeyError\u001b[0m                                  Traceback (most recent call last)",
      "\u001b[0;32m~/anaconda3/lib/python3.7/site-packages/pandas/core/indexes/base.py\u001b[0m in \u001b[0;36mget_loc\u001b[0;34m(self, key, method, tolerance)\u001b[0m\n\u001b[1;32m   2645\u001b[0m             \u001b[0;32mtry\u001b[0m\u001b[0;34m:\u001b[0m\u001b[0;34m\u001b[0m\u001b[0;34m\u001b[0m\u001b[0m\n\u001b[0;32m-> 2646\u001b[0;31m                 \u001b[0;32mreturn\u001b[0m \u001b[0mself\u001b[0m\u001b[0;34m.\u001b[0m\u001b[0m_engine\u001b[0m\u001b[0;34m.\u001b[0m\u001b[0mget_loc\u001b[0m\u001b[0;34m(\u001b[0m\u001b[0mkey\u001b[0m\u001b[0;34m)\u001b[0m\u001b[0;34m\u001b[0m\u001b[0;34m\u001b[0m\u001b[0m\n\u001b[0m\u001b[1;32m   2647\u001b[0m             \u001b[0;32mexcept\u001b[0m \u001b[0mKeyError\u001b[0m\u001b[0;34m:\u001b[0m\u001b[0;34m\u001b[0m\u001b[0;34m\u001b[0m\u001b[0m\n",
      "\u001b[0;32mpandas/_libs/index.pyx\u001b[0m in \u001b[0;36mpandas._libs.index.IndexEngine.get_loc\u001b[0;34m()\u001b[0m\n",
      "\u001b[0;32mpandas/_libs/index.pyx\u001b[0m in \u001b[0;36mpandas._libs.index.IndexEngine.get_loc\u001b[0;34m()\u001b[0m\n",
      "\u001b[0;32mpandas/_libs/hashtable_class_helper.pxi\u001b[0m in \u001b[0;36mpandas._libs.hashtable.PyObjectHashTable.get_item\u001b[0;34m()\u001b[0m\n",
      "\u001b[0;32mpandas/_libs/hashtable_class_helper.pxi\u001b[0m in \u001b[0;36mpandas._libs.hashtable.PyObjectHashTable.get_item\u001b[0;34m()\u001b[0m\n",
      "\u001b[0;31mKeyError\u001b[0m: 'SP.URB.TOTL'",
      "\nDuring handling of the above exception, another exception occurred:\n",
      "\u001b[0;31mKeyError\u001b[0m                                  Traceback (most recent call last)",
      "\u001b[0;32m<ipython-input-92-e9c97eed2fdc>\u001b[0m in \u001b[0;36m<module>\u001b[0;34m\u001b[0m\n\u001b[0;32m----> 1\u001b[0;31m \u001b[0;32mdel\u001b[0m \u001b[0mdf_std\u001b[0m\u001b[0;34m[\u001b[0m\u001b[0;34m'SP.URB.TOTL'\u001b[0m\u001b[0;34m]\u001b[0m\u001b[0;34m\u001b[0m\u001b[0;34m\u001b[0m\u001b[0m\n\u001b[0m\u001b[1;32m      2\u001b[0m \u001b[0;32mdel\u001b[0m \u001b[0mdf_std\u001b[0m\u001b[0;34m[\u001b[0m\u001b[0;34m'SP.DYN.AMRT.FE'\u001b[0m\u001b[0;34m]\u001b[0m\u001b[0;34m\u001b[0m\u001b[0;34m\u001b[0m\u001b[0m\n\u001b[1;32m      3\u001b[0m \u001b[0;32mdel\u001b[0m \u001b[0mdf_std\u001b[0m\u001b[0;34m[\u001b[0m\u001b[0;34m'SP.DYN.AMRT.MA'\u001b[0m\u001b[0;34m]\u001b[0m\u001b[0;34m\u001b[0m\u001b[0;34m\u001b[0m\u001b[0m\n\u001b[1;32m      4\u001b[0m \u001b[0;34m\u001b[0m\u001b[0m\n\u001b[1;32m      5\u001b[0m \u001b[0;31m#we deleted them because of collinearity.\u001b[0m\u001b[0;34m\u001b[0m\u001b[0;34m\u001b[0m\u001b[0;34m\u001b[0m\u001b[0m\n",
      "\u001b[0;32m~/anaconda3/lib/python3.7/site-packages/pandas/core/generic.py\u001b[0m in \u001b[0;36m__delitem__\u001b[0;34m(self, key)\u001b[0m\n\u001b[1;32m   3757\u001b[0m             \u001b[0;31m# there was no match, this call should raise the appropriate\u001b[0m\u001b[0;34m\u001b[0m\u001b[0;34m\u001b[0m\u001b[0;34m\u001b[0m\u001b[0m\n\u001b[1;32m   3758\u001b[0m             \u001b[0;31m# exception:\u001b[0m\u001b[0;34m\u001b[0m\u001b[0;34m\u001b[0m\u001b[0;34m\u001b[0m\u001b[0m\n\u001b[0;32m-> 3759\u001b[0;31m             \u001b[0mself\u001b[0m\u001b[0;34m.\u001b[0m\u001b[0m_data\u001b[0m\u001b[0;34m.\u001b[0m\u001b[0mdelete\u001b[0m\u001b[0;34m(\u001b[0m\u001b[0mkey\u001b[0m\u001b[0;34m)\u001b[0m\u001b[0;34m\u001b[0m\u001b[0;34m\u001b[0m\u001b[0m\n\u001b[0m\u001b[1;32m   3760\u001b[0m \u001b[0;34m\u001b[0m\u001b[0m\n\u001b[1;32m   3761\u001b[0m         \u001b[0;31m# delete from the caches\u001b[0m\u001b[0;34m\u001b[0m\u001b[0;34m\u001b[0m\u001b[0;34m\u001b[0m\u001b[0m\n",
      "\u001b[0;32m~/anaconda3/lib/python3.7/site-packages/pandas/core/internals/managers.py\u001b[0m in \u001b[0;36mdelete\u001b[0;34m(self, item)\u001b[0m\n\u001b[1;32m   1000\u001b[0m         \u001b[0mDelete\u001b[0m \u001b[0mselected\u001b[0m \u001b[0mitem\u001b[0m \u001b[0;34m(\u001b[0m\u001b[0mitems\u001b[0m \u001b[0;32mif\u001b[0m \u001b[0mnon\u001b[0m\u001b[0;34m-\u001b[0m\u001b[0munique\u001b[0m\u001b[0;34m)\u001b[0m \u001b[0;32min\u001b[0m\u001b[0;34m-\u001b[0m\u001b[0mplace\u001b[0m\u001b[0;34m.\u001b[0m\u001b[0;34m\u001b[0m\u001b[0;34m\u001b[0m\u001b[0m\n\u001b[1;32m   1001\u001b[0m         \"\"\"\n\u001b[0;32m-> 1002\u001b[0;31m         \u001b[0mindexer\u001b[0m \u001b[0;34m=\u001b[0m \u001b[0mself\u001b[0m\u001b[0;34m.\u001b[0m\u001b[0mitems\u001b[0m\u001b[0;34m.\u001b[0m\u001b[0mget_loc\u001b[0m\u001b[0;34m(\u001b[0m\u001b[0mitem\u001b[0m\u001b[0;34m)\u001b[0m\u001b[0;34m\u001b[0m\u001b[0;34m\u001b[0m\u001b[0m\n\u001b[0m\u001b[1;32m   1003\u001b[0m \u001b[0;34m\u001b[0m\u001b[0m\n\u001b[1;32m   1004\u001b[0m         \u001b[0mis_deleted\u001b[0m \u001b[0;34m=\u001b[0m \u001b[0mnp\u001b[0m\u001b[0;34m.\u001b[0m\u001b[0mzeros\u001b[0m\u001b[0;34m(\u001b[0m\u001b[0mself\u001b[0m\u001b[0;34m.\u001b[0m\u001b[0mshape\u001b[0m\u001b[0;34m[\u001b[0m\u001b[0;36m0\u001b[0m\u001b[0;34m]\u001b[0m\u001b[0;34m,\u001b[0m \u001b[0mdtype\u001b[0m\u001b[0;34m=\u001b[0m\u001b[0mnp\u001b[0m\u001b[0;34m.\u001b[0m\u001b[0mbool_\u001b[0m\u001b[0;34m)\u001b[0m\u001b[0;34m\u001b[0m\u001b[0;34m\u001b[0m\u001b[0m\n",
      "\u001b[0;32m~/anaconda3/lib/python3.7/site-packages/pandas/core/indexes/base.py\u001b[0m in \u001b[0;36mget_loc\u001b[0;34m(self, key, method, tolerance)\u001b[0m\n\u001b[1;32m   2646\u001b[0m                 \u001b[0;32mreturn\u001b[0m \u001b[0mself\u001b[0m\u001b[0;34m.\u001b[0m\u001b[0m_engine\u001b[0m\u001b[0;34m.\u001b[0m\u001b[0mget_loc\u001b[0m\u001b[0;34m(\u001b[0m\u001b[0mkey\u001b[0m\u001b[0;34m)\u001b[0m\u001b[0;34m\u001b[0m\u001b[0;34m\u001b[0m\u001b[0m\n\u001b[1;32m   2647\u001b[0m             \u001b[0;32mexcept\u001b[0m \u001b[0mKeyError\u001b[0m\u001b[0;34m:\u001b[0m\u001b[0;34m\u001b[0m\u001b[0;34m\u001b[0m\u001b[0m\n\u001b[0;32m-> 2648\u001b[0;31m                 \u001b[0;32mreturn\u001b[0m \u001b[0mself\u001b[0m\u001b[0;34m.\u001b[0m\u001b[0m_engine\u001b[0m\u001b[0;34m.\u001b[0m\u001b[0mget_loc\u001b[0m\u001b[0;34m(\u001b[0m\u001b[0mself\u001b[0m\u001b[0;34m.\u001b[0m\u001b[0m_maybe_cast_indexer\u001b[0m\u001b[0;34m(\u001b[0m\u001b[0mkey\u001b[0m\u001b[0;34m)\u001b[0m\u001b[0;34m)\u001b[0m\u001b[0;34m\u001b[0m\u001b[0;34m\u001b[0m\u001b[0m\n\u001b[0m\u001b[1;32m   2649\u001b[0m         \u001b[0mindexer\u001b[0m \u001b[0;34m=\u001b[0m \u001b[0mself\u001b[0m\u001b[0;34m.\u001b[0m\u001b[0mget_indexer\u001b[0m\u001b[0;34m(\u001b[0m\u001b[0;34m[\u001b[0m\u001b[0mkey\u001b[0m\u001b[0;34m]\u001b[0m\u001b[0;34m,\u001b[0m \u001b[0mmethod\u001b[0m\u001b[0;34m=\u001b[0m\u001b[0mmethod\u001b[0m\u001b[0;34m,\u001b[0m \u001b[0mtolerance\u001b[0m\u001b[0;34m=\u001b[0m\u001b[0mtolerance\u001b[0m\u001b[0;34m)\u001b[0m\u001b[0;34m\u001b[0m\u001b[0;34m\u001b[0m\u001b[0m\n\u001b[1;32m   2650\u001b[0m         \u001b[0;32mif\u001b[0m \u001b[0mindexer\u001b[0m\u001b[0;34m.\u001b[0m\u001b[0mndim\u001b[0m \u001b[0;34m>\u001b[0m \u001b[0;36m1\u001b[0m \u001b[0;32mor\u001b[0m \u001b[0mindexer\u001b[0m\u001b[0;34m.\u001b[0m\u001b[0msize\u001b[0m \u001b[0;34m>\u001b[0m \u001b[0;36m1\u001b[0m\u001b[0;34m:\u001b[0m\u001b[0;34m\u001b[0m\u001b[0;34m\u001b[0m\u001b[0m\n",
      "\u001b[0;32mpandas/_libs/index.pyx\u001b[0m in \u001b[0;36mpandas._libs.index.IndexEngine.get_loc\u001b[0;34m()\u001b[0m\n",
      "\u001b[0;32mpandas/_libs/index.pyx\u001b[0m in \u001b[0;36mpandas._libs.index.IndexEngine.get_loc\u001b[0;34m()\u001b[0m\n",
      "\u001b[0;32mpandas/_libs/hashtable_class_helper.pxi\u001b[0m in \u001b[0;36mpandas._libs.hashtable.PyObjectHashTable.get_item\u001b[0;34m()\u001b[0m\n",
      "\u001b[0;32mpandas/_libs/hashtable_class_helper.pxi\u001b[0m in \u001b[0;36mpandas._libs.hashtable.PyObjectHashTable.get_item\u001b[0;34m()\u001b[0m\n",
      "\u001b[0;31mKeyError\u001b[0m: 'SP.URB.TOTL'"
     ]
    }
   ],
   "source": [
    "del df_std['SP.URB.TOTL']\n",
    "del df_std['SP.DYN.AMRT.FE']\n",
    "del df_std['SP.DYN.AMRT.MA']\n",
    "\n",
    "#we deleted them because of collinearity.\n"
   ]
  },
  {
   "cell_type": "code",
   "execution_count": 93,
   "metadata": {},
   "outputs": [
    {
     "data": {
      "text/plain": [
       "<matplotlib.axes._subplots.AxesSubplot at 0x7f1d94e4b810>"
      ]
     },
     "execution_count": 93,
     "metadata": {},
     "output_type": "execute_result"
    },
    {
     "data": {
      "image/png": "[encoded data removed]",
      "text/plain": [
       "<Figure size 576x396 with 2 Axes>"
      ]
     },
     "metadata": {},
     "output_type": "display_data"
    }
   ],
   "source": [
    "corr = df_std.corr()\n",
    "sns.heatmap(corr, mask=np.zeros_like(corr, dtype=np.bool), cmap=sns.diverging_palette(220,10, as_cmap=True), square=True)"
   ]
  },
  {
   "cell_type": "code",
   "execution_count": 94,
   "metadata": {},
   "outputs": [],
   "source": [
    "from sklearn.model_selection import train_test_split\n",
    "\n",
    "feature_matrix = df_std.loc[:, df_std.columns != 'cnt']\n",
    "target_vector = df_std.cnt\n",
    "\n",
    "x_train, x_test, y_train, y_test = train_test_split(feature_matrix, target_vector, test_size=0.2, random_state=1)"
   ]
  },
  {
   "cell_type": "code",
   "execution_count": 95,
   "metadata": {},
   "outputs": [
    {
     "data": {
      "text/plain": [
       "(2364, 7)"
      ]
     },
     "execution_count": 95,
     "metadata": {},
     "output_type": "execute_result"
    }
   ],
   "source": [
    "x_train.shape"
   ]
  },
  {
   "cell_type": "code",
   "execution_count": 96,
   "metadata": {},
   "outputs": [
    {
     "data": {
      "text/plain": [
       "(592, 7)"
      ]
     },
     "execution_count": 96,
     "metadata": {},
     "output_type": "execute_result"
    }
   ],
   "source": [
    "x_test.shape"
   ]
  },
  {
   "cell_type": "markdown",
   "metadata": {},
   "source": [
    "We performed the scaling, using the mean-variance scaling."
   ]
  },
  {
   "cell_type": "code",
   "execution_count": 97,
   "metadata": {},
   "outputs": [
    {
     "data": {
      "text/plain": [
       "LinearRegression(copy_X=True, fit_intercept=True, n_jobs=None, normalize=False)"
      ]
     },
     "execution_count": 97,
     "metadata": {},
     "output_type": "execute_result"
    }
   ],
   "source": [
    "from sklearn.linear_model import LinearRegression\n",
    "from sklearn.preprocessing import scale\n",
    "\n",
    "x_train = pd.DataFrame(scale(x_train), index=x_train.index, columns=x_train.columns)\n",
    "x_test = pd.DataFrame(scale(x_test), index=x_test.index, columns=x_test.columns)\n",
    "model=LinearRegression(fit_intercept=True)\n",
    "model.fit(x_train,y_train)"
   ]
  },
  {
   "cell_type": "code",
   "execution_count": 98,
   "metadata": {},
   "outputs": [],
   "source": [
    "y_pred_train = model.predict(x_train)"
   ]
  },
  {
   "cell_type": "code",
   "execution_count": 99,
   "metadata": {},
   "outputs": [],
   "source": [
    "y_pred_test = model.predict(x_test)"
   ]
  },
  {
   "cell_type": "code",
   "execution_count": 100,
   "metadata": {},
   "outputs": [
    {
     "name": "stdout",
     "output_type": "stream",
     "text": [
      "R2 on train:  0.03939890440585114\n",
      "R2 on test:  0.013058095276428316\n"
     ]
    }
   ],
   "source": [
    "from sklearn import metrics\n",
    "\n",
    "R2_base = metrics.r2_score(y_train, y_pred_train, sample_weight=None, multioutput='uniform_average')\n",
    "R2 = metrics.r2_score(y_test, y_pred_test, sample_weight=None, multioutput='uniform_average')\n",
    "\n",
    "print(\"R2 on train: \", R2_base)\n",
    "print(\"R2 on test: \", R2)"
   ]
  },
  {
   "cell_type": "code",
   "execution_count": 101,
   "metadata": {},
   "outputs": [
    {
     "name": "stdout",
     "output_type": "stream",
     "text": [
      "Coefficients: \n",
      "Year              12.833686\n",
      "SP.DYN.LE00.IN    14.025818\n",
      "MS.MIL.MPRT.KD    -5.307681\n",
      "SP.RUR.TOTL       22.991783\n",
      "SP.DYN.CBRT.IN    17.085967\n",
      "MilitaryExp       -1.602305\n",
      "Density           -1.087881\n",
      "dtype: float64\n"
     ]
    }
   ],
   "source": [
    "coefficients = pd.Series(model.coef_, index=x_train.columns)\n",
    "print('Coefficients: ')\n",
    "print(coefficients)"
   ]
  },
  {
   "cell_type": "markdown",
   "metadata": {},
   "source": [
    "The results using the regression are so bad, so we tried with a polynomial model."
   ]
  },
  {
   "cell_type": "markdown",
   "metadata": {},
   "source": [
    "## Polynomial models applying k-Fold CV and Ridge regularization"
   ]
  },
  {
   "cell_type": "code",
   "execution_count": 102,
   "metadata": {},
   "outputs": [
    {
     "name": "stdout",
     "output_type": "stream",
     "text": [
      "kMSE on training, from degree 1 to 4:\n",
      " [16435.714010387648, 15114.933131847, 13489.590937860525, 11595.188012986391]\n",
      "\n",
      "kMSE on testing, from degree 1 to 4:\n",
      " [16548.597078154286, 15455.91950480327, 16458.05009679079, 105246.53212997339]\n",
      "\n",
      "kR2 on training, from degree 1 to 4:\n",
      " [0.035668814882870395, 0.11317981633319782, 0.20834476336280255, 0.31901296231228343]\n",
      "\n",
      "kR2 on testing, from degree 1 to 4:\n",
      " [0.027799698561985588, 0.09242201941110428, 0.022264856018897716, -5.4588299587530305]\n"
     ]
    }
   ],
   "source": [
    "import numpy as np\n",
    "from sklearn.preprocessing import scale\n",
    "from sklearn.model_selection import KFold\n",
    "from sklearn.linear_model import LinearRegression, RidgeCV, LassoCV\n",
    "from sklearn.preprocessing import PolynomialFeatures as pol\n",
    "from sklearn.pipeline import make_pipeline\n",
    "from sklearn import metrics\n",
    "from statistics import mean \n",
    "import warnings\n",
    "warnings.filterwarnings('ignore')\n",
    "\n",
    "kf = KFold(n_splits=5, shuffle=True, random_state=2) # we are setting 7 folds\n",
    "feature_matrix=df_std.loc[:, df_std.columns != 'cnt']\n",
    "target_vector=df_std['cnt']\n",
    "MSE_tr, MSE_te = [], []\n",
    "R2_tr, R2_te = [], []\n",
    "kMSE_tr, kMSE_te = [],  []\n",
    "kR2_tr, kR2_te = [], []\n",
    "degrees = [1,2,3,4] # list of different degrees of freedom\n",
    "for degree in degrees: # cycle which applies the different degrees of freedom\n",
    "    for train_index, test_index in kf.split(feature_matrix): # cycle that performs KCV on a certain polynomial model\n",
    "        x_train, x_test = feature_matrix.iloc[train_index], feature_matrix.iloc[test_index]\n",
    "        y_train, y_test = target_vector.iloc[train_index], target_vector.iloc[test_index]\n",
    "\n",
    "        x_train = pd.DataFrame(scale(x_train), index=x_train.index, columns=x_train.columns) # standardization\n",
    "        #y_train = pd.DataFrame(scale(y_train), index=y_train.index).to_numpy() # standardization\n",
    "        x_test = pd.DataFrame(scale(x_test), index=x_test.index, columns=x_test.columns) # standardization\n",
    "        #y_test = pd.DataFrame(scale(y_test), index=y_test.index).to_numpy() # standardization\n",
    "\n",
    "        model = make_pipeline(pol(degree), RidgeCV(alphas=(0.01,1.0,100), cv=4))\n",
    "        x = model.fit(x_train, y_train.ravel())\n",
    "        y_pred_on_training=model.predict(x_train)\n",
    "        y_pred=model.predict(x_test)\n",
    "        MSE_tr.append(metrics.mean_squared_error(y_train, y_pred_on_training, sample_weight=None, multioutput='uniform_average'))\n",
    "        MSE_te.append(metrics.mean_squared_error(y_test, y_pred, sample_weight=None, multioutput='uniform_average'))\n",
    "        R2_tr.append(metrics.r2_score(y_train, y_pred_on_training, sample_weight=None, multioutput='uniform_average'))\n",
    "        R2_te.append(metrics.r2_score(y_test, y_pred, sample_weight=None, multioutput='uniform_average'))\n",
    "    kMSE_tr.append(mean(MSE_tr))\n",
    "    kMSE_te.append(mean(MSE_te))\n",
    "    kR2_tr.append(mean(R2_tr))\n",
    "    kR2_te.append(mean(R2_te))\n",
    "    MSE_tr = []\n",
    "    MSE_te = []\n",
    "    R2_tr = []\n",
    "    R2_te = []\n",
    "print('kMSE on training, from degree 1 to 4:\\n', kMSE_tr)\n",
    "print('\\nkMSE on testing, from degree 1 to 4:\\n', kMSE_te)\n",
    "print('\\nkR2 on training, from degree 1 to 4:\\n', kR2_tr)\n",
    "print('\\nkR2 on testing, from degree 1 to 4:\\n', kR2_te)"
   ]
  },
  {
   "cell_type": "code",
   "execution_count": 103,
   "metadata": {},
   "outputs": [
    {
     "data": {
      "image/png": "[encoded data removed]",
      "text/plain": [
       "<Figure size 576x396 with 1 Axes>"
      ]
     },
     "metadata": {},
     "output_type": "display_data"
    }
   ],
   "source": [
    "plt.plot(degrees, kMSE_tr, label='Training kMSE')\n",
    "plt.plot(degrees, kMSE_te, label='Testing kMSE')\n",
    "plt.xlabel('Degree of the polynomial regression')\n",
    "plt.ylabel('kMSE')\n",
    "plt.legend()\n",
    "plt.grid()\n",
    "\n",
    "plt.show()"
   ]
  },
  {
   "cell_type": "code",
   "execution_count": 104,
   "metadata": {},
   "outputs": [
    {
     "data": {
      "image/png": "[encoded data removed]",
      "text/plain": [
       "<Figure size 576x396 with 2 Axes>"
      ]
     },
     "metadata": {},
     "output_type": "display_data"
    },
    {
     "data": {
      "text/plain": [
       "<matplotlib.axes._subplots.AxesSubplot at 0x7f1d94fdbf50>"
      ]
     },
     "execution_count": 104,
     "metadata": {},
     "output_type": "execute_result"
    }
   ],
   "source": [
    "from sklearn.model_selection import train_test_split\n",
    "from sklearn.linear_model import Ridge\n",
    "import yellowbrick\n",
    "from yellowbrick.regressor import ResidualsPlot\n",
    "\n",
    "model = make_pipeline(pol(2), RidgeCV(alphas=(0.01,1.0,100), cv=4))\n",
    "\n",
    "# Instantiate the linear model and visualizer\n",
    "\n",
    "visualizer = ResidualsPlot(model)\n",
    "\n",
    "visualizer.fit(x_train, y_train)  # Fit the training data to the visualizer\n",
    "visualizer.score(x_test, y_test)  # Evaluate the model on the test data\n",
    "visualizer.show()                 # Finalize and render the figure"
   ]
  },
  {
   "cell_type": "markdown",
   "metadata": {},
   "source": [
    "The best model was the polynomial with grade 3, resulting in a R2train = 0,30 and a R2test = 0,25. The results are still bad, so we decided to re-formulate the problem, passing at a classification problem."
   ]
  },
  {
   "cell_type": "code",
   "execution_count": 152,
   "metadata": {},
   "outputs": [],
   "source": [
    "df_class = df_std.rename(columns={'cnt':'conto'})"
   ]
  },
  {
   "cell_type": "markdown",
   "metadata": {},
   "source": [
    "#### We are going to divide the data in 5 groups. \n",
    "\n",
    "Low number of attacks: 0 < cnt < 5\n",
    "\n",
    "Low-medium number of attacks: 5 <= cnt < 15\n",
    "\n",
    "Medium number of attacks: 15 <= cnt < 40\n",
    "\n",
    "Medium-high number of attacks: 40 <= cnt < 120\n",
    "\n",
    "High number of attacks: cnt >= 120\n",
    "\n",
    "The splitting was made considering the fact that each cathegory had to be a good amount of sample."
   ]
  },
  {
   "cell_type": "code",
   "execution_count": 153,
   "metadata": {},
   "outputs": [
    {
     "data": {
      "text/html": [
       "<div>\n",
       "<style scoped>\n",
       "    .dataframe tbody tr th:only-of-type {\n",
       "        vertical-align: middle;\n",
       "    }\n",
       "\n",
       "    .dataframe tbody tr th {\n",
       "        vertical-align: top;\n",
       "    }\n",
       "\n",
       "    .dataframe thead th {\n",
       "        text-align: right;\n",
       "    }\n",
       "</style>\n",
       "<table border=\"1\" class=\"dataframe\">\n",
       "  <thead>\n",
       "    <tr style=\"text-align: right;\">\n",
       "      <th></th>\n",
       "      <th>Year</th>\n",
       "      <th>SP.DYN.LE00.IN</th>\n",
       "      <th>MS.MIL.MPRT.KD</th>\n",
       "      <th>SP.RUR.TOTL</th>\n",
       "      <th>SP.DYN.CBRT.IN</th>\n",
       "      <th>MilitaryExp</th>\n",
       "      <th>Density</th>\n",
       "      <th>cnt</th>\n",
       "    </tr>\n",
       "  </thead>\n",
       "  <tbody>\n",
       "    <tr>\n",
       "      <th>1795</th>\n",
       "      <td>1970</td>\n",
       "      <td>66.590829</td>\n",
       "      <td>2.530000e+08</td>\n",
       "      <td>5063111.0</td>\n",
       "      <td>22.759</td>\n",
       "      <td>4.457139e+08</td>\n",
       "      <td>8.664263</td>\n",
       "      <td>2.0</td>\n",
       "    </tr>\n",
       "    <tr>\n",
       "      <th>1798</th>\n",
       "      <td>1970</td>\n",
       "      <td>71.018537</td>\n",
       "      <td>2.400000e+08</td>\n",
       "      <td>1842906.0</td>\n",
       "      <td>20.600</td>\n",
       "      <td>1.277360e+09</td>\n",
       "      <td>1.627064</td>\n",
       "      <td>0.0</td>\n",
       "    </tr>\n",
       "    <tr>\n",
       "      <th>1806</th>\n",
       "      <td>1970</td>\n",
       "      <td>70.971951</td>\n",
       "      <td>5.280000e+08</td>\n",
       "      <td>594492.0</td>\n",
       "      <td>14.700</td>\n",
       "      <td>7.477551e+08</td>\n",
       "      <td>316.285017</td>\n",
       "      <td>0.0</td>\n",
       "    </tr>\n",
       "    <tr>\n",
       "      <th>1810</th>\n",
       "      <td>1970</td>\n",
       "      <td>45.655561</td>\n",
       "      <td>2.000000e+06</td>\n",
       "      <td>2713557.0</td>\n",
       "      <td>42.261</td>\n",
       "      <td>1.678714e+07</td>\n",
       "      <td>4.101453</td>\n",
       "      <td>0.0</td>\n",
       "    </tr>\n",
       "    <tr>\n",
       "      <th>1813</th>\n",
       "      <td>1970</td>\n",
       "      <td>59.150585</td>\n",
       "      <td>2.190000e+08</td>\n",
       "      <td>42319623.0</td>\n",
       "      <td>35.214</td>\n",
       "      <td>1.026234e+09</td>\n",
       "      <td>11.276180</td>\n",
       "      <td>2.0</td>\n",
       "    </tr>\n",
       "    <tr>\n",
       "      <th>...</th>\n",
       "      <td>...</td>\n",
       "      <td>...</td>\n",
       "      <td>...</td>\n",
       "      <td>...</td>\n",
       "      <td>...</td>\n",
       "      <td>...</td>\n",
       "      <td>...</td>\n",
       "      <td>...</td>\n",
       "    </tr>\n",
       "    <tr>\n",
       "      <th>9662</th>\n",
       "      <td>2013</td>\n",
       "      <td>75.175951</td>\n",
       "      <td>6.700000e+08</td>\n",
       "      <td>20725319.0</td>\n",
       "      <td>16.836</td>\n",
       "      <td>1.866257e+10</td>\n",
       "      <td>96.095470</td>\n",
       "      <td>3.0</td>\n",
       "    </tr>\n",
       "    <tr>\n",
       "      <th>9665</th>\n",
       "      <td>2013</td>\n",
       "      <td>77.195634</td>\n",
       "      <td>2.252000e+09</td>\n",
       "      <td>1357714.0</td>\n",
       "      <td>11.044</td>\n",
       "      <td>2.356106e+10</td>\n",
       "      <td>109.073094</td>\n",
       "      <td>0.0</td>\n",
       "    </tr>\n",
       "    <tr>\n",
       "      <th>9669</th>\n",
       "      <td>2013</td>\n",
       "      <td>74.074415</td>\n",
       "      <td>1.165000e+09</td>\n",
       "      <td>3362458.0</td>\n",
       "      <td>19.842</td>\n",
       "      <td>6.199698e+09</td>\n",
       "      <td>33.195598</td>\n",
       "      <td>0.0</td>\n",
       "    </tr>\n",
       "    <tr>\n",
       "      <th>9672</th>\n",
       "      <td>2013</td>\n",
       "      <td>63.583512</td>\n",
       "      <td>2.300000e+07</td>\n",
       "      <td>16992356.0</td>\n",
       "      <td>32.947</td>\n",
       "      <td>1.648751e+09</td>\n",
       "      <td>48.361113</td>\n",
       "      <td>4.0</td>\n",
       "    </tr>\n",
       "    <tr>\n",
       "      <th>9674</th>\n",
       "      <td>2013</td>\n",
       "      <td>55.633000</td>\n",
       "      <td>1.451501e+09</td>\n",
       "      <td>10033269.0</td>\n",
       "      <td>35.715</td>\n",
       "      <td>3.567000e+08</td>\n",
       "      <td>38.143510</td>\n",
       "      <td>1.0</td>\n",
       "    </tr>\n",
       "  </tbody>\n",
       "</table>\n",
       "<p>2956 rows × 8 columns</p>\n",
       "</div>"
      ],
      "text/plain": [
       "      Year  SP.DYN.LE00.IN  MS.MIL.MPRT.KD  SP.RUR.TOTL  SP.DYN.CBRT.IN  \\\n",
       "1795  1970       66.590829    2.530000e+08    5063111.0          22.759   \n",
       "1798  1970       71.018537    2.400000e+08    1842906.0          20.600   \n",
       "1806  1970       70.971951    5.280000e+08     594492.0          14.700   \n",
       "1810  1970       45.655561    2.000000e+06    2713557.0          42.261   \n",
       "1813  1970       59.150585    2.190000e+08   42319623.0          35.214   \n",
       "...    ...             ...             ...          ...             ...   \n",
       "9662  2013       75.175951    6.700000e+08   20725319.0          16.836   \n",
       "9665  2013       77.195634    2.252000e+09    1357714.0          11.044   \n",
       "9669  2013       74.074415    1.165000e+09    3362458.0          19.842   \n",
       "9672  2013       63.583512    2.300000e+07   16992356.0          32.947   \n",
       "9674  2013       55.633000    1.451501e+09   10033269.0          35.715   \n",
       "\n",
       "       MilitaryExp     Density  cnt  \n",
       "1795  4.457139e+08    8.664263  2.0  \n",
       "1798  1.277360e+09    1.627064  0.0  \n",
       "1806  7.477551e+08  316.285017  0.0  \n",
       "1810  1.678714e+07    4.101453  0.0  \n",
       "1813  1.026234e+09   11.276180  2.0  \n",
       "...            ...         ...  ...  \n",
       "9662  1.866257e+10   96.095470  3.0  \n",
       "9665  2.356106e+10  109.073094  0.0  \n",
       "9669  6.199698e+09   33.195598  0.0  \n",
       "9672  1.648751e+09   48.361113  4.0  \n",
       "9674  3.567000e+08   38.143510  1.0  \n",
       "\n",
       "[2956 rows x 8 columns]"
      ]
     },
     "execution_count": 153,
     "metadata": {},
     "output_type": "execute_result"
    }
   ],
   "source": [
    "df_class.groupby(by='conto').aggregate({'conto':'count'})\n",
    "\n",
    "df_class['conto'] = df_class['conto'].apply(lambda x: 0 if (x > 0 and x < 2) else x)\n",
    "df_class['conto'] = df_class['conto'].apply(lambda x: -1 if (x >= 2 and x < 6) else x)\n",
    "df_class['conto'] = df_class['conto'].apply(lambda x: -2 if (x >= 6 and x < 25) else x)\n",
    "df_class['conto'] = df_class['conto'].apply(lambda x: -3 if (x >= 25 and x < 100) else x)\n",
    "df_class['conto'] = df_class['conto'].apply(lambda x: -4 if (x >= 100) else x)\n",
    "\n",
    "df_class['conto'] = df_class['conto'].apply(lambda x: 1 if (x == -1) else x)\n",
    "df_class['conto'] = df_class['conto'].apply(lambda x: 2 if (x == -2) else x)\n",
    "df_class['conto'] = df_class['conto'].apply(lambda x: 3 if (x == -3) else x)\n",
    "df_class['conto'] = df_class['conto'].apply(lambda x: 4 if (x == -4) else x)\n",
    "\n",
    "df_class = df_class.rename(columns={'conto':'cnt'})\n",
    "\n",
    "df_class"
   ]
  },
  {
   "cell_type": "markdown",
   "metadata": {},
   "source": [
    "Here we can see that each class has a good amount of samples."
   ]
  },
  {
   "cell_type": "code",
   "execution_count": 154,
   "metadata": {},
   "outputs": [
    {
     "data": {
      "text/plain": [
       "<matplotlib.axes._subplots.AxesSubplot at 0x7f1d8fa48850>"
      ]
     },
     "execution_count": 154,
     "metadata": {},
     "output_type": "execute_result"
    },
    {
     "data": {
      "image/png": "[encoded data removed]",
      "text/plain": [
       "<Figure size 576x396 with 1 Axes>"
      ]
     },
     "metadata": {},
     "output_type": "display_data"
    }
   ],
   "source": [
    "df_class.cnt.hist()"
   ]
  },
  {
   "cell_type": "code",
   "execution_count": 155,
   "metadata": {},
   "outputs": [
    {
     "data": {
      "text/plain": [
       "array([[<matplotlib.axes._subplots.AxesSubplot object at 0x7f1d8fa6b350>,\n",
       "        <matplotlib.axes._subplots.AxesSubplot object at 0x7f1d8f98a650>,\n",
       "        <matplotlib.axes._subplots.AxesSubplot object at 0x7f1d8f9bae50>],\n",
       "       [<matplotlib.axes._subplots.AxesSubplot object at 0x7f1d8f97c690>,\n",
       "        <matplotlib.axes._subplots.AxesSubplot object at 0x7f1d8f92de90>,\n",
       "        <matplotlib.axes._subplots.AxesSubplot object at 0x7f1d8f8f06d0>],\n",
       "       [<matplotlib.axes._subplots.AxesSubplot object at 0x7f1d8f8af3d0>,\n",
       "        <matplotlib.axes._subplots.AxesSubplot object at 0x7f1d8f865710>,\n",
       "        <matplotlib.axes._subplots.AxesSubplot object at 0x7f1d8f86e750>]],\n",
       "      dtype=object)"
      ]
     },
     "execution_count": 155,
     "metadata": {},
     "output_type": "execute_result"
    },
    {
     "data": {
      "image/png": "[encoded data removed]",
      "text/plain": [
       "<Figure size 1080x1080 with 9 Axes>"
      ]
     },
     "metadata": {},
     "output_type": "display_data"
    }
   ],
   "source": [
    "from sklearn.preprocessing import scale\n",
    "\n",
    "feature_matrix=df_class.loc[:, df_std.columns != 'cnt']\n",
    "target_vector=df_class['cnt']\n",
    "feature_matrix = pd.DataFrame(scale(feature_matrix), index=feature_matrix.index, columns=feature_matrix.columns) # standardization\n",
    "feature_matrix.hist(figsize=(15,15))\n",
    "\n"
   ]
  },
  {
   "cell_type": "code",
   "execution_count": 156,
   "metadata": {},
   "outputs": [],
   "source": [
    "from sklearn.model_selection import train_test_split\n",
    "\n",
    "x_train, x_test, y_train, y_test = train_test_split(feature_matrix, target_vector, test_size=0.2, random_state=1)"
   ]
  },
  {
   "cell_type": "markdown",
   "metadata": {},
   "source": [
    "We first try with multinomial logistic regression"
   ]
  },
  {
   "cell_type": "code",
   "execution_count": 157,
   "metadata": {},
   "outputs": [
    {
     "name": "stdout",
     "output_type": "stream",
     "text": [
      "0.31852791878172587\n",
      "0.28716216216216217\n"
     ]
    }
   ],
   "source": [
    "from sklearn.linear_model import LogisticRegression\n",
    "\n",
    "clf = LogisticRegression(fit_intercept=True,random_state=1, max_iter=10000, multi_class='multinomial',solver ='newton-cg').fit(x_train, y_train)\n",
    "clf.predict(x_train)\n",
    "print(clf.score(x_train,y_train))\n",
    "\n",
    "clf.predict(x_test)\n",
    "print(clf.score(x_test,y_test))"
   ]
  },
  {
   "cell_type": "markdown",
   "metadata": {},
   "source": [
    "After we try with multi-layer perceptron"
   ]
  },
  {
   "cell_type": "code",
   "execution_count": 158,
   "metadata": {},
   "outputs": [
    {
     "name": "stdout",
     "output_type": "stream",
     "text": [
      "train accuracy:  0.4606598984771574\n",
      "test accuracy:  0.40033783783783783\n"
     ]
    }
   ],
   "source": [
    "from sklearn.neural_network import MLPClassifier\n",
    "from sklearn.metrics import accuracy_score\n",
    "\n",
    "clf = MLPClassifier(random_state=1, max_iter=300)\n",
    "clf.fit(x_train, y_train)\n",
    "\n",
    "y_pred_train = clf.predict(x_train)\n",
    "print('train accuracy: ', accuracy_score(y_train, y_pred_train))\n",
    "\n",
    "y_pred_test = clf.predict(x_test)\n",
    "print('test accuracy: ', accuracy_score(y_test, y_pred_test))\n"
   ]
  },
  {
   "cell_type": "markdown",
   "metadata": {},
   "source": [
    "The results are so good in respect to regression!"
   ]
  },
  {
   "cell_type": "code",
   "execution_count": 159,
   "metadata": {},
   "outputs": [
    {
     "data": {
      "text/plain": [
       "array([[225, 243,  56,   9,   9],\n",
       "       [137, 427, 100,  14,  31],\n",
       "       [ 47, 251, 196,  32,  26],\n",
       "       [ 20,  86,  58, 121,  31],\n",
       "       [ 11,  55,  18,  41, 120]])"
      ]
     },
     "execution_count": 159,
     "metadata": {},
     "output_type": "execute_result"
    }
   ],
   "source": [
    "from sklearn.metrics import confusion_matrix\n",
    "\n",
    "confusion_matrix(y_train, y_pred_train)"
   ]
  },
  {
   "cell_type": "code",
   "execution_count": 160,
   "metadata": {},
   "outputs": [
    {
     "data": {
      "text/plain": [
       "array([[54, 82, 16,  0,  4],\n",
       "       [33, 89, 24,  5,  7],\n",
       "       [15, 74, 41, 11,  8],\n",
       "       [ 1, 24, 12, 25, 11],\n",
       "       [ 2, 14,  3,  9, 28]])"
      ]
     },
     "execution_count": 160,
     "metadata": {},
     "output_type": "execute_result"
    }
   ],
   "source": [
    "confusion_matrix(y_test, y_pred_test)"
   ]
  }
 ],
 "metadata": {
  "kernelspec": {
   "display_name": "Python 3",
   "language": "python",
   "name": "python3"
  },
  "language_info": {
   "codemirror_mode": {
    "name": "ipython",
    "version": 3
   },
   "file_extension": ".py",
   "mimetype": "text/x-python",
   "name": "python",
   "nbconvert_exporter": "python",
   "pygments_lexer": "ipython3",
   "version": "3.7.6"
  }
 },
 "nbformat": 4,
 "nbformat_minor": 4
}
