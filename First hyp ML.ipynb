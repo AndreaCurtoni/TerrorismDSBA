{
 "cells": [
  {
   "cell_type": "markdown",
   "metadata": {},
   "source": [
    "# Script used to perform regression, trying to predict the number of attacks per state, per year."
   ]
  },
  {
   "cell_type": "code",
   "execution_count": 46,
   "metadata": {},
   "outputs": [],
   "source": [
    "import pandas as pd\n",
    "import numpy as np\n",
    "import seaborn as sns\n",
    "import matplotlib.pyplot as plt"
   ]
  },
  {
   "cell_type": "code",
   "execution_count": 47,
   "metadata": {},
   "outputs": [],
   "source": [
    "df = pd.read_csv('./part/DF1sthypTOT')"
   ]
  },
  {
   "cell_type": "code",
   "execution_count": 48,
   "metadata": {},
   "outputs": [
    {
     "data": {
      "text/html": [
       "<div>\n",
       "<style scoped>\n",
       "    .dataframe tbody tr th:only-of-type {\n",
       "        vertical-align: middle;\n",
       "    }\n",
       "\n",
       "    .dataframe tbody tr th {\n",
       "        vertical-align: top;\n",
       "    }\n",
       "\n",
       "    .dataframe thead th {\n",
       "        text-align: right;\n",
       "    }\n",
       "</style>\n",
       "<table border=\"1\" class=\"dataframe\">\n",
       "  <thead>\n",
       "    <tr style=\"text-align: right;\">\n",
       "      <th></th>\n",
       "      <th>SP.DYN.AMRT.MA</th>\n",
       "      <th>SP.DYN.CBRT.IN</th>\n",
       "      <th>CountryCode</th>\n",
       "      <th>Year</th>\n",
       "      <th>SP.DYN.LE00.IN</th>\n",
       "      <th>MS.MIL.MPRT.KD</th>\n",
       "      <th>SP.URB.TOTL</th>\n",
       "      <th>SP.RUR.TOTL</th>\n",
       "      <th>SP.DYN.AMRT.FE</th>\n",
       "      <th>MilitaryExp</th>\n",
       "      <th>Area (sq. mi.)</th>\n",
       "      <th>Population</th>\n",
       "      <th>Density</th>\n",
       "      <th>cnt</th>\n",
       "    </tr>\n",
       "  </thead>\n",
       "  <tbody>\n",
       "    <tr>\n",
       "      <th>0</th>\n",
       "      <td>604.5970</td>\n",
       "      <td>51.276</td>\n",
       "      <td>AFG</td>\n",
       "      <td>1960</td>\n",
       "      <td>32.328512</td>\n",
       "      <td>4.000000e+07</td>\n",
       "      <td>739462.0</td>\n",
       "      <td>8255331.0</td>\n",
       "      <td>551.1210</td>\n",
       "      <td>2.252607e+10</td>\n",
       "      <td>647500.0</td>\n",
       "      <td>31056997.0</td>\n",
       "      <td>13.891572</td>\n",
       "      <td>0.0</td>\n",
       "    </tr>\n",
       "    <tr>\n",
       "      <th>1</th>\n",
       "      <td>160.4806</td>\n",
       "      <td>42.240</td>\n",
       "      <td>ALB</td>\n",
       "      <td>1960</td>\n",
       "      <td>62.254366</td>\n",
       "      <td>6.200000e+07</td>\n",
       "      <td>493982.0</td>\n",
       "      <td>1114818.0</td>\n",
       "      <td>151.0588</td>\n",
       "      <td>2.252607e+10</td>\n",
       "      <td>28748.0</td>\n",
       "      <td>3581655.0</td>\n",
       "      <td>55.962154</td>\n",
       "      <td>0.0</td>\n",
       "    </tr>\n",
       "    <tr>\n",
       "      <th>2</th>\n",
       "      <td>373.1320</td>\n",
       "      <td>49.671</td>\n",
       "      <td>DZA</td>\n",
       "      <td>1960</td>\n",
       "      <td>46.135122</td>\n",
       "      <td>1.451501e+09</td>\n",
       "      <td>3394205.0</td>\n",
       "      <td>7730687.0</td>\n",
       "      <td>323.2800</td>\n",
       "      <td>2.252607e+10</td>\n",
       "      <td>2381740.0</td>\n",
       "      <td>32930091.0</td>\n",
       "      <td>4.670910</td>\n",
       "      <td>0.0</td>\n",
       "    </tr>\n",
       "    <tr>\n",
       "      <th>3</th>\n",
       "      <td>565.4100</td>\n",
       "      <td>54.423</td>\n",
       "      <td>AGO</td>\n",
       "      <td>1960</td>\n",
       "      <td>32.984829</td>\n",
       "      <td>1.451501e+09</td>\n",
       "      <td>550013.0</td>\n",
       "      <td>4720831.0</td>\n",
       "      <td>500.8860</td>\n",
       "      <td>2.252607e+10</td>\n",
       "      <td>1246700.0</td>\n",
       "      <td>12127071.0</td>\n",
       "      <td>4.227837</td>\n",
       "      <td>0.0</td>\n",
       "    </tr>\n",
       "    <tr>\n",
       "      <th>4</th>\n",
       "      <td>255.1080</td>\n",
       "      <td>23.682</td>\n",
       "      <td>ARG</td>\n",
       "      <td>1960</td>\n",
       "      <td>65.215537</td>\n",
       "      <td>1.030000e+08</td>\n",
       "      <td>15177907.0</td>\n",
       "      <td>5441168.0</td>\n",
       "      <td>156.2470</td>\n",
       "      <td>2.252607e+10</td>\n",
       "      <td>2766890.0</td>\n",
       "      <td>39921833.0</td>\n",
       "      <td>7.452076</td>\n",
       "      <td>0.0</td>\n",
       "    </tr>\n",
       "  </tbody>\n",
       "</table>\n",
       "</div>"
      ],
      "text/plain": [
       "   SP.DYN.AMRT.MA  SP.DYN.CBRT.IN CountryCode  Year  SP.DYN.LE00.IN  \\\n",
       "0        604.5970          51.276         AFG  1960       32.328512   \n",
       "1        160.4806          42.240         ALB  1960       62.254366   \n",
       "2        373.1320          49.671         DZA  1960       46.135122   \n",
       "3        565.4100          54.423         AGO  1960       32.984829   \n",
       "4        255.1080          23.682         ARG  1960       65.215537   \n",
       "\n",
       "   MS.MIL.MPRT.KD  SP.URB.TOTL  SP.RUR.TOTL  SP.DYN.AMRT.FE   MilitaryExp  \\\n",
       "0    4.000000e+07     739462.0    8255331.0        551.1210  2.252607e+10   \n",
       "1    6.200000e+07     493982.0    1114818.0        151.0588  2.252607e+10   \n",
       "2    1.451501e+09    3394205.0    7730687.0        323.2800  2.252607e+10   \n",
       "3    1.451501e+09     550013.0    4720831.0        500.8860  2.252607e+10   \n",
       "4    1.030000e+08   15177907.0    5441168.0        156.2470  2.252607e+10   \n",
       "\n",
       "   Area (sq. mi.)  Population    Density  cnt  \n",
       "0        647500.0  31056997.0  13.891572  0.0  \n",
       "1         28748.0   3581655.0  55.962154  0.0  \n",
       "2       2381740.0  32930091.0   4.670910  0.0  \n",
       "3       1246700.0  12127071.0   4.227837  0.0  \n",
       "4       2766890.0  39921833.0   7.452076  0.0  "
      ]
     },
     "execution_count": 48,
     "metadata": {},
     "output_type": "execute_result"
    }
   ],
   "source": [
    "df.head()"
   ]
  },
  {
   "cell_type": "code",
   "execution_count": 49,
   "metadata": {},
   "outputs": [],
   "source": [
    "del df['CountryCode']"
   ]
  },
  {
   "cell_type": "markdown",
   "metadata": {},
   "source": [
    "#### Let's define two metrics that we'll adopt\n",
    "- TerritoryDefense: MilitaryExp / Area (sq. mi.)\n",
    "- PopulationDefense: MS.MIL.MPRT.KD / Population\n",
    "\n",
    "(Let's remind that \"MS.MIL.MPRT.KD\" is the arms import)"
   ]
  },
  {
   "cell_type": "code",
   "execution_count": 50,
   "metadata": {},
   "outputs": [
    {
     "data": {
      "text/html": [
       "<div>\n",
       "<style scoped>\n",
       "    .dataframe tbody tr th:only-of-type {\n",
       "        vertical-align: middle;\n",
       "    }\n",
       "\n",
       "    .dataframe tbody tr th {\n",
       "        vertical-align: top;\n",
       "    }\n",
       "\n",
       "    .dataframe thead th {\n",
       "        text-align: right;\n",
       "    }\n",
       "</style>\n",
       "<table border=\"1\" class=\"dataframe\">\n",
       "  <thead>\n",
       "    <tr style=\"text-align: right;\">\n",
       "      <th></th>\n",
       "      <th>SP.DYN.AMRT.MA</th>\n",
       "      <th>SP.DYN.CBRT.IN</th>\n",
       "      <th>Year</th>\n",
       "      <th>SP.DYN.LE00.IN</th>\n",
       "      <th>MS.MIL.MPRT.KD</th>\n",
       "      <th>SP.URB.TOTL</th>\n",
       "      <th>SP.RUR.TOTL</th>\n",
       "      <th>SP.DYN.AMRT.FE</th>\n",
       "      <th>MilitaryExp</th>\n",
       "      <th>Density</th>\n",
       "      <th>cnt</th>\n",
       "      <th>TerritoryDefense</th>\n",
       "      <th>PopulationDefense</th>\n",
       "    </tr>\n",
       "  </thead>\n",
       "  <tbody>\n",
       "    <tr>\n",
       "      <th>0</th>\n",
       "      <td>604.5970</td>\n",
       "      <td>51.276</td>\n",
       "      <td>1960</td>\n",
       "      <td>32.328512</td>\n",
       "      <td>4.000000e+07</td>\n",
       "      <td>739462.0</td>\n",
       "      <td>8255331.0</td>\n",
       "      <td>551.1210</td>\n",
       "      <td>2.252607e+10</td>\n",
       "      <td>13.891572</td>\n",
       "      <td>0.0</td>\n",
       "      <td>34789.294798</td>\n",
       "      <td>1.287955</td>\n",
       "    </tr>\n",
       "    <tr>\n",
       "      <th>1</th>\n",
       "      <td>160.4806</td>\n",
       "      <td>42.240</td>\n",
       "      <td>1960</td>\n",
       "      <td>62.254366</td>\n",
       "      <td>6.200000e+07</td>\n",
       "      <td>493982.0</td>\n",
       "      <td>1114818.0</td>\n",
       "      <td>151.0588</td>\n",
       "      <td>2.252607e+10</td>\n",
       "      <td>55.962154</td>\n",
       "      <td>0.0</td>\n",
       "      <td>783569.931176</td>\n",
       "      <td>17.310433</td>\n",
       "    </tr>\n",
       "    <tr>\n",
       "      <th>2</th>\n",
       "      <td>373.1320</td>\n",
       "      <td>49.671</td>\n",
       "      <td>1960</td>\n",
       "      <td>46.135122</td>\n",
       "      <td>1.451501e+09</td>\n",
       "      <td>3394205.0</td>\n",
       "      <td>7730687.0</td>\n",
       "      <td>323.2800</td>\n",
       "      <td>2.252607e+10</td>\n",
       "      <td>4.670910</td>\n",
       "      <td>0.0</td>\n",
       "      <td>9457.820073</td>\n",
       "      <td>44.078259</td>\n",
       "    </tr>\n",
       "    <tr>\n",
       "      <th>3</th>\n",
       "      <td>565.4100</td>\n",
       "      <td>54.423</td>\n",
       "      <td>1960</td>\n",
       "      <td>32.984829</td>\n",
       "      <td>1.451501e+09</td>\n",
       "      <td>550013.0</td>\n",
       "      <td>4720831.0</td>\n",
       "      <td>500.8860</td>\n",
       "      <td>2.252607e+10</td>\n",
       "      <td>4.227837</td>\n",
       "      <td>0.0</td>\n",
       "      <td>18068.555692</td>\n",
       "      <td>119.690985</td>\n",
       "    </tr>\n",
       "    <tr>\n",
       "      <th>4</th>\n",
       "      <td>255.1080</td>\n",
       "      <td>23.682</td>\n",
       "      <td>1960</td>\n",
       "      <td>65.215537</td>\n",
       "      <td>1.030000e+08</td>\n",
       "      <td>15177907.0</td>\n",
       "      <td>5441168.0</td>\n",
       "      <td>156.2470</td>\n",
       "      <td>2.252607e+10</td>\n",
       "      <td>7.452076</td>\n",
       "      <td>0.0</td>\n",
       "      <td>8141.295238</td>\n",
       "      <td>2.580042</td>\n",
       "    </tr>\n",
       "  </tbody>\n",
       "</table>\n",
       "</div>"
      ],
      "text/plain": [
       "   SP.DYN.AMRT.MA  SP.DYN.CBRT.IN  Year  SP.DYN.LE00.IN  MS.MIL.MPRT.KD  \\\n",
       "0        604.5970          51.276  1960       32.328512    4.000000e+07   \n",
       "1        160.4806          42.240  1960       62.254366    6.200000e+07   \n",
       "2        373.1320          49.671  1960       46.135122    1.451501e+09   \n",
       "3        565.4100          54.423  1960       32.984829    1.451501e+09   \n",
       "4        255.1080          23.682  1960       65.215537    1.030000e+08   \n",
       "\n",
       "   SP.URB.TOTL  SP.RUR.TOTL  SP.DYN.AMRT.FE   MilitaryExp    Density  cnt  \\\n",
       "0     739462.0    8255331.0        551.1210  2.252607e+10  13.891572  0.0   \n",
       "1     493982.0    1114818.0        151.0588  2.252607e+10  55.962154  0.0   \n",
       "2    3394205.0    7730687.0        323.2800  2.252607e+10   4.670910  0.0   \n",
       "3     550013.0    4720831.0        500.8860  2.252607e+10   4.227837  0.0   \n",
       "4   15177907.0    5441168.0        156.2470  2.252607e+10   7.452076  0.0   \n",
       "\n",
       "   TerritoryDefense  PopulationDefense  \n",
       "0      34789.294798           1.287955  \n",
       "1     783569.931176          17.310433  \n",
       "2       9457.820073          44.078259  \n",
       "3      18068.555692         119.690985  \n",
       "4       8141.295238           2.580042  "
      ]
     },
     "execution_count": 50,
     "metadata": {},
     "output_type": "execute_result"
    }
   ],
   "source": [
    "df['TerritoryDefense'] = df['MilitaryExp'] / df['Area (sq. mi.)']\n",
    "df['PopulationDefense'] = df['MS.MIL.MPRT.KD'] / df['Population']\n",
    "\n",
    "del df['Area (sq. mi.)']\n",
    "del df['Population']\n",
    "df.head(5)"
   ]
  },
  {
   "cell_type": "code",
   "execution_count": 51,
   "metadata": {},
   "outputs": [
    {
     "data": {
      "text/plain": [
       "SP.DYN.AMRT.MA       float64\n",
       "SP.DYN.CBRT.IN       float64\n",
       "Year                   int64\n",
       "SP.DYN.LE00.IN       float64\n",
       "MS.MIL.MPRT.KD       float64\n",
       "SP.URB.TOTL          float64\n",
       "SP.RUR.TOTL          float64\n",
       "SP.DYN.AMRT.FE       float64\n",
       "MilitaryExp          float64\n",
       "Density              float64\n",
       "cnt                  float64\n",
       "TerritoryDefense     float64\n",
       "PopulationDefense    float64\n",
       "dtype: object"
      ]
     },
     "execution_count": 51,
     "metadata": {},
     "output_type": "execute_result"
    }
   ],
   "source": [
    "df.dtypes"
   ]
  },
  {
   "cell_type": "code",
   "execution_count": 52,
   "metadata": {},
   "outputs": [
    {
     "data": {
      "text/html": [
       "<div>\n",
       "<style scoped>\n",
       "    .dataframe tbody tr th:only-of-type {\n",
       "        vertical-align: middle;\n",
       "    }\n",
       "\n",
       "    .dataframe tbody tr th {\n",
       "        vertical-align: top;\n",
       "    }\n",
       "\n",
       "    .dataframe thead th {\n",
       "        text-align: right;\n",
       "    }\n",
       "</style>\n",
       "<table border=\"1\" class=\"dataframe\">\n",
       "  <thead>\n",
       "    <tr style=\"text-align: right;\">\n",
       "      <th></th>\n",
       "      <th>SP.DYN.AMRT.MA</th>\n",
       "      <th>SP.DYN.CBRT.IN</th>\n",
       "      <th>Year</th>\n",
       "      <th>SP.DYN.LE00.IN</th>\n",
       "      <th>MS.MIL.MPRT.KD</th>\n",
       "      <th>SP.URB.TOTL</th>\n",
       "      <th>SP.RUR.TOTL</th>\n",
       "      <th>SP.DYN.AMRT.FE</th>\n",
       "      <th>MilitaryExp</th>\n",
       "      <th>Density</th>\n",
       "      <th>cnt</th>\n",
       "      <th>TerritoryDefense</th>\n",
       "      <th>PopulationDefense</th>\n",
       "    </tr>\n",
       "  </thead>\n",
       "  <tbody>\n",
       "    <tr>\n",
       "      <th>count</th>\n",
       "      <td>8332.000000</td>\n",
       "      <td>8332.000000</td>\n",
       "      <td>8332.000000</td>\n",
       "      <td>8332.000000</td>\n",
       "      <td>8.332000e+03</td>\n",
       "      <td>8.332000e+03</td>\n",
       "      <td>8.332000e+03</td>\n",
       "      <td>8332.000000</td>\n",
       "      <td>8.332000e+03</td>\n",
       "      <td>8332.000000</td>\n",
       "      <td>8332.000000</td>\n",
       "      <td>8.332000e+03</td>\n",
       "      <td>8332.000000</td>\n",
       "    </tr>\n",
       "    <tr>\n",
       "      <th>mean</th>\n",
       "      <td>272.179561</td>\n",
       "      <td>30.266526</td>\n",
       "      <td>1986.394263</td>\n",
       "      <td>62.783496</td>\n",
       "      <td>7.567164e+08</td>\n",
       "      <td>1.239030e+07</td>\n",
       "      <td>1.701561e+07</td>\n",
       "      <td>201.585695</td>\n",
       "      <td>1.063209e+10</td>\n",
       "      <td>127.890849</td>\n",
       "      <td>13.980317</td>\n",
       "      <td>3.263527e+06</td>\n",
       "      <td>982.443517</td>\n",
       "    </tr>\n",
       "    <tr>\n",
       "      <th>std</th>\n",
       "      <td>119.350842</td>\n",
       "      <td>13.111310</td>\n",
       "      <td>15.451916</td>\n",
       "      <td>11.539812</td>\n",
       "      <td>6.967680e+08</td>\n",
       "      <td>4.014069e+07</td>\n",
       "      <td>7.899701e+07</td>\n",
       "      <td>125.738548</td>\n",
       "      <td>2.517372e+10</td>\n",
       "      <td>408.424269</td>\n",
       "      <td>79.821789</td>\n",
       "      <td>1.419695e+07</td>\n",
       "      <td>2910.328947</td>\n",
       "    </tr>\n",
       "    <tr>\n",
       "      <th>min</th>\n",
       "      <td>63.413000</td>\n",
       "      <td>7.600000</td>\n",
       "      <td>1960.000000</td>\n",
       "      <td>19.265512</td>\n",
       "      <td>0.000000e+00</td>\n",
       "      <td>6.627000e+03</td>\n",
       "      <td>0.000000e+00</td>\n",
       "      <td>35.237000</td>\n",
       "      <td>0.000000e+00</td>\n",
       "      <td>0.025899</td>\n",
       "      <td>0.000000</td>\n",
       "      <td>0.000000e+00</td>\n",
       "      <td>0.000000</td>\n",
       "    </tr>\n",
       "    <tr>\n",
       "      <th>25%</th>\n",
       "      <td>181.038000</td>\n",
       "      <td>18.132250</td>\n",
       "      <td>1973.000000</td>\n",
       "      <td>54.157256</td>\n",
       "      <td>4.100000e+07</td>\n",
       "      <td>6.027640e+05</td>\n",
       "      <td>7.047972e+05</td>\n",
       "      <td>101.744000</td>\n",
       "      <td>1.251193e+08</td>\n",
       "      <td>14.799928</td>\n",
       "      <td>0.000000</td>\n",
       "      <td>5.086784e+02</td>\n",
       "      <td>2.486406</td>\n",
       "    </tr>\n",
       "    <tr>\n",
       "      <th>50%</th>\n",
       "      <td>253.323000</td>\n",
       "      <td>30.568000</td>\n",
       "      <td>1986.000000</td>\n",
       "      <td>65.661293</td>\n",
       "      <td>5.520000e+08</td>\n",
       "      <td>2.353876e+06</td>\n",
       "      <td>2.796390e+06</td>\n",
       "      <td>159.274400</td>\n",
       "      <td>1.744595e+09</td>\n",
       "      <td>44.792099</td>\n",
       "      <td>0.000000</td>\n",
       "      <td>6.305675e+03</td>\n",
       "      <td>27.335085</td>\n",
       "    </tr>\n",
       "    <tr>\n",
       "      <th>75%</th>\n",
       "      <td>345.762750</td>\n",
       "      <td>42.243000</td>\n",
       "      <td>2000.000000</td>\n",
       "      <td>71.766463</td>\n",
       "      <td>1.451501e+09</td>\n",
       "      <td>7.583542e+06</td>\n",
       "      <td>8.810947e+06</td>\n",
       "      <td>286.479750</td>\n",
       "      <td>2.252607e+10</td>\n",
       "      <td>110.261950</td>\n",
       "      <td>2.000000</td>\n",
       "      <td>1.379682e+05</td>\n",
       "      <td>287.829485</td>\n",
       "    </tr>\n",
       "    <tr>\n",
       "      <th>max</th>\n",
       "      <td>921.630000</td>\n",
       "      <td>57.637000</td>\n",
       "      <td>2013.000000</td>\n",
       "      <td>83.096098</td>\n",
       "      <td>5.566000e+09</td>\n",
       "      <td>7.216918e+08</td>\n",
       "      <td>8.701360e+08</td>\n",
       "      <td>799.382000</td>\n",
       "      <td>6.980000e+11</td>\n",
       "      <td>7791.053391</td>\n",
       "      <td>2852.000000</td>\n",
       "      <td>1.167154e+08</td>\n",
       "      <td>25753.642918</td>\n",
       "    </tr>\n",
       "  </tbody>\n",
       "</table>\n",
       "</div>"
      ],
      "text/plain": [
       "       SP.DYN.AMRT.MA  SP.DYN.CBRT.IN         Year  SP.DYN.LE00.IN  \\\n",
       "count     8332.000000     8332.000000  8332.000000     8332.000000   \n",
       "mean       272.179561       30.266526  1986.394263       62.783496   \n",
       "std        119.350842       13.111310    15.451916       11.539812   \n",
       "min         63.413000        7.600000  1960.000000       19.265512   \n",
       "25%        181.038000       18.132250  1973.000000       54.157256   \n",
       "50%        253.323000       30.568000  1986.000000       65.661293   \n",
       "75%        345.762750       42.243000  2000.000000       71.766463   \n",
       "max        921.630000       57.637000  2013.000000       83.096098   \n",
       "\n",
       "       MS.MIL.MPRT.KD   SP.URB.TOTL   SP.RUR.TOTL  SP.DYN.AMRT.FE  \\\n",
       "count    8.332000e+03  8.332000e+03  8.332000e+03     8332.000000   \n",
       "mean     7.567164e+08  1.239030e+07  1.701561e+07      201.585695   \n",
       "std      6.967680e+08  4.014069e+07  7.899701e+07      125.738548   \n",
       "min      0.000000e+00  6.627000e+03  0.000000e+00       35.237000   \n",
       "25%      4.100000e+07  6.027640e+05  7.047972e+05      101.744000   \n",
       "50%      5.520000e+08  2.353876e+06  2.796390e+06      159.274400   \n",
       "75%      1.451501e+09  7.583542e+06  8.810947e+06      286.479750   \n",
       "max      5.566000e+09  7.216918e+08  8.701360e+08      799.382000   \n",
       "\n",
       "        MilitaryExp      Density          cnt  TerritoryDefense  \\\n",
       "count  8.332000e+03  8332.000000  8332.000000      8.332000e+03   \n",
       "mean   1.063209e+10   127.890849    13.980317      3.263527e+06   \n",
       "std    2.517372e+10   408.424269    79.821789      1.419695e+07   \n",
       "min    0.000000e+00     0.025899     0.000000      0.000000e+00   \n",
       "25%    1.251193e+08    14.799928     0.000000      5.086784e+02   \n",
       "50%    1.744595e+09    44.792099     0.000000      6.305675e+03   \n",
       "75%    2.252607e+10   110.261950     2.000000      1.379682e+05   \n",
       "max    6.980000e+11  7791.053391  2852.000000      1.167154e+08   \n",
       "\n",
       "       PopulationDefense  \n",
       "count        8332.000000  \n",
       "mean          982.443517  \n",
       "std          2910.328947  \n",
       "min             0.000000  \n",
       "25%             2.486406  \n",
       "50%            27.335085  \n",
       "75%           287.829485  \n",
       "max         25753.642918  "
      ]
     },
     "execution_count": 52,
     "metadata": {},
     "output_type": "execute_result"
    }
   ],
   "source": [
    "df.describe()"
   ]
  },
  {
   "cell_type": "code",
   "execution_count": 53,
   "metadata": {},
   "outputs": [
    {
     "data": {
      "text/plain": [
       "array([[<matplotlib.axes._subplots.AxesSubplot object at 0x7fba90258390>,\n",
       "        <matplotlib.axes._subplots.AxesSubplot object at 0x7fba8ba55160>,\n",
       "        <matplotlib.axes._subplots.AxesSubplot object at 0x7fba8b9ff668>,\n",
       "        <matplotlib.axes._subplots.AxesSubplot object at 0x7fba8ba24be0>],\n",
       "       [<matplotlib.axes._subplots.AxesSubplot object at 0x7fba8b9d4198>,\n",
       "        <matplotlib.axes._subplots.AxesSubplot object at 0x7fba8b9fa710>,\n",
       "        <matplotlib.axes._subplots.AxesSubplot object at 0x7fba8b9a2c88>,\n",
       "        <matplotlib.axes._subplots.AxesSubplot object at 0x7fba8b952208>],\n",
       "       [<matplotlib.axes._subplots.AxesSubplot object at 0x7fba8b952240>,\n",
       "        <matplotlib.axes._subplots.AxesSubplot object at 0x7fba8b921cc0>,\n",
       "        <matplotlib.axes._subplots.AxesSubplot object at 0x7fba8b8d0278>,\n",
       "        <matplotlib.axes._subplots.AxesSubplot object at 0x7fba8b8f87f0>],\n",
       "       [<matplotlib.axes._subplots.AxesSubplot object at 0x7fba8b8a1d68>,\n",
       "        <matplotlib.axes._subplots.AxesSubplot object at 0x7fba8b852320>,\n",
       "        <matplotlib.axes._subplots.AxesSubplot object at 0x7fba8b878898>,\n",
       "        <matplotlib.axes._subplots.AxesSubplot object at 0x7fba8b81ee10>]],\n",
       "      dtype=object)"
      ]
     },
     "execution_count": 53,
     "metadata": {},
     "output_type": "execute_result"
    },
    {
     "data": {
      "image/png": "[encoded data removed]",
      "text/plain": [
       "<Figure size 1080x1080 with 16 Axes>"
      ]
     },
     "metadata": {
      "needs_background": "light"
     },
     "output_type": "display_data"
    }
   ],
   "source": [
    "df.hist(figsize=(15,15))"
   ]
  },
  {
   "cell_type": "code",
   "execution_count": 54,
   "metadata": {},
   "outputs": [
    {
     "name": "stdout",
     "output_type": "stream",
     "text": [
      "Shape of the df:  (8332, 13)\n",
      "Number of cnt = 0:  (5526, 13)\n"
     ]
    }
   ],
   "source": [
    "df_std = df \n",
    "\n",
    "print('Shape of the df: ', df_std.shape)\n",
    "print('Number of cnt = 0: ', df_std[df_std['cnt'] == 0].shape)"
   ]
  },
  {
   "cell_type": "markdown",
   "metadata": {},
   "source": [
    "#### We had a lot of values of cnt equal to zero. So we decided to delete all of them, focusing more on the other values of cnt."
   ]
  },
  {
   "cell_type": "code",
   "execution_count": 55,
   "metadata": {},
   "outputs": [
    {
     "data": {
      "text/plain": [
       "<matplotlib.axes._subplots.AxesSubplot at 0x7fba8b50f320>"
      ]
     },
     "execution_count": 55,
     "metadata": {},
     "output_type": "execute_result"
    },
    {
     "data": {
      "image/png": "[encoded data removed]",
      "text/plain": [
       "<Figure size 432x288 with 1 Axes>"
      ]
     },
     "metadata": {
      "needs_background": "light"
     },
     "output_type": "display_data"
    }
   ],
   "source": [
    "df_std = df_std[df_std['cnt'] > 0]\n",
    "df_std['cnt'].hist(bins=150)"
   ]
  },
  {
   "cell_type": "code",
   "execution_count": 56,
   "metadata": {},
   "outputs": [
    {
     "name": "stdout",
     "output_type": "stream",
     "text": [
      "Shape of the df:  (2806, 13)\n"
     ]
    }
   ],
   "source": [
    "print('Shape of the df: ', df_std.shape)"
   ]
  },
  {
   "cell_type": "code",
   "execution_count": 57,
   "metadata": {},
   "outputs": [
    {
     "data": {
      "text/plain": [
       "<matplotlib.axes._subplots.AxesSubplot at 0x7fba8bb2f978>"
      ]
     },
     "execution_count": 57,
     "metadata": {},
     "output_type": "execute_result"
    },
    {
     "data": {
      "image/png": "[encoded data removed]",
      "text/plain": [
       "<Figure size 432x288 with 2 Axes>"
      ]
     },
     "metadata": {
      "needs_background": "light"
     },
     "output_type": "display_data"
    }
   ],
   "source": [
    "corr = df_std.corr()\n",
    "sns.heatmap(corr, mask=np.zeros_like(corr, dtype=np.bool), cmap=sns.diverging_palette(220,10, as_cmap=True), square=True)"
   ]
  },
  {
   "cell_type": "code",
   "execution_count": 58,
   "metadata": {},
   "outputs": [],
   "source": [
    "del df_std['SP.RUR.TOTL']\n",
    "del df_std['SP.DYN.AMRT.FE']\n",
    "del df_std['SP.DYN.AMRT.MA']\n",
    "del df_std['SP.DYN.LE00.IN']\n",
    "\n",
    "#we deleted them because of collinearity.\n"
   ]
  },
  {
   "cell_type": "code",
   "execution_count": 59,
   "metadata": {},
   "outputs": [],
   "source": [
    "del df_std['MilitaryExp']\n",
    "del df_std['MS.MIL.MPRT.KD']"
   ]
  },
  {
   "cell_type": "code",
   "execution_count": 60,
   "metadata": {},
   "outputs": [
    {
     "data": {
      "text/plain": [
       "<matplotlib.axes._subplots.AxesSubplot at 0x7fba8b791780>"
      ]
     },
     "execution_count": 60,
     "metadata": {},
     "output_type": "execute_result"
    },
    {
     "data": {
      "image/png": "[encoded data removed]",
      "text/plain": [
       "<Figure size 432x288 with 2 Axes>"
      ]
     },
     "metadata": {
      "needs_background": "light"
     },
     "output_type": "display_data"
    }
   ],
   "source": [
    "corr = df_std.corr()\n",
    "sns.heatmap(corr, mask=np.zeros_like(corr, dtype=np.bool), cmap=sns.diverging_palette(220,10, as_cmap=True), square=True)"
   ]
  },
  {
   "cell_type": "code",
   "execution_count": 61,
   "metadata": {},
   "outputs": [],
   "source": [
    "from sklearn.model_selection import train_test_split\n",
    "\n",
    "feature_matrix = df_std.loc[:, df_std.columns != 'cnt']\n",
    "target_vector = df_std.cnt\n",
    "\n",
    "x_train, x_test, y_train, y_test = train_test_split(feature_matrix, target_vector, test_size=0.2, random_state=1)"
   ]
  },
  {
   "cell_type": "code",
   "execution_count": 62,
   "metadata": {},
   "outputs": [
    {
     "data": {
      "text/plain": [
       "(2244, 6)"
      ]
     },
     "execution_count": 62,
     "metadata": {},
     "output_type": "execute_result"
    }
   ],
   "source": [
    "x_train.shape"
   ]
  },
  {
   "cell_type": "code",
   "execution_count": 63,
   "metadata": {},
   "outputs": [
    {
     "data": {
      "text/plain": [
       "(562, 6)"
      ]
     },
     "execution_count": 63,
     "metadata": {},
     "output_type": "execute_result"
    }
   ],
   "source": [
    "x_test.shape"
   ]
  },
  {
   "cell_type": "markdown",
   "metadata": {},
   "source": [
    "We performed the scaling, using the mean-variance scaling."
   ]
  },
  {
   "cell_type": "code",
   "execution_count": 64,
   "metadata": {},
   "outputs": [
    {
     "data": {
      "text/plain": [
       "LinearRegression()"
      ]
     },
     "execution_count": 64,
     "metadata": {},
     "output_type": "execute_result"
    }
   ],
   "source": [
    "from sklearn.linear_model import LinearRegression\n",
    "from sklearn.preprocessing import scale\n",
    "\n",
    "x_train = pd.DataFrame(scale(x_train), index=x_train.index, columns=x_train.columns)\n",
    "x_test = pd.DataFrame(scale(x_test), index=x_test.index, columns=x_test.columns)\n",
    "model=LinearRegression(fit_intercept=True)\n",
    "model.fit(x_train,y_train)"
   ]
  },
  {
   "cell_type": "code",
   "execution_count": 65,
   "metadata": {},
   "outputs": [],
   "source": [
    "y_pred_train = model.predict(x_train)"
   ]
  },
  {
   "cell_type": "code",
   "execution_count": 66,
   "metadata": {},
   "outputs": [],
   "source": [
    "y_pred_test = model.predict(x_test)"
   ]
  },
  {
   "cell_type": "code",
   "execution_count": 67,
   "metadata": {},
   "outputs": [
    {
     "name": "stdout",
     "output_type": "stream",
     "text": [
      "R2 on train:  0.028410993996022982\n",
      "R2 on test:  0.019085305061902536\n"
     ]
    }
   ],
   "source": [
    "from sklearn import metrics\n",
    "\n",
    "R2_base = metrics.r2_score(y_train, y_pred_train, sample_weight=None, multioutput='uniform_average')\n",
    "R2 = metrics.r2_score(y_test, y_pred_test, sample_weight=None, multioutput='uniform_average')\n",
    "\n",
    "print(\"R2 on train: \", R2_base)\n",
    "print(\"R2 on test: \", R2)"
   ]
  },
  {
   "cell_type": "code",
   "execution_count": 68,
   "metadata": {},
   "outputs": [
    {
     "name": "stdout",
     "output_type": "stream",
     "text": [
      "Coefficients: \n",
      "SP.DYN.CBRT.IN        7.165733\n",
      "Year                 12.051524\n",
      "SP.URB.TOTL          15.812951\n",
      "Density               3.040962\n",
      "TerritoryDefense     -0.861661\n",
      "PopulationDefense    -5.430345\n",
      "dtype: float64\n"
     ]
    }
   ],
   "source": [
    "coefficients = pd.Series(model.coef_, index=x_train.columns)\n",
    "print('Coefficients: ')\n",
    "print(coefficients)"
   ]
  },
  {
   "cell_type": "markdown",
   "metadata": {},
   "source": [
    "The results using the regression are so bad, so we tried with a polynomial model."
   ]
  },
  {
   "cell_type": "markdown",
   "metadata": {},
   "source": [
    "## Polynomial models applying k-Fold CV and Ridge regularization"
   ]
  },
  {
   "cell_type": "code",
   "execution_count": 69,
   "metadata": {},
   "outputs": [
    {
     "name": "stdout",
     "output_type": "stream",
     "text": [
      "kMSE on training, from degree 1 to 4:\n",
      " [17302.350967831855, 16074.00967563562, 14834.565083020627, 13870.092436799878]\n",
      "\n",
      "kMSE on testing, from degree 1 to 4:\n",
      " [17335.839558839565, 16411.6218492584, 16645.957616215142, 351784.1607793639]\n",
      "\n",
      "kR2 on training, from degree 1 to 4:\n",
      " [0.02637860987822569, 0.0955598735571841, 0.16529595787343004, 0.21966779295725258]\n",
      "\n",
      "kR2 on testing, from degree 1 to 4:\n",
      " [0.02082084729741791, 0.06970174471858477, 0.03618690132984008, -27.295392598827668]\n"
     ]
    }
   ],
   "source": [
    "import numpy as np\n",
    "from sklearn.preprocessing import scale\n",
    "from sklearn.model_selection import KFold\n",
    "from sklearn.linear_model import LinearRegression, RidgeCV, LassoCV\n",
    "from sklearn.preprocessing import PolynomialFeatures as pol\n",
    "from sklearn.pipeline import make_pipeline\n",
    "from sklearn import metrics\n",
    "from statistics import mean \n",
    "import warnings\n",
    "warnings.filterwarnings('ignore')\n",
    "\n",
    "kf = KFold(n_splits=5, shuffle=True, random_state=2) # we are setting 7 folds\n",
    "feature_matrix=df_std.loc[:, df_std.columns != 'cnt']\n",
    "target_vector=df_std['cnt']\n",
    "MSE_tr, MSE_te = [], []\n",
    "R2_tr, R2_te = [], []\n",
    "kMSE_tr, kMSE_te = [],  []\n",
    "kR2_tr, kR2_te = [], []\n",
    "degrees = [1,2,3,4] # list of different degrees of freedom\n",
    "for degree in degrees: # cycle which applies the different degrees of freedom\n",
    "    for train_index, test_index in kf.split(feature_matrix): # cycle that performs KCV on a certain polynomial model\n",
    "        x_train, x_test = feature_matrix.iloc[train_index], feature_matrix.iloc[test_index]\n",
    "        y_train, y_test = target_vector.iloc[train_index], target_vector.iloc[test_index]\n",
    "\n",
    "        x_train = pd.DataFrame(scale(x_train), index=x_train.index, columns=x_train.columns) # standardization\n",
    "        #y_train = pd.DataFrame(scale(y_train), index=y_train.index).to_numpy() # standardization\n",
    "        x_test = pd.DataFrame(scale(x_test), index=x_test.index, columns=x_test.columns) # standardization\n",
    "        #y_test = pd.DataFrame(scale(y_test), index=y_test.index).to_numpy() # standardization\n",
    "\n",
    "        model = make_pipeline(pol(degree), RidgeCV(alphas=(0.01,1.0,100), cv=4))\n",
    "        x = model.fit(x_train, y_train.ravel())\n",
    "        y_pred_on_training=model.predict(x_train)\n",
    "        y_pred=model.predict(x_test)\n",
    "        MSE_tr.append(metrics.mean_squared_error(y_train, y_pred_on_training, sample_weight=None, multioutput='uniform_average'))\n",
    "        MSE_te.append(metrics.mean_squared_error(y_test, y_pred, sample_weight=None, multioutput='uniform_average'))\n",
    "        R2_tr.append(metrics.r2_score(y_train, y_pred_on_training, sample_weight=None, multioutput='uniform_average'))\n",
    "        R2_te.append(metrics.r2_score(y_test, y_pred, sample_weight=None, multioutput='uniform_average'))\n",
    "    kMSE_tr.append(mean(MSE_tr))\n",
    "    kMSE_te.append(mean(MSE_te))\n",
    "    kR2_tr.append(mean(R2_tr))\n",
    "    kR2_te.append(mean(R2_te))\n",
    "    MSE_tr = []\n",
    "    MSE_te = []\n",
    "    R2_tr = []\n",
    "    R2_te = []\n",
    "print('kMSE on training, from degree 1 to 4:\\n', kMSE_tr)\n",
    "print('\\nkMSE on testing, from degree 1 to 4:\\n', kMSE_te)\n",
    "print('\\nkR2 on training, from degree 1 to 4:\\n', kR2_tr)\n",
    "print('\\nkR2 on testing, from degree 1 to 4:\\n', kR2_te)"
   ]
  },
  {
   "cell_type": "code",
   "execution_count": 70,
   "metadata": {},
   "outputs": [
    {
     "data": {
      "image/png": "[encoded data removed]",
      "text/plain": [
       "<Figure size 432x288 with 1 Axes>"
      ]
     },
     "metadata": {
      "needs_background": "light"
     },
     "output_type": "display_data"
    }
   ],
   "source": [
    "plt.plot(degrees, kMSE_tr, label='Training kMSE')\n",
    "plt.plot(degrees, kMSE_te, label='Testing kMSE')\n",
    "plt.xlabel('Degree of the polynomial regression')\n",
    "plt.ylabel('kMSE')\n",
    "plt.legend()\n",
    "plt.grid()\n",
    "\n",
    "plt.show()"
   ]
  },
  {
   "cell_type": "code",
   "execution_count": 71,
   "metadata": {},
   "outputs": [],
   "source": [
    "#from sklearn.model_selection import train_test_split\n",
    "#from sklearn.linear_model import Ridge\n",
    "#import yellowbrick\n",
    "#from yellowbrick.regressor import ResidualsPlot\n",
    "\n",
    "#model = make_pipeline(pol(2), RidgeCV(alphas=(0.01,1.0,100), cv=4))\n",
    "\n",
    "# Instantiate the linear model and visualizer\n",
    "\n",
    "#visualizer = ResidualsPlot(model)\n",
    "\n",
    "#visualizer.fit(x_train, y_train)  # Fit the training data to the visualizer\n",
    "#visualizer.score(x_test, y_test)  # Evaluate the model on the test data\n",
    "#visualizer.show()                 # Finalize and render the figure"
   ]
  },
  {
   "cell_type": "markdown",
   "metadata": {},
   "source": [
    "The best model was the polynomial with grade 3, resulting in a R2train = 0,30 and a R2test = 0,25. The results are still bad, so we decided to re-formulate the problem, passing to a classification problem."
   ]
  },
  {
   "cell_type": "code",
   "execution_count": 72,
   "metadata": {},
   "outputs": [],
   "source": [
    "df_class = df_std.rename(columns={'cnt':'conto'})"
   ]
  },
  {
   "cell_type": "markdown",
   "metadata": {},
   "source": [
    "#### We are going to divide the data in 3 groups. \n",
    "\n",
    "Low number of attacks: 0 < cnt < 3\n",
    "\n",
    "Medium number of attacks: 3 <= cnt < 15\n",
    "\n",
    "High number of attacks: cnt >= 15\n",
    "\n",
    "The splitting was made considering the fact that each cathegory had to be a good amount of sample."
   ]
  },
  {
   "cell_type": "code",
   "execution_count": 73,
   "metadata": {},
   "outputs": [
    {
     "data": {
      "text/html": [
       "<div>\n",
       "<style scoped>\n",
       "    .dataframe tbody tr th:only-of-type {\n",
       "        vertical-align: middle;\n",
       "    }\n",
       "\n",
       "    .dataframe tbody tr th {\n",
       "        vertical-align: top;\n",
       "    }\n",
       "\n",
       "    .dataframe thead th {\n",
       "        text-align: right;\n",
       "    }\n",
       "</style>\n",
       "<table border=\"1\" class=\"dataframe\">\n",
       "  <thead>\n",
       "    <tr style=\"text-align: right;\">\n",
       "      <th></th>\n",
       "      <th>SP.DYN.CBRT.IN</th>\n",
       "      <th>Year</th>\n",
       "      <th>SP.URB.TOTL</th>\n",
       "      <th>Density</th>\n",
       "      <th>cnt</th>\n",
       "      <th>TerritoryDefense</th>\n",
       "      <th>PopulationDefense</th>\n",
       "    </tr>\n",
       "  </thead>\n",
       "  <tbody>\n",
       "    <tr>\n",
       "      <th>1544</th>\n",
       "      <td>22.759</td>\n",
       "      <td>1970</td>\n",
       "      <td>18909951.0</td>\n",
       "      <td>8.664263</td>\n",
       "      <td>2.0</td>\n",
       "      <td>1.610884e+02</td>\n",
       "      <td>6.337384</td>\n",
       "    </tr>\n",
       "    <tr>\n",
       "      <th>1547</th>\n",
       "      <td>20.600</td>\n",
       "      <td>1970</td>\n",
       "      <td>10664094.0</td>\n",
       "      <td>1.627064</td>\n",
       "      <td>0.0</td>\n",
       "      <td>1.661747e+02</td>\n",
       "      <td>11.843616</td>\n",
       "    </tr>\n",
       "    <tr>\n",
       "      <th>1554</th>\n",
       "      <td>14.700</td>\n",
       "      <td>1970</td>\n",
       "      <td>9061057.0</td>\n",
       "      <td>316.285017</td>\n",
       "      <td>0.0</td>\n",
       "      <td>2.449407e+04</td>\n",
       "      <td>50.871625</td>\n",
       "    </tr>\n",
       "    <tr>\n",
       "      <th>1558</th>\n",
       "      <td>42.261</td>\n",
       "      <td>1970</td>\n",
       "      <td>1792217.0</td>\n",
       "      <td>4.101453</td>\n",
       "      <td>0.0</td>\n",
       "      <td>1.528076e+01</td>\n",
       "      <td>0.222493</td>\n",
       "    </tr>\n",
       "    <tr>\n",
       "      <th>1560</th>\n",
       "      <td>35.214</td>\n",
       "      <td>1970</td>\n",
       "      <td>53662830.0</td>\n",
       "      <td>11.276180</td>\n",
       "      <td>1.0</td>\n",
       "      <td>1.205637e+02</td>\n",
       "      <td>1.164409</td>\n",
       "    </tr>\n",
       "    <tr>\n",
       "      <th>1566</th>\n",
       "      <td>17.400</td>\n",
       "      <td>1970</td>\n",
       "      <td>16132459.0</td>\n",
       "      <td>2.135674</td>\n",
       "      <td>0.0</td>\n",
       "      <td>1.892058e+02</td>\n",
       "      <td>18.459810</td>\n",
       "    </tr>\n",
       "    <tr>\n",
       "      <th>1570</th>\n",
       "      <td>37.506</td>\n",
       "      <td>1970</td>\n",
       "      <td>12093958.0</td>\n",
       "      <td>19.370463</td>\n",
       "      <td>0.0</td>\n",
       "      <td>1.428229e+02</td>\n",
       "      <td>0.091758</td>\n",
       "    </tr>\n",
       "    <tr>\n",
       "      <th>1580</th>\n",
       "      <td>41.750</td>\n",
       "      <td>1970</td>\n",
       "      <td>1810657.0</td>\n",
       "      <td>92.409481</td>\n",
       "      <td>0.0</td>\n",
       "      <td>7.367125e+02</td>\n",
       "      <td>0.108885</td>\n",
       "    </tr>\n",
       "    <tr>\n",
       "      <th>1582</th>\n",
       "      <td>40.130</td>\n",
       "      <td>1970</td>\n",
       "      <td>14437563.0</td>\n",
       "      <td>34.758200</td>\n",
       "      <td>0.0</td>\n",
       "      <td>1.090917e+03</td>\n",
       "      <td>22.906180</td>\n",
       "    </tr>\n",
       "    <tr>\n",
       "      <th>1587</th>\n",
       "      <td>48.075</td>\n",
       "      <td>1970</td>\n",
       "      <td>2440280.0</td>\n",
       "      <td>25.210113</td>\n",
       "      <td>1.0</td>\n",
       "      <td>3.064428e+01</td>\n",
       "      <td>1.190190</td>\n",
       "    </tr>\n",
       "    <tr>\n",
       "      <th>1595</th>\n",
       "      <td>16.500</td>\n",
       "      <td>1970</td>\n",
       "      <td>5646740.0</td>\n",
       "      <td>66.642459</td>\n",
       "      <td>1.0</td>\n",
       "      <td>3.589488e+03</td>\n",
       "      <td>28.255835</td>\n",
       "    </tr>\n",
       "    <tr>\n",
       "      <th>1598</th>\n",
       "      <td>44.468</td>\n",
       "      <td>1970</td>\n",
       "      <td>1927742.0</td>\n",
       "      <td>49.806080</td>\n",
       "      <td>1.0</td>\n",
       "      <td>2.966296e+02</td>\n",
       "      <td>118.070180</td>\n",
       "    </tr>\n",
       "    <tr>\n",
       "      <th>1608</th>\n",
       "      <td>42.099</td>\n",
       "      <td>1970</td>\n",
       "      <td>11751194.0</td>\n",
       "      <td>17.302191</td>\n",
       "      <td>1.0</td>\n",
       "      <td>3.762937e+02</td>\n",
       "      <td>17.208138</td>\n",
       "    </tr>\n",
       "    <tr>\n",
       "      <th>1610</th>\n",
       "      <td>21.800</td>\n",
       "      <td>1970</td>\n",
       "      <td>1529549.0</td>\n",
       "      <td>42.078116</td>\n",
       "      <td>0.0</td>\n",
       "      <td>7.254816e+02</td>\n",
       "      <td>1.723189</td>\n",
       "    </tr>\n",
       "    <tr>\n",
       "      <th>1612</th>\n",
       "      <td>16.700</td>\n",
       "      <td>1970</td>\n",
       "      <td>34592379.0</td>\n",
       "      <td>178.673605</td>\n",
       "      <td>1.0</td>\n",
       "      <td>7.359067e+03</td>\n",
       "      <td>8.050434</td>\n",
       "    </tr>\n",
       "    <tr>\n",
       "      <th>1614</th>\n",
       "      <td>18.700</td>\n",
       "      <td>1970</td>\n",
       "      <td>75000056.0</td>\n",
       "      <td>276.165522</td>\n",
       "      <td>0.0</td>\n",
       "      <td>4.169405e+03</td>\n",
       "      <td>3.789317</td>\n",
       "    </tr>\n",
       "    <tr>\n",
       "      <th>1615</th>\n",
       "      <td>50.881</td>\n",
       "      <td>1970</td>\n",
       "      <td>844043.0</td>\n",
       "      <td>16.338028</td>\n",
       "      <td>1.0</td>\n",
       "      <td>1.189165e+03</td>\n",
       "      <td>22.008682</td>\n",
       "    </tr>\n",
       "    <tr>\n",
       "      <th>1621</th>\n",
       "      <td>32.323</td>\n",
       "      <td>1970</td>\n",
       "      <td>1366380.0</td>\n",
       "      <td>220.904135</td>\n",
       "      <td>0.0</td>\n",
       "      <td>6.206358e+03</td>\n",
       "      <td>374.672776</td>\n",
       "    </tr>\n",
       "    <tr>\n",
       "      <th>1635</th>\n",
       "      <td>44.075</td>\n",
       "      <td>1970</td>\n",
       "      <td>30708543.0</td>\n",
       "      <td>26.376953</td>\n",
       "      <td>0.0</td>\n",
       "      <td>8.963017e+01</td>\n",
       "      <td>0.763149</td>\n",
       "    </tr>\n",
       "    <tr>\n",
       "      <th>1642</th>\n",
       "      <td>18.300</td>\n",
       "      <td>1970</td>\n",
       "      <td>8039946.0</td>\n",
       "      <td>313.984636</td>\n",
       "      <td>1.0</td>\n",
       "      <td>2.600642e+04</td>\n",
       "      <td>40.748361</td>\n",
       "    </tr>\n",
       "    <tr>\n",
       "      <th>1645</th>\n",
       "      <td>46.094</td>\n",
       "      <td>1970</td>\n",
       "      <td>1127824.0</td>\n",
       "      <td>18.518966</td>\n",
       "      <td>0.0</td>\n",
       "      <td>6.445798e+01</td>\n",
       "      <td>260.586616</td>\n",
       "    </tr>\n",
       "    <tr>\n",
       "      <th>1650</th>\n",
       "      <td>43.108</td>\n",
       "      <td>1970</td>\n",
       "      <td>14417247.0</td>\n",
       "      <td>72.261909</td>\n",
       "      <td>0.0</td>\n",
       "      <td>7.901717e+02</td>\n",
       "      <td>2.442650</td>\n",
       "    </tr>\n",
       "    <tr>\n",
       "      <th>1653</th>\n",
       "      <td>37.309</td>\n",
       "      <td>1970</td>\n",
       "      <td>917026.0</td>\n",
       "      <td>6.082611</td>\n",
       "      <td>0.0</td>\n",
       "      <td>4.749027e+01</td>\n",
       "      <td>0.000000</td>\n",
       "    </tr>\n",
       "    <tr>\n",
       "      <th>1655</th>\n",
       "      <td>39.198</td>\n",
       "      <td>1970</td>\n",
       "      <td>11808042.0</td>\n",
       "      <td>119.349103</td>\n",
       "      <td>1.0</td>\n",
       "      <td>5.168506e+02</td>\n",
       "      <td>0.100594</td>\n",
       "    </tr>\n",
       "    <tr>\n",
       "      <th>1669</th>\n",
       "      <td>19.500</td>\n",
       "      <td>1970</td>\n",
       "      <td>22330440.0</td>\n",
       "      <td>66.988385</td>\n",
       "      <td>1.0</td>\n",
       "      <td>1.702016e+03</td>\n",
       "      <td>5.866650</td>\n",
       "    </tr>\n",
       "    <tr>\n",
       "      <th>1674</th>\n",
       "      <td>16.100</td>\n",
       "      <td>1970</td>\n",
       "      <td>3545846.0</td>\n",
       "      <td>149.694284</td>\n",
       "      <td>1.0</td>\n",
       "      <td>1.056164e+04</td>\n",
       "      <td>17.942741</td>\n",
       "    </tr>\n",
       "    <tr>\n",
       "      <th>1681</th>\n",
       "      <td>40.267</td>\n",
       "      <td>1970</td>\n",
       "      <td>13294738.0</td>\n",
       "      <td>44.546403</td>\n",
       "      <td>1.0</td>\n",
       "      <td>7.236395e+02</td>\n",
       "      <td>5.552876</td>\n",
       "    </tr>\n",
       "    <tr>\n",
       "      <th>1686</th>\n",
       "      <td>16.200</td>\n",
       "      <td>1970</td>\n",
       "      <td>42925829.0</td>\n",
       "      <td>227.363982</td>\n",
       "      <td>1.0</td>\n",
       "      <td>2.481168e+04</td>\n",
       "      <td>0.989949</td>\n",
       "    </tr>\n",
       "    <tr>\n",
       "      <th>1687</th>\n",
       "      <td>18.400</td>\n",
       "      <td>1970</td>\n",
       "      <td>150922373.0</td>\n",
       "      <td>21.289903</td>\n",
       "      <td>2.0</td>\n",
       "      <td>8.290159e+03</td>\n",
       "      <td>0.154133</td>\n",
       "    </tr>\n",
       "    <tr>\n",
       "      <th>1688</th>\n",
       "      <td>20.762</td>\n",
       "      <td>1970</td>\n",
       "      <td>2314375.0</td>\n",
       "      <td>15.944836</td>\n",
       "      <td>2.0</td>\n",
       "      <td>1.278292e+05</td>\n",
       "      <td>3.205192</td>\n",
       "    </tr>\n",
       "    <tr>\n",
       "      <th>...</th>\n",
       "      <td>...</td>\n",
       "      <td>...</td>\n",
       "      <td>...</td>\n",
       "      <td>...</td>\n",
       "      <td>...</td>\n",
       "      <td>...</td>\n",
       "      <td>...</td>\n",
       "    </tr>\n",
       "    <tr>\n",
       "      <th>8267</th>\n",
       "      <td>35.194</td>\n",
       "      <td>2013</td>\n",
       "      <td>10827096.0</td>\n",
       "      <td>74.989927</td>\n",
       "      <td>2.0</td>\n",
       "      <td>1.476977e+03</td>\n",
       "      <td>0.028812</td>\n",
       "    </tr>\n",
       "    <tr>\n",
       "      <th>8270</th>\n",
       "      <td>13.426</td>\n",
       "      <td>2013</td>\n",
       "      <td>3933915.0</td>\n",
       "      <td>432.061346</td>\n",
       "      <td>2.0</td>\n",
       "      <td>1.861268e+05</td>\n",
       "      <td>6.195067</td>\n",
       "    </tr>\n",
       "    <tr>\n",
       "      <th>8273</th>\n",
       "      <td>21.425</td>\n",
       "      <td>2013</td>\n",
       "      <td>4898122.0</td>\n",
       "      <td>3.561151</td>\n",
       "      <td>2.0</td>\n",
       "      <td>2.253254e+03</td>\n",
       "      <td>20.505854</td>\n",
       "    </tr>\n",
       "    <tr>\n",
       "      <th>8274</th>\n",
       "      <td>34.686</td>\n",
       "      <td>2013</td>\n",
       "      <td>7755836.0</td>\n",
       "      <td>39.051099</td>\n",
       "      <td>0.0</td>\n",
       "      <td>1.224412e+02</td>\n",
       "      <td>0.000000</td>\n",
       "    </tr>\n",
       "    <tr>\n",
       "      <th>8276</th>\n",
       "      <td>16.805</td>\n",
       "      <td>2013</td>\n",
       "      <td>21593403.0</td>\n",
       "      <td>89.356701</td>\n",
       "      <td>1.0</td>\n",
       "      <td>1.490742e+04</td>\n",
       "      <td>2.911524</td>\n",
       "    </tr>\n",
       "    <tr>\n",
       "      <th>8277</th>\n",
       "      <td>21.447</td>\n",
       "      <td>2013</td>\n",
       "      <td>170625.0</td>\n",
       "      <td>1310.000000</td>\n",
       "      <td>1.0</td>\n",
       "      <td>7.508689e+07</td>\n",
       "      <td>13.927266</td>\n",
       "    </tr>\n",
       "    <tr>\n",
       "      <th>8278</th>\n",
       "      <td>44.138</td>\n",
       "      <td>2013</td>\n",
       "      <td>6365226.0</td>\n",
       "      <td>13.380723</td>\n",
       "      <td>2.0</td>\n",
       "      <td>1.240594e+02</td>\n",
       "      <td>0.512084</td>\n",
       "    </tr>\n",
       "    <tr>\n",
       "      <th>8282</th>\n",
       "      <td>19.104</td>\n",
       "      <td>2013</td>\n",
       "      <td>97372329.0</td>\n",
       "      <td>62.731038</td>\n",
       "      <td>1.0</td>\n",
       "      <td>3.973341e+03</td>\n",
       "      <td>0.642162</td>\n",
       "    </tr>\n",
       "    <tr>\n",
       "      <th>8286</th>\n",
       "      <td>39.705</td>\n",
       "      <td>2013</td>\n",
       "      <td>8381891.0</td>\n",
       "      <td>33.018351</td>\n",
       "      <td>2.0</td>\n",
       "      <td>1.969737e+02</td>\n",
       "      <td>0.457166</td>\n",
       "    </tr>\n",
       "    <tr>\n",
       "      <th>8288</th>\n",
       "      <td>20.923</td>\n",
       "      <td>2013</td>\n",
       "      <td>4976060.0</td>\n",
       "      <td>189.120749</td>\n",
       "      <td>2.0</td>\n",
       "      <td>1.909475e+03</td>\n",
       "      <td>51.313095</td>\n",
       "    </tr>\n",
       "    <tr>\n",
       "      <th>8291</th>\n",
       "      <td>49.661</td>\n",
       "      <td>2013</td>\n",
       "      <td>3344985.0</td>\n",
       "      <td>14.490026</td>\n",
       "      <td>1.0</td>\n",
       "      <td>8.371293e+01</td>\n",
       "      <td>1.037916</td>\n",
       "    </tr>\n",
       "    <tr>\n",
       "      <th>8292</th>\n",
       "      <td>40.045</td>\n",
       "      <td>2013</td>\n",
       "      <td>79658045.0</td>\n",
       "      <td>187.077834</td>\n",
       "      <td>2.0</td>\n",
       "      <td>2.618363e+03</td>\n",
       "      <td>0.265434</td>\n",
       "    </tr>\n",
       "    <tr>\n",
       "      <th>8294</th>\n",
       "      <td>29.582</td>\n",
       "      <td>2013</td>\n",
       "      <td>68599536.0</td>\n",
       "      <td>225.380807</td>\n",
       "      <td>2.0</td>\n",
       "      <td>9.509983e+03</td>\n",
       "      <td>7.086699</td>\n",
       "    </tr>\n",
       "    <tr>\n",
       "      <th>8297</th>\n",
       "      <td>21.588</td>\n",
       "      <td>2013</td>\n",
       "      <td>3825995.0</td>\n",
       "      <td>15.895929</td>\n",
       "      <td>1.0</td>\n",
       "      <td>9.126382e+02</td>\n",
       "      <td>0.000000</td>\n",
       "    </tr>\n",
       "    <tr>\n",
       "      <th>8298</th>\n",
       "      <td>20.198</td>\n",
       "      <td>2013</td>\n",
       "      <td>23826999.0</td>\n",
       "      <td>23.782279</td>\n",
       "      <td>1.0</td>\n",
       "      <td>2.571896e+03</td>\n",
       "      <td>1.589960</td>\n",
       "    </tr>\n",
       "    <tr>\n",
       "      <th>8299</th>\n",
       "      <td>23.790</td>\n",
       "      <td>2013</td>\n",
       "      <td>43549166.0</td>\n",
       "      <td>325.238920</td>\n",
       "      <td>2.0</td>\n",
       "      <td>1.125676e+04</td>\n",
       "      <td>0.838282</td>\n",
       "    </tr>\n",
       "    <tr>\n",
       "      <th>8302</th>\n",
       "      <td>32.689</td>\n",
       "      <td>2013</td>\n",
       "      <td>2976573.0</td>\n",
       "      <td>420.612613</td>\n",
       "      <td>1.0</td>\n",
       "      <td>3.131624e+03</td>\n",
       "      <td>1.271934</td>\n",
       "    </tr>\n",
       "    <tr>\n",
       "      <th>8304</th>\n",
       "      <td>20.576</td>\n",
       "      <td>2013</td>\n",
       "      <td>24982007.0</td>\n",
       "      <td>15.404125</td>\n",
       "      <td>1.0</td>\n",
       "      <td>3.418373e+04</td>\n",
       "      <td>44.115909</td>\n",
       "    </tr>\n",
       "    <tr>\n",
       "      <th>8305</th>\n",
       "      <td>38.533</td>\n",
       "      <td>2013</td>\n",
       "      <td>6126282.0</td>\n",
       "      <td>72.486065</td>\n",
       "      <td>1.0</td>\n",
       "      <td>1.206677e+03</td>\n",
       "      <td>0.500537</td>\n",
       "    </tr>\n",
       "    <tr>\n",
       "      <th>8310</th>\n",
       "      <td>43.891</td>\n",
       "      <td>2013</td>\n",
       "      <td>3964741.0</td>\n",
       "      <td>16.102947</td>\n",
       "      <td>2.0</td>\n",
       "      <td>4.085268e+01</td>\n",
       "      <td>0.338473</td>\n",
       "    </tr>\n",
       "    <tr>\n",
       "      <th>8311</th>\n",
       "      <td>20.850</td>\n",
       "      <td>2013</td>\n",
       "      <td>33908100.0</td>\n",
       "      <td>43.574856</td>\n",
       "      <td>1.0</td>\n",
       "      <td>3.375824e+03</td>\n",
       "      <td>0.045262</td>\n",
       "    </tr>\n",
       "    <tr>\n",
       "      <th>8312</th>\n",
       "      <td>17.863</td>\n",
       "      <td>2013</td>\n",
       "      <td>3748389.0</td>\n",
       "      <td>312.193263</td>\n",
       "      <td>1.0</td>\n",
       "      <td>2.439935e+04</td>\n",
       "      <td>71.777462</td>\n",
       "    </tr>\n",
       "    <tr>\n",
       "      <th>8313</th>\n",
       "      <td>33.477</td>\n",
       "      <td>2013</td>\n",
       "      <td>12887151.0</td>\n",
       "      <td>15.370317</td>\n",
       "      <td>2.0</td>\n",
       "      <td>8.989536e+03</td>\n",
       "      <td>4.753085</td>\n",
       "    </tr>\n",
       "    <tr>\n",
       "      <th>8316</th>\n",
       "      <td>39.518</td>\n",
       "      <td>2013</td>\n",
       "      <td>15162455.0</td>\n",
       "      <td>53.131042</td>\n",
       "      <td>1.0</td>\n",
       "      <td>4.691419e+02</td>\n",
       "      <td>2.269972</td>\n",
       "    </tr>\n",
       "    <tr>\n",
       "      <th>8317</th>\n",
       "      <td>11.041</td>\n",
       "      <td>2013</td>\n",
       "      <td>32338235.0</td>\n",
       "      <td>131.228447</td>\n",
       "      <td>2.0</td>\n",
       "      <td>1.148112e+04</td>\n",
       "      <td>6.003256</td>\n",
       "    </tr>\n",
       "    <tr>\n",
       "      <th>8320</th>\n",
       "      <td>19.800</td>\n",
       "      <td>2013</td>\n",
       "      <td>7234732.0</td>\n",
       "      <td>66.539331</td>\n",
       "      <td>2.0</td>\n",
       "      <td>4.641274e+03</td>\n",
       "      <td>3.734639</td>\n",
       "    </tr>\n",
       "    <tr>\n",
       "      <th>8321</th>\n",
       "      <td>16.836</td>\n",
       "      <td>2013</td>\n",
       "      <td>54284883.0</td>\n",
       "      <td>96.095470</td>\n",
       "      <td>2.0</td>\n",
       "      <td>2.390860e+04</td>\n",
       "      <td>9.515159</td>\n",
       "    </tr>\n",
       "    <tr>\n",
       "      <th>8324</th>\n",
       "      <td>11.044</td>\n",
       "      <td>2013</td>\n",
       "      <td>7682264.0</td>\n",
       "      <td>109.073094</td>\n",
       "      <td>0.0</td>\n",
       "      <td>2.842792e+05</td>\n",
       "      <td>865.250990</td>\n",
       "    </tr>\n",
       "    <tr>\n",
       "      <th>8328</th>\n",
       "      <td>19.842</td>\n",
       "      <td>2013</td>\n",
       "      <td>26913587.0</td>\n",
       "      <td>33.195598</td>\n",
       "      <td>0.0</td>\n",
       "      <td>6.797542e+03</td>\n",
       "      <td>45.277120</td>\n",
       "    </tr>\n",
       "    <tr>\n",
       "      <th>8331</th>\n",
       "      <td>35.715</td>\n",
       "      <td>2013</td>\n",
       "      <td>4864823.0</td>\n",
       "      <td>38.143510</td>\n",
       "      <td>1.0</td>\n",
       "      <td>9.132572e+02</td>\n",
       "      <td>118.617651</td>\n",
       "    </tr>\n",
       "  </tbody>\n",
       "</table>\n",
       "<p>2806 rows × 7 columns</p>\n",
       "</div>"
      ],
      "text/plain": [
       "      SP.DYN.CBRT.IN  Year  SP.URB.TOTL      Density  cnt  TerritoryDefense  \\\n",
       "1544          22.759  1970   18909951.0     8.664263  2.0      1.610884e+02   \n",
       "1547          20.600  1970   10664094.0     1.627064  0.0      1.661747e+02   \n",
       "1554          14.700  1970    9061057.0   316.285017  0.0      2.449407e+04   \n",
       "1558          42.261  1970    1792217.0     4.101453  0.0      1.528076e+01   \n",
       "1560          35.214  1970   53662830.0    11.276180  1.0      1.205637e+02   \n",
       "1566          17.400  1970   16132459.0     2.135674  0.0      1.892058e+02   \n",
       "1570          37.506  1970   12093958.0    19.370463  0.0      1.428229e+02   \n",
       "1580          41.750  1970    1810657.0    92.409481  0.0      7.367125e+02   \n",
       "1582          40.130  1970   14437563.0    34.758200  0.0      1.090917e+03   \n",
       "1587          48.075  1970    2440280.0    25.210113  1.0      3.064428e+01   \n",
       "1595          16.500  1970    5646740.0    66.642459  1.0      3.589488e+03   \n",
       "1598          44.468  1970    1927742.0    49.806080  1.0      2.966296e+02   \n",
       "1608          42.099  1970   11751194.0    17.302191  1.0      3.762937e+02   \n",
       "1610          21.800  1970    1529549.0    42.078116  0.0      7.254816e+02   \n",
       "1612          16.700  1970   34592379.0   178.673605  1.0      7.359067e+03   \n",
       "1614          18.700  1970   75000056.0   276.165522  0.0      4.169405e+03   \n",
       "1615          50.881  1970     844043.0    16.338028  1.0      1.189165e+03   \n",
       "1621          32.323  1970    1366380.0   220.904135  0.0      6.206358e+03   \n",
       "1635          44.075  1970   30708543.0    26.376953  0.0      8.963017e+01   \n",
       "1642          18.300  1970    8039946.0   313.984636  1.0      2.600642e+04   \n",
       "1645          46.094  1970    1127824.0    18.518966  0.0      6.445798e+01   \n",
       "1650          43.108  1970   14417247.0    72.261909  0.0      7.901717e+02   \n",
       "1653          37.309  1970     917026.0     6.082611  0.0      4.749027e+01   \n",
       "1655          39.198  1970   11808042.0   119.349103  1.0      5.168506e+02   \n",
       "1669          19.500  1970   22330440.0    66.988385  1.0      1.702016e+03   \n",
       "1674          16.100  1970    3545846.0   149.694284  1.0      1.056164e+04   \n",
       "1681          40.267  1970   13294738.0    44.546403  1.0      7.236395e+02   \n",
       "1686          16.200  1970   42925829.0   227.363982  1.0      2.481168e+04   \n",
       "1687          18.400  1970  150922373.0    21.289903  2.0      8.290159e+03   \n",
       "1688          20.762  1970    2314375.0    15.944836  2.0      1.278292e+05   \n",
       "...              ...   ...          ...          ...  ...               ...   \n",
       "8267          35.194  2013   10827096.0    74.989927  2.0      1.476977e+03   \n",
       "8270          13.426  2013    3933915.0   432.061346  2.0      1.861268e+05   \n",
       "8273          21.425  2013    4898122.0     3.561151  2.0      2.253254e+03   \n",
       "8274          34.686  2013    7755836.0    39.051099  0.0      1.224412e+02   \n",
       "8276          16.805  2013   21593403.0    89.356701  1.0      1.490742e+04   \n",
       "8277          21.447  2013     170625.0  1310.000000  1.0      7.508689e+07   \n",
       "8278          44.138  2013    6365226.0    13.380723  2.0      1.240594e+02   \n",
       "8282          19.104  2013   97372329.0    62.731038  1.0      3.973341e+03   \n",
       "8286          39.705  2013    8381891.0    33.018351  2.0      1.969737e+02   \n",
       "8288          20.923  2013    4976060.0   189.120749  2.0      1.909475e+03   \n",
       "8291          49.661  2013    3344985.0    14.490026  1.0      8.371293e+01   \n",
       "8292          40.045  2013   79658045.0   187.077834  2.0      2.618363e+03   \n",
       "8294          29.582  2013   68599536.0   225.380807  2.0      9.509983e+03   \n",
       "8297          21.588  2013    3825995.0    15.895929  1.0      9.126382e+02   \n",
       "8298          20.198  2013   23826999.0    23.782279  1.0      2.571896e+03   \n",
       "8299          23.790  2013   43549166.0   325.238920  2.0      1.125676e+04   \n",
       "8302          32.689  2013    2976573.0   420.612613  1.0      3.131624e+03   \n",
       "8304          20.576  2013   24982007.0    15.404125  1.0      3.418373e+04   \n",
       "8305          38.533  2013    6126282.0    72.486065  1.0      1.206677e+03   \n",
       "8310          43.891  2013    3964741.0    16.102947  2.0      4.085268e+01   \n",
       "8311          20.850  2013   33908100.0    43.574856  1.0      3.375824e+03   \n",
       "8312          17.863  2013    3748389.0   312.193263  1.0      2.439935e+04   \n",
       "8313          33.477  2013   12887151.0    15.370317  2.0      8.989536e+03   \n",
       "8316          39.518  2013   15162455.0    53.131042  1.0      4.691419e+02   \n",
       "8317          11.041  2013   32338235.0   131.228447  2.0      1.148112e+04   \n",
       "8320          19.800  2013    7234732.0    66.539331  2.0      4.641274e+03   \n",
       "8321          16.836  2013   54284883.0    96.095470  2.0      2.390860e+04   \n",
       "8324          11.044  2013    7682264.0   109.073094  0.0      2.842792e+05   \n",
       "8328          19.842  2013   26913587.0    33.195598  0.0      6.797542e+03   \n",
       "8331          35.715  2013    4864823.0    38.143510  1.0      9.132572e+02   \n",
       "\n",
       "      PopulationDefense  \n",
       "1544           6.337384  \n",
       "1547          11.843616  \n",
       "1554          50.871625  \n",
       "1558           0.222493  \n",
       "1560           1.164409  \n",
       "1566          18.459810  \n",
       "1570           0.091758  \n",
       "1580           0.108885  \n",
       "1582          22.906180  \n",
       "1587           1.190190  \n",
       "1595          28.255835  \n",
       "1598         118.070180  \n",
       "1608          17.208138  \n",
       "1610           1.723189  \n",
       "1612           8.050434  \n",
       "1614           3.789317  \n",
       "1615          22.008682  \n",
       "1621         374.672776  \n",
       "1635           0.763149  \n",
       "1642          40.748361  \n",
       "1645         260.586616  \n",
       "1650           2.442650  \n",
       "1653           0.000000  \n",
       "1655           0.100594  \n",
       "1669           5.866650  \n",
       "1674          17.942741  \n",
       "1681           5.552876  \n",
       "1686           0.989949  \n",
       "1687           0.154133  \n",
       "1688           3.205192  \n",
       "...                 ...  \n",
       "8267           0.028812  \n",
       "8270           6.195067  \n",
       "8273          20.505854  \n",
       "8274           0.000000  \n",
       "8276           2.911524  \n",
       "8277          13.927266  \n",
       "8278           0.512084  \n",
       "8282           0.642162  \n",
       "8286           0.457166  \n",
       "8288          51.313095  \n",
       "8291           1.037916  \n",
       "8292           0.265434  \n",
       "8294           7.086699  \n",
       "8297           0.000000  \n",
       "8298           1.589960  \n",
       "8299           0.838282  \n",
       "8302           1.271934  \n",
       "8304          44.115909  \n",
       "8305           0.500537  \n",
       "8310           0.338473  \n",
       "8311           0.045262  \n",
       "8312          71.777462  \n",
       "8313           4.753085  \n",
       "8316           2.269972  \n",
       "8317           6.003256  \n",
       "8320           3.734639  \n",
       "8321           9.515159  \n",
       "8324         865.250990  \n",
       "8328          45.277120  \n",
       "8331         118.617651  \n",
       "\n",
       "[2806 rows x 7 columns]"
      ]
     },
     "execution_count": 73,
     "metadata": {},
     "output_type": "execute_result"
    }
   ],
   "source": [
    "df_class.groupby(by='conto').aggregate({'conto':'count'})\n",
    "\n",
    "df_class['conto'] = df_class['conto'].apply(lambda x: 0 if (x > 0 and x < 3) else x)\n",
    "df_class['conto'] = df_class['conto'].apply(lambda x: -1 if (x >= 3 and x < 15) else x)\n",
    "df_class['conto'] = df_class['conto'].apply(lambda x: -2 if (x >= 15) else x)\n",
    "\n",
    "df_class['conto'] = df_class['conto'].apply(lambda x: 1 if (x == -1) else x)\n",
    "df_class['conto'] = df_class['conto'].apply(lambda x: 2 if (x == -2) else x)\n",
    "\n",
    "df_class = df_class.rename(columns={'conto':'cnt'})\n",
    "\n",
    "df_class"
   ]
  },
  {
   "cell_type": "markdown",
   "metadata": {},
   "source": [
    "Here we can see that each class has a good amount of samples."
   ]
  },
  {
   "cell_type": "code",
   "execution_count": 74,
   "metadata": {},
   "outputs": [
    {
     "data": {
      "text/plain": [
       "<matplotlib.axes._subplots.AxesSubplot at 0x7fba8b20dd30>"
      ]
     },
     "execution_count": 74,
     "metadata": {},
     "output_type": "execute_result"
    },
    {
     "data": {
      "image/png": "[encoded data removed]",
      "text/plain": [
       "<Figure size 432x288 with 1 Axes>"
      ]
     },
     "metadata": {
      "needs_background": "light"
     },
     "output_type": "display_data"
    }
   ],
   "source": [
    "df_class.cnt.hist()"
   ]
  },
  {
   "cell_type": "code",
   "execution_count": 75,
   "metadata": {},
   "outputs": [
    {
     "data": {
      "text/plain": [
       "array([[<matplotlib.axes._subplots.AxesSubplot object at 0x7fba8b233a20>,\n",
       "        <matplotlib.axes._subplots.AxesSubplot object at 0x7fba8b158278>],\n",
       "       [<matplotlib.axes._subplots.AxesSubplot object at 0x7fba8b1014e0>,\n",
       "        <matplotlib.axes._subplots.AxesSubplot object at 0x7fba8b129748>],\n",
       "       [<matplotlib.axes._subplots.AxesSubplot object at 0x7fba8b0d19b0>,\n",
       "        <matplotlib.axes._subplots.AxesSubplot object at 0x7fba8b0fac18>]],\n",
       "      dtype=object)"
      ]
     },
     "execution_count": 75,
     "metadata": {},
     "output_type": "execute_result"
    },
    {
     "data": {
      "image/png": "[encoded data removed]",
      "text/plain": [
       "<Figure size 1080x1080 with 6 Axes>"
      ]
     },
     "metadata": {
      "needs_background": "light"
     },
     "output_type": "display_data"
    }
   ],
   "source": [
    "from sklearn.preprocessing import scale\n",
    "\n",
    "feature_matrix=df_class.loc[:, df_std.columns != 'cnt']\n",
    "target_vector=df_class['cnt']\n",
    "feature_matrix = pd.DataFrame(scale(feature_matrix), index=feature_matrix.index, columns=feature_matrix.columns) # standardization\n",
    "feature_matrix.hist(figsize=(15,15))\n",
    "\n"
   ]
  },
  {
   "cell_type": "code",
   "execution_count": 76,
   "metadata": {},
   "outputs": [],
   "source": [
    "from sklearn.model_selection import train_test_split\n",
    "\n",
    "x_train, x_test, y_train, y_test = train_test_split(feature_matrix, target_vector, test_size=0.2, random_state=1)"
   ]
  },
  {
   "cell_type": "markdown",
   "metadata": {},
   "source": [
    "We first try with multinomial logistic regression"
   ]
  },
  {
   "cell_type": "code",
   "execution_count": 411,
   "metadata": {},
   "outputs": [
    {
     "name": "stdout",
     "output_type": "stream",
     "text": [
      "0.43137254901960786\n",
      "0.42170818505338076\n"
     ]
    }
   ],
   "source": [
    "from sklearn.linear_model import LogisticRegression\n",
    "\n",
    "clf = LogisticRegression(fit_intercept=True,random_state=1, max_iter=10000, multi_class='multinomial',solver ='newton-cg').fit(x_train, y_train)\n",
    "clf.predict(x_train)\n",
    "print(clf.score(x_train,y_train))\n",
    "\n",
    "clf.predict(x_test)\n",
    "print(clf.score(x_test,y_test))"
   ]
  },
  {
   "cell_type": "markdown",
   "metadata": {},
   "source": [
    "After we try with multi-layer perceptron"
   ]
  },
  {
   "cell_type": "code",
   "execution_count": 78,
   "metadata": {},
   "outputs": [
    {
     "name": "stdout",
     "output_type": "stream",
     "text": [
      "train accuracy:  0.5980392156862745\n",
      "test accuracy:  0.5854092526690391\n"
     ]
    }
   ],
   "source": [
    "from sklearn.neural_network import MLPClassifier\n",
    "from sklearn.metrics import accuracy_score\n",
    "\n",
    "clf = MLPClassifier(random_state=1, max_iter=1000)\n",
    "clf.fit(x_train, y_train)\n",
    "\n",
    "y_pred_train = clf.predict(x_train)\n",
    "print('train accuracy: ', accuracy_score(y_train, y_pred_train))\n",
    "\n",
    "y_pred_test = clf.predict(x_test)\n",
    "print('test accuracy: ', accuracy_score(y_test, y_pred_test))\n"
   ]
  },
  {
   "cell_type": "markdown",
   "metadata": {},
   "source": [
    "Then let's see a decision tree:"
   ]
  },
  {
   "cell_type": "code",
   "execution_count": 432,
   "metadata": {},
   "outputs": [
    {
     "name": "stdout",
     "output_type": "stream",
     "text": [
      "Accuracy on train:  0.6631016042780749\n",
      "Accuracy on test:  0.5836298932384342\n"
     ]
    }
   ],
   "source": [
    "from sklearn import tree\n",
    "from sklearn.metrics import accuracy_score\n",
    "\n",
    "X = df_class.loc[:, df_std.columns != 'cnt']\n",
    "Y = df_class['cnt']\n",
    "x_train, x_test, y_train, y_test = train_test_split(X, Y, test_size=0.2, random_state=1)\n",
    "clf = tree.DecisionTreeClassifier(max_depth=7)\n",
    "clf = clf.fit(x_train, y_train)\n",
    "y_train_pred = clf.predict(x_train)\n",
    "y_pred = clf.predict(x_test)\n",
    "acc_tr = accuracy_score(y_train, y_train_pred)\n",
    "acc_te = accuracy_score(y_test, y_pred)\n",
    "print('Accuracy on train: ', acc_tr)\n",
    "print('Accuracy on test: ', acc_te)"
   ]
  },
  {
   "cell_type": "code",
   "execution_count": 433,
   "metadata": {},
   "outputs": [
    {
     "data": {
      "text/plain": [
       "[Text(169.4925, 199.32, 'X[2] <= 16276427.0\\ngini = 0.665\\nsamples = 2244\\nvalue = [769, 789, 686]'),\n",
       " Text(89.28, 163.07999999999998, 'X[2] <= 1630787.5\\ngini = 0.635\\nsamples = 1523\\nvalue = [660, 572, 291]'),\n",
       " Text(44.64, 126.83999999999999, 'X[1] <= 1999.5\\ngini = 0.536\\nsamples = 355\\nvalue = [212, 112, 31]'),\n",
       " Text(22.32, 90.6, 'X[3] <= 24.658\\ngini = 0.56\\nsamples = 282\\nvalue = [156, 100, 26]'),\n",
       " Text(11.16, 54.359999999999985, 'X[4] <= 118.834\\ngini = 0.467\\nsamples = 108\\nvalue = [74, 26, 8]'),\n",
       " Text(5.58, 18.119999999999976, '\\n  (...)  \\n'),\n",
       " Text(16.740000000000002, 18.119999999999976, '\\n  (...)  \\n'),\n",
       " Text(33.480000000000004, 54.359999999999985, 'X[5] <= 31.651\\ngini = 0.586\\nsamples = 174\\nvalue = [82, 74, 18]'),\n",
       " Text(27.9, 18.119999999999976, '\\n  (...)  \\n'),\n",
       " Text(39.06, 18.119999999999976, '\\n  (...)  \\n'),\n",
       " Text(66.96000000000001, 90.6, 'X[0] <= 41.864\\ngini = 0.38\\nsamples = 73\\nvalue = [56, 12, 5]'),\n",
       " Text(55.8, 54.359999999999985, 'X[3] <= 1996.572\\ngini = 0.252\\nsamples = 62\\nvalue = [53, 8, 1]'),\n",
       " Text(50.22, 18.119999999999976, '\\n  (...)  \\n'),\n",
       " Text(61.38, 18.119999999999976, '\\n  (...)  \\n'),\n",
       " Text(78.12, 54.359999999999985, 'X[2] <= 679747.5\\ngini = 0.661\\nsamples = 11\\nvalue = [3, 4, 4]'),\n",
       " Text(72.54, 18.119999999999976, '\\n  (...)  \\n'),\n",
       " Text(83.7, 18.119999999999976, '\\n  (...)  \\n'),\n",
       " Text(133.92000000000002, 126.83999999999999, 'X[3] <= 160.492\\ngini = 0.648\\nsamples = 1168\\nvalue = [448, 460, 260]'),\n",
       " Text(111.6, 90.6, 'X[1] <= 1997.5\\ngini = 0.631\\nsamples = 960\\nvalue = [391, 397, 172]'),\n",
       " Text(100.44, 54.359999999999985, 'X[4] <= 89.542\\ngini = 0.64\\nsamples = 628\\nvalue = [227, 272, 129]'),\n",
       " Text(94.86, 18.119999999999976, '\\n  (...)  \\n'),\n",
       " Text(106.02, 18.119999999999976, '\\n  (...)  \\n'),\n",
       " Text(122.76, 54.359999999999985, 'X[0] <= 43.869\\ngini = 0.597\\nsamples = 332\\nvalue = [164, 125, 43]'),\n",
       " Text(117.18, 18.119999999999976, '\\n  (...)  \\n'),\n",
       " Text(128.34, 18.119999999999976, '\\n  (...)  \\n'),\n",
       " Text(156.24, 90.6, 'X[3] <= 311.942\\ngini = 0.654\\nsamples = 208\\nvalue = [57, 63, 88]'),\n",
       " Text(145.08, 54.359999999999985, 'X[0] <= 18.3\\ngini = 0.485\\nsamples = 113\\nvalue = [11, 26, 76]'),\n",
       " Text(139.5, 18.119999999999976, '\\n  (...)  \\n'),\n",
       " Text(150.66, 18.119999999999976, '\\n  (...)  \\n'),\n",
       " Text(167.4, 54.359999999999985, 'X[3] <= 475.921\\ngini = 0.598\\nsamples = 95\\nvalue = [46, 37, 12]'),\n",
       " Text(161.82, 18.119999999999976, '\\n  (...)  \\n'),\n",
       " Text(172.98, 18.119999999999976, '\\n  (...)  \\n'),\n",
       " Text(249.705, 163.07999999999998, 'X[4] <= 2505.922\\ngini = 0.586\\nsamples = 721\\nvalue = [109, 217, 395]'),\n",
       " Text(209.25, 126.83999999999999, 'X[0] <= 19.182\\ngini = 0.654\\nsamples = 253\\nvalue = [61, 98, 94]'),\n",
       " Text(195.3, 90.6, 'X[1] <= 2008.5\\ngini = 0.525\\nsamples = 38\\nvalue = [19, 18, 1]'),\n",
       " Text(189.72, 54.359999999999985, 'X[0] <= 8.623\\ngini = 0.522\\nsamples = 33\\nvalue = [14, 18, 1]'),\n",
       " Text(184.14000000000001, 18.119999999999976, '\\n  (...)  \\n'),\n",
       " Text(195.3, 18.119999999999976, '\\n  (...)  \\n'),\n",
       " Text(200.88, 54.359999999999985, 'gini = 0.0\\nsamples = 5\\nvalue = [5, 0, 0]'),\n",
       " Text(223.2, 90.6, 'X[2] <= 27977701.0\\ngini = 0.636\\nsamples = 215\\nvalue = [42, 80, 93]'),\n",
       " Text(212.04, 54.359999999999985, 'X[0] <= 37.845\\ngini = 0.551\\nsamples = 100\\nvalue = [10, 32, 58]'),\n",
       " Text(206.46, 18.119999999999976, '\\n  (...)  \\n'),\n",
       " Text(217.62, 18.119999999999976, '\\n  (...)  \\n'),\n",
       " Text(234.36, 54.359999999999985, 'X[3] <= 101.826\\ngini = 0.656\\nsamples = 115\\nvalue = [32, 48, 35]'),\n",
       " Text(228.78, 18.119999999999976, '\\n  (...)  \\n'),\n",
       " Text(239.94, 18.119999999999976, '\\n  (...)  \\n'),\n",
       " Text(290.16, 126.83999999999999, 'X[0] <= 9.85\\ngini = 0.511\\nsamples = 468\\nvalue = [48, 119, 301]'),\n",
       " Text(267.84000000000003, 90.6, 'X[5] <= 8.957\\ngini = 0.584\\nsamples = 44\\nvalue = [9, 25, 10]'),\n",
       " Text(256.68, 54.359999999999985, 'X[3] <= 100.506\\ngini = 0.489\\nsamples = 37\\nvalue = [7, 25, 5]'),\n",
       " Text(251.1, 18.119999999999976, '\\n  (...)  \\n'),\n",
       " Text(262.26, 18.119999999999976, '\\n  (...)  \\n'),\n",
       " Text(279.0, 54.359999999999985, 'X[2] <= 98478780.0\\ngini = 0.408\\nsamples = 7\\nvalue = [2, 0, 5]'),\n",
       " Text(273.42, 18.119999999999976, '\\n  (...)  \\n'),\n",
       " Text(284.58, 18.119999999999976, '\\n  (...)  \\n'),\n",
       " Text(312.48, 90.6, 'X[2] <= 27158699.0\\ngini = 0.471\\nsamples = 424\\nvalue = [39, 94, 291]'),\n",
       " Text(301.32, 54.359999999999985, 'X[0] <= 22.769\\ngini = 0.611\\nsamples = 108\\nvalue = [17, 38, 53]'),\n",
       " Text(295.74, 18.119999999999976, '\\n  (...)  \\n'),\n",
       " Text(306.9, 18.119999999999976, '\\n  (...)  \\n'),\n",
       " Text(323.64, 54.359999999999985, 'X[5] <= 29.263\\ngini = 0.396\\nsamples = 316\\nvalue = [22, 56, 238]'),\n",
       " Text(318.06, 18.119999999999976, '\\n  (...)  \\n'),\n",
       " Text(329.22, 18.119999999999976, '\\n  (...)  \\n')]"
      ]
     },
     "execution_count": 433,
     "metadata": {},
     "output_type": "execute_result"
    },
    {
     "data": {
      "image/png": "[encoded data removed]",
      "text/plain": [
       "<Figure size 432x288 with 1 Axes>"
      ]
     },
     "metadata": {
      "needs_background": "light"
     },
     "output_type": "display_data"
    }
   ],
   "source": [
    "tree.plot_tree(clf, max_depth= 4, fontsize= 6)"
   ]
  },
  {
   "cell_type": "code",
   "execution_count": 419,
   "metadata": {},
   "outputs": [
    {
     "name": "stdout",
     "output_type": "stream",
     "text": [
      "|--- SP.URB.TOTL <= 16276427.00\n",
      "|   |--- SP.URB.TOTL <= 1630787.50\n",
      "|   |   |--- Year <= 1999.50\n",
      "|   |   |   |--- Density <= 24.66\n",
      "|   |   |   |   |--- TerritoryDefense <= 118.83\n",
      "|   |   |   |   |   |--- SP.URB.TOTL <= 211032.50\n",
      "|   |   |   |   |   |   |--- class: 1.0\n",
      "|   |   |   |   |   |--- SP.URB.TOTL >  211032.50\n",
      "|   |   |   |   |   |   |--- SP.URB.TOTL <= 1580282.00\n",
      "|   |   |   |   |   |   |   |--- class: 0.0\n",
      "|   |   |   |   |   |   |--- SP.URB.TOTL >  1580282.00\n",
      "|   |   |   |   |   |   |   |--- class: 0.0\n",
      "|   |   |   |   |--- TerritoryDefense >  118.83\n",
      "|   |   |   |   |   |--- Year <= 1972.50\n",
      "|   |   |   |   |   |   |--- class: 1.0\n",
      "|   |   |   |   |   |--- Year >  1972.50\n",
      "|   |   |   |   |   |   |--- Year <= 1976.50\n",
      "|   |   |   |   |   |   |   |--- class: 0.0\n",
      "|   |   |   |   |   |   |--- Year >  1976.50\n",
      "|   |   |   |   |   |   |   |--- class: 0.0\n",
      "|   |   |   |--- Density >  24.66\n",
      "|   |   |   |   |--- PopulationDefense <= 31.65\n",
      "|   |   |   |   |   |--- SP.URB.TOTL <= 1196759.50\n",
      "|   |   |   |   |   |   |--- Density <= 25.99\n",
      "|   |   |   |   |   |   |   |--- class: 1.0\n",
      "|   |   |   |   |   |   |--- Density >  25.99\n",
      "|   |   |   |   |   |   |   |--- class: 0.0\n",
      "|   |   |   |   |   |--- SP.URB.TOTL >  1196759.50\n",
      "|   |   |   |   |   |   |--- SP.DYN.CBRT.IN <= 28.82\n",
      "|   |   |   |   |   |   |   |--- class: 0.0\n",
      "|   |   |   |   |   |   |--- SP.DYN.CBRT.IN >  28.82\n",
      "|   |   |   |   |   |   |   |--- class: 1.0\n",
      "|   |   |   |   |--- PopulationDefense >  31.65\n",
      "|   |   |   |   |   |--- PopulationDefense <= 490.55\n",
      "|   |   |   |   |   |   |--- Density <= 216.12\n",
      "|   |   |   |   |   |   |   |--- class: 1.0\n",
      "|   |   |   |   |   |   |--- Density >  216.12\n",
      "|   |   |   |   |   |   |   |--- class: 2.0\n",
      "|   |   |   |   |   |--- PopulationDefense >  490.55\n",
      "|   |   |   |   |   |   |--- SP.DYN.CBRT.IN <= 35.11\n",
      "|   |   |   |   |   |   |   |--- class: 0.0\n",
      "|   |   |   |   |   |   |--- SP.DYN.CBRT.IN >  35.11\n",
      "|   |   |   |   |   |   |   |--- class: 0.0\n",
      "|   |   |--- Year >  1999.50\n",
      "|   |   |   |--- SP.DYN.CBRT.IN <= 41.86\n",
      "|   |   |   |   |--- Density <= 1996.57\n",
      "|   |   |   |   |   |--- Density <= 2.66\n",
      "|   |   |   |   |   |   |--- class: 1.0\n",
      "|   |   |   |   |   |--- Density >  2.66\n",
      "|   |   |   |   |   |   |--- PopulationDefense <= 0.28\n",
      "|   |   |   |   |   |   |   |--- class: 1.0\n",
      "|   |   |   |   |   |   |--- PopulationDefense >  0.28\n",
      "|   |   |   |   |   |   |   |--- class: 0.0\n",
      "|   |   |   |   |--- Density >  1996.57\n",
      "|   |   |   |   |   |--- class: 2.0\n",
      "|   |   |   |--- SP.DYN.CBRT.IN >  41.86\n",
      "|   |   |   |   |--- SP.URB.TOTL <= 679747.50\n",
      "|   |   |   |   |   |--- class: 2.0\n",
      "|   |   |   |   |--- SP.URB.TOTL >  679747.50\n",
      "|   |   |   |   |   |--- TerritoryDefense <= 965.87\n",
      "|   |   |   |   |   |   |--- class: 2.0\n",
      "|   |   |   |   |   |--- TerritoryDefense >  965.87\n",
      "|   |   |   |   |   |   |--- SP.URB.TOTL <= 722013.50\n",
      "|   |   |   |   |   |   |   |--- class: 0.0\n",
      "|   |   |   |   |   |   |--- SP.URB.TOTL >  722013.50\n",
      "|   |   |   |   |   |   |   |--- class: 1.0\n",
      "|   |--- SP.URB.TOTL >  1630787.50\n",
      "|   |   |--- Density <= 160.49\n",
      "|   |   |   |--- Year <= 1997.50\n",
      "|   |   |   |   |--- TerritoryDefense <= 89.54\n",
      "|   |   |   |   |   |--- SP.URB.TOTL <= 2241728.00\n",
      "|   |   |   |   |   |   |--- SP.URB.TOTL <= 1687206.00\n",
      "|   |   |   |   |   |   |   |--- class: 2.0\n",
      "|   |   |   |   |   |   |--- SP.URB.TOTL >  1687206.00\n",
      "|   |   |   |   |   |   |   |--- class: 0.0\n",
      "|   |   |   |   |   |--- SP.URB.TOTL >  2241728.00\n",
      "|   |   |   |   |   |   |--- PopulationDefense <= 100.97\n",
      "|   |   |   |   |   |   |   |--- class: 1.0\n",
      "|   |   |   |   |   |   |--- PopulationDefense >  100.97\n",
      "|   |   |   |   |   |   |   |--- class: 0.0\n",
      "|   |   |   |   |--- TerritoryDefense >  89.54\n",
      "|   |   |   |   |   |--- SP.DYN.CBRT.IN <= 18.97\n",
      "|   |   |   |   |   |   |--- TerritoryDefense <= 6158.85\n",
      "|   |   |   |   |   |   |   |--- class: 0.0\n",
      "|   |   |   |   |   |   |--- TerritoryDefense >  6158.85\n",
      "|   |   |   |   |   |   |   |--- class: 1.0\n",
      "|   |   |   |   |   |--- SP.DYN.CBRT.IN >  18.97\n",
      "|   |   |   |   |   |   |--- Year <= 1978.50\n",
      "|   |   |   |   |   |   |   |--- class: 1.0\n",
      "|   |   |   |   |   |   |--- Year >  1978.50\n",
      "|   |   |   |   |   |   |   |--- class: 1.0\n",
      "|   |   |   |--- Year >  1997.50\n",
      "|   |   |   |   |--- SP.DYN.CBRT.IN <= 43.87\n",
      "|   |   |   |   |   |--- SP.URB.TOTL <= 7785090.50\n",
      "|   |   |   |   |   |   |--- SP.URB.TOTL <= 2389713.50\n",
      "|   |   |   |   |   |   |   |--- class: 1.0\n",
      "|   |   |   |   |   |   |--- SP.URB.TOTL >  2389713.50\n",
      "|   |   |   |   |   |   |   |--- class: 0.0\n",
      "|   |   |   |   |   |--- SP.URB.TOTL >  7785090.50\n",
      "|   |   |   |   |   |   |--- SP.DYN.CBRT.IN <= 10.99\n",
      "|   |   |   |   |   |   |   |--- class: 2.0\n",
      "|   |   |   |   |   |   |--- SP.DYN.CBRT.IN >  10.99\n",
      "|   |   |   |   |   |   |   |--- class: 1.0\n",
      "|   |   |   |   |--- SP.DYN.CBRT.IN >  43.87\n",
      "|   |   |   |   |   |--- Density <= 14.19\n",
      "|   |   |   |   |   |   |--- SP.DYN.CBRT.IN <= 50.73\n",
      "|   |   |   |   |   |   |   |--- class: 1.0\n",
      "|   |   |   |   |   |   |--- SP.DYN.CBRT.IN >  50.73\n",
      "|   |   |   |   |   |   |   |--- class: 2.0\n",
      "|   |   |   |   |   |--- Density >  14.19\n",
      "|   |   |   |   |   |   |--- SP.URB.TOTL <= 3334349.50\n",
      "|   |   |   |   |   |   |   |--- class: 2.0\n",
      "|   |   |   |   |   |   |--- SP.URB.TOTL >  3334349.50\n",
      "|   |   |   |   |   |   |   |--- class: 1.0\n",
      "|   |   |--- Density >  160.49\n",
      "|   |   |   |--- Density <= 311.94\n",
      "|   |   |   |   |--- SP.DYN.CBRT.IN <= 18.30\n",
      "|   |   |   |   |   |--- TerritoryDefense <= 99230.47\n",
      "|   |   |   |   |   |   |--- TerritoryDefense <= 72014.65\n",
      "|   |   |   |   |   |   |   |--- class: 1.0\n",
      "|   |   |   |   |   |   |--- TerritoryDefense >  72014.65\n",
      "|   |   |   |   |   |   |   |--- class: 0.0\n",
      "|   |   |   |   |   |--- TerritoryDefense >  99230.47\n",
      "|   |   |   |   |   |   |--- class: 1.0\n",
      "|   |   |   |   |--- SP.DYN.CBRT.IN >  18.30\n",
      "|   |   |   |   |   |--- SP.URB.TOTL <= 1868190.50\n",
      "|   |   |   |   |   |   |--- Year <= 1975.50\n",
      "|   |   |   |   |   |   |   |--- class: 1.0\n",
      "|   |   |   |   |   |   |--- Year >  1975.50\n",
      "|   |   |   |   |   |   |   |--- class: 1.0\n",
      "|   |   |   |   |   |--- SP.URB.TOTL >  1868190.50\n",
      "|   |   |   |   |   |   |--- SP.URB.TOTL <= 4678780.50\n",
      "|   |   |   |   |   |   |   |--- class: 2.0\n",
      "|   |   |   |   |   |   |--- SP.URB.TOTL >  4678780.50\n",
      "|   |   |   |   |   |   |   |--- class: 2.0\n",
      "|   |   |   |--- Density >  311.94\n",
      "|   |   |   |   |--- Density <= 475.92\n",
      "|   |   |   |   |   |--- SP.URB.TOTL <= 7371131.00\n",
      "|   |   |   |   |   |   |--- SP.URB.TOTL <= 3873576.00\n",
      "|   |   |   |   |   |   |   |--- class: 1.0\n",
      "|   |   |   |   |   |   |--- SP.URB.TOTL >  3873576.00\n",
      "|   |   |   |   |   |   |   |--- class: 2.0\n",
      "|   |   |   |   |   |--- SP.URB.TOTL >  7371131.00\n",
      "|   |   |   |   |   |   |--- Year <= 1996.50\n",
      "|   |   |   |   |   |   |   |--- class: 1.0\n",
      "|   |   |   |   |   |   |--- Year >  1996.50\n",
      "|   |   |   |   |   |   |   |--- class: 0.0\n",
      "|   |   |   |   |--- Density >  475.92\n",
      "|   |   |   |   |   |--- class: 0.0\n",
      "|--- SP.URB.TOTL >  16276427.00\n",
      "|   |--- TerritoryDefense <= 2505.92\n",
      "|   |   |--- SP.DYN.CBRT.IN <= 19.18\n",
      "|   |   |   |--- Year <= 2008.50\n",
      "|   |   |   |   |--- SP.DYN.CBRT.IN <= 8.62\n",
      "|   |   |   |   |   |--- class: 0.0\n",
      "|   |   |   |   |--- SP.DYN.CBRT.IN >  8.62\n",
      "|   |   |   |   |   |--- TerritoryDefense <= 1889.88\n",
      "|   |   |   |   |   |   |--- TerritoryDefense <= 1706.04\n",
      "|   |   |   |   |   |   |   |--- class: 1.0\n",
      "|   |   |   |   |   |   |--- TerritoryDefense >  1706.04\n",
      "|   |   |   |   |   |   |   |--- class: 0.0\n",
      "|   |   |   |   |   |--- TerritoryDefense >  1889.88\n",
      "|   |   |   |   |   |   |--- SP.DYN.CBRT.IN <= 17.61\n",
      "|   |   |   |   |   |   |   |--- class: 1.0\n",
      "|   |   |   |   |   |   |--- SP.DYN.CBRT.IN >  17.61\n",
      "|   |   |   |   |   |   |   |--- class: 0.0\n",
      "|   |   |   |--- Year >  2008.50\n",
      "|   |   |   |   |--- class: 0.0\n",
      "|   |   |--- SP.DYN.CBRT.IN >  19.18\n",
      "|   |   |   |--- SP.URB.TOTL <= 27977701.00\n",
      "|   |   |   |   |--- SP.DYN.CBRT.IN <= 37.85\n",
      "|   |   |   |   |   |--- Year <= 1997.50\n",
      "|   |   |   |   |   |   |--- Year <= 1971.50\n",
      "|   |   |   |   |   |   |   |--- class: 1.0\n",
      "|   |   |   |   |   |   |--- Year >  1971.50\n",
      "|   |   |   |   |   |   |   |--- class: 2.0\n",
      "|   |   |   |   |   |--- Year >  1997.50\n",
      "|   |   |   |   |   |   |--- Density <= 17.37\n",
      "|   |   |   |   |   |   |   |--- class: 2.0\n",
      "|   |   |   |   |   |   |--- Density >  17.37\n",
      "|   |   |   |   |   |   |   |--- class: 1.0\n",
      "|   |   |   |   |--- SP.DYN.CBRT.IN >  37.85\n",
      "|   |   |   |   |   |--- TerritoryDefense <= 997.80\n",
      "|   |   |   |   |   |   |--- class: 0.0\n",
      "|   |   |   |   |   |--- TerritoryDefense >  997.80\n",
      "|   |   |   |   |   |   |--- Year <= 1980.50\n",
      "|   |   |   |   |   |   |   |--- class: 0.0\n",
      "|   |   |   |   |   |   |--- Year >  1980.50\n",
      "|   |   |   |   |   |   |   |--- class: 1.0\n",
      "|   |   |   |--- SP.URB.TOTL >  27977701.00\n",
      "|   |   |   |   |--- Density <= 101.83\n",
      "|   |   |   |   |   |--- Year <= 1997.50\n",
      "|   |   |   |   |   |   |--- Year <= 1991.50\n",
      "|   |   |   |   |   |   |   |--- class: 1.0\n",
      "|   |   |   |   |   |   |--- Year >  1991.50\n",
      "|   |   |   |   |   |   |   |--- class: 2.0\n",
      "|   |   |   |   |   |--- Year >  1997.50\n",
      "|   |   |   |   |   |   |--- TerritoryDefense <= 1664.97\n",
      "|   |   |   |   |   |   |   |--- class: 0.0\n",
      "|   |   |   |   |   |   |--- TerritoryDefense >  1664.97\n",
      "|   |   |   |   |   |   |   |--- class: 1.0\n",
      "|   |   |   |   |--- Density >  101.83\n",
      "|   |   |   |   |   |--- SP.URB.TOTL <= 55898616.00\n",
      "|   |   |   |   |   |   |--- TerritoryDefense <= 1107.74\n",
      "|   |   |   |   |   |   |   |--- class: 1.0\n",
      "|   |   |   |   |   |   |--- TerritoryDefense >  1107.74\n",
      "|   |   |   |   |   |   |   |--- class: 0.0\n",
      "|   |   |   |   |   |--- SP.URB.TOTL >  55898616.00\n",
      "|   |   |   |   |   |   |--- Year <= 1978.00\n",
      "|   |   |   |   |   |   |   |--- class: 0.0\n",
      "|   |   |   |   |   |   |--- Year >  1978.00\n",
      "|   |   |   |   |   |   |   |--- class: 2.0\n",
      "|   |--- TerritoryDefense >  2505.92\n",
      "|   |   |--- SP.DYN.CBRT.IN <= 9.85\n",
      "|   |   |   |--- PopulationDefense <= 8.96\n",
      "|   |   |   |   |--- Density <= 100.51\n",
      "|   |   |   |   |   |--- class: 2.0\n",
      "|   |   |   |   |--- Density >  100.51\n",
      "|   |   |   |   |   |--- SP.URB.TOTL <= 102880752.00\n",
      "|   |   |   |   |   |   |--- Year <= 1996.50\n",
      "|   |   |   |   |   |   |   |--- class: 1.0\n",
      "|   |   |   |   |   |   |--- Year >  1996.50\n",
      "|   |   |   |   |   |   |   |--- class: 1.0\n",
      "|   |   |   |   |   |--- SP.URB.TOTL >  102880752.00\n",
      "|   |   |   |   |   |   |--- Density <= 338.92\n",
      "|   |   |   |   |   |   |   |--- class: 0.0\n",
      "|   |   |   |   |   |   |--- Density >  338.92\n",
      "|   |   |   |   |   |   |   |--- class: 1.0\n",
      "|   |   |   |--- PopulationDefense >  8.96\n",
      "|   |   |   |   |--- SP.URB.TOTL <= 98478780.00\n",
      "|   |   |   |   |   |--- class: 2.0\n",
      "|   |   |   |   |--- SP.URB.TOTL >  98478780.00\n",
      "|   |   |   |   |   |--- class: 0.0\n",
      "|   |   |--- SP.DYN.CBRT.IN >  9.85\n",
      "|   |   |   |--- SP.URB.TOTL <= 27158699.00\n",
      "|   |   |   |   |--- SP.DYN.CBRT.IN <= 22.77\n",
      "|   |   |   |   |   |--- PopulationDefense <= 20.70\n",
      "|   |   |   |   |   |   |--- SP.URB.TOTL <= 24466927.00\n",
      "|   |   |   |   |   |   |   |--- class: 1.0\n",
      "|   |   |   |   |   |   |--- SP.URB.TOTL >  24466927.00\n",
      "|   |   |   |   |   |   |   |--- class: 2.0\n",
      "|   |   |   |   |   |--- PopulationDefense >  20.70\n",
      "|   |   |   |   |   |   |--- TerritoryDefense <= 4473.85\n",
      "|   |   |   |   |   |   |   |--- class: 2.0\n",
      "|   |   |   |   |   |   |--- TerritoryDefense >  4473.85\n",
      "|   |   |   |   |   |   |   |--- class: 0.0\n",
      "|   |   |   |   |--- SP.DYN.CBRT.IN >  22.77\n",
      "|   |   |   |   |   |--- PopulationDefense <= 2.15\n",
      "|   |   |   |   |   |   |--- class: 2.0\n",
      "|   |   |   |   |   |--- PopulationDefense >  2.15\n",
      "|   |   |   |   |   |   |--- Year <= 2002.50\n",
      "|   |   |   |   |   |   |   |--- class: 1.0\n",
      "|   |   |   |   |   |   |--- Year >  2002.50\n",
      "|   |   |   |   |   |   |   |--- class: 2.0\n",
      "|   |   |   |--- SP.URB.TOTL >  27158699.00\n",
      "|   |   |   |   |--- PopulationDefense <= 29.26\n",
      "|   |   |   |   |   |--- SP.URB.TOTL <= 440565104.00\n",
      "|   |   |   |   |   |   |--- Year <= 1975.50\n",
      "|   |   |   |   |   |   |   |--- class: 2.0\n",
      "|   |   |   |   |   |   |--- Year >  1975.50\n",
      "|   |   |   |   |   |   |   |--- class: 2.0\n",
      "|   |   |   |   |   |--- SP.URB.TOTL >  440565104.00\n",
      "|   |   |   |   |   |   |--- PopulationDefense <= 2.18\n",
      "|   |   |   |   |   |   |   |--- class: 1.0\n",
      "|   |   |   |   |   |   |--- PopulationDefense >  2.18\n",
      "|   |   |   |   |   |   |   |--- class: 0.0\n",
      "|   |   |   |   |--- PopulationDefense >  29.26\n",
      "|   |   |   |   |   |--- SP.DYN.CBRT.IN <= 17.20\n",
      "|   |   |   |   |   |   |--- class: 0.0\n",
      "|   |   |   |   |   |--- SP.DYN.CBRT.IN >  17.20\n",
      "|   |   |   |   |   |   |--- class: 2.0\n",
      "\n"
     ]
    }
   ],
   "source": [
    "from sklearn.tree import export_text\n",
    "\n",
    "data = df_class.loc[:, df_std.columns != 'cnt']\n",
    "data_features = list(data.columns.values)\n",
    "r = export_text(clf, feature_names= data_features)\n",
    "print(r)"
   ]
  },
  {
   "cell_type": "code",
   "execution_count": 434,
   "metadata": {},
   "outputs": [
    {
     "name": "stdout",
     "output_type": "stream",
     "text": [
      "[0.16421911 0.11149555 0.38641677 0.15949827 0.10144373 0.07692658]\n",
      "['SP.DYN.CBRT.IN', 'Year', 'SP.URB.TOTL', 'Density', 'TerritoryDefense', 'PopulationDefense']\n"
     ]
    }
   ],
   "source": [
    "x= clf.feature_importances_\n",
    "print(x)\n",
    "print(data_features)"
   ]
  },
  {
   "cell_type": "markdown",
   "metadata": {},
   "source": [
    "The results are quite better than the regression case."
   ]
  },
  {
   "cell_type": "code",
   "execution_count": 80,
   "metadata": {},
   "outputs": [
    {
     "data": {
      "text/plain": [
       "array([[439, 261,  69],\n",
       "       [230, 426, 133],\n",
       "       [ 65, 144, 477]])"
      ]
     },
     "execution_count": 80,
     "metadata": {},
     "output_type": "execute_result"
    }
   ],
   "source": [
    "from sklearn.metrics import confusion_matrix\n",
    "\n",
    "confusion_matrix(y_train, y_pred_train)"
   ]
  },
  {
   "cell_type": "code",
   "execution_count": 81,
   "metadata": {},
   "outputs": [
    {
     "data": {
      "text/plain": [
       "array([[108,  71,  21],\n",
       "       [ 48,  97,  35],\n",
       "       [ 17,  41, 124]])"
      ]
     },
     "execution_count": 81,
     "metadata": {},
     "output_type": "execute_result"
    }
   ],
   "source": [
    "confusion_matrix(y_test, y_pred_test)"
   ]
  },
  {
   "cell_type": "markdown",
   "metadata": {},
   "source": [
    "##### We try to compare our classifier with a classifier that chooses randomly the class. 2364 training samples, 592 testing samples."
   ]
  },
  {
   "cell_type": "code",
   "execution_count": 82,
   "metadata": {},
   "outputs": [
    {
     "name": "stdout",
     "output_type": "stream",
     "text": [
      "train accuracy:  0.339572192513369\n",
      "test accuracy:  0.3185053380782918\n"
     ]
    }
   ],
   "source": [
    "np.random.seed(5)\n",
    "\n",
    "y_pred_train = np.random.randint(0,3,size=2244)\n",
    "print('train accuracy: ', accuracy_score(y_train, y_pred_train))\n",
    "\n",
    "y_pred_test = np.random.randint(0,3,size=562)\n",
    "print('test accuracy: ', accuracy_score(y_test, y_pred_test))"
   ]
  },
  {
   "cell_type": "code",
   "execution_count": 83,
   "metadata": {},
   "outputs": [
    {
     "data": {
      "text/plain": [
       "array([[64, 66, 70],\n",
       "       [64, 65, 51],\n",
       "       [71, 61, 50]])"
      ]
     },
     "execution_count": 83,
     "metadata": {},
     "output_type": "execute_result"
    }
   ],
   "source": [
    "from sklearn.metrics import confusion_matrix\n",
    "\n",
    "confusion_matrix(y_test, y_pred_test)"
   ]
  },
  {
   "cell_type": "markdown",
   "metadata": {},
   "source": [
    "# Some conclusions"
   ]
  },
  {
   "cell_type": "markdown",
   "metadata": {},
   "source": [
    "Let's check the importance of the features considered to explain the phenomenon"
   ]
  },
  {
   "cell_type": "code",
   "execution_count": 84,
   "metadata": {},
   "outputs": [
    {
     "name": "stdout",
     "output_type": "stream",
     "text": [
      "Coefficients: \n",
      "SP.DYN.CBRT.IN        7.165733\n",
      "Year                 12.051524\n",
      "SP.URB.TOTL          15.812951\n",
      "Density               3.040962\n",
      "TerritoryDefense     -0.861661\n",
      "PopulationDefense    -5.430345\n",
      "dtype: float64\n"
     ]
    }
   ],
   "source": [
    "print('Coefficients: ')\n",
    "print(coefficients)"
   ]
  },
  {
   "cell_type": "code",
   "execution_count": 85,
   "metadata": {},
   "outputs": [
    {
     "data": {
      "image/png": "[encoded data removed]",
      "text/plain": [
       "<Figure size 432x288 with 1 Axes>"
      ]
     },
     "metadata": {
      "needs_background": "light"
     },
     "output_type": "display_data"
    }
   ],
   "source": [
    "coefficients.plot(kind=\"bar\").grid()"
   ]
  },
  {
   "cell_type": "markdown",
   "metadata": {},
   "source": [
    "As we expected from the preliminary analysis, in the last years terroristic attacks have increased; in particoular, from this plot we can also confirm that the <strong>Year</strong> has an important role in this scenario. <br><br>\n",
    "More evident is the influence of <strong>SP.URB.TOTL</strong>, an index about the Urban Population: the more it is, the more the attacks. <br>\n",
    "On the other hand, we have a strong negative influence from the <strong>PopulationDefense</strong> feature; reasonably, the more the defense, the less the number of attacks.\n",
    "Let's go deeper in detail in these 2 directions."
   ]
  },
  {
   "cell_type": "markdown",
   "metadata": {},
   "source": [
    "Mean of all features and output <strong>from 1990 (included) until 2018</strong>."
   ]
  },
  {
   "cell_type": "code",
   "execution_count": 86,
   "metadata": {},
   "outputs": [
    {
     "data": {
      "text/html": [
       "<div>\n",
       "<style scoped>\n",
       "    .dataframe tbody tr th:only-of-type {\n",
       "        vertical-align: middle;\n",
       "    }\n",
       "\n",
       "    .dataframe tbody tr th {\n",
       "        vertical-align: top;\n",
       "    }\n",
       "\n",
       "    .dataframe thead th {\n",
       "        text-align: right;\n",
       "    }\n",
       "</style>\n",
       "<table border=\"1\" class=\"dataframe\">\n",
       "  <thead>\n",
       "    <tr style=\"text-align: right;\">\n",
       "      <th></th>\n",
       "      <th>SP.DYN.CBRT.IN</th>\n",
       "      <th>SP.URB.TOTL</th>\n",
       "      <th>Density</th>\n",
       "      <th>cnt</th>\n",
       "      <th>TerritoryDefense</th>\n",
       "      <th>PopulationDefense</th>\n",
       "    </tr>\n",
       "    <tr>\n",
       "      <th>CountryCode</th>\n",
       "      <th></th>\n",
       "      <th></th>\n",
       "      <th></th>\n",
       "      <th></th>\n",
       "      <th></th>\n",
       "      <th></th>\n",
       "    </tr>\n",
       "  </thead>\n",
       "  <tbody>\n",
       "    <tr>\n",
       "      <th>ABW</th>\n",
       "      <td>14.075208</td>\n",
       "      <td>4.126025e+04</td>\n",
       "      <td>465.811744</td>\n",
       "      <td>0.000000</td>\n",
       "      <td>1.167154e+08</td>\n",
       "      <td>20190.302938</td>\n",
       "    </tr>\n",
       "    <tr>\n",
       "      <th>AFG</th>\n",
       "      <td>45.270125</td>\n",
       "      <td>4.800440e+06</td>\n",
       "      <td>33.027058</td>\n",
       "      <td>246.750000</td>\n",
       "      <td>2.043345e+04</td>\n",
       "      <td>31.097411</td>\n",
       "    </tr>\n",
       "    <tr>\n",
       "      <th>AGO</th>\n",
       "      <td>50.182292</td>\n",
       "      <td>5.729064e+06</td>\n",
       "      <td>13.182071</td>\n",
       "      <td>17.750000</td>\n",
       "      <td>1.342397e+03</td>\n",
       "      <td>30.439836</td>\n",
       "    </tr>\n",
       "    <tr>\n",
       "      <th>ALB</th>\n",
       "      <td>17.924417</td>\n",
       "      <td>1.354789e+06</td>\n",
       "      <td>106.830482</td>\n",
       "      <td>2.916667</td>\n",
       "      <td>6.861392e+04</td>\n",
       "      <td>304.666177</td>\n",
       "    </tr>\n",
       "    <tr>\n",
       "      <th>ARE</th>\n",
       "      <td>16.529375</td>\n",
       "      <td>3.627165e+06</td>\n",
       "      <td>53.154304</td>\n",
       "      <td>0.250000</td>\n",
       "      <td>1.638169e+05</td>\n",
       "      <td>305.066290</td>\n",
       "    </tr>\n",
       "  </tbody>\n",
       "</table>\n",
       "</div>"
      ],
      "text/plain": [
       "             SP.DYN.CBRT.IN   SP.URB.TOTL     Density         cnt  \\\n",
       "CountryCode                                                         \n",
       "ABW               14.075208  4.126025e+04  465.811744    0.000000   \n",
       "AFG               45.270125  4.800440e+06   33.027058  246.750000   \n",
       "AGO               50.182292  5.729064e+06   13.182071   17.750000   \n",
       "ALB               17.924417  1.354789e+06  106.830482    2.916667   \n",
       "ARE               16.529375  3.627165e+06   53.154304    0.250000   \n",
       "\n",
       "             TerritoryDefense  PopulationDefense  \n",
       "CountryCode                                       \n",
       "ABW              1.167154e+08       20190.302938  \n",
       "AFG              2.043345e+04          31.097411  \n",
       "AGO              1.342397e+03          30.439836  \n",
       "ALB              6.861392e+04         304.666177  \n",
       "ARE              1.638169e+05         305.066290  "
      ]
     },
     "execution_count": 86,
     "metadata": {},
     "output_type": "execute_result"
    }
   ],
   "source": [
    "df = pd.read_csv('./part/DF1sthypTOT')\n",
    "df['TerritoryDefense'] = df['MilitaryExp'] / df['Area (sq. mi.)']\n",
    "df['PopulationDefense'] = df['MS.MIL.MPRT.KD'] / df['Population']\n",
    "del df['Area (sq. mi.)']\n",
    "del df['Population']\n",
    "del df['SP.RUR.TOTL']\n",
    "del df['SP.DYN.AMRT.FE']\n",
    "del df['SP.DYN.AMRT.MA']\n",
    "del df['SP.DYN.LE00.IN']\n",
    "del df['MilitaryExp']\n",
    "del df['MS.MIL.MPRT.KD']\n",
    "\n",
    "df2 = df[df['Year']>1989]\n",
    "df3 = df2.groupby(['CountryCode', 'Year']).mean()\n",
    "df4 = df3.groupby(['CountryCode']).mean()\n",
    "df4.head(5)"
   ]
  },
  {
   "cell_type": "markdown",
   "metadata": {},
   "source": [
    "Let's take a look to the <strong>global mean</strong> for the Urban Population and the Population Defense.<br>\n",
    "<i>Reminder:</i> the calculus is performed on the last 30 years."
   ]
  },
  {
   "cell_type": "code",
   "execution_count": 87,
   "metadata": {},
   "outputs": [
    {
     "data": {
      "text/plain": [
       "SP.URB.TOTL          1.699892e+07\n",
       "PopulationDefense    1.189803e+03\n",
       "dtype: float64"
      ]
     },
     "execution_count": 87,
     "metadata": {},
     "output_type": "execute_result"
    }
   ],
   "source": [
    "df5 = df4[['SP.URB.TOTL', 'PopulationDefense']]\n",
    "df5.mean()"
   ]
  },
  {
   "cell_type": "markdown",
   "metadata": {},
   "source": [
    "Now let's check the features of the top 10 attacked countries, focusing in particoular on <strong>SP.URB.TOTL</strong> and <strong>PopulationDefense</strong> columns."
   ]
  },
  {
   "cell_type": "code",
   "execution_count": 88,
   "metadata": {},
   "outputs": [
    {
     "data": {
      "text/html": [
       "<div>\n",
       "<style scoped>\n",
       "    .dataframe tbody tr th:only-of-type {\n",
       "        vertical-align: middle;\n",
       "    }\n",
       "\n",
       "    .dataframe tbody tr th {\n",
       "        vertical-align: top;\n",
       "    }\n",
       "\n",
       "    .dataframe thead th {\n",
       "        text-align: right;\n",
       "    }\n",
       "</style>\n",
       "<table border=\"1\" class=\"dataframe\">\n",
       "  <thead>\n",
       "    <tr style=\"text-align: right;\">\n",
       "      <th></th>\n",
       "      <th>SP.DYN.CBRT.IN</th>\n",
       "      <th>SP.URB.TOTL</th>\n",
       "      <th>Density</th>\n",
       "      <th>cnt</th>\n",
       "      <th>TerritoryDefense</th>\n",
       "      <th>PopulationDefense</th>\n",
       "    </tr>\n",
       "    <tr>\n",
       "      <th>CountryCode</th>\n",
       "      <th></th>\n",
       "      <th></th>\n",
       "      <th></th>\n",
       "      <th></th>\n",
       "      <th></th>\n",
       "      <th></th>\n",
       "    </tr>\n",
       "  </thead>\n",
       "  <tbody>\n",
       "    <tr>\n",
       "      <th>IRQ</th>\n",
       "      <td>34.994208</td>\n",
       "      <td>1.711945e+07</td>\n",
       "      <td>56.862475</td>\n",
       "      <td>503.750000</td>\n",
       "      <td>33044.828923</td>\n",
       "      <td>35.994821</td>\n",
       "    </tr>\n",
       "    <tr>\n",
       "      <th>PAK</th>\n",
       "      <td>32.975792</td>\n",
       "      <td>4.890557e+07</td>\n",
       "      <td>178.040131</td>\n",
       "      <td>382.416667</td>\n",
       "      <td>5344.640696</td>\n",
       "      <td>4.505080</td>\n",
       "    </tr>\n",
       "    <tr>\n",
       "      <th>IND</th>\n",
       "      <td>25.751458</td>\n",
       "      <td>3.088398e+08</td>\n",
       "      <td>328.143591</td>\n",
       "      <td>290.541667</td>\n",
       "      <td>6576.190834</td>\n",
       "      <td>1.841075</td>\n",
       "    </tr>\n",
       "    <tr>\n",
       "      <th>AFG</th>\n",
       "      <td>45.270125</td>\n",
       "      <td>4.800440e+06</td>\n",
       "      <td>33.027058</td>\n",
       "      <td>246.750000</td>\n",
       "      <td>20433.452767</td>\n",
       "      <td>31.097411</td>\n",
       "    </tr>\n",
       "    <tr>\n",
       "      <th>COL</th>\n",
       "      <td>20.693250</td>\n",
       "      <td>2.987639e+07</td>\n",
       "      <td>36.114905</td>\n",
       "      <td>180.958333</td>\n",
       "      <td>4390.780180</td>\n",
       "      <td>2.738396</td>\n",
       "    </tr>\n",
       "    <tr>\n",
       "      <th>PHL</th>\n",
       "      <td>28.514000</td>\n",
       "      <td>3.759599e+07</td>\n",
       "      <td>267.063261</td>\n",
       "      <td>134.333333</td>\n",
       "      <td>5582.879591</td>\n",
       "      <td>1.688674</td>\n",
       "    </tr>\n",
       "    <tr>\n",
       "      <th>DZA</th>\n",
       "      <td>23.665167</td>\n",
       "      <td>1.962812e+07</td>\n",
       "      <td>13.382202</td>\n",
       "      <td>111.958333</td>\n",
       "      <td>1375.437107</td>\n",
       "      <td>14.218252</td>\n",
       "    </tr>\n",
       "    <tr>\n",
       "      <th>THA</th>\n",
       "      <td>14.426667</td>\n",
       "      <td>2.264547e+07</td>\n",
       "      <td>122.528914</td>\n",
       "      <td>105.833333</td>\n",
       "      <td>6324.666811</td>\n",
       "      <td>4.076309</td>\n",
       "    </tr>\n",
       "    <tr>\n",
       "      <th>TUR</th>\n",
       "      <td>20.983083</td>\n",
       "      <td>4.271211e+07</td>\n",
       "      <td>82.680395</td>\n",
       "      <td>92.875000</td>\n",
       "      <td>14077.276988</td>\n",
       "      <td>16.395897</td>\n",
       "    </tr>\n",
       "    <tr>\n",
       "      <th>PER</th>\n",
       "      <td>24.164833</td>\n",
       "      <td>1.944309e+07</td>\n",
       "      <td>20.491363</td>\n",
       "      <td>75.875000</td>\n",
       "      <td>1067.118395</td>\n",
       "      <td>5.449294</td>\n",
       "    </tr>\n",
       "  </tbody>\n",
       "</table>\n",
       "</div>"
      ],
      "text/plain": [
       "             SP.DYN.CBRT.IN   SP.URB.TOTL     Density         cnt  \\\n",
       "CountryCode                                                         \n",
       "IRQ               34.994208  1.711945e+07   56.862475  503.750000   \n",
       "PAK               32.975792  4.890557e+07  178.040131  382.416667   \n",
       "IND               25.751458  3.088398e+08  328.143591  290.541667   \n",
       "AFG               45.270125  4.800440e+06   33.027058  246.750000   \n",
       "COL               20.693250  2.987639e+07   36.114905  180.958333   \n",
       "PHL               28.514000  3.759599e+07  267.063261  134.333333   \n",
       "DZA               23.665167  1.962812e+07   13.382202  111.958333   \n",
       "THA               14.426667  2.264547e+07  122.528914  105.833333   \n",
       "TUR               20.983083  4.271211e+07   82.680395   92.875000   \n",
       "PER               24.164833  1.944309e+07   20.491363   75.875000   \n",
       "\n",
       "             TerritoryDefense  PopulationDefense  \n",
       "CountryCode                                       \n",
       "IRQ              33044.828923          35.994821  \n",
       "PAK               5344.640696           4.505080  \n",
       "IND               6576.190834           1.841075  \n",
       "AFG              20433.452767          31.097411  \n",
       "COL               4390.780180           2.738396  \n",
       "PHL               5582.879591           1.688674  \n",
       "DZA               1375.437107          14.218252  \n",
       "THA               6324.666811           4.076309  \n",
       "TUR              14077.276988          16.395897  \n",
       "PER               1067.118395           5.449294  "
      ]
     },
     "execution_count": 88,
     "metadata": {},
     "output_type": "execute_result"
    }
   ],
   "source": [
    "df4.sort_values(['cnt'], ascending=False).head(10)"
   ]
  },
  {
   "cell_type": "markdown",
   "metadata": {},
   "source": [
    "We can see that the Urban Population for these countries is usually higher than the average, while the Population Defense is heavily lower. <br>\n",
    "Let's take a graphical view of the top 5 attacked countries: \n",
    "- Iraq\n",
    "- Pakistan\n",
    "- India \n",
    "- Afghanistan \n",
    "- Colombia"
   ]
  },
  {
   "cell_type": "markdown",
   "metadata": {},
   "source": [
    "Let's start from the <strong>Urban Population</strong> (where the red line is the mean value)."
   ]
  },
  {
   "cell_type": "code",
   "execution_count": 89,
   "metadata": {},
   "outputs": [
    {
     "data": {
      "image/png": "[encoded data removed]",
      "text/plain": [
       "<Figure size 432x288 with 1 Axes>"
      ]
     },
     "metadata": {
      "needs_background": "light"
     },
     "output_type": "display_data"
    }
   ],
   "source": [
    "import matplotlib.pyplot as plt\n",
    "\n",
    "pop_def = []\n",
    "m_value = df5['SP.URB.TOTL'].mean()\n",
    "plt.axhline(y=m_value, color='r', linestyle='-', label='Mean')\n",
    "y = df4['SP.URB.TOTL']\n",
    "pop_def.append(y.loc['IRQ'])\n",
    "pop_def.append(y.loc['PAK'])\n",
    "pop_def.append(y.loc['IND'])\n",
    "pop_def.append(y.loc['AFG'])\n",
    "pop_def.append(y.loc['COL'])\n",
    "plt.bar([1,2,3,4,5],pop_def, tick_label=['Iraq', 'Pakistan', 'India', 'Afghanistan', 'Colombia'])\n",
    "plt.ylabel('Urban Population')\n",
    "plt.grid()\n",
    "plt.show()"
   ]
  },
  {
   "cell_type": "markdown",
   "metadata": {},
   "source": [
    "<i>As we can see, the reasoning doesn't apply to some exceptions, like war zones such as Afghanistan</i>"
   ]
  },
  {
   "cell_type": "markdown",
   "metadata": {},
   "source": [
    "Now let's take a look to the <strong>Population Defense</strong>."
   ]
  },
  {
   "cell_type": "code",
   "execution_count": 90,
   "metadata": {},
   "outputs": [
    {
     "data": {
      "image/png": "[encoded data removed]",
      "text/plain": [
       "<Figure size 432x288 with 1 Axes>"
      ]
     },
     "metadata": {
      "needs_background": "light"
     },
     "output_type": "display_data"
    }
   ],
   "source": [
    "import matplotlib.pyplot as plt\n",
    "\n",
    "pop_def = []\n",
    "m_value = df5['PopulationDefense'].mean()\n",
    "plt.axhline(y=m_value, color='r', linestyle='-', label='Mean')\n",
    "y = df4['PopulationDefense']\n",
    "pop_def.append(y.loc['IRQ'])\n",
    "pop_def.append(y.loc['PAK'])\n",
    "pop_def.append(y.loc['IND'])\n",
    "pop_def.append(y.loc['AFG'])\n",
    "pop_def.append(y.loc['COL'])\n",
    "plt.bar([1,2,3,4,5],pop_def, tick_label=['Iraq', 'Pakistan', 'India', 'Afghanistan', 'Colombia'])\n",
    "plt.ylabel('Population Defense')\n",
    "plt.grid()\n",
    "plt.show()"
   ]
  },
  {
   "cell_type": "markdown",
   "metadata": {},
   "source": [
    "<strong>Conclusion</strong>: we have just checked for these 5 countries that the number of terroristic attack is the highest in the latest years; also, they all have in common a high numer of Urban Population (except to Afghanistan), together with a very low Population Defense."
   ]
  }
 ],
 "metadata": {
  "kernelspec": {
   "display_name": "Python 3",
   "language": "python",
   "name": "python3"
  },
  "language_info": {
   "codemirror_mode": {
    "name": "ipython",
    "version": 3
   },
   "file_extension": ".py",
   "mimetype": "text/x-python",
   "name": "python",
   "nbconvert_exporter": "python",
   "pygments_lexer": "ipython3",
   "version": "3.7.3"
  }
 },
 "nbformat": 4,
 "nbformat_minor": 4
}
