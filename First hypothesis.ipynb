{
 "cells": [
  {
   "cell_type": "markdown",
   "metadata": {},
   "source": [
    "### In the first part of the script we are gonna create and save in directory ''./part'' the partial datasets, that are the result of the pivoting of ONE indicator, taken from Indicators.csv."
   ]
  },
  {
   "cell_type": "code",
   "execution_count": 2,
   "metadata": {},
   "outputs": [],
   "source": [
    "import pandas as pd\n",
    "import numpy as np\n",
    "import seaborn as sns\n",
    "import matplotlib.pyplot as plt"
   ]
  },
  {
   "cell_type": "code",
   "execution_count": 2,
   "metadata": {},
   "outputs": [],
   "source": [
    "indicators = pd.read_csv(\"dataset/Indicators.csv\")"
   ]
  },
  {
   "cell_type": "code",
   "execution_count": 3,
   "metadata": {},
   "outputs": [
    {
     "data": {
      "text/html": [
       "<div>\n",
       "<style scoped>\n",
       "    .dataframe tbody tr th:only-of-type {\n",
       "        vertical-align: middle;\n",
       "    }\n",
       "\n",
       "    .dataframe tbody tr th {\n",
       "        vertical-align: top;\n",
       "    }\n",
       "\n",
       "    .dataframe thead th {\n",
       "        text-align: right;\n",
       "    }\n",
       "</style>\n",
       "<table border=\"1\" class=\"dataframe\">\n",
       "  <thead>\n",
       "    <tr style=\"text-align: right;\">\n",
       "      <th></th>\n",
       "      <th>CountryName</th>\n",
       "      <th>CountryCode</th>\n",
       "      <th>IndicatorName</th>\n",
       "      <th>IndicatorCode</th>\n",
       "      <th>Year</th>\n",
       "      <th>Value</th>\n",
       "    </tr>\n",
       "  </thead>\n",
       "  <tbody>\n",
       "    <tr>\n",
       "      <th>0</th>\n",
       "      <td>Arab World</td>\n",
       "      <td>ARB</td>\n",
       "      <td>Adolescent fertility rate (births per 1,000 wo...</td>\n",
       "      <td>SP.ADO.TFRT</td>\n",
       "      <td>1960</td>\n",
       "      <td>1.335609e+02</td>\n",
       "    </tr>\n",
       "    <tr>\n",
       "      <th>1</th>\n",
       "      <td>Arab World</td>\n",
       "      <td>ARB</td>\n",
       "      <td>Age dependency ratio (% of working-age populat...</td>\n",
       "      <td>SP.POP.DPND</td>\n",
       "      <td>1960</td>\n",
       "      <td>8.779760e+01</td>\n",
       "    </tr>\n",
       "    <tr>\n",
       "      <th>2</th>\n",
       "      <td>Arab World</td>\n",
       "      <td>ARB</td>\n",
       "      <td>Age dependency ratio, old (% of working-age po...</td>\n",
       "      <td>SP.POP.DPND.OL</td>\n",
       "      <td>1960</td>\n",
       "      <td>6.634579e+00</td>\n",
       "    </tr>\n",
       "    <tr>\n",
       "      <th>3</th>\n",
       "      <td>Arab World</td>\n",
       "      <td>ARB</td>\n",
       "      <td>Age dependency ratio, young (% of working-age ...</td>\n",
       "      <td>SP.POP.DPND.YG</td>\n",
       "      <td>1960</td>\n",
       "      <td>8.102333e+01</td>\n",
       "    </tr>\n",
       "    <tr>\n",
       "      <th>4</th>\n",
       "      <td>Arab World</td>\n",
       "      <td>ARB</td>\n",
       "      <td>Arms exports (SIPRI trend indicator values)</td>\n",
       "      <td>MS.MIL.XPRT.KD</td>\n",
       "      <td>1960</td>\n",
       "      <td>3.000000e+06</td>\n",
       "    </tr>\n",
       "  </tbody>\n",
       "</table>\n",
       "</div>"
      ],
      "text/plain": [
       "  CountryName CountryCode                                      IndicatorName  \\\n",
       "0  Arab World         ARB  Adolescent fertility rate (births per 1,000 wo...   \n",
       "1  Arab World         ARB  Age dependency ratio (% of working-age populat...   \n",
       "2  Arab World         ARB  Age dependency ratio, old (% of working-age po...   \n",
       "3  Arab World         ARB  Age dependency ratio, young (% of working-age ...   \n",
       "4  Arab World         ARB        Arms exports (SIPRI trend indicator values)   \n",
       "\n",
       "    IndicatorCode  Year         Value  \n",
       "0     SP.ADO.TFRT  1960  1.335609e+02  \n",
       "1     SP.POP.DPND  1960  8.779760e+01  \n",
       "2  SP.POP.DPND.OL  1960  6.634579e+00  \n",
       "3  SP.POP.DPND.YG  1960  8.102333e+01  \n",
       "4  MS.MIL.XPRT.KD  1960  3.000000e+06  "
      ]
     },
     "execution_count": 3,
     "metadata": {},
     "output_type": "execute_result"
    }
   ],
   "source": [
    "indicators.head()"
   ]
  },
  {
   "cell_type": "markdown",
   "metadata": {},
   "source": [
    "#### Select the indicator that I want\n"
   ]
  },
  {
   "cell_type": "code",
   "execution_count": 4,
   "metadata": {},
   "outputs": [],
   "source": [
    "indic_list = ['SP.POP.TOTL']\n",
    "indicators = indicators[indicators.IndicatorCode.isin(indic_list)]"
   ]
  },
  {
   "cell_type": "code",
   "execution_count": 5,
   "metadata": {},
   "outputs": [
    {
     "data": {
      "text/html": [
       "<div>\n",
       "<style scoped>\n",
       "    .dataframe tbody tr th:only-of-type {\n",
       "        vertical-align: middle;\n",
       "    }\n",
       "\n",
       "    .dataframe tbody tr th {\n",
       "        vertical-align: top;\n",
       "    }\n",
       "\n",
       "    .dataframe thead th {\n",
       "        text-align: right;\n",
       "    }\n",
       "</style>\n",
       "<table border=\"1\" class=\"dataframe\">\n",
       "  <thead>\n",
       "    <tr style=\"text-align: right;\">\n",
       "      <th></th>\n",
       "      <th>CountryName</th>\n",
       "      <th>CountryCode</th>\n",
       "      <th>IndicatorName</th>\n",
       "      <th>IndicatorCode</th>\n",
       "      <th>Year</th>\n",
       "      <th>Value</th>\n",
       "    </tr>\n",
       "  </thead>\n",
       "  <tbody>\n",
       "    <tr>\n",
       "      <th>73</th>\n",
       "      <td>Arab World</td>\n",
       "      <td>ARB</td>\n",
       "      <td>Population, total</td>\n",
       "      <td>SP.POP.TOTL</td>\n",
       "      <td>1960</td>\n",
       "      <td>9.249590e+07</td>\n",
       "    </tr>\n",
       "    <tr>\n",
       "      <th>150</th>\n",
       "      <td>Caribbean small states</td>\n",
       "      <td>CSS</td>\n",
       "      <td>Population, total</td>\n",
       "      <td>SP.POP.TOTL</td>\n",
       "      <td>1960</td>\n",
       "      <td>4.190810e+06</td>\n",
       "    </tr>\n",
       "    <tr>\n",
       "      <th>221</th>\n",
       "      <td>Central Europe and the Baltics</td>\n",
       "      <td>CEB</td>\n",
       "      <td>Population, total</td>\n",
       "      <td>SP.POP.TOTL</td>\n",
       "      <td>1960</td>\n",
       "      <td>9.140158e+07</td>\n",
       "    </tr>\n",
       "    <tr>\n",
       "      <th>341</th>\n",
       "      <td>East Asia &amp; Pacific (all income levels)</td>\n",
       "      <td>EAS</td>\n",
       "      <td>Population, total</td>\n",
       "      <td>SP.POP.TOTL</td>\n",
       "      <td>1960</td>\n",
       "      <td>1.042475e+09</td>\n",
       "    </tr>\n",
       "    <tr>\n",
       "      <th>462</th>\n",
       "      <td>East Asia &amp; Pacific (developing only)</td>\n",
       "      <td>EAP</td>\n",
       "      <td>Population, total</td>\n",
       "      <td>SP.POP.TOTL</td>\n",
       "      <td>1960</td>\n",
       "      <td>8.964930e+08</td>\n",
       "    </tr>\n",
       "  </tbody>\n",
       "</table>\n",
       "</div>"
      ],
      "text/plain": [
       "                                 CountryName CountryCode      IndicatorName  \\\n",
       "73                                Arab World         ARB  Population, total   \n",
       "150                   Caribbean small states         CSS  Population, total   \n",
       "221           Central Europe and the Baltics         CEB  Population, total   \n",
       "341  East Asia & Pacific (all income levels)         EAS  Population, total   \n",
       "462    East Asia & Pacific (developing only)         EAP  Population, total   \n",
       "\n",
       "    IndicatorCode  Year         Value  \n",
       "73    SP.POP.TOTL  1960  9.249590e+07  \n",
       "150   SP.POP.TOTL  1960  4.190810e+06  \n",
       "221   SP.POP.TOTL  1960  9.140158e+07  \n",
       "341   SP.POP.TOTL  1960  1.042475e+09  \n",
       "462   SP.POP.TOTL  1960  8.964930e+08  "
      ]
     },
     "execution_count": 5,
     "metadata": {},
     "output_type": "execute_result"
    }
   ],
   "source": [
    "indicators.head()"
   ]
  },
  {
   "cell_type": "markdown",
   "metadata": {},
   "source": [
    "#### I do the pivoting, obtaining a dataset with 3 columns: Value of the indicator, CountryCode and Year"
   ]
  },
  {
   "cell_type": "code",
   "execution_count": 6,
   "metadata": {},
   "outputs": [],
   "source": [
    "indicators2 = indicators.pivot(columns='IndicatorCode', values=['Value','CountryCode','Year'])"
   ]
  },
  {
   "cell_type": "code",
   "execution_count": 7,
   "metadata": {},
   "outputs": [
    {
     "data": {
      "text/plain": [
       "(13484, 3)"
      ]
     },
     "execution_count": 7,
     "metadata": {},
     "output_type": "execute_result"
    }
   ],
   "source": [
    "indicators2.shape\n"
   ]
  },
  {
   "cell_type": "code",
   "execution_count": 8,
   "metadata": {},
   "outputs": [
    {
     "data": {
      "text/html": [
       "<div>\n",
       "<style scoped>\n",
       "    .dataframe tbody tr th:only-of-type {\n",
       "        vertical-align: middle;\n",
       "    }\n",
       "\n",
       "    .dataframe tbody tr th {\n",
       "        vertical-align: top;\n",
       "    }\n",
       "\n",
       "    .dataframe thead tr th {\n",
       "        text-align: left;\n",
       "    }\n",
       "</style>\n",
       "<table border=\"1\" class=\"dataframe\">\n",
       "  <thead>\n",
       "    <tr>\n",
       "      <th></th>\n",
       "      <th>Value</th>\n",
       "      <th>CountryCode</th>\n",
       "      <th>Year</th>\n",
       "    </tr>\n",
       "    <tr>\n",
       "      <th>IndicatorCode</th>\n",
       "      <th>SP.POP.TOTL</th>\n",
       "      <th>SP.POP.TOTL</th>\n",
       "      <th>SP.POP.TOTL</th>\n",
       "    </tr>\n",
       "  </thead>\n",
       "  <tbody>\n",
       "    <tr>\n",
       "      <th>73</th>\n",
       "      <td>9.24959e+07</td>\n",
       "      <td>ARB</td>\n",
       "      <td>1960</td>\n",
       "    </tr>\n",
       "    <tr>\n",
       "      <th>150</th>\n",
       "      <td>4.19081e+06</td>\n",
       "      <td>CSS</td>\n",
       "      <td>1960</td>\n",
       "    </tr>\n",
       "    <tr>\n",
       "      <th>221</th>\n",
       "      <td>9.14016e+07</td>\n",
       "      <td>CEB</td>\n",
       "      <td>1960</td>\n",
       "    </tr>\n",
       "    <tr>\n",
       "      <th>341</th>\n",
       "      <td>1.04248e+09</td>\n",
       "      <td>EAS</td>\n",
       "      <td>1960</td>\n",
       "    </tr>\n",
       "    <tr>\n",
       "      <th>462</th>\n",
       "      <td>8.96493e+08</td>\n",
       "      <td>EAP</td>\n",
       "      <td>1960</td>\n",
       "    </tr>\n",
       "    <tr>\n",
       "      <th>581</th>\n",
       "      <td>2.65397e+08</td>\n",
       "      <td>EMU</td>\n",
       "      <td>1960</td>\n",
       "    </tr>\n",
       "    <tr>\n",
       "      <th>693</th>\n",
       "      <td>6.67489e+08</td>\n",
       "      <td>ECS</td>\n",
       "      <td>1960</td>\n",
       "    </tr>\n",
       "    <tr>\n",
       "      <th>783</th>\n",
       "      <td>1.55317e+08</td>\n",
       "      <td>ECA</td>\n",
       "      <td>1960</td>\n",
       "    </tr>\n",
       "    <tr>\n",
       "      <th>895</th>\n",
       "      <td>4.09498e+08</td>\n",
       "      <td>EUU</td>\n",
       "      <td>1960</td>\n",
       "    </tr>\n",
       "    <tr>\n",
       "      <th>975</th>\n",
       "      <td>1.20355e+08</td>\n",
       "      <td>FCS</td>\n",
       "      <td>1960</td>\n",
       "    </tr>\n",
       "  </tbody>\n",
       "</table>\n",
       "</div>"
      ],
      "text/plain": [
       "                     Value CountryCode        Year\n",
       "IndicatorCode  SP.POP.TOTL SP.POP.TOTL SP.POP.TOTL\n",
       "73             9.24959e+07         ARB        1960\n",
       "150            4.19081e+06         CSS        1960\n",
       "221            9.14016e+07         CEB        1960\n",
       "341            1.04248e+09         EAS        1960\n",
       "462            8.96493e+08         EAP        1960\n",
       "581            2.65397e+08         EMU        1960\n",
       "693            6.67489e+08         ECS        1960\n",
       "783            1.55317e+08         ECA        1960\n",
       "895            4.09498e+08         EUU        1960\n",
       "975            1.20355e+08         FCS        1960"
      ]
     },
     "execution_count": 8,
     "metadata": {},
     "output_type": "execute_result"
    }
   ],
   "source": [
    "indicators2.head(10)"
   ]
  },
  {
   "cell_type": "markdown",
   "metadata": {},
   "source": [
    "##### Renaming the columns"
   ]
  },
  {
   "cell_type": "code",
   "execution_count": 9,
   "metadata": {},
   "outputs": [],
   "source": [
    "indicators2.columns = [' '.join(col).strip() for col in indicators2.columns.values]"
   ]
  },
  {
   "cell_type": "code",
   "execution_count": 10,
   "metadata": {},
   "outputs": [],
   "source": [
    "indicators2.columns = [indicators2.columns[0].split()[1], 'CountryCode', 'Year']\n"
   ]
  },
  {
   "cell_type": "code",
   "execution_count": 11,
   "metadata": {},
   "outputs": [
    {
     "data": {
      "text/html": [
       "<div>\n",
       "<style scoped>\n",
       "    .dataframe tbody tr th:only-of-type {\n",
       "        vertical-align: middle;\n",
       "    }\n",
       "\n",
       "    .dataframe tbody tr th {\n",
       "        vertical-align: top;\n",
       "    }\n",
       "\n",
       "    .dataframe thead th {\n",
       "        text-align: right;\n",
       "    }\n",
       "</style>\n",
       "<table border=\"1\" class=\"dataframe\">\n",
       "  <thead>\n",
       "    <tr style=\"text-align: right;\">\n",
       "      <th></th>\n",
       "      <th>SP.POP.TOTL</th>\n",
       "      <th>CountryCode</th>\n",
       "      <th>Year</th>\n",
       "    </tr>\n",
       "  </thead>\n",
       "  <tbody>\n",
       "    <tr>\n",
       "      <th>73</th>\n",
       "      <td>9.24959e+07</td>\n",
       "      <td>ARB</td>\n",
       "      <td>1960</td>\n",
       "    </tr>\n",
       "    <tr>\n",
       "      <th>150</th>\n",
       "      <td>4.19081e+06</td>\n",
       "      <td>CSS</td>\n",
       "      <td>1960</td>\n",
       "    </tr>\n",
       "    <tr>\n",
       "      <th>221</th>\n",
       "      <td>9.14016e+07</td>\n",
       "      <td>CEB</td>\n",
       "      <td>1960</td>\n",
       "    </tr>\n",
       "    <tr>\n",
       "      <th>341</th>\n",
       "      <td>1.04248e+09</td>\n",
       "      <td>EAS</td>\n",
       "      <td>1960</td>\n",
       "    </tr>\n",
       "    <tr>\n",
       "      <th>462</th>\n",
       "      <td>8.96493e+08</td>\n",
       "      <td>EAP</td>\n",
       "      <td>1960</td>\n",
       "    </tr>\n",
       "  </tbody>\n",
       "</table>\n",
       "</div>"
      ],
      "text/plain": [
       "     SP.POP.TOTL CountryCode  Year\n",
       "73   9.24959e+07         ARB  1960\n",
       "150  4.19081e+06         CSS  1960\n",
       "221  9.14016e+07         CEB  1960\n",
       "341  1.04248e+09         EAS  1960\n",
       "462  8.96493e+08         EAP  1960"
      ]
     },
     "execution_count": 11,
     "metadata": {},
     "output_type": "execute_result"
    }
   ],
   "source": [
    "indicators2.head()"
   ]
  },
  {
   "cell_type": "markdown",
   "metadata": {},
   "source": [
    "##### Saving the dataset (note: you have to change the name)"
   ]
  },
  {
   "cell_type": "code",
   "execution_count": 12,
   "metadata": {},
   "outputs": [],
   "source": [
    "indicators2.to_csv(path_or_buf='./part/pop_tot')"
   ]
  },
  {
   "cell_type": "markdown",
   "metadata": {},
   "source": [
    "###  Repeat the rows above FOR EACH indicator that you want to have in the final dataset. After all the creations I reload and merge theme, below."
   ]
  },
  {
   "cell_type": "code",
   "execution_count": 3,
   "metadata": {},
   "outputs": [],
   "source": [
    "birth = pd.read_csv(\"./part/birth\")\n",
    "life = pd.read_csv(\"./part/arms_import\")\n",
    "arms = pd.read_csv(\"./part/life_expect\")\n",
    "rural = pd.read_csv(\"./part/rural\")\n",
    "urban = pd.read_csv(\"./part/urban\")\n",
    "mrF = pd.read_csv(\"./part/mort_rateF\")\n",
    "mrM = pd.read_csv(\"./part/mort_rateM\")"
   ]
  },
  {
   "cell_type": "code",
   "execution_count": 4,
   "metadata": {},
   "outputs": [],
   "source": [
    "del birth['Unnamed: 0']\n",
    "del arms['Unnamed: 0']\n",
    "del life['Unnamed: 0']\n",
    "del urban['Unnamed: 0']\n",
    "del rural['Unnamed: 0']\n",
    "del mrF['Unnamed: 0']\n",
    "del mrM['Unnamed: 0']"
   ]
  },
  {
   "cell_type": "markdown",
   "metadata": {},
   "source": [
    "#### As we can see there are different shapes in the datasets, so when we merge there will be some NaN to be handled"
   ]
  },
  {
   "cell_type": "code",
   "execution_count": 5,
   "metadata": {},
   "outputs": [
    {
     "name": "stdout",
     "output_type": "stream",
     "text": [
      "Birth: 12485. Arms: 12304. Life:7333. Rural:13374. Urban:13374. Mort rate F:11939. Mort rate M:11939\n"
     ]
    }
   ],
   "source": [
    "print('Birth: '+ str(birth.shape[0]) + '. Arms: ' + str(arms.shape[0]) + '. Life:' + str(life.shape[0]) + '. Rural:' + str(rural.shape[0]) + '. Urban:' + str(urban.shape[0]) + '. Mort rate F:' + str(mrF.shape[0])+ '. Mort rate M:' + str(mrM.shape[0]))"
   ]
  },
  {
   "cell_type": "markdown",
   "metadata": {},
   "source": [
    "#### Executing the first merge, NaN Are present as expected "
   ]
  },
  {
   "cell_type": "code",
   "execution_count": 6,
   "metadata": {},
   "outputs": [],
   "source": [
    "tot = birth.merge(arms, on = ['CountryCode', 'Year'], how = 'outer')"
   ]
  },
  {
   "cell_type": "code",
   "execution_count": 7,
   "metadata": {},
   "outputs": [
    {
     "data": {
      "text/html": [
       "<div>\n",
       "<style scoped>\n",
       "    .dataframe tbody tr th:only-of-type {\n",
       "        vertical-align: middle;\n",
       "    }\n",
       "\n",
       "    .dataframe tbody tr th {\n",
       "        vertical-align: top;\n",
       "    }\n",
       "\n",
       "    .dataframe thead th {\n",
       "        text-align: right;\n",
       "    }\n",
       "</style>\n",
       "<table border=\"1\" class=\"dataframe\">\n",
       "  <thead>\n",
       "    <tr style=\"text-align: right;\">\n",
       "      <th></th>\n",
       "      <th>SP.DYN.CBRT.IN</th>\n",
       "      <th>CountryCode</th>\n",
       "      <th>Year</th>\n",
       "      <th>SP.DYN.LE00.IN</th>\n",
       "    </tr>\n",
       "  </thead>\n",
       "  <tbody>\n",
       "    <tr>\n",
       "      <th>0</th>\n",
       "      <td>47.697888</td>\n",
       "      <td>ARB</td>\n",
       "      <td>1960</td>\n",
       "      <td>46.847059</td>\n",
       "    </tr>\n",
       "    <tr>\n",
       "      <th>1</th>\n",
       "      <td>40.017001</td>\n",
       "      <td>CSS</td>\n",
       "      <td>1960</td>\n",
       "      <td>62.271795</td>\n",
       "    </tr>\n",
       "    <tr>\n",
       "      <th>2</th>\n",
       "      <td>19.117435</td>\n",
       "      <td>CEB</td>\n",
       "      <td>1960</td>\n",
       "      <td>67.823762</td>\n",
       "    </tr>\n",
       "    <tr>\n",
       "      <th>3</th>\n",
       "      <td>26.362350</td>\n",
       "      <td>EAS</td>\n",
       "      <td>1960</td>\n",
       "      <td>48.298317</td>\n",
       "    </tr>\n",
       "    <tr>\n",
       "      <th>4</th>\n",
       "      <td>26.635950</td>\n",
       "      <td>EAP</td>\n",
       "      <td>1960</td>\n",
       "      <td>45.549658</td>\n",
       "    </tr>\n",
       "  </tbody>\n",
       "</table>\n",
       "</div>"
      ],
      "text/plain": [
       "   SP.DYN.CBRT.IN CountryCode  Year  SP.DYN.LE00.IN\n",
       "0       47.697888         ARB  1960       46.847059\n",
       "1       40.017001         CSS  1960       62.271795\n",
       "2       19.117435         CEB  1960       67.823762\n",
       "3       26.362350         EAS  1960       48.298317\n",
       "4       26.635950         EAP  1960       45.549658"
      ]
     },
     "execution_count": 7,
     "metadata": {},
     "output_type": "execute_result"
    }
   ],
   "source": [
    "tot.head()"
   ]
  },
  {
   "cell_type": "markdown",
   "metadata": {},
   "source": [
    "Looking at NaN"
   ]
  },
  {
   "cell_type": "code",
   "execution_count": 8,
   "metadata": {},
   "outputs": [
    {
     "data": {
      "text/html": [
       "<div>\n",
       "<style scoped>\n",
       "    .dataframe tbody tr th:only-of-type {\n",
       "        vertical-align: middle;\n",
       "    }\n",
       "\n",
       "    .dataframe tbody tr th {\n",
       "        vertical-align: top;\n",
       "    }\n",
       "\n",
       "    .dataframe thead th {\n",
       "        text-align: right;\n",
       "    }\n",
       "</style>\n",
       "<table border=\"1\" class=\"dataframe\">\n",
       "  <thead>\n",
       "    <tr style=\"text-align: right;\">\n",
       "      <th></th>\n",
       "      <th>SP.DYN.CBRT.IN</th>\n",
       "      <th>CountryCode</th>\n",
       "      <th>Year</th>\n",
       "      <th>SP.DYN.LE00.IN</th>\n",
       "    </tr>\n",
       "  </thead>\n",
       "  <tbody>\n",
       "    <tr>\n",
       "      <th>52</th>\n",
       "      <td>28.3</td>\n",
       "      <td>BMU</td>\n",
       "      <td>1960</td>\n",
       "      <td>NaN</td>\n",
       "    </tr>\n",
       "    <tr>\n",
       "      <th>117</th>\n",
       "      <td>14.1</td>\n",
       "      <td>IMY</td>\n",
       "      <td>1960</td>\n",
       "      <td>NaN</td>\n",
       "    </tr>\n",
       "    <tr>\n",
       "      <th>118</th>\n",
       "      <td>26.9</td>\n",
       "      <td>ISR</td>\n",
       "      <td>1960</td>\n",
       "      <td>NaN</td>\n",
       "    </tr>\n",
       "    <tr>\n",
       "      <th>136</th>\n",
       "      <td>23.1</td>\n",
       "      <td>LIE</td>\n",
       "      <td>1960</td>\n",
       "      <td>NaN</td>\n",
       "    </tr>\n",
       "    <tr>\n",
       "      <th>342</th>\n",
       "      <td>13.8</td>\n",
       "      <td>IMY</td>\n",
       "      <td>1961</td>\n",
       "      <td>NaN</td>\n",
       "    </tr>\n",
       "  </tbody>\n",
       "</table>\n",
       "</div>"
      ],
      "text/plain": [
       "     SP.DYN.CBRT.IN CountryCode  Year  SP.DYN.LE00.IN\n",
       "52             28.3         BMU  1960             NaN\n",
       "117            14.1         IMY  1960             NaN\n",
       "118            26.9         ISR  1960             NaN\n",
       "136            23.1         LIE  1960             NaN\n",
       "342            13.8         IMY  1961             NaN"
      ]
     },
     "execution_count": 8,
     "metadata": {},
     "output_type": "execute_result"
    }
   ],
   "source": [
    "tot[tot['SP.DYN.LE00.IN'].isnull()].head()"
   ]
  },
  {
   "cell_type": "code",
   "execution_count": 9,
   "metadata": {},
   "outputs": [
    {
     "data": {
      "text/html": [
       "<div>\n",
       "<style scoped>\n",
       "    .dataframe tbody tr th:only-of-type {\n",
       "        vertical-align: middle;\n",
       "    }\n",
       "\n",
       "    .dataframe tbody tr th {\n",
       "        vertical-align: top;\n",
       "    }\n",
       "\n",
       "    .dataframe thead th {\n",
       "        text-align: right;\n",
       "    }\n",
       "</style>\n",
       "<table border=\"1\" class=\"dataframe\">\n",
       "  <thead>\n",
       "    <tr style=\"text-align: right;\">\n",
       "      <th></th>\n",
       "      <th>SP.DYN.CBRT.IN</th>\n",
       "      <th>CountryCode</th>\n",
       "      <th>Year</th>\n",
       "      <th>SP.DYN.LE00.IN</th>\n",
       "    </tr>\n",
       "  </thead>\n",
       "  <tbody>\n",
       "    <tr>\n",
       "      <th>12485</th>\n",
       "      <td>NaN</td>\n",
       "      <td>BMU</td>\n",
       "      <td>1965</td>\n",
       "      <td>68.897805</td>\n",
       "    </tr>\n",
       "    <tr>\n",
       "      <th>12486</th>\n",
       "      <td>NaN</td>\n",
       "      <td>FRO</td>\n",
       "      <td>1973</td>\n",
       "      <td>74.497561</td>\n",
       "    </tr>\n",
       "    <tr>\n",
       "      <th>12487</th>\n",
       "      <td>NaN</td>\n",
       "      <td>FRO</td>\n",
       "      <td>1978</td>\n",
       "      <td>75.985366</td>\n",
       "    </tr>\n",
       "    <tr>\n",
       "      <th>12488</th>\n",
       "      <td>NaN</td>\n",
       "      <td>FRO</td>\n",
       "      <td>1986</td>\n",
       "      <td>75.265854</td>\n",
       "    </tr>\n",
       "    <tr>\n",
       "      <th>12489</th>\n",
       "      <td>NaN</td>\n",
       "      <td>FRO</td>\n",
       "      <td>1987</td>\n",
       "      <td>75.465854</td>\n",
       "    </tr>\n",
       "  </tbody>\n",
       "</table>\n",
       "</div>"
      ],
      "text/plain": [
       "       SP.DYN.CBRT.IN CountryCode  Year  SP.DYN.LE00.IN\n",
       "12485             NaN         BMU  1965       68.897805\n",
       "12486             NaN         FRO  1973       74.497561\n",
       "12487             NaN         FRO  1978       75.985366\n",
       "12488             NaN         FRO  1986       75.265854\n",
       "12489             NaN         FRO  1987       75.465854"
      ]
     },
     "execution_count": 9,
     "metadata": {},
     "output_type": "execute_result"
    }
   ],
   "source": [
    "tot[tot['SP.DYN.CBRT.IN'].isnull()].head()"
   ]
  },
  {
   "cell_type": "markdown",
   "metadata": {},
   "source": [
    "### Executing all the merges"
   ]
  },
  {
   "cell_type": "code",
   "execution_count": 10,
   "metadata": {},
   "outputs": [],
   "source": [
    "tot = tot.merge(life, on = ['CountryCode', 'Year'], how = 'outer')\n",
    "tot = tot.merge(urban, on = ['CountryCode', 'Year'], how = 'outer')\n",
    "tot = tot.merge(rural, on = ['CountryCode', 'Year'], how = 'outer')\n",
    "tot = tot.merge(mrF, on = ['CountryCode', 'Year'], how = 'outer')\n",
    "tot = tot.merge(mrM, on = ['CountryCode', 'Year'], how = 'outer')"
   ]
  },
  {
   "cell_type": "code",
   "execution_count": 11,
   "metadata": {},
   "outputs": [
    {
     "data": {
      "text/html": [
       "<div>\n",
       "<style scoped>\n",
       "    .dataframe tbody tr th:only-of-type {\n",
       "        vertical-align: middle;\n",
       "    }\n",
       "\n",
       "    .dataframe tbody tr th {\n",
       "        vertical-align: top;\n",
       "    }\n",
       "\n",
       "    .dataframe thead th {\n",
       "        text-align: right;\n",
       "    }\n",
       "</style>\n",
       "<table border=\"1\" class=\"dataframe\">\n",
       "  <thead>\n",
       "    <tr style=\"text-align: right;\">\n",
       "      <th></th>\n",
       "      <th>SP.DYN.CBRT.IN</th>\n",
       "      <th>CountryCode</th>\n",
       "      <th>Year</th>\n",
       "      <th>SP.DYN.LE00.IN</th>\n",
       "      <th>MS.MIL.MPRT.KD</th>\n",
       "      <th>SP.URB.TOTL</th>\n",
       "      <th>SP.RUR.TOTL</th>\n",
       "      <th>SP.DYN.AMRT.FE</th>\n",
       "      <th>SP.DYN.AMRT.MA</th>\n",
       "    </tr>\n",
       "  </thead>\n",
       "  <tbody>\n",
       "    <tr>\n",
       "      <th>0</th>\n",
       "      <td>47.697888</td>\n",
       "      <td>ARB</td>\n",
       "      <td>1960</td>\n",
       "      <td>46.847059</td>\n",
       "      <td>5.380000e+08</td>\n",
       "      <td>28937699.0</td>\n",
       "      <td>63558203.0</td>\n",
       "      <td>298.935703</td>\n",
       "      <td>357.705584</td>\n",
       "    </tr>\n",
       "    <tr>\n",
       "      <th>1</th>\n",
       "      <td>40.017001</td>\n",
       "      <td>CSS</td>\n",
       "      <td>1960</td>\n",
       "      <td>62.271795</td>\n",
       "      <td>NaN</td>\n",
       "      <td>1324191.0</td>\n",
       "      <td>2866619.0</td>\n",
       "      <td>201.475579</td>\n",
       "      <td>261.118888</td>\n",
       "    </tr>\n",
       "    <tr>\n",
       "      <th>2</th>\n",
       "      <td>19.117435</td>\n",
       "      <td>CEB</td>\n",
       "      <td>1960</td>\n",
       "      <td>67.823762</td>\n",
       "      <td>2.139000e+09</td>\n",
       "      <td>40680946.0</td>\n",
       "      <td>50720637.0</td>\n",
       "      <td>124.749727</td>\n",
       "      <td>201.048873</td>\n",
       "    </tr>\n",
       "    <tr>\n",
       "      <th>3</th>\n",
       "      <td>26.362350</td>\n",
       "      <td>EAS</td>\n",
       "      <td>1960</td>\n",
       "      <td>48.298317</td>\n",
       "      <td>5.344000e+09</td>\n",
       "      <td>231871389.0</td>\n",
       "      <td>799992005.0</td>\n",
       "      <td>326.366329</td>\n",
       "      <td>446.838421</td>\n",
       "    </tr>\n",
       "    <tr>\n",
       "      <th>4</th>\n",
       "      <td>26.635950</td>\n",
       "      <td>EAP</td>\n",
       "      <td>1960</td>\n",
       "      <td>45.549658</td>\n",
       "      <td>3.535000e+09</td>\n",
       "      <td>151665806.0</td>\n",
       "      <td>744827185.0</td>\n",
       "      <td>353.252556</td>\n",
       "      <td>478.537086</td>\n",
       "    </tr>\n",
       "  </tbody>\n",
       "</table>\n",
       "</div>"
      ],
      "text/plain": [
       "   SP.DYN.CBRT.IN CountryCode  Year  SP.DYN.LE00.IN  MS.MIL.MPRT.KD  \\\n",
       "0       47.697888         ARB  1960       46.847059    5.380000e+08   \n",
       "1       40.017001         CSS  1960       62.271795             NaN   \n",
       "2       19.117435         CEB  1960       67.823762    2.139000e+09   \n",
       "3       26.362350         EAS  1960       48.298317    5.344000e+09   \n",
       "4       26.635950         EAP  1960       45.549658    3.535000e+09   \n",
       "\n",
       "   SP.URB.TOTL  SP.RUR.TOTL  SP.DYN.AMRT.FE  SP.DYN.AMRT.MA  \n",
       "0   28937699.0   63558203.0      298.935703      357.705584  \n",
       "1    1324191.0    2866619.0      201.475579      261.118888  \n",
       "2   40680946.0   50720637.0      124.749727      201.048873  \n",
       "3  231871389.0  799992005.0      326.366329      446.838421  \n",
       "4  151665806.0  744827185.0      353.252556      478.537086  "
      ]
     },
     "execution_count": 11,
     "metadata": {},
     "output_type": "execute_result"
    }
   ],
   "source": [
    "tot.head()"
   ]
  },
  {
   "cell_type": "markdown",
   "metadata": {},
   "source": [
    "Execute this row any time you want, in order to change the order of the columns."
   ]
  },
  {
   "cell_type": "code",
   "execution_count": 19,
   "metadata": {},
   "outputs": [
    {
     "data": {
      "text/html": [
       "<div>\n",
       "<style scoped>\n",
       "    .dataframe tbody tr th:only-of-type {\n",
       "        vertical-align: middle;\n",
       "    }\n",
       "\n",
       "    .dataframe tbody tr th {\n",
       "        vertical-align: top;\n",
       "    }\n",
       "\n",
       "    .dataframe thead th {\n",
       "        text-align: right;\n",
       "    }\n",
       "</style>\n",
       "<table border=\"1\" class=\"dataframe\">\n",
       "  <thead>\n",
       "    <tr style=\"text-align: right;\">\n",
       "      <th></th>\n",
       "      <th>CountryCode</th>\n",
       "      <th>Year</th>\n",
       "      <th>SP.DYN.LE00.IN</th>\n",
       "      <th>MS.MIL.MPRT.KD</th>\n",
       "      <th>SP.URB.TOTL</th>\n",
       "      <th>SP.RUR.TOTL</th>\n",
       "      <th>SP.DYN.AMRT.FE</th>\n",
       "      <th>SP.DYN.AMRT.MA</th>\n",
       "      <th>SP.DYN.CBRT.IN</th>\n",
       "    </tr>\n",
       "  </thead>\n",
       "  <tbody>\n",
       "    <tr>\n",
       "      <th>0</th>\n",
       "      <td>ARB</td>\n",
       "      <td>1960</td>\n",
       "      <td>46.847059</td>\n",
       "      <td>5.380000e+08</td>\n",
       "      <td>28937699.0</td>\n",
       "      <td>63558203.0</td>\n",
       "      <td>298.935703</td>\n",
       "      <td>357.705584</td>\n",
       "      <td>47.697888</td>\n",
       "    </tr>\n",
       "    <tr>\n",
       "      <th>1</th>\n",
       "      <td>CSS</td>\n",
       "      <td>1960</td>\n",
       "      <td>62.271795</td>\n",
       "      <td>NaN</td>\n",
       "      <td>1324191.0</td>\n",
       "      <td>2866619.0</td>\n",
       "      <td>201.475579</td>\n",
       "      <td>261.118888</td>\n",
       "      <td>40.017001</td>\n",
       "    </tr>\n",
       "    <tr>\n",
       "      <th>2</th>\n",
       "      <td>CEB</td>\n",
       "      <td>1960</td>\n",
       "      <td>67.823762</td>\n",
       "      <td>2.139000e+09</td>\n",
       "      <td>40680946.0</td>\n",
       "      <td>50720637.0</td>\n",
       "      <td>124.749727</td>\n",
       "      <td>201.048873</td>\n",
       "      <td>19.117435</td>\n",
       "    </tr>\n",
       "    <tr>\n",
       "      <th>3</th>\n",
       "      <td>EAS</td>\n",
       "      <td>1960</td>\n",
       "      <td>48.298317</td>\n",
       "      <td>5.344000e+09</td>\n",
       "      <td>231871389.0</td>\n",
       "      <td>799992005.0</td>\n",
       "      <td>326.366329</td>\n",
       "      <td>446.838421</td>\n",
       "      <td>26.362350</td>\n",
       "    </tr>\n",
       "    <tr>\n",
       "      <th>4</th>\n",
       "      <td>EAP</td>\n",
       "      <td>1960</td>\n",
       "      <td>45.549658</td>\n",
       "      <td>3.535000e+09</td>\n",
       "      <td>151665806.0</td>\n",
       "      <td>744827185.0</td>\n",
       "      <td>353.252556</td>\n",
       "      <td>478.537086</td>\n",
       "      <td>26.635950</td>\n",
       "    </tr>\n",
       "  </tbody>\n",
       "</table>\n",
       "</div>"
      ],
      "text/plain": [
       "  CountryCode  Year  SP.DYN.LE00.IN  MS.MIL.MPRT.KD  SP.URB.TOTL  SP.RUR.TOTL  \\\n",
       "0         ARB  1960       46.847059    5.380000e+08   28937699.0   63558203.0   \n",
       "1         CSS  1960       62.271795             NaN    1324191.0    2866619.0   \n",
       "2         CEB  1960       67.823762    2.139000e+09   40680946.0   50720637.0   \n",
       "3         EAS  1960       48.298317    5.344000e+09  231871389.0  799992005.0   \n",
       "4         EAP  1960       45.549658    3.535000e+09  151665806.0  744827185.0   \n",
       "\n",
       "   SP.DYN.AMRT.FE  SP.DYN.AMRT.MA  SP.DYN.CBRT.IN  \n",
       "0      298.935703      357.705584       47.697888  \n",
       "1      201.475579      261.118888       40.017001  \n",
       "2      124.749727      201.048873       19.117435  \n",
       "3      326.366329      446.838421       26.362350  \n",
       "4      353.252556      478.537086       26.635950  "
      ]
     },
     "execution_count": 19,
     "metadata": {},
     "output_type": "execute_result"
    }
   ],
   "source": [
    "cols = tot.columns.tolist()\n",
    "cols = cols[-1:] + cols[:-1]\n",
    "tot = tot[cols]\n",
    "tot.head()"
   ]
  },
  {
   "cell_type": "code",
   "execution_count": 20,
   "metadata": {},
   "outputs": [],
   "source": [
    "tot.to_csv(path_or_buf='./part/partialDF', index=False)"
   ]
  },
  {
   "cell_type": "code",
   "execution_count": 21,
   "metadata": {},
   "outputs": [
    {
     "data": {
      "text/plain": [
       "(13473, 9)"
      ]
     },
     "execution_count": 21,
     "metadata": {},
     "output_type": "execute_result"
    }
   ],
   "source": [
    "tot = pd.read_csv(\"./part/partialDF\")\n",
    "tot.shape"
   ]
  },
  {
   "cell_type": "markdown",
   "metadata": {},
   "source": [
    "#### Now I load the expenditure dataset."
   ]
  },
  {
   "cell_type": "code",
   "execution_count": 22,
   "metadata": {},
   "outputs": [],
   "source": [
    "expend = pd.read_csv(\"dataset/datasets_376235_731395_Military Expenditure.csv\")"
   ]
  },
  {
   "cell_type": "code",
   "execution_count": 23,
   "metadata": {},
   "outputs": [
    {
     "data": {
      "text/html": [
       "<div>\n",
       "<style scoped>\n",
       "    .dataframe tbody tr th:only-of-type {\n",
       "        vertical-align: middle;\n",
       "    }\n",
       "\n",
       "    .dataframe tbody tr th {\n",
       "        vertical-align: top;\n",
       "    }\n",
       "\n",
       "    .dataframe thead th {\n",
       "        text-align: right;\n",
       "    }\n",
       "</style>\n",
       "<table border=\"1\" class=\"dataframe\">\n",
       "  <thead>\n",
       "    <tr style=\"text-align: right;\">\n",
       "      <th></th>\n",
       "      <th>Name</th>\n",
       "      <th>Code</th>\n",
       "      <th>Type</th>\n",
       "      <th>Indicator Name</th>\n",
       "      <th>1960</th>\n",
       "      <th>1961</th>\n",
       "      <th>1962</th>\n",
       "      <th>1963</th>\n",
       "      <th>1964</th>\n",
       "      <th>1965</th>\n",
       "      <th>...</th>\n",
       "      <th>2009</th>\n",
       "      <th>2010</th>\n",
       "      <th>2011</th>\n",
       "      <th>2012</th>\n",
       "      <th>2013</th>\n",
       "      <th>2014</th>\n",
       "      <th>2015</th>\n",
       "      <th>2016</th>\n",
       "      <th>2017</th>\n",
       "      <th>2018</th>\n",
       "    </tr>\n",
       "  </thead>\n",
       "  <tbody>\n",
       "    <tr>\n",
       "      <th>0</th>\n",
       "      <td>Aruba</td>\n",
       "      <td>ABW</td>\n",
       "      <td>Country</td>\n",
       "      <td>Military expenditure (current USD)</td>\n",
       "      <td>NaN</td>\n",
       "      <td>NaN</td>\n",
       "      <td>NaN</td>\n",
       "      <td>NaN</td>\n",
       "      <td>NaN</td>\n",
       "      <td>NaN</td>\n",
       "      <td>...</td>\n",
       "      <td>NaN</td>\n",
       "      <td>NaN</td>\n",
       "      <td>NaN</td>\n",
       "      <td>NaN</td>\n",
       "      <td>NaN</td>\n",
       "      <td>NaN</td>\n",
       "      <td>NaN</td>\n",
       "      <td>NaN</td>\n",
       "      <td>NaN</td>\n",
       "      <td>NaN</td>\n",
       "    </tr>\n",
       "    <tr>\n",
       "      <th>1</th>\n",
       "      <td>Afghanistan</td>\n",
       "      <td>AFG</td>\n",
       "      <td>Country</td>\n",
       "      <td>Military expenditure (current USD)</td>\n",
       "      <td>NaN</td>\n",
       "      <td>NaN</td>\n",
       "      <td>NaN</td>\n",
       "      <td>NaN</td>\n",
       "      <td>NaN</td>\n",
       "      <td>NaN</td>\n",
       "      <td>...</td>\n",
       "      <td>2.518695e+08</td>\n",
       "      <td>2.981469e+08</td>\n",
       "      <td>3.258070e+08</td>\n",
       "      <td>2.385834e+08</td>\n",
       "      <td>2.171941e+08</td>\n",
       "      <td>2.682271e+08</td>\n",
       "      <td>1.995186e+08</td>\n",
       "      <td>1.858783e+08</td>\n",
       "      <td>1.914071e+08</td>\n",
       "      <td>1.980863e+08</td>\n",
       "    </tr>\n",
       "    <tr>\n",
       "      <th>2</th>\n",
       "      <td>Angola</td>\n",
       "      <td>AGO</td>\n",
       "      <td>Country</td>\n",
       "      <td>Military expenditure (current USD)</td>\n",
       "      <td>NaN</td>\n",
       "      <td>NaN</td>\n",
       "      <td>NaN</td>\n",
       "      <td>NaN</td>\n",
       "      <td>NaN</td>\n",
       "      <td>NaN</td>\n",
       "      <td>...</td>\n",
       "      <td>3.311193e+09</td>\n",
       "      <td>3.500795e+09</td>\n",
       "      <td>3.639496e+09</td>\n",
       "      <td>4.144635e+09</td>\n",
       "      <td>6.090752e+09</td>\n",
       "      <td>6.841864e+09</td>\n",
       "      <td>3.608299e+09</td>\n",
       "      <td>2.764055e+09</td>\n",
       "      <td>3.062873e+09</td>\n",
       "      <td>1.983614e+09</td>\n",
       "    </tr>\n",
       "    <tr>\n",
       "      <th>3</th>\n",
       "      <td>Albania</td>\n",
       "      <td>ALB</td>\n",
       "      <td>Country</td>\n",
       "      <td>Military expenditure (current USD)</td>\n",
       "      <td>NaN</td>\n",
       "      <td>NaN</td>\n",
       "      <td>NaN</td>\n",
       "      <td>NaN</td>\n",
       "      <td>NaN</td>\n",
       "      <td>NaN</td>\n",
       "      <td>...</td>\n",
       "      <td>1.827369e+08</td>\n",
       "      <td>1.858932e+08</td>\n",
       "      <td>1.970068e+08</td>\n",
       "      <td>1.832047e+08</td>\n",
       "      <td>1.800155e+08</td>\n",
       "      <td>1.781204e+08</td>\n",
       "      <td>1.323507e+08</td>\n",
       "      <td>1.308532e+08</td>\n",
       "      <td>1.443827e+08</td>\n",
       "      <td>1.804887e+08</td>\n",
       "    </tr>\n",
       "    <tr>\n",
       "      <th>4</th>\n",
       "      <td>Andorra</td>\n",
       "      <td>AND</td>\n",
       "      <td>Country</td>\n",
       "      <td>Military expenditure (current USD)</td>\n",
       "      <td>NaN</td>\n",
       "      <td>NaN</td>\n",
       "      <td>NaN</td>\n",
       "      <td>NaN</td>\n",
       "      <td>NaN</td>\n",
       "      <td>NaN</td>\n",
       "      <td>...</td>\n",
       "      <td>NaN</td>\n",
       "      <td>NaN</td>\n",
       "      <td>NaN</td>\n",
       "      <td>NaN</td>\n",
       "      <td>NaN</td>\n",
       "      <td>NaN</td>\n",
       "      <td>NaN</td>\n",
       "      <td>NaN</td>\n",
       "      <td>NaN</td>\n",
       "      <td>NaN</td>\n",
       "    </tr>\n",
       "  </tbody>\n",
       "</table>\n",
       "<p>5 rows × 63 columns</p>\n",
       "</div>"
      ],
      "text/plain": [
       "          Name Code     Type                      Indicator Name  1960  1961  \\\n",
       "0        Aruba  ABW  Country  Military expenditure (current USD)   NaN   NaN   \n",
       "1  Afghanistan  AFG  Country  Military expenditure (current USD)   NaN   NaN   \n",
       "2       Angola  AGO  Country  Military expenditure (current USD)   NaN   NaN   \n",
       "3      Albania  ALB  Country  Military expenditure (current USD)   NaN   NaN   \n",
       "4      Andorra  AND  Country  Military expenditure (current USD)   NaN   NaN   \n",
       "\n",
       "   1962  1963  1964  1965  ...          2009          2010          2011  \\\n",
       "0   NaN   NaN   NaN   NaN  ...           NaN           NaN           NaN   \n",
       "1   NaN   NaN   NaN   NaN  ...  2.518695e+08  2.981469e+08  3.258070e+08   \n",
       "2   NaN   NaN   NaN   NaN  ...  3.311193e+09  3.500795e+09  3.639496e+09   \n",
       "3   NaN   NaN   NaN   NaN  ...  1.827369e+08  1.858932e+08  1.970068e+08   \n",
       "4   NaN   NaN   NaN   NaN  ...           NaN           NaN           NaN   \n",
       "\n",
       "           2012          2013          2014          2015          2016  \\\n",
       "0           NaN           NaN           NaN           NaN           NaN   \n",
       "1  2.385834e+08  2.171941e+08  2.682271e+08  1.995186e+08  1.858783e+08   \n",
       "2  4.144635e+09  6.090752e+09  6.841864e+09  3.608299e+09  2.764055e+09   \n",
       "3  1.832047e+08  1.800155e+08  1.781204e+08  1.323507e+08  1.308532e+08   \n",
       "4           NaN           NaN           NaN           NaN           NaN   \n",
       "\n",
       "           2017          2018  \n",
       "0           NaN           NaN  \n",
       "1  1.914071e+08  1.980863e+08  \n",
       "2  3.062873e+09  1.983614e+09  \n",
       "3  1.443827e+08  1.804887e+08  \n",
       "4           NaN           NaN  \n",
       "\n",
       "[5 rows x 63 columns]"
      ]
     },
     "execution_count": 23,
     "metadata": {},
     "output_type": "execute_result"
    }
   ],
   "source": [
    "expend.head()"
   ]
  },
  {
   "cell_type": "markdown",
   "metadata": {},
   "source": [
    "#### I do the reverse pivoting, in order to have a better representation of the data."
   ]
  },
  {
   "cell_type": "code",
   "execution_count": 24,
   "metadata": {},
   "outputs": [],
   "source": [
    "expend2 = pd.melt(expend, var_name='Year', value_vars=np.setdiff1d(expend.columns.values, ['Name','Code','Type','Indicator Name']) ,id_vars='Code')\n",
    "# del expend2['Variable']"
   ]
  },
  {
   "cell_type": "code",
   "execution_count": 25,
   "metadata": {},
   "outputs": [],
   "source": [
    "expend2.columns = ['CountryCode', 'Year', 'MilitaryExp']"
   ]
  },
  {
   "cell_type": "code",
   "execution_count": 26,
   "metadata": {},
   "outputs": [
    {
     "data": {
      "text/html": [
       "<div>\n",
       "<style scoped>\n",
       "    .dataframe tbody tr th:only-of-type {\n",
       "        vertical-align: middle;\n",
       "    }\n",
       "\n",
       "    .dataframe tbody tr th {\n",
       "        vertical-align: top;\n",
       "    }\n",
       "\n",
       "    .dataframe thead th {\n",
       "        text-align: right;\n",
       "    }\n",
       "</style>\n",
       "<table border=\"1\" class=\"dataframe\">\n",
       "  <thead>\n",
       "    <tr style=\"text-align: right;\">\n",
       "      <th></th>\n",
       "      <th>CountryCode</th>\n",
       "      <th>Year</th>\n",
       "      <th>MilitaryExp</th>\n",
       "    </tr>\n",
       "  </thead>\n",
       "  <tbody>\n",
       "    <tr>\n",
       "      <th>0</th>\n",
       "      <td>ABW</td>\n",
       "      <td>1960</td>\n",
       "      <td>NaN</td>\n",
       "    </tr>\n",
       "    <tr>\n",
       "      <th>1</th>\n",
       "      <td>AFG</td>\n",
       "      <td>1960</td>\n",
       "      <td>NaN</td>\n",
       "    </tr>\n",
       "    <tr>\n",
       "      <th>2</th>\n",
       "      <td>AGO</td>\n",
       "      <td>1960</td>\n",
       "      <td>NaN</td>\n",
       "    </tr>\n",
       "    <tr>\n",
       "      <th>3</th>\n",
       "      <td>ALB</td>\n",
       "      <td>1960</td>\n",
       "      <td>NaN</td>\n",
       "    </tr>\n",
       "    <tr>\n",
       "      <th>4</th>\n",
       "      <td>AND</td>\n",
       "      <td>1960</td>\n",
       "      <td>NaN</td>\n",
       "    </tr>\n",
       "  </tbody>\n",
       "</table>\n",
       "</div>"
      ],
      "text/plain": [
       "  CountryCode  Year  MilitaryExp\n",
       "0         ABW  1960          NaN\n",
       "1         AFG  1960          NaN\n",
       "2         AGO  1960          NaN\n",
       "3         ALB  1960          NaN\n",
       "4         AND  1960          NaN"
      ]
     },
     "execution_count": 26,
     "metadata": {},
     "output_type": "execute_result"
    }
   ],
   "source": [
    "expend2.head()"
   ]
  },
  {
   "cell_type": "code",
   "execution_count": 27,
   "metadata": {},
   "outputs": [
    {
     "data": {
      "text/plain": [
       "CountryCode        object\n",
       "Year                int64\n",
       "SP.DYN.LE00.IN    float64\n",
       "MS.MIL.MPRT.KD    float64\n",
       "SP.URB.TOTL       float64\n",
       "SP.RUR.TOTL       float64\n",
       "SP.DYN.AMRT.FE    float64\n",
       "SP.DYN.AMRT.MA    float64\n",
       "SP.DYN.CBRT.IN    float64\n",
       "dtype: object"
      ]
     },
     "execution_count": 27,
     "metadata": {},
     "output_type": "execute_result"
    }
   ],
   "source": [
    "tot.dtypes"
   ]
  },
  {
   "cell_type": "code",
   "execution_count": 28,
   "metadata": {},
   "outputs": [],
   "source": [
    "tot['Year'] = tot['Year'].astype('str') #where the max length is set at 80 bytes,"
   ]
  },
  {
   "cell_type": "code",
   "execution_count": 29,
   "metadata": {},
   "outputs": [
    {
     "data": {
      "text/plain": [
       "(13473, 10)"
      ]
     },
     "execution_count": 29,
     "metadata": {},
     "output_type": "execute_result"
    }
   ],
   "source": [
    "tot2 = tot.merge(expend2, on = ['CountryCode', 'Year'], how = 'left')\n",
    "tot2.shape"
   ]
  },
  {
   "cell_type": "code",
   "execution_count": 30,
   "metadata": {},
   "outputs": [
    {
     "data": {
      "text/html": [
       "<div>\n",
       "<style scoped>\n",
       "    .dataframe tbody tr th:only-of-type {\n",
       "        vertical-align: middle;\n",
       "    }\n",
       "\n",
       "    .dataframe tbody tr th {\n",
       "        vertical-align: top;\n",
       "    }\n",
       "\n",
       "    .dataframe thead th {\n",
       "        text-align: right;\n",
       "    }\n",
       "</style>\n",
       "<table border=\"1\" class=\"dataframe\">\n",
       "  <thead>\n",
       "    <tr style=\"text-align: right;\">\n",
       "      <th></th>\n",
       "      <th>CountryCode</th>\n",
       "      <th>Year</th>\n",
       "      <th>SP.DYN.LE00.IN</th>\n",
       "      <th>MS.MIL.MPRT.KD</th>\n",
       "      <th>SP.URB.TOTL</th>\n",
       "      <th>SP.RUR.TOTL</th>\n",
       "      <th>SP.DYN.AMRT.FE</th>\n",
       "      <th>SP.DYN.AMRT.MA</th>\n",
       "      <th>SP.DYN.CBRT.IN</th>\n",
       "      <th>MilitaryExp</th>\n",
       "    </tr>\n",
       "  </thead>\n",
       "  <tbody>\n",
       "    <tr>\n",
       "      <th>0</th>\n",
       "      <td>ARB</td>\n",
       "      <td>1960</td>\n",
       "      <td>46.847059</td>\n",
       "      <td>5.380000e+08</td>\n",
       "      <td>28937699.0</td>\n",
       "      <td>63558203.0</td>\n",
       "      <td>298.935703</td>\n",
       "      <td>357.705584</td>\n",
       "      <td>47.697888</td>\n",
       "      <td>NaN</td>\n",
       "    </tr>\n",
       "    <tr>\n",
       "      <th>1</th>\n",
       "      <td>CSS</td>\n",
       "      <td>1960</td>\n",
       "      <td>62.271795</td>\n",
       "      <td>NaN</td>\n",
       "      <td>1324191.0</td>\n",
       "      <td>2866619.0</td>\n",
       "      <td>201.475579</td>\n",
       "      <td>261.118888</td>\n",
       "      <td>40.017001</td>\n",
       "      <td>NaN</td>\n",
       "    </tr>\n",
       "    <tr>\n",
       "      <th>2</th>\n",
       "      <td>CEB</td>\n",
       "      <td>1960</td>\n",
       "      <td>67.823762</td>\n",
       "      <td>2.139000e+09</td>\n",
       "      <td>40680946.0</td>\n",
       "      <td>50720637.0</td>\n",
       "      <td>124.749727</td>\n",
       "      <td>201.048873</td>\n",
       "      <td>19.117435</td>\n",
       "      <td>NaN</td>\n",
       "    </tr>\n",
       "    <tr>\n",
       "      <th>3</th>\n",
       "      <td>EAS</td>\n",
       "      <td>1960</td>\n",
       "      <td>48.298317</td>\n",
       "      <td>5.344000e+09</td>\n",
       "      <td>231871389.0</td>\n",
       "      <td>799992005.0</td>\n",
       "      <td>326.366329</td>\n",
       "      <td>446.838421</td>\n",
       "      <td>26.362350</td>\n",
       "      <td>NaN</td>\n",
       "    </tr>\n",
       "    <tr>\n",
       "      <th>4</th>\n",
       "      <td>EAP</td>\n",
       "      <td>1960</td>\n",
       "      <td>45.549658</td>\n",
       "      <td>3.535000e+09</td>\n",
       "      <td>151665806.0</td>\n",
       "      <td>744827185.0</td>\n",
       "      <td>353.252556</td>\n",
       "      <td>478.537086</td>\n",
       "      <td>26.635950</td>\n",
       "      <td>NaN</td>\n",
       "    </tr>\n",
       "  </tbody>\n",
       "</table>\n",
       "</div>"
      ],
      "text/plain": [
       "  CountryCode  Year  SP.DYN.LE00.IN  MS.MIL.MPRT.KD  SP.URB.TOTL  SP.RUR.TOTL  \\\n",
       "0         ARB  1960       46.847059    5.380000e+08   28937699.0   63558203.0   \n",
       "1         CSS  1960       62.271795             NaN    1324191.0    2866619.0   \n",
       "2         CEB  1960       67.823762    2.139000e+09   40680946.0   50720637.0   \n",
       "3         EAS  1960       48.298317    5.344000e+09  231871389.0  799992005.0   \n",
       "4         EAP  1960       45.549658    3.535000e+09  151665806.0  744827185.0   \n",
       "\n",
       "   SP.DYN.AMRT.FE  SP.DYN.AMRT.MA  SP.DYN.CBRT.IN  MilitaryExp  \n",
       "0      298.935703      357.705584       47.697888          NaN  \n",
       "1      201.475579      261.118888       40.017001          NaN  \n",
       "2      124.749727      201.048873       19.117435          NaN  \n",
       "3      326.366329      446.838421       26.362350          NaN  \n",
       "4      353.252556      478.537086       26.635950          NaN  "
      ]
     },
     "execution_count": 30,
     "metadata": {},
     "output_type": "execute_result"
    }
   ],
   "source": [
    "tot2.head()"
   ]
  },
  {
   "cell_type": "code",
   "execution_count": 31,
   "metadata": {},
   "outputs": [
    {
     "data": {
      "text/plain": [
       "<matplotlib.axes._subplots.AxesSubplot at 0x7fa47a32c510>"
      ]
     },
     "execution_count": 31,
     "metadata": {},
     "output_type": "execute_result"
    },
    {
     "data": {
      "image/png": "[encoded data removed]",
      "text/plain": [
       "<Figure size 432x288 with 2 Axes>"
      ]
     },
     "metadata": {
      "needs_background": "light"
     },
     "output_type": "display_data"
    }
   ],
   "source": [
    "from seaborn import heatmap\n",
    "heatmap(tot2.isnull())"
   ]
  },
  {
   "cell_type": "markdown",
   "metadata": {},
   "source": [
    "#### Intermediate saving of the dataset"
   ]
  },
  {
   "cell_type": "code",
   "execution_count": 32,
   "metadata": {},
   "outputs": [],
   "source": [
    "tot2.to_csv(path_or_buf='./part/partialDF', index=False)"
   ]
  },
  {
   "cell_type": "code",
   "execution_count": 33,
   "metadata": {},
   "outputs": [
    {
     "data": {
      "text/html": [
       "<div>\n",
       "<style scoped>\n",
       "    .dataframe tbody tr th:only-of-type {\n",
       "        vertical-align: middle;\n",
       "    }\n",
       "\n",
       "    .dataframe tbody tr th {\n",
       "        vertical-align: top;\n",
       "    }\n",
       "\n",
       "    .dataframe thead th {\n",
       "        text-align: right;\n",
       "    }\n",
       "</style>\n",
       "<table border=\"1\" class=\"dataframe\">\n",
       "  <thead>\n",
       "    <tr style=\"text-align: right;\">\n",
       "      <th></th>\n",
       "      <th>CountryCode</th>\n",
       "      <th>Year</th>\n",
       "      <th>SP.DYN.LE00.IN</th>\n",
       "      <th>MS.MIL.MPRT.KD</th>\n",
       "      <th>SP.URB.TOTL</th>\n",
       "      <th>SP.RUR.TOTL</th>\n",
       "      <th>SP.DYN.AMRT.FE</th>\n",
       "      <th>SP.DYN.AMRT.MA</th>\n",
       "      <th>SP.DYN.CBRT.IN</th>\n",
       "      <th>MilitaryExp</th>\n",
       "    </tr>\n",
       "  </thead>\n",
       "  <tbody>\n",
       "    <tr>\n",
       "      <th>0</th>\n",
       "      <td>ARB</td>\n",
       "      <td>1960</td>\n",
       "      <td>46.847059</td>\n",
       "      <td>5.380000e+08</td>\n",
       "      <td>28937699.0</td>\n",
       "      <td>63558203.0</td>\n",
       "      <td>298.935703</td>\n",
       "      <td>357.705584</td>\n",
       "      <td>47.697888</td>\n",
       "      <td>NaN</td>\n",
       "    </tr>\n",
       "    <tr>\n",
       "      <th>1</th>\n",
       "      <td>CSS</td>\n",
       "      <td>1960</td>\n",
       "      <td>62.271795</td>\n",
       "      <td>NaN</td>\n",
       "      <td>1324191.0</td>\n",
       "      <td>2866619.0</td>\n",
       "      <td>201.475579</td>\n",
       "      <td>261.118888</td>\n",
       "      <td>40.017001</td>\n",
       "      <td>NaN</td>\n",
       "    </tr>\n",
       "    <tr>\n",
       "      <th>2</th>\n",
       "      <td>CEB</td>\n",
       "      <td>1960</td>\n",
       "      <td>67.823762</td>\n",
       "      <td>2.139000e+09</td>\n",
       "      <td>40680946.0</td>\n",
       "      <td>50720637.0</td>\n",
       "      <td>124.749727</td>\n",
       "      <td>201.048873</td>\n",
       "      <td>19.117435</td>\n",
       "      <td>NaN</td>\n",
       "    </tr>\n",
       "    <tr>\n",
       "      <th>3</th>\n",
       "      <td>EAS</td>\n",
       "      <td>1960</td>\n",
       "      <td>48.298317</td>\n",
       "      <td>5.344000e+09</td>\n",
       "      <td>231871389.0</td>\n",
       "      <td>799992005.0</td>\n",
       "      <td>326.366329</td>\n",
       "      <td>446.838421</td>\n",
       "      <td>26.362350</td>\n",
       "      <td>NaN</td>\n",
       "    </tr>\n",
       "    <tr>\n",
       "      <th>4</th>\n",
       "      <td>EAP</td>\n",
       "      <td>1960</td>\n",
       "      <td>45.549658</td>\n",
       "      <td>3.535000e+09</td>\n",
       "      <td>151665806.0</td>\n",
       "      <td>744827185.0</td>\n",
       "      <td>353.252556</td>\n",
       "      <td>478.537086</td>\n",
       "      <td>26.635950</td>\n",
       "      <td>NaN</td>\n",
       "    </tr>\n",
       "  </tbody>\n",
       "</table>\n",
       "</div>"
      ],
      "text/plain": [
       "  CountryCode  Year  SP.DYN.LE00.IN  MS.MIL.MPRT.KD  SP.URB.TOTL  SP.RUR.TOTL  \\\n",
       "0         ARB  1960       46.847059    5.380000e+08   28937699.0   63558203.0   \n",
       "1         CSS  1960       62.271795             NaN    1324191.0    2866619.0   \n",
       "2         CEB  1960       67.823762    2.139000e+09   40680946.0   50720637.0   \n",
       "3         EAS  1960       48.298317    5.344000e+09  231871389.0  799992005.0   \n",
       "4         EAP  1960       45.549658    3.535000e+09  151665806.0  744827185.0   \n",
       "\n",
       "   SP.DYN.AMRT.FE  SP.DYN.AMRT.MA  SP.DYN.CBRT.IN  MilitaryExp  \n",
       "0      298.935703      357.705584       47.697888          NaN  \n",
       "1      201.475579      261.118888       40.017001          NaN  \n",
       "2      124.749727      201.048873       19.117435          NaN  \n",
       "3      326.366329      446.838421       26.362350          NaN  \n",
       "4      353.252556      478.537086       26.635950          NaN  "
      ]
     },
     "execution_count": 33,
     "metadata": {},
     "output_type": "execute_result"
    }
   ],
   "source": [
    "tot2 = pd.read_csv('./part/partialDF')\n",
    "tot2.head()"
   ]
  },
  {
   "cell_type": "code",
   "execution_count": 34,
   "metadata": {},
   "outputs": [],
   "source": [
    "dens = pd.read_csv('./part/density')"
   ]
  },
  {
   "cell_type": "code",
   "execution_count": 35,
   "metadata": {},
   "outputs": [
    {
     "data": {
      "text/html": [
       "<div>\n",
       "<style scoped>\n",
       "    .dataframe tbody tr th:only-of-type {\n",
       "        vertical-align: middle;\n",
       "    }\n",
       "\n",
       "    .dataframe tbody tr th {\n",
       "        vertical-align: top;\n",
       "    }\n",
       "\n",
       "    .dataframe thead th {\n",
       "        text-align: right;\n",
       "    }\n",
       "</style>\n",
       "<table border=\"1\" class=\"dataframe\">\n",
       "  <thead>\n",
       "    <tr style=\"text-align: right;\">\n",
       "      <th></th>\n",
       "      <th>CountryCode</th>\n",
       "      <th>Year</th>\n",
       "      <th>Density</th>\n",
       "    </tr>\n",
       "  </thead>\n",
       "  <tbody>\n",
       "    <tr>\n",
       "      <th>0</th>\n",
       "      <td>ARB</td>\n",
       "      <td>1960</td>\n",
       "      <td>-9.249590e+07</td>\n",
       "    </tr>\n",
       "    <tr>\n",
       "      <th>1</th>\n",
       "      <td>CSS</td>\n",
       "      <td>1960</td>\n",
       "      <td>-4.190810e+06</td>\n",
       "    </tr>\n",
       "    <tr>\n",
       "      <th>2</th>\n",
       "      <td>CEB</td>\n",
       "      <td>1960</td>\n",
       "      <td>-9.140158e+07</td>\n",
       "    </tr>\n",
       "    <tr>\n",
       "      <th>3</th>\n",
       "      <td>EAS</td>\n",
       "      <td>1960</td>\n",
       "      <td>-1.042475e+09</td>\n",
       "    </tr>\n",
       "    <tr>\n",
       "      <th>4</th>\n",
       "      <td>EAP</td>\n",
       "      <td>1960</td>\n",
       "      <td>-8.964930e+08</td>\n",
       "    </tr>\n",
       "  </tbody>\n",
       "</table>\n",
       "</div>"
      ],
      "text/plain": [
       "  CountryCode  Year       Density\n",
       "0         ARB  1960 -9.249590e+07\n",
       "1         CSS  1960 -4.190810e+06\n",
       "2         CEB  1960 -9.140158e+07\n",
       "3         EAS  1960 -1.042475e+09\n",
       "4         EAP  1960 -8.964930e+08"
      ]
     },
     "execution_count": 35,
     "metadata": {},
     "output_type": "execute_result"
    }
   ],
   "source": [
    "dens.head()"
   ]
  },
  {
   "cell_type": "code",
   "execution_count": 36,
   "metadata": {},
   "outputs": [],
   "source": [
    "tot3 = tot2.merge(dens, on=['CountryCode','Year'], how='left')"
   ]
  },
  {
   "cell_type": "code",
   "execution_count": 37,
   "metadata": {},
   "outputs": [
    {
     "data": {
      "text/html": [
       "<div>\n",
       "<style scoped>\n",
       "    .dataframe tbody tr th:only-of-type {\n",
       "        vertical-align: middle;\n",
       "    }\n",
       "\n",
       "    .dataframe tbody tr th {\n",
       "        vertical-align: top;\n",
       "    }\n",
       "\n",
       "    .dataframe thead th {\n",
       "        text-align: right;\n",
       "    }\n",
       "</style>\n",
       "<table border=\"1\" class=\"dataframe\">\n",
       "  <thead>\n",
       "    <tr style=\"text-align: right;\">\n",
       "      <th></th>\n",
       "      <th>CountryCode</th>\n",
       "      <th>Year</th>\n",
       "      <th>SP.DYN.LE00.IN</th>\n",
       "      <th>MS.MIL.MPRT.KD</th>\n",
       "      <th>SP.URB.TOTL</th>\n",
       "      <th>SP.RUR.TOTL</th>\n",
       "      <th>SP.DYN.AMRT.FE</th>\n",
       "      <th>SP.DYN.AMRT.MA</th>\n",
       "      <th>SP.DYN.CBRT.IN</th>\n",
       "      <th>MilitaryExp</th>\n",
       "      <th>Density</th>\n",
       "    </tr>\n",
       "  </thead>\n",
       "  <tbody>\n",
       "    <tr>\n",
       "      <th>0</th>\n",
       "      <td>ARB</td>\n",
       "      <td>1960</td>\n",
       "      <td>46.847059</td>\n",
       "      <td>5.380000e+08</td>\n",
       "      <td>28937699.0</td>\n",
       "      <td>63558203.0</td>\n",
       "      <td>298.935703</td>\n",
       "      <td>357.705584</td>\n",
       "      <td>47.697888</td>\n",
       "      <td>NaN</td>\n",
       "      <td>-9.249590e+07</td>\n",
       "    </tr>\n",
       "    <tr>\n",
       "      <th>1</th>\n",
       "      <td>CSS</td>\n",
       "      <td>1960</td>\n",
       "      <td>62.271795</td>\n",
       "      <td>NaN</td>\n",
       "      <td>1324191.0</td>\n",
       "      <td>2866619.0</td>\n",
       "      <td>201.475579</td>\n",
       "      <td>261.118888</td>\n",
       "      <td>40.017001</td>\n",
       "      <td>NaN</td>\n",
       "      <td>-4.190810e+06</td>\n",
       "    </tr>\n",
       "    <tr>\n",
       "      <th>2</th>\n",
       "      <td>CEB</td>\n",
       "      <td>1960</td>\n",
       "      <td>67.823762</td>\n",
       "      <td>2.139000e+09</td>\n",
       "      <td>40680946.0</td>\n",
       "      <td>50720637.0</td>\n",
       "      <td>124.749727</td>\n",
       "      <td>201.048873</td>\n",
       "      <td>19.117435</td>\n",
       "      <td>NaN</td>\n",
       "      <td>-9.140158e+07</td>\n",
       "    </tr>\n",
       "    <tr>\n",
       "      <th>3</th>\n",
       "      <td>EAS</td>\n",
       "      <td>1960</td>\n",
       "      <td>48.298317</td>\n",
       "      <td>5.344000e+09</td>\n",
       "      <td>231871389.0</td>\n",
       "      <td>799992005.0</td>\n",
       "      <td>326.366329</td>\n",
       "      <td>446.838421</td>\n",
       "      <td>26.362350</td>\n",
       "      <td>NaN</td>\n",
       "      <td>-1.042475e+09</td>\n",
       "    </tr>\n",
       "    <tr>\n",
       "      <th>4</th>\n",
       "      <td>EAP</td>\n",
       "      <td>1960</td>\n",
       "      <td>45.549658</td>\n",
       "      <td>3.535000e+09</td>\n",
       "      <td>151665806.0</td>\n",
       "      <td>744827185.0</td>\n",
       "      <td>353.252556</td>\n",
       "      <td>478.537086</td>\n",
       "      <td>26.635950</td>\n",
       "      <td>NaN</td>\n",
       "      <td>-8.964930e+08</td>\n",
       "    </tr>\n",
       "  </tbody>\n",
       "</table>\n",
       "</div>"
      ],
      "text/plain": [
       "  CountryCode  Year  SP.DYN.LE00.IN  MS.MIL.MPRT.KD  SP.URB.TOTL  SP.RUR.TOTL  \\\n",
       "0         ARB  1960       46.847059    5.380000e+08   28937699.0   63558203.0   \n",
       "1         CSS  1960       62.271795             NaN    1324191.0    2866619.0   \n",
       "2         CEB  1960       67.823762    2.139000e+09   40680946.0   50720637.0   \n",
       "3         EAS  1960       48.298317    5.344000e+09  231871389.0  799992005.0   \n",
       "4         EAP  1960       45.549658    3.535000e+09  151665806.0  744827185.0   \n",
       "\n",
       "   SP.DYN.AMRT.FE  SP.DYN.AMRT.MA  SP.DYN.CBRT.IN  MilitaryExp       Density  \n",
       "0      298.935703      357.705584       47.697888          NaN -9.249590e+07  \n",
       "1      201.475579      261.118888       40.017001          NaN -4.190810e+06  \n",
       "2      124.749727      201.048873       19.117435          NaN -9.140158e+07  \n",
       "3      326.366329      446.838421       26.362350          NaN -1.042475e+09  \n",
       "4      353.252556      478.537086       26.635950          NaN -8.964930e+08  "
      ]
     },
     "execution_count": 37,
     "metadata": {},
     "output_type": "execute_result"
    }
   ],
   "source": [
    "tot3.head()"
   ]
  },
  {
   "cell_type": "markdown",
   "metadata": {},
   "source": [
    "### Columns explanation\n",
    "\n",
    "SP.DYN.LE00.IN: Life expectancy at birth\n",
    "\n",
    "MS.MIL.MPRT.KD: Arms import\n",
    "\n",
    "SP.URB.TOTL: Urban population\n",
    "\n",
    "SP.RUR.TOTL: Rural population\n",
    "\n",
    "SP.DYN.AMRT.FE: Mortality rate, female\n",
    "\n",
    "SP.DYN.AMRT.MA: Mortality rate, male\n",
    "\n",
    "SP.DYN.CBRT.IN: Birth rate (per 1000 people)\n",
    "\n",
    "MilitaryExp: Military expenditure made in the Year\n",
    "\n",
    "Density: population density"
   ]
  },
  {
   "cell_type": "markdown",
   "metadata": {},
   "source": [
    "### Now I have to insert the count of all the attacks in one year in one single country."
   ]
  },
  {
   "cell_type": "code",
   "execution_count": 60,
   "metadata": {},
   "outputs": [],
   "source": [
    "cnt = pd.read_csv('./dataset/tot_year+country')"
   ]
  },
  {
   "cell_type": "code",
   "execution_count": 62,
   "metadata": {},
   "outputs": [],
   "source": [
    "cnt[\"iyear\"] = cnt[\"iyear\"].astype(int)"
   ]
  },
  {
   "cell_type": "code",
   "execution_count": 63,
   "metadata": {},
   "outputs": [
    {
     "data": {
      "text/plain": [
       "CountryCode     object\n",
       "iyear            int64\n",
       "cnt            float64\n",
       "dtype: object"
      ]
     },
     "execution_count": 63,
     "metadata": {},
     "output_type": "execute_result"
    }
   ],
   "source": [
    "cnt.dtypes"
   ]
  },
  {
   "cell_type": "code",
   "execution_count": 72,
   "metadata": {},
   "outputs": [
    {
     "data": {
      "text/plain": [
       "(3509, 3)"
      ]
     },
     "execution_count": 72,
     "metadata": {},
     "output_type": "execute_result"
    }
   ],
   "source": [
    "cnt.shape"
   ]
  },
  {
   "cell_type": "code",
   "execution_count": 73,
   "metadata": {},
   "outputs": [],
   "source": [
    "tot4 = tot3.merge(cnt, left_on=['CountryCode','Year'], right_on=['CountryCode','iyear'], how='left')"
   ]
  },
  {
   "cell_type": "code",
   "execution_count": 74,
   "metadata": {},
   "outputs": [
    {
     "data": {
      "text/html": [
       "<div>\n",
       "<style scoped>\n",
       "    .dataframe tbody tr th:only-of-type {\n",
       "        vertical-align: middle;\n",
       "    }\n",
       "\n",
       "    .dataframe tbody tr th {\n",
       "        vertical-align: top;\n",
       "    }\n",
       "\n",
       "    .dataframe thead th {\n",
       "        text-align: right;\n",
       "    }\n",
       "</style>\n",
       "<table border=\"1\" class=\"dataframe\">\n",
       "  <thead>\n",
       "    <tr style=\"text-align: right;\">\n",
       "      <th></th>\n",
       "      <th>CountryCode</th>\n",
       "      <th>Year</th>\n",
       "      <th>SP.DYN.LE00.IN</th>\n",
       "      <th>MS.MIL.MPRT.KD</th>\n",
       "      <th>SP.URB.TOTL</th>\n",
       "      <th>SP.RUR.TOTL</th>\n",
       "      <th>SP.DYN.AMRT.FE</th>\n",
       "      <th>SP.DYN.AMRT.MA</th>\n",
       "      <th>SP.DYN.CBRT.IN</th>\n",
       "      <th>MilitaryExp</th>\n",
       "      <th>Density</th>\n",
       "      <th>iyear</th>\n",
       "      <th>cnt</th>\n",
       "    </tr>\n",
       "  </thead>\n",
       "  <tbody>\n",
       "    <tr>\n",
       "      <th>0</th>\n",
       "      <td>ARB</td>\n",
       "      <td>1960</td>\n",
       "      <td>46.847059</td>\n",
       "      <td>5.380000e+08</td>\n",
       "      <td>28937699.0</td>\n",
       "      <td>63558203.0</td>\n",
       "      <td>298.935703</td>\n",
       "      <td>357.705584</td>\n",
       "      <td>47.697888</td>\n",
       "      <td>NaN</td>\n",
       "      <td>-9.249590e+07</td>\n",
       "      <td>NaN</td>\n",
       "      <td>NaN</td>\n",
       "    </tr>\n",
       "    <tr>\n",
       "      <th>1</th>\n",
       "      <td>CSS</td>\n",
       "      <td>1960</td>\n",
       "      <td>62.271795</td>\n",
       "      <td>NaN</td>\n",
       "      <td>1324191.0</td>\n",
       "      <td>2866619.0</td>\n",
       "      <td>201.475579</td>\n",
       "      <td>261.118888</td>\n",
       "      <td>40.017001</td>\n",
       "      <td>NaN</td>\n",
       "      <td>-4.190810e+06</td>\n",
       "      <td>NaN</td>\n",
       "      <td>NaN</td>\n",
       "    </tr>\n",
       "    <tr>\n",
       "      <th>2</th>\n",
       "      <td>CEB</td>\n",
       "      <td>1960</td>\n",
       "      <td>67.823762</td>\n",
       "      <td>2.139000e+09</td>\n",
       "      <td>40680946.0</td>\n",
       "      <td>50720637.0</td>\n",
       "      <td>124.749727</td>\n",
       "      <td>201.048873</td>\n",
       "      <td>19.117435</td>\n",
       "      <td>NaN</td>\n",
       "      <td>-9.140158e+07</td>\n",
       "      <td>NaN</td>\n",
       "      <td>NaN</td>\n",
       "    </tr>\n",
       "    <tr>\n",
       "      <th>3</th>\n",
       "      <td>EAS</td>\n",
       "      <td>1960</td>\n",
       "      <td>48.298317</td>\n",
       "      <td>5.344000e+09</td>\n",
       "      <td>231871389.0</td>\n",
       "      <td>799992005.0</td>\n",
       "      <td>326.366329</td>\n",
       "      <td>446.838421</td>\n",
       "      <td>26.362350</td>\n",
       "      <td>NaN</td>\n",
       "      <td>-1.042475e+09</td>\n",
       "      <td>NaN</td>\n",
       "      <td>NaN</td>\n",
       "    </tr>\n",
       "    <tr>\n",
       "      <th>4</th>\n",
       "      <td>EAP</td>\n",
       "      <td>1960</td>\n",
       "      <td>45.549658</td>\n",
       "      <td>3.535000e+09</td>\n",
       "      <td>151665806.0</td>\n",
       "      <td>744827185.0</td>\n",
       "      <td>353.252556</td>\n",
       "      <td>478.537086</td>\n",
       "      <td>26.635950</td>\n",
       "      <td>NaN</td>\n",
       "      <td>-8.964930e+08</td>\n",
       "      <td>NaN</td>\n",
       "      <td>NaN</td>\n",
       "    </tr>\n",
       "    <tr>\n",
       "      <th>...</th>\n",
       "      <td>...</td>\n",
       "      <td>...</td>\n",
       "      <td>...</td>\n",
       "      <td>...</td>\n",
       "      <td>...</td>\n",
       "      <td>...</td>\n",
       "      <td>...</td>\n",
       "      <td>...</td>\n",
       "      <td>...</td>\n",
       "      <td>...</td>\n",
       "      <td>...</td>\n",
       "      <td>...</td>\n",
       "      <td>...</td>\n",
       "    </tr>\n",
       "    <tr>\n",
       "      <th>13468</th>\n",
       "      <td>SRB</td>\n",
       "      <td>1985</td>\n",
       "      <td>NaN</td>\n",
       "      <td>NaN</td>\n",
       "      <td>NaN</td>\n",
       "      <td>NaN</td>\n",
       "      <td>107.875400</td>\n",
       "      <td>199.063200</td>\n",
       "      <td>NaN</td>\n",
       "      <td>NaN</td>\n",
       "      <td>NaN</td>\n",
       "      <td>NaN</td>\n",
       "      <td>NaN</td>\n",
       "    </tr>\n",
       "    <tr>\n",
       "      <th>13469</th>\n",
       "      <td>SRB</td>\n",
       "      <td>1986</td>\n",
       "      <td>NaN</td>\n",
       "      <td>NaN</td>\n",
       "      <td>NaN</td>\n",
       "      <td>NaN</td>\n",
       "      <td>106.232200</td>\n",
       "      <td>201.110600</td>\n",
       "      <td>NaN</td>\n",
       "      <td>NaN</td>\n",
       "      <td>NaN</td>\n",
       "      <td>NaN</td>\n",
       "      <td>NaN</td>\n",
       "    </tr>\n",
       "    <tr>\n",
       "      <th>13470</th>\n",
       "      <td>SRB</td>\n",
       "      <td>1987</td>\n",
       "      <td>NaN</td>\n",
       "      <td>NaN</td>\n",
       "      <td>NaN</td>\n",
       "      <td>NaN</td>\n",
       "      <td>104.589000</td>\n",
       "      <td>203.158000</td>\n",
       "      <td>NaN</td>\n",
       "      <td>NaN</td>\n",
       "      <td>NaN</td>\n",
       "      <td>NaN</td>\n",
       "      <td>NaN</td>\n",
       "    </tr>\n",
       "    <tr>\n",
       "      <th>13471</th>\n",
       "      <td>SRB</td>\n",
       "      <td>1988</td>\n",
       "      <td>NaN</td>\n",
       "      <td>NaN</td>\n",
       "      <td>NaN</td>\n",
       "      <td>NaN</td>\n",
       "      <td>104.610400</td>\n",
       "      <td>201.766000</td>\n",
       "      <td>NaN</td>\n",
       "      <td>NaN</td>\n",
       "      <td>NaN</td>\n",
       "      <td>NaN</td>\n",
       "      <td>NaN</td>\n",
       "    </tr>\n",
       "    <tr>\n",
       "      <th>13472</th>\n",
       "      <td>SRB</td>\n",
       "      <td>1989</td>\n",
       "      <td>NaN</td>\n",
       "      <td>NaN</td>\n",
       "      <td>NaN</td>\n",
       "      <td>NaN</td>\n",
       "      <td>104.631800</td>\n",
       "      <td>200.374000</td>\n",
       "      <td>NaN</td>\n",
       "      <td>NaN</td>\n",
       "      <td>NaN</td>\n",
       "      <td>NaN</td>\n",
       "      <td>NaN</td>\n",
       "    </tr>\n",
       "  </tbody>\n",
       "</table>\n",
       "<p>13473 rows × 13 columns</p>\n",
       "</div>"
      ],
      "text/plain": [
       "      CountryCode  Year  SP.DYN.LE00.IN  MS.MIL.MPRT.KD  SP.URB.TOTL  \\\n",
       "0             ARB  1960       46.847059    5.380000e+08   28937699.0   \n",
       "1             CSS  1960       62.271795             NaN    1324191.0   \n",
       "2             CEB  1960       67.823762    2.139000e+09   40680946.0   \n",
       "3             EAS  1960       48.298317    5.344000e+09  231871389.0   \n",
       "4             EAP  1960       45.549658    3.535000e+09  151665806.0   \n",
       "...           ...   ...             ...             ...          ...   \n",
       "13468         SRB  1985             NaN             NaN          NaN   \n",
       "13469         SRB  1986             NaN             NaN          NaN   \n",
       "13470         SRB  1987             NaN             NaN          NaN   \n",
       "13471         SRB  1988             NaN             NaN          NaN   \n",
       "13472         SRB  1989             NaN             NaN          NaN   \n",
       "\n",
       "       SP.RUR.TOTL  SP.DYN.AMRT.FE  SP.DYN.AMRT.MA  SP.DYN.CBRT.IN  \\\n",
       "0       63558203.0      298.935703      357.705584       47.697888   \n",
       "1        2866619.0      201.475579      261.118888       40.017001   \n",
       "2       50720637.0      124.749727      201.048873       19.117435   \n",
       "3      799992005.0      326.366329      446.838421       26.362350   \n",
       "4      744827185.0      353.252556      478.537086       26.635950   \n",
       "...            ...             ...             ...             ...   \n",
       "13468          NaN      107.875400      199.063200             NaN   \n",
       "13469          NaN      106.232200      201.110600             NaN   \n",
       "13470          NaN      104.589000      203.158000             NaN   \n",
       "13471          NaN      104.610400      201.766000             NaN   \n",
       "13472          NaN      104.631800      200.374000             NaN   \n",
       "\n",
       "       MilitaryExp       Density  iyear  cnt  \n",
       "0              NaN -9.249590e+07    NaN  NaN  \n",
       "1              NaN -4.190810e+06    NaN  NaN  \n",
       "2              NaN -9.140158e+07    NaN  NaN  \n",
       "3              NaN -1.042475e+09    NaN  NaN  \n",
       "4              NaN -8.964930e+08    NaN  NaN  \n",
       "...            ...           ...    ...  ...  \n",
       "13468          NaN           NaN    NaN  NaN  \n",
       "13469          NaN           NaN    NaN  NaN  \n",
       "13470          NaN           NaN    NaN  NaN  \n",
       "13471          NaN           NaN    NaN  NaN  \n",
       "13472          NaN           NaN    NaN  NaN  \n",
       "\n",
       "[13473 rows x 13 columns]"
      ]
     },
     "execution_count": 74,
     "metadata": {},
     "output_type": "execute_result"
    }
   ],
   "source": [
    "tot4"
   ]
  },
  {
   "cell_type": "code",
   "execution_count": 67,
   "metadata": {},
   "outputs": [
    {
     "data": {
      "text/html": [
       "<div>\n",
       "<style scoped>\n",
       "    .dataframe tbody tr th:only-of-type {\n",
       "        vertical-align: middle;\n",
       "    }\n",
       "\n",
       "    .dataframe tbody tr th {\n",
       "        vertical-align: top;\n",
       "    }\n",
       "\n",
       "    .dataframe thead th {\n",
       "        text-align: right;\n",
       "    }\n",
       "</style>\n",
       "<table border=\"1\" class=\"dataframe\">\n",
       "  <thead>\n",
       "    <tr style=\"text-align: right;\">\n",
       "      <th></th>\n",
       "      <th>CountryCode</th>\n",
       "      <th>Year</th>\n",
       "      <th>SP.DYN.LE00.IN</th>\n",
       "      <th>MS.MIL.MPRT.KD</th>\n",
       "      <th>SP.URB.TOTL</th>\n",
       "      <th>SP.RUR.TOTL</th>\n",
       "      <th>SP.DYN.AMRT.FE</th>\n",
       "      <th>SP.DYN.AMRT.MA</th>\n",
       "      <th>SP.DYN.CBRT.IN</th>\n",
       "      <th>MilitaryExp</th>\n",
       "      <th>Density</th>\n",
       "      <th>iyear</th>\n",
       "      <th>cnt</th>\n",
       "    </tr>\n",
       "  </thead>\n",
       "  <tbody>\n",
       "    <tr>\n",
       "      <th>0</th>\n",
       "      <td>ARB</td>\n",
       "      <td>1960</td>\n",
       "      <td>46.847059</td>\n",
       "      <td>5.380000e+08</td>\n",
       "      <td>28937699.0</td>\n",
       "      <td>63558203.0</td>\n",
       "      <td>298.935703</td>\n",
       "      <td>357.705584</td>\n",
       "      <td>47.697888</td>\n",
       "      <td>NaN</td>\n",
       "      <td>-9.249590e+07</td>\n",
       "      <td>NaN</td>\n",
       "      <td>NaN</td>\n",
       "    </tr>\n",
       "    <tr>\n",
       "      <th>1</th>\n",
       "      <td>CSS</td>\n",
       "      <td>1960</td>\n",
       "      <td>62.271795</td>\n",
       "      <td>NaN</td>\n",
       "      <td>1324191.0</td>\n",
       "      <td>2866619.0</td>\n",
       "      <td>201.475579</td>\n",
       "      <td>261.118888</td>\n",
       "      <td>40.017001</td>\n",
       "      <td>NaN</td>\n",
       "      <td>-4.190810e+06</td>\n",
       "      <td>NaN</td>\n",
       "      <td>NaN</td>\n",
       "    </tr>\n",
       "    <tr>\n",
       "      <th>2</th>\n",
       "      <td>CEB</td>\n",
       "      <td>1960</td>\n",
       "      <td>67.823762</td>\n",
       "      <td>2.139000e+09</td>\n",
       "      <td>40680946.0</td>\n",
       "      <td>50720637.0</td>\n",
       "      <td>124.749727</td>\n",
       "      <td>201.048873</td>\n",
       "      <td>19.117435</td>\n",
       "      <td>NaN</td>\n",
       "      <td>-9.140158e+07</td>\n",
       "      <td>NaN</td>\n",
       "      <td>NaN</td>\n",
       "    </tr>\n",
       "    <tr>\n",
       "      <th>3</th>\n",
       "      <td>EAS</td>\n",
       "      <td>1960</td>\n",
       "      <td>48.298317</td>\n",
       "      <td>5.344000e+09</td>\n",
       "      <td>231871389.0</td>\n",
       "      <td>799992005.0</td>\n",
       "      <td>326.366329</td>\n",
       "      <td>446.838421</td>\n",
       "      <td>26.362350</td>\n",
       "      <td>NaN</td>\n",
       "      <td>-1.042475e+09</td>\n",
       "      <td>NaN</td>\n",
       "      <td>NaN</td>\n",
       "    </tr>\n",
       "    <tr>\n",
       "      <th>4</th>\n",
       "      <td>EAP</td>\n",
       "      <td>1960</td>\n",
       "      <td>45.549658</td>\n",
       "      <td>3.535000e+09</td>\n",
       "      <td>151665806.0</td>\n",
       "      <td>744827185.0</td>\n",
       "      <td>353.252556</td>\n",
       "      <td>478.537086</td>\n",
       "      <td>26.635950</td>\n",
       "      <td>NaN</td>\n",
       "      <td>-8.964930e+08</td>\n",
       "      <td>NaN</td>\n",
       "      <td>NaN</td>\n",
       "    </tr>\n",
       "    <tr>\n",
       "      <th>...</th>\n",
       "      <td>...</td>\n",
       "      <td>...</td>\n",
       "      <td>...</td>\n",
       "      <td>...</td>\n",
       "      <td>...</td>\n",
       "      <td>...</td>\n",
       "      <td>...</td>\n",
       "      <td>...</td>\n",
       "      <td>...</td>\n",
       "      <td>...</td>\n",
       "      <td>...</td>\n",
       "      <td>...</td>\n",
       "      <td>...</td>\n",
       "    </tr>\n",
       "    <tr>\n",
       "      <th>13468</th>\n",
       "      <td>SRB</td>\n",
       "      <td>1985</td>\n",
       "      <td>NaN</td>\n",
       "      <td>NaN</td>\n",
       "      <td>NaN</td>\n",
       "      <td>NaN</td>\n",
       "      <td>107.875400</td>\n",
       "      <td>199.063200</td>\n",
       "      <td>NaN</td>\n",
       "      <td>NaN</td>\n",
       "      <td>NaN</td>\n",
       "      <td>NaN</td>\n",
       "      <td>NaN</td>\n",
       "    </tr>\n",
       "    <tr>\n",
       "      <th>13469</th>\n",
       "      <td>SRB</td>\n",
       "      <td>1986</td>\n",
       "      <td>NaN</td>\n",
       "      <td>NaN</td>\n",
       "      <td>NaN</td>\n",
       "      <td>NaN</td>\n",
       "      <td>106.232200</td>\n",
       "      <td>201.110600</td>\n",
       "      <td>NaN</td>\n",
       "      <td>NaN</td>\n",
       "      <td>NaN</td>\n",
       "      <td>NaN</td>\n",
       "      <td>NaN</td>\n",
       "    </tr>\n",
       "    <tr>\n",
       "      <th>13470</th>\n",
       "      <td>SRB</td>\n",
       "      <td>1987</td>\n",
       "      <td>NaN</td>\n",
       "      <td>NaN</td>\n",
       "      <td>NaN</td>\n",
       "      <td>NaN</td>\n",
       "      <td>104.589000</td>\n",
       "      <td>203.158000</td>\n",
       "      <td>NaN</td>\n",
       "      <td>NaN</td>\n",
       "      <td>NaN</td>\n",
       "      <td>NaN</td>\n",
       "      <td>NaN</td>\n",
       "    </tr>\n",
       "    <tr>\n",
       "      <th>13471</th>\n",
       "      <td>SRB</td>\n",
       "      <td>1988</td>\n",
       "      <td>NaN</td>\n",
       "      <td>NaN</td>\n",
       "      <td>NaN</td>\n",
       "      <td>NaN</td>\n",
       "      <td>104.610400</td>\n",
       "      <td>201.766000</td>\n",
       "      <td>NaN</td>\n",
       "      <td>NaN</td>\n",
       "      <td>NaN</td>\n",
       "      <td>NaN</td>\n",
       "      <td>NaN</td>\n",
       "    </tr>\n",
       "    <tr>\n",
       "      <th>13472</th>\n",
       "      <td>SRB</td>\n",
       "      <td>1989</td>\n",
       "      <td>NaN</td>\n",
       "      <td>NaN</td>\n",
       "      <td>NaN</td>\n",
       "      <td>NaN</td>\n",
       "      <td>104.631800</td>\n",
       "      <td>200.374000</td>\n",
       "      <td>NaN</td>\n",
       "      <td>NaN</td>\n",
       "      <td>NaN</td>\n",
       "      <td>NaN</td>\n",
       "      <td>NaN</td>\n",
       "    </tr>\n",
       "  </tbody>\n",
       "</table>\n",
       "<p>10326 rows × 13 columns</p>\n",
       "</div>"
      ],
      "text/plain": [
       "      CountryCode  Year  SP.DYN.LE00.IN  MS.MIL.MPRT.KD  SP.URB.TOTL  \\\n",
       "0             ARB  1960       46.847059    5.380000e+08   28937699.0   \n",
       "1             CSS  1960       62.271795             NaN    1324191.0   \n",
       "2             CEB  1960       67.823762    2.139000e+09   40680946.0   \n",
       "3             EAS  1960       48.298317    5.344000e+09  231871389.0   \n",
       "4             EAP  1960       45.549658    3.535000e+09  151665806.0   \n",
       "...           ...   ...             ...             ...          ...   \n",
       "13468         SRB  1985             NaN             NaN          NaN   \n",
       "13469         SRB  1986             NaN             NaN          NaN   \n",
       "13470         SRB  1987             NaN             NaN          NaN   \n",
       "13471         SRB  1988             NaN             NaN          NaN   \n",
       "13472         SRB  1989             NaN             NaN          NaN   \n",
       "\n",
       "       SP.RUR.TOTL  SP.DYN.AMRT.FE  SP.DYN.AMRT.MA  SP.DYN.CBRT.IN  \\\n",
       "0       63558203.0      298.935703      357.705584       47.697888   \n",
       "1        2866619.0      201.475579      261.118888       40.017001   \n",
       "2       50720637.0      124.749727      201.048873       19.117435   \n",
       "3      799992005.0      326.366329      446.838421       26.362350   \n",
       "4      744827185.0      353.252556      478.537086       26.635950   \n",
       "...            ...             ...             ...             ...   \n",
       "13468          NaN      107.875400      199.063200             NaN   \n",
       "13469          NaN      106.232200      201.110600             NaN   \n",
       "13470          NaN      104.589000      203.158000             NaN   \n",
       "13471          NaN      104.610400      201.766000             NaN   \n",
       "13472          NaN      104.631800      200.374000             NaN   \n",
       "\n",
       "       MilitaryExp       Density  iyear  cnt  \n",
       "0              NaN -9.249590e+07    NaN  NaN  \n",
       "1              NaN -4.190810e+06    NaN  NaN  \n",
       "2              NaN -9.140158e+07    NaN  NaN  \n",
       "3              NaN -1.042475e+09    NaN  NaN  \n",
       "4              NaN -8.964930e+08    NaN  NaN  \n",
       "...            ...           ...    ...  ...  \n",
       "13468          NaN           NaN    NaN  NaN  \n",
       "13469          NaN           NaN    NaN  NaN  \n",
       "13470          NaN           NaN    NaN  NaN  \n",
       "13471          NaN           NaN    NaN  NaN  \n",
       "13472          NaN           NaN    NaN  NaN  \n",
       "\n",
       "[10326 rows x 13 columns]"
      ]
     },
     "execution_count": 67,
     "metadata": {},
     "output_type": "execute_result"
    }
   ],
   "source": [
    "tot4[tot4.cnt.isnull()]"
   ]
  },
  {
   "cell_type": "code",
   "execution_count": 75,
   "metadata": {},
   "outputs": [
    {
     "data": {
      "text/plain": [
       "<matplotlib.axes._subplots.AxesSubplot at 0x7fa4761d1910>"
      ]
     },
     "execution_count": 75,
     "metadata": {},
     "output_type": "execute_result"
    },
    {
     "data": {
      "image/png": "[encoded data removed]",
      "text/plain": [
       "<Figure size 432x288 with 2 Axes>"
      ]
     },
     "metadata": {
      "needs_background": "light"
     },
     "output_type": "display_data"
    }
   ],
   "source": [
    "from seaborn import heatmap\n",
    "heatmap(tot4.isnull())"
   ]
  },
  {
   "cell_type": "code",
   "execution_count": 76,
   "metadata": {},
   "outputs": [],
   "source": [
    "tot4.to_csv(path_or_buf='./part/DF1sthyp', index=False)"
   ]
  },
  {
   "cell_type": "code",
   "execution_count": 77,
   "metadata": {},
   "outputs": [],
   "source": [
    "tot4 = pd.read_csv('./part/DF1sthyp')"
   ]
  },
  {
   "cell_type": "markdown",
   "metadata": {},
   "source": [
    "## We can get rid of the records where we have missing values for the life expectance, mortality rate (male), mortality rate (female) and birth rate\n",
    "Let's remind the associated Codes:\n",
    "- Life Expectancy: <strong>SP.DYN.LE00.IN</strong>\n",
    "- Mortality Rate (male): <strong>SP.DYN.AMRT.MA</strong>\n",
    "- Mortality Rate (female): <strong>SP.DYN.AMRT.FE</strong>\n",
    "- Birth Rate: <strong>SP.DYN.CBRT.IN</strong>"
   ]
  },
  {
   "cell_type": "code",
   "execution_count": 78,
   "metadata": {},
   "outputs": [
    {
     "data": {
      "text/plain": [
       "<matplotlib.axes._subplots.AxesSubplot at 0x7fa474c929d0>"
      ]
     },
     "execution_count": 78,
     "metadata": {},
     "output_type": "execute_result"
    },
    {
     "data": {
      "image/png": "[encoded data removed]",
      "text/plain": [
       "<Figure size 432x288 with 2 Axes>"
      ]
     },
     "metadata": {
      "needs_background": "light"
     },
     "output_type": "display_data"
    }
   ],
   "source": [
    "tot4 = tot4.dropna(subset=['SP.DYN.LE00.IN', 'SP.DYN.AMRT.MA', 'SP.DYN.AMRT.FE', 'SP.DYN.CBRT.IN'])\n",
    "heatmap(tot4.isnull())"
   ]
  },
  {
   "cell_type": "markdown",
   "metadata": {},
   "source": [
    "As we can see, we lost just about 1000 samples, over almost 13.000; that's a reasonable compromise"
   ]
  },
  {
   "cell_type": "markdown",
   "metadata": {},
   "source": [
    "## Since the missing values about arms import and military expenditures are too much (about half of the records), we cannot just drop them; so we try to mitigate this problem by substituting the NaN values with the mean of the recorded values\n",
    "Again, let's remind the Codes we have to work on:\n",
    "- arms import: <strong>MS.MIL.MPRT.KD</strong>\n",
    "- military expenditures: <strong>MilitaryExp</strong>"
   ]
  },
  {
   "cell_type": "code",
   "execution_count": 79,
   "metadata": {},
   "outputs": [],
   "source": [
    "exp_not_nans = tot4.dropna(subset=['MilitaryExp']) #keep track of the not NaNs, on which we'll perform the mean\n",
    "arms_not_nans = tot4.dropna(subset=['MS.MIL.MPRT.KD']) #same for this column\n",
    "exp_mean = exp_not_nans['MilitaryExp'].mean() \n",
    "arms_mean = arms_not_nans['MS.MIL.MPRT.KD'].mean()\n",
    "tot4['MilitaryExp'] = tot4['MilitaryExp'].replace(np.nan, exp_mean)\n",
    "tot4['MS.MIL.MPRT.KD'] = tot4['MS.MIL.MPRT.KD'].replace(np.nan, arms_mean)"
   ]
  },
  {
   "cell_type": "code",
   "execution_count": 82,
   "metadata": {},
   "outputs": [],
   "source": [
    "del tot4['iyear']"
   ]
  },
  {
   "cell_type": "code",
   "execution_count": 83,
   "metadata": {},
   "outputs": [
    {
     "data": {
      "text/plain": [
       "<matplotlib.axes._subplots.AxesSubplot at 0x7fa474a72bd0>"
      ]
     },
     "execution_count": 83,
     "metadata": {},
     "output_type": "execute_result"
    },
    {
     "data": {
      "image/png": "[encoded data removed]",
      "text/plain": [
       "<Figure size 432x288 with 2 Axes>"
      ]
     },
     "metadata": {
      "needs_background": "light"
     },
     "output_type": "display_data"
    }
   ],
   "source": [
    "heatmap(tot4.isnull())"
   ]
  },
  {
   "cell_type": "markdown",
   "metadata": {},
   "source": [
    "## Finally, we can notice that we have some records for which we don't have the number of attacks carried out in that year (cnt); since the point of terrorism is to make the world know about the attacks, it's a good assumption to think no relevant activities have been carried out. So that, we'll substitute the NaNs with a 0. "
   ]
  },
  {
   "cell_type": "code",
   "execution_count": 84,
   "metadata": {},
   "outputs": [
    {
     "data": {
      "text/plain": [
       "<matplotlib.axes._subplots.AxesSubplot at 0x7fa474989910>"
      ]
     },
     "execution_count": 84,
     "metadata": {},
     "output_type": "execute_result"
    },
    {
     "data": {
      "image/png": "[encoded data removed]",
      "text/plain": [
       "<Figure size 432x288 with 2 Axes>"
      ]
     },
     "metadata": {
      "needs_background": "light"
     },
     "output_type": "display_data"
    }
   ],
   "source": [
    "tot4['cnt'] = tot4['cnt'].replace(np.nan, 0)\n",
    "heatmap(tot4.isnull())"
   ]
  },
  {
   "cell_type": "code",
   "execution_count": 85,
   "metadata": {},
   "outputs": [
    {
     "data": {
      "text/plain": [
       "array(['ARB', 'CSS', 'CEB', 'EAS', 'EAP', 'EMU', 'ECS', 'ECA', 'EUU',\n",
       "       'FCS', 'HPC', 'HIC', 'NOC', 'OEC', 'LCN', 'LAC', 'LDC', 'LMY',\n",
       "       'LIC', 'LMC', 'MEA', 'MNA', 'MIC', 'NAC', 'OED', 'OSS', 'PSS',\n",
       "       'SST', 'SAS', 'SSF', 'SSA', 'UMC', 'WLD', 'CHI', 'ZAR', 'COG',\n",
       "       'MNE', 'MMR', 'ROM', 'SSD', 'TMP', 'WBG'], dtype=object)"
      ]
     },
     "execution_count": 85,
     "metadata": {},
     "output_type": "execute_result"
    }
   ],
   "source": [
    "tot4[tot4.Density < 0].CountryCode.unique()"
   ]
  },
  {
   "cell_type": "markdown",
   "metadata": {},
   "source": [
    "WHen creating the density dataset (in the script 'Density creation') we assigned a negativa density to the CountryCodes that didn't match. Here we look at them, and we see that they corresponds to agglomerations of states (Arab World, Caribbean small states, Central Europe and the Baltics...), so we don't care about them, because the single states are ALREADY in our dataset, so we delete them.\n",
    "\n"
   ]
  },
  {
   "cell_type": "code",
   "execution_count": 86,
   "metadata": {},
   "outputs": [],
   "source": [
    "tot4 = tot4[tot4.Density > 0]"
   ]
  },
  {
   "cell_type": "code",
   "execution_count": 87,
   "metadata": {},
   "outputs": [
    {
     "data": {
      "text/html": [
       "<div>\n",
       "<style scoped>\n",
       "    .dataframe tbody tr th:only-of-type {\n",
       "        vertical-align: middle;\n",
       "    }\n",
       "\n",
       "    .dataframe tbody tr th {\n",
       "        vertical-align: top;\n",
       "    }\n",
       "\n",
       "    .dataframe thead th {\n",
       "        text-align: right;\n",
       "    }\n",
       "</style>\n",
       "<table border=\"1\" class=\"dataframe\">\n",
       "  <thead>\n",
       "    <tr style=\"text-align: right;\">\n",
       "      <th></th>\n",
       "      <th>CountryCode</th>\n",
       "      <th>Year</th>\n",
       "      <th>SP.DYN.LE00.IN</th>\n",
       "      <th>MS.MIL.MPRT.KD</th>\n",
       "      <th>SP.URB.TOTL</th>\n",
       "      <th>SP.RUR.TOTL</th>\n",
       "      <th>SP.DYN.AMRT.FE</th>\n",
       "      <th>SP.DYN.AMRT.MA</th>\n",
       "      <th>SP.DYN.CBRT.IN</th>\n",
       "      <th>MilitaryExp</th>\n",
       "      <th>Density</th>\n",
       "      <th>cnt</th>\n",
       "    </tr>\n",
       "  </thead>\n",
       "  <tbody>\n",
       "    <tr>\n",
       "      <th>33</th>\n",
       "      <td>AFG</td>\n",
       "      <td>1960</td>\n",
       "      <td>32.328512</td>\n",
       "      <td>4.000000e+07</td>\n",
       "      <td>739462.0</td>\n",
       "      <td>8255331.0</td>\n",
       "      <td>551.1210</td>\n",
       "      <td>604.5970</td>\n",
       "      <td>51.276</td>\n",
       "      <td>2.252607e+10</td>\n",
       "      <td>13.891572</td>\n",
       "      <td>0.0</td>\n",
       "    </tr>\n",
       "    <tr>\n",
       "      <th>34</th>\n",
       "      <td>ALB</td>\n",
       "      <td>1960</td>\n",
       "      <td>62.254366</td>\n",
       "      <td>6.200000e+07</td>\n",
       "      <td>493982.0</td>\n",
       "      <td>1114818.0</td>\n",
       "      <td>151.0588</td>\n",
       "      <td>160.4806</td>\n",
       "      <td>42.240</td>\n",
       "      <td>2.252607e+10</td>\n",
       "      <td>55.962154</td>\n",
       "      <td>0.0</td>\n",
       "    </tr>\n",
       "    <tr>\n",
       "      <th>35</th>\n",
       "      <td>DZA</td>\n",
       "      <td>1960</td>\n",
       "      <td>46.135122</td>\n",
       "      <td>1.451501e+09</td>\n",
       "      <td>3394205.0</td>\n",
       "      <td>7730687.0</td>\n",
       "      <td>323.2800</td>\n",
       "      <td>373.1320</td>\n",
       "      <td>49.671</td>\n",
       "      <td>2.252607e+10</td>\n",
       "      <td>4.670910</td>\n",
       "      <td>0.0</td>\n",
       "    </tr>\n",
       "    <tr>\n",
       "      <th>36</th>\n",
       "      <td>AGO</td>\n",
       "      <td>1960</td>\n",
       "      <td>32.984829</td>\n",
       "      <td>1.451501e+09</td>\n",
       "      <td>550013.0</td>\n",
       "      <td>4720831.0</td>\n",
       "      <td>500.8860</td>\n",
       "      <td>565.4100</td>\n",
       "      <td>54.423</td>\n",
       "      <td>2.252607e+10</td>\n",
       "      <td>4.227837</td>\n",
       "      <td>0.0</td>\n",
       "    </tr>\n",
       "    <tr>\n",
       "      <th>37</th>\n",
       "      <td>ATG</td>\n",
       "      <td>1960</td>\n",
       "      <td>61.782732</td>\n",
       "      <td>1.451501e+09</td>\n",
       "      <td>21684.0</td>\n",
       "      <td>32997.0</td>\n",
       "      <td>244.9240</td>\n",
       "      <td>275.5520</td>\n",
       "      <td>32.920</td>\n",
       "      <td>2.252607e+10</td>\n",
       "      <td>123.433409</td>\n",
       "      <td>0.0</td>\n",
       "    </tr>\n",
       "  </tbody>\n",
       "</table>\n",
       "</div>"
      ],
      "text/plain": [
       "   CountryCode  Year  SP.DYN.LE00.IN  MS.MIL.MPRT.KD  SP.URB.TOTL  \\\n",
       "33         AFG  1960       32.328512    4.000000e+07     739462.0   \n",
       "34         ALB  1960       62.254366    6.200000e+07     493982.0   \n",
       "35         DZA  1960       46.135122    1.451501e+09    3394205.0   \n",
       "36         AGO  1960       32.984829    1.451501e+09     550013.0   \n",
       "37         ATG  1960       61.782732    1.451501e+09      21684.0   \n",
       "\n",
       "    SP.RUR.TOTL  SP.DYN.AMRT.FE  SP.DYN.AMRT.MA  SP.DYN.CBRT.IN   MilitaryExp  \\\n",
       "33    8255331.0        551.1210        604.5970          51.276  2.252607e+10   \n",
       "34    1114818.0        151.0588        160.4806          42.240  2.252607e+10   \n",
       "35    7730687.0        323.2800        373.1320          49.671  2.252607e+10   \n",
       "36    4720831.0        500.8860        565.4100          54.423  2.252607e+10   \n",
       "37      32997.0        244.9240        275.5520          32.920  2.252607e+10   \n",
       "\n",
       "       Density  cnt  \n",
       "33   13.891572  0.0  \n",
       "34   55.962154  0.0  \n",
       "35    4.670910  0.0  \n",
       "36    4.227837  0.0  \n",
       "37  123.433409  0.0  "
      ]
     },
     "execution_count": 87,
     "metadata": {},
     "output_type": "execute_result"
    }
   ],
   "source": [
    "tot4.head()"
   ]
  },
  {
   "cell_type": "markdown",
   "metadata": {},
   "source": [
    "### The dataset is finally completed and saved."
   ]
  },
  {
   "cell_type": "code",
   "execution_count": 88,
   "metadata": {},
   "outputs": [],
   "source": [
    "tot4.to_csv(path_or_buf='./part/DF1sthypTOT', index=False)"
   ]
  },
  {
   "cell_type": "code",
   "execution_count": 89,
   "metadata": {},
   "outputs": [],
   "source": [
    "df = pd.read_csv('./part/DF1sthypTOT')"
   ]
  },
  {
   "cell_type": "code",
   "execution_count": 90,
   "metadata": {},
   "outputs": [
    {
     "data": {
      "text/plain": [
       "CountryCode        object\n",
       "Year                int64\n",
       "SP.DYN.LE00.IN    float64\n",
       "MS.MIL.MPRT.KD    float64\n",
       "SP.URB.TOTL       float64\n",
       "SP.RUR.TOTL       float64\n",
       "SP.DYN.AMRT.FE    float64\n",
       "SP.DYN.AMRT.MA    float64\n",
       "SP.DYN.CBRT.IN    float64\n",
       "MilitaryExp       float64\n",
       "Density           float64\n",
       "cnt               float64\n",
       "dtype: object"
      ]
     },
     "execution_count": 90,
     "metadata": {},
     "output_type": "execute_result"
    }
   ],
   "source": [
    "df.dtypes"
   ]
  },
  {
   "cell_type": "code",
   "execution_count": 91,
   "metadata": {},
   "outputs": [
    {
     "data": {
      "text/plain": [
       "(9675, 12)"
      ]
     },
     "execution_count": 91,
     "metadata": {},
     "output_type": "execute_result"
    }
   ],
   "source": [
    "df.shape"
   ]
  },
  {
   "cell_type": "code",
   "execution_count": null,
   "metadata": {},
   "outputs": [],
   "source": []
  }
 ],
 "metadata": {
  "kernelspec": {
   "display_name": "Python 3",
   "language": "python",
   "name": "python3"
  },
  "language_info": {
   "codemirror_mode": {
    "name": "ipython",
    "version": 3
   },
   "file_extension": ".py",
   "mimetype": "text/x-python",
   "name": "python",
   "nbconvert_exporter": "python",
   "pygments_lexer": "ipython3",
   "version": "3.7.6"
  }
 },
 "nbformat": 4,
 "nbformat_minor": 4
}
